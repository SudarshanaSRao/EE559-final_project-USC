{
 "cells": [
  {
   "cell_type": "code",
   "execution_count": 10,
   "id": "55f1a79a",
   "metadata": {},
   "outputs": [],
   "source": [
    "#Creating Baseline using Nearest Means Classifier"
   ]
  },
  {
   "cell_type": "code",
   "execution_count": 11,
   "id": "0862b153",
   "metadata": {},
   "outputs": [],
   "source": [
    "import numpy as np\n",
    "import pandas as pd\n",
    "from sklearn.preprocessing import StandardScaler\n",
    "from sklearn.neighbors import NearestCentroid\n",
    "from sklearn.metrics import f1_score\n",
    "from sklearn.metrics import confusion_matrix\n",
    "import seaborn as sns\n",
    "import matplotlib.pyplot as plt\n",
    "from sklearn.decomposition import PCA"
   ]
  },
  {
   "cell_type": "code",
   "execution_count": 18,
   "id": "5e84ce8c",
   "metadata": {},
   "outputs": [],
   "source": [
    "data_train = pd.read_csv('mushroom_train.csv', usecols = [0,1,2,3,4,5,6,7,8,9,10,11,12,13,14,15])\n",
    "data_new_train = data_train.to_numpy()"
   ]
  },
  {
   "cell_type": "code",
   "execution_count": 13,
   "id": "d1166990",
   "metadata": {},
   "outputs": [
    {
     "name": "stdout",
     "output_type": "stream",
     "text": [
      "              cap-diameter  stem-height  stem-width\n",
      "cap-diameter      1.000000     0.423171    0.695804\n",
      "stem-height       0.423171     1.000000    0.436069\n",
      "stem-width        0.695804     0.436069    1.000000\n"
     ]
    }
   ],
   "source": [
    "import pandas as pd\n",
    "\n",
    "# Load the data_train DataFrame\n",
    "data_train = pd.read_csv('mushroom_train.csv', usecols = [0,1,2,3,4,5,6,7,8,9,10,11,12,13,15])\n",
    "\n",
    "# Calculate the Pearson correlation coefficient for all pairs of columns\n",
    "corr_matrix = data_train.corr()\n",
    "\n",
    "# Display the correlation matrix\n",
    "print(corr_matrix)"
   ]
  },
  {
   "cell_type": "code",
   "execution_count": 19,
   "id": "363518b6",
   "metadata": {},
   "outputs": [
    {
     "name": "stdout",
     "output_type": "stream",
     "text": [
      "       cap-shape_b  cap-shape_c  cap-shape_f  cap-shape_o  cap-shape_p  \\\n",
      "0                0            1            0            0            0   \n",
      "1                0            0            0            0            0   \n",
      "2                0            0            0            0            0   \n",
      "3                0            0            0            0            0   \n",
      "4                0            0            0            0            0   \n",
      "...            ...          ...          ...          ...          ...   \n",
      "42743            0            0            1            0            0   \n",
      "42744            0            0            0            0            0   \n",
      "42745            0            0            0            1            0   \n",
      "42746            0            0            1            0            0   \n",
      "42747            0            0            1            0            0   \n",
      "\n",
      "       cap-shape_s  cap-shape_x  cap-surface_d  cap-surface_e  cap-surface_g  \\\n",
      "0                0            0              0              0              0   \n",
      "1                0            1              0              0              0   \n",
      "2                0            1              0              0              0   \n",
      "3                1            0              0              0              0   \n",
      "4                0            1              1              0              0   \n",
      "...            ...          ...            ...            ...            ...   \n",
      "42743            0            0              0              0              0   \n",
      "42744            0            1              0              0              0   \n",
      "42745            0            0              0              0              0   \n",
      "42746            0            0              0              0              0   \n",
      "42747            0            0              0              0              0   \n",
      "\n",
      "       ...  habitat_m  habitat_p  habitat_u  habitat_w  season_a  season_s  \\\n",
      "0      ...          0          0          0          0         1         0   \n",
      "1      ...          0          0          0          0         0         0   \n",
      "2      ...          0          0          0          0         0         0   \n",
      "3      ...          0          0          0          0         1         0   \n",
      "4      ...          0          0          0          0         1         0   \n",
      "...    ...        ...        ...        ...        ...       ...       ...   \n",
      "42743  ...          1          0          0          0         0         0   \n",
      "42744  ...          0          0          0          0         1         0   \n",
      "42745  ...          0          0          0          0         0         1   \n",
      "42746  ...          0          0          0          0         0         0   \n",
      "42747  ...          0          0          0          0         0         0   \n",
      "\n",
      "       season_u  season_w  class_e  class_p  \n",
      "0             0         0        0        1  \n",
      "1             1         0        0        1  \n",
      "2             0         1        1        0  \n",
      "3             0         0        0        1  \n",
      "4             0         0        1        0  \n",
      "...         ...       ...      ...      ...  \n",
      "42743         1         0        0        1  \n",
      "42744         0         0        0        1  \n",
      "42745         0         0        1        0  \n",
      "42746         0         1        1        0  \n",
      "42747         1         0        0        1  \n",
      "\n",
      "[42748 rows x 91 columns]\n"
     ]
    }
   ],
   "source": [
    "#categorical_col = ['cap-shape', 'cap-surface', 'cap-color', 'does-bruise-or-bleed', 'gill-attachment', 'gill-spacing', 'gill-color', 'stem-color', 'has-ring', 'ring-type', 'habitat', 'season']\n",
    "categorical_col = ['cap-shape', 'cap-surface', 'cap-color', 'does-bruise-or-bleed', 'gill-attachment', 'gill-spacing', 'gill-color', 'stem-color', 'has-ring', 'ring-type', 'habitat', 'season','class']\n",
    "categorical_data_train = data_train[categorical_col]\n",
    "encoded_data_train = pd.get_dummies(categorical_data_train, prefix = categorical_col, prefix_sep='_')"
   ]
  },
  {
   "cell_type": "code",
   "execution_count": 96,
   "id": "2e09ffa3",
   "metadata": {},
   "outputs": [],
   "source": [
    "numerical_col_train = data_train[['cap-diameter', 'stem-height', 'stem-width']]\n",
    "scaler = StandardScaler()\n",
    "numerical_col_scaled_train = scaler.fit_transform(numerical_col_train)\n",
    "numerical_data_train = pd.DataFrame(numerical_col_scaled_train, columns=numerical_col_train.columns)"
   ]
  },
  {
   "cell_type": "code",
   "execution_count": 21,
   "id": "02f128db",
   "metadata": {},
   "outputs": [],
   "source": [
    "final_data_train = pd.concat([numerical_data_train, encoded_data_train], axis = 1)"
   ]
  },
  {
   "cell_type": "code",
   "execution_count": 22,
   "id": "42becbc8",
   "metadata": {},
   "outputs": [],
   "source": [
    "df_temp = pd.DataFrame({'zeros': [0] * 42748})\n",
    "df_temp.loc[final_data_train.iloc[:,-2] == 1, 'zeros'] = 0\n",
    "df_temp.loc[final_data_train.iloc[:,-1] == 1, 'zeros'] = 1"
   ]
  },
  {
   "cell_type": "code",
   "execution_count": 97,
   "id": "e4f3acd7",
   "metadata": {},
   "outputs": [],
   "source": [
    "final_data_train = final_data_train.drop(final_data_train.columns[-2:], axis=1)"
   ]
  },
  {
   "cell_type": "code",
   "execution_count": 98,
   "id": "49709b3f",
   "metadata": {},
   "outputs": [],
   "source": [
    "final_data_train_watch = pd.concat([final_data_train, df_temp], axis=1)"
   ]
  },
  {
   "cell_type": "code",
   "execution_count": 99,
   "id": "36c864e4",
   "metadata": {},
   "outputs": [],
   "source": [
    "final_data_train_watch = pd.concat([final_data_train, df_temp], axis=1)\n",
    "final_data_train_watch = final_data_train_watch.rename(columns={'<old_column_name>': 'label'})"
   ]
  },
  {
   "cell_type": "code",
   "execution_count": 100,
   "id": "af357490",
   "metadata": {},
   "outputs": [
    {
     "name": "stdout",
     "output_type": "stream",
     "text": [
      "Top 10 positive correlations:\n",
      "            feature_1     feature_2  correlation_coefficient\n",
      "3        cap-diameter    stem-width                 0.695804\n",
      "4          stem-width  cap-diameter                 0.695804\n",
      "5         stem-height    stem-width                 0.436069\n",
      "6          stem-width   stem-height                 0.436069\n",
      "7         stem-height  cap-diameter                 0.423171\n",
      "8        cap-diameter   stem-height                 0.423171\n",
      "9         ring-type_m   stem-height                 0.406376\n",
      "10  gill-attachment_p    stem-width                 0.400621\n",
      "11  gill-attachment_p  cap-diameter                 0.353896\n",
      "12        ring-type_f   stem-height                 0.332793\n",
      "\n",
      "Top 10 negative correlations:\n",
      "          feature_1     feature_2  correlation_coefficient\n",
      "272    gill-color_o    stem-width                 0.000822\n",
      "271     cap-color_e  cap-diameter                 0.000841\n",
      "270    stem-color_u   stem-height                 0.000941\n",
      "269     ring-type_l    stem-width                 0.001029\n",
      "268       habitat_u    stem-width                 0.001503\n",
      "267   cap-surface_w    stem-width                 0.001601\n",
      "266  gill-spacing_c    stem-width                 0.001994\n",
      "265       habitat_l    stem-width                 0.002066\n",
      "264      has-ring_t    stem-width                 0.002306\n",
      "263      has-ring_f    stem-width                 0.002306\n"
     ]
    }
   ],
   "source": [
    "# define the columns of interest\n",
    "cols_of_interest = ['stem-width', 'stem-height', 'cap-diameter']\n",
    "\n",
    "# calculate the correlation matrix\n",
    "corr_matrix = final_data_train.corr(method='pearson')\n",
    "\n",
    "# filter the correlation matrix to only include rows or columns with 'stem-width', 'stem-height', or 'cap-diameter'\n",
    "corr_filtered = corr_matrix[(corr_matrix.index.isin(cols_of_interest)) | (corr_matrix.columns.isin(cols_of_interest))]\n",
    "\n",
    "# create a copy of the filtered correlation matrix for sorting\n",
    "corr_sorted = corr_filtered.abs().unstack().sort_values(ascending=False).reset_index()\n",
    "\n",
    "# remove self-correlations (correlations of features with themselves)\n",
    "corr_sorted = corr_sorted[corr_sorted['level_0'] != corr_sorted['level_1']]\n",
    "\n",
    "# rename the columns of the sorted correlation matrix\n",
    "corr_sorted.columns = ['feature_1', 'feature_2', 'correlation_coefficient']\n",
    "\n",
    "# filter the sorted correlation matrix to only include rows or columns with 'stem-width', 'stem-height', or 'cap-diameter'\n",
    "corr_sorted_filtered = corr_sorted[(corr_sorted['feature_1'].isin(cols_of_interest)) | (corr_sorted['feature_2'].isin(cols_of_interest))]\n",
    "\n",
    "# display the top 5 positive and top 5 negative correlation coefficient values with their corresponding row and column names\n",
    "print('Top 10 positive correlations:')\n",
    "print(corr_sorted_filtered.head(10))\n",
    "\n",
    "print('\\nTop 10 negative correlations:')\n",
    "print(corr_sorted_filtered.tail(10)[::-1])"
   ]
  },
  {
   "cell_type": "code",
   "execution_count": 101,
   "id": "908b2b5c",
   "metadata": {
    "scrolled": true
   },
   "outputs": [],
   "source": [
    "filtered_cols = final_data_train.columns"
   ]
  },
  {
   "cell_type": "code",
   "execution_count": 102,
   "id": "82e63a61",
   "metadata": {},
   "outputs": [],
   "source": [
    "final_data_train = pd.concat([final_data_train, df_temp], axis=1)\n",
    "#final_data_train = final_data_train.to_numpy()"
   ]
  },
  {
   "cell_type": "code",
   "execution_count": 103,
   "id": "4e686f66",
   "metadata": {},
   "outputs": [],
   "source": [
    "# select the rows where 'ring-type_m' is 1\n",
    "selected_rows_shape_m = final_data_train_watch[final_data_train_watch['ring-type_m'] == 1]\n",
    "\n",
    "# create a new dataframe with the selected rows\n",
    "selected_data = pd.DataFrame(selected_rows_shape_m, columns=final_data_train_watch.columns)\n",
    "\n",
    "selected_data_m = final_data_train_watch.loc[final_data_train_watch['ring-type_m'] == 1].copy()\n",
    "\n",
    "stem_width_min = selected_data_m['stem-width'].min()\n",
    "stem_width_max = selected_data_m['stem-width'].max()\n",
    "stem_width_mean = selected_data_m['stem-width'].mean()\n",
    "\n",
    "selected_data_m['stem_width_ring_type_m_min'] = stem_width_min\n",
    "selected_data_m['stem_width_ring_type_m_max'] = stem_width_max\n",
    "selected_data_m['stem_width_ring_type_m_mean'] = stem_width_mean\n",
    "selected_data_m = selected_data_m.rename(columns={'zeros': 'label1'})"
   ]
  },
  {
   "cell_type": "code",
   "execution_count": 104,
   "id": "d9419b85",
   "metadata": {},
   "outputs": [],
   "source": [
    "# select the rows where 'gill-attachment_p' is 1\n",
    "selected_rows_shape_p = final_data_train_watch[final_data_train_watch['gill-attachment_p'] == 1]\n",
    "\n",
    "# create a new dataframe with the selected rows\n",
    "selected_data = pd.DataFrame(selected_rows_shape_p, columns=final_data_train_watch.columns)\n",
    "\n",
    "selected_data_p = final_data_train_watch.loc[final_data_train_watch['gill-attachment_p'] == 1].copy()\n",
    "\n",
    "stem_width_min = selected_data_p['stem-width'].min()\n",
    "stem_width_max = selected_data_p['stem-width'].max()\n",
    "stem_width_mean = selected_data_p['stem-width'].mean()\n",
    "\n",
    "selected_data_p['stem_width_gill_attachment_p_min'] = stem_width_min\n",
    "selected_data_p['stem_width_gill_attachment_p_max'] = stem_width_max\n",
    "selected_data_p['stem_width_gill_attachment_p_mean'] = stem_width_mean\n",
    "#print(selected_data_p)\n",
    "selected_data_p = selected_data_p.rename(columns={'zeros': 'label2'})\n",
    "#print(selected_data_p)"
   ]
  },
  {
   "cell_type": "code",
   "execution_count": 105,
   "id": "d3430aa8",
   "metadata": {},
   "outputs": [],
   "source": [
    "# select the rows where 'ring-type_f' is 1\n",
    "selected_rows_shape_f = final_data_train_watch[final_data_train_watch['ring-type_f'] == 1]\n",
    "\n",
    "# create a new dataframe with the selected rows\n",
    "selected_data = pd.DataFrame(selected_rows_shape_f, columns=final_data_train_watch.columns)\n",
    "\n",
    "selected_data_f = final_data_train_watch.loc[final_data_train_watch['ring-type_f'] == 1].copy()\n",
    "\n",
    "stem_width_min = selected_data_f['stem-height'].min()\n",
    "stem_width_max = selected_data_f['stem-height'].max()\n",
    "stem_width_mean = selected_data_f['stem-height'].mean()\n",
    "\n",
    "selected_data_f['stem_height_ring_type_f_min'] = stem_width_min\n",
    "selected_data_f['stem_height_ring_type_f_max'] = stem_width_max\n",
    "selected_data_f['stem_height_ring_type_f_mean'] = stem_width_mean\n",
    "#print(selected_data_f)\n",
    "selected_data_f = selected_data_f.rename(columns={'zeros': 'label3'})\n",
    "#print(selected_data_f)"
   ]
  },
  {
   "cell_type": "code",
   "execution_count": 106,
   "id": "c63a62be",
   "metadata": {},
   "outputs": [],
   "source": [
    "# select the rows where 'gill-color_o' is 1\n",
    "selected_rows_shape_o = final_data_train_watch[final_data_train_watch['gill-color_o'] == 1]\n",
    "\n",
    "# create a new dataframe with the selected rows\n",
    "selected_data = pd.DataFrame(selected_rows_shape_o, columns=final_data_train_watch.columns)\n",
    "\n",
    "selected_data_o = final_data_train_watch.loc[final_data_train_watch['gill-color_o'] == 1].copy()\n",
    "\n",
    "stem_width_min = selected_data_o['stem-width'].min()\n",
    "stem_width_max = selected_data_o['stem-width'].max()\n",
    "stem_width_mean = selected_data_o['stem-width'].mean()\n",
    "\n",
    "selected_data_o['stem_width_gill_color_o_min'] = stem_width_min\n",
    "selected_data_o['stem_width_gill_color_o_max'] = stem_width_max\n",
    "selected_data_o['stem_width_gill_color_o_mean'] = stem_width_mean\n",
    "#print(selected_data_o)\n",
    "selected_data_o = selected_data_o.rename(columns={'zeros': 'label4'})\n",
    "#print(selected_data_o)"
   ]
  },
  {
   "cell_type": "code",
   "execution_count": 107,
   "id": "b4647dde",
   "metadata": {},
   "outputs": [],
   "source": [
    "# select the rows where 'cap-color_e' is 1\n",
    "selected_rows_shape_e = final_data_train_watch[final_data_train_watch['cap-color_e'] == 1]\n",
    "\n",
    "# create a new dataframe with the selected rows\n",
    "selected_data = pd.DataFrame(selected_rows_shape_e, columns=final_data_train_watch.columns)\n",
    "\n",
    "selected_data_e = final_data_train_watch.loc[final_data_train_watch['cap-color_e'] == 1].copy()\n",
    "\n",
    "stem_width_min = selected_data_e['cap-diameter'].min()\n",
    "stem_width_max = selected_data_e['cap-diameter'].max()\n",
    "stem_width_mean = selected_data_e['cap-diameter'].mean()\n",
    "\n",
    "selected_data_e['cap_diameter_cap_color_e_min'] = stem_width_min\n",
    "selected_data_e['cap_diameter_cap_color_e_max'] = stem_width_max\n",
    "selected_data_e['cap_diameter_cap_color_e_mean'] = stem_width_mean\n",
    "#print(selected_data_e)\n",
    "selected_data_e = selected_data_e.rename(columns={'zeros': 'label5'})\n",
    "#print(selected_data_e)"
   ]
  },
  {
   "cell_type": "code",
   "execution_count": 108,
   "id": "6608a439",
   "metadata": {},
   "outputs": [],
   "source": [
    "# select the rows where 'cap-shape_p' is 1\n",
    "selected_rows_shape_p_only = final_data_train_watch[final_data_train_watch['cap-shape_p'] == 1]\n",
    "\n",
    "# create a new dataframe with the selected rows\n",
    "selected_data = pd.DataFrame(selected_rows_shape_p_only, columns=final_data_train_watch.columns)\n",
    "\n",
    "selected_data_p_only = final_data_train_watch.loc[final_data_train_watch['cap-shape_p'] == 1].copy()\n",
    "\n",
    "cap_diameter_min = selected_data_p_only['cap-diameter'].min()\n",
    "cap_diameter_max = selected_data_p_only['cap-diameter'].max()\n",
    "cap_diameter_mean = selected_data_p_only['cap-diameter'].mean()\n",
    "\n",
    "selected_data_p_only['cap_diameter_p_min'] = cap_diameter_min\n",
    "selected_data_p_only['cap_diameter_p_max'] = cap_diameter_max\n",
    "selected_data_p_only['cap_diameter_p_mean'] = cap_diameter_mean\n",
    "#print(selected_data_p_only)\n",
    "selected_data_p_only = selected_data_p_only.rename(columns={'zeros': 'label6'})\n",
    "#print(selected_data_p_only)"
   ]
  },
  {
   "cell_type": "code",
   "execution_count": 109,
   "id": "571cf8b4",
   "metadata": {},
   "outputs": [],
   "source": [
    "concatenated_data = pd.concat([selected_data_m, selected_data_p, selected_data_f, selected_data_o, selected_data_e, selected_data_b, selected_data_p_only], axis=0)\n",
    "\n",
    "# replace all NaN values in concatenated_data with 0s\n",
    "concatenated_data = concatenated_data.fillna(0)\n",
    "\n",
    "# print the updated dataframe\n",
    "#print(concatenated_data)"
   ]
  },
  {
   "cell_type": "code",
   "execution_count": 110,
   "id": "8f6838ba",
   "metadata": {},
   "outputs": [],
   "source": [
    "# Define a function to check if any of the label columns has '1'\n",
    "def has_label(row):\n",
    "    label_cols = ['label1', 'label2', 'label3', 'label4', 'label5', 'label6']\n",
    "    for col in label_cols:\n",
    "        if row[col] == 1:\n",
    "            return 1\n",
    "    return 0\n",
    "\n",
    "# Create the new 'label' column by applying the 'has_label' function to each row\n",
    "concatenated_data['label'] = concatenated_data.apply(has_label, axis=1)\n",
    "\n",
    "# Print the updated concatenated_data\n",
    "#print(concatenated_data)"
   ]
  },
  {
   "cell_type": "code",
   "execution_count": 111,
   "id": "d3c2268c",
   "metadata": {},
   "outputs": [],
   "source": [
    "column_names = concatenated_data.columns.tolist()\n",
    "#print(column_names)"
   ]
  },
  {
   "cell_type": "code",
   "execution_count": 112,
   "id": "8ea4d4f2",
   "metadata": {},
   "outputs": [],
   "source": [
    "shuffled_data = concatenated_data.sample(frac=1, random_state=42)\n",
    "#print(shuffled_data)"
   ]
  },
  {
   "cell_type": "code",
   "execution_count": 113,
   "id": "779cf99d",
   "metadata": {},
   "outputs": [
    {
     "name": "stdout",
     "output_type": "stream",
     "text": [
      "['stem_height_ring_type_f_max', 'gill-attachment_p', 'stem-color_e', 'gill-color_p', 'cap-shape_b', 'cap-shape_o', 'cap-surface_g', 'habitat_l', 'cap-surface_y', 'gill-attachment_s', 'stem-color_g', 'gill-color_y', 'gill-color_e', 'cap_diameter_cap_color_e_mean', 'stem_width_gill_color_o_min', 'gill-color_k', 'cap-color_w', 'cap-shape_s', 'cap-color_e', 'stem-color_w', 'gill-spacing_d', 'gill-color_o', 'season_a', 'stem-color_n', 'ring-type_f', 'stem-color_y', 'gill-attachment_e', 'cap-surface_k', 'gill-color_g', 'cap-color_g', 'habitat_m', 'habitat_h', 'cap-color_o', 'cap-surface_i', 'stem-color_o', 'habitat_g', 'cap-surface_d', 'gill-attachment_x', 'cap-surface_e', 'cap-color_y', 'gill-attachment_f', 'gill-color_f', 'gill-spacing_f', 'cap-surface_h', 'season_s', 'has-ring_t', 'gill-color_n', 'does-bruise-or-bleed_t', 'cap-surface_l', 'gill-color_w', 'cap-shape_c', 'gill-attachment_d', 'cap-color_n', 'cap-shape_x', 'habitat_d', 'stem_width_ring_type_m_min', 'cap-shape_p', 'cap-shape_f', 'season_u', 'cap-color_p', 'cap-surface_w', 'stem-color_u', 'has-ring_f', 'does-bruise-or-bleed_f', 'stem-height', 'cap-surface_s', 'gill-color_b', 'stem-color_f', 'stem_height_ring_type_f_min', 'ring-type_m']\n"
     ]
    }
   ],
   "source": [
    "shuffled_data_train = shuffled_data.iloc[:, :-1]\n",
    "label_train = shuffled_data.iloc[:, -1]\n",
    "shuffled_data_train = shuffled_data_train.drop(['label1', 'label2', 'label3', 'label4', 'label5', 'label6'], axis=1)\n",
    "\n",
    "# Apply PCA to the shuffled data\n",
    "pca = PCA(n_components=70)\n",
    "pcs = pca.fit_transform(shuffled_data_train)\n",
    "\n",
    "# Get the names of the original features with the highest absolute loadings for each component\n",
    "num_top_features = 70  # change this to the desired number of top features\n",
    "top_feature_names = []\n",
    "for i in range(pca.n_components_):\n",
    "    component_loadings = abs(pca.components_[i])\n",
    "    sorted_indices = component_loadings.argsort()[::-1]\n",
    "    top_feature_indices = sorted_indices[:num_top_features]\n",
    "    top_feature_names.append(shuffled_data.columns[top_feature_indices].tolist())\n",
    "\n",
    "# Concatenate the lists of top feature names into a single list\n",
    "all_top_feature_names = [name for sublist in top_feature_names for name in sublist]\n",
    "\n",
    "# Count the frequency of each feature and sort them in descending order\n",
    "feature_counts = pd.Series(all_top_feature_names).value_counts().sort_values(ascending=False)\n",
    "\n",
    "# Get the top 10 most frequent features\n",
    "top_features = feature_counts.index[:70].tolist()\n",
    "\n",
    "# Print the list of top feature names\n",
    "print(top_features)"
   ]
  },
  {
   "cell_type": "code",
   "execution_count": 114,
   "id": "786be7cd",
   "metadata": {},
   "outputs": [],
   "source": [
    "# Get the indices of the columns in shuffled_data that correspond to the top 70 features\n",
    "top_feature_indices = [shuffled_data_train.columns.get_loc(feature) for feature in top_features[:70]]\n",
    "\n",
    "# Create a new dataframe that contains only the top 70 features\n",
    "top_70_features_data = shuffled_data_train.iloc[:, top_feature_indices]\n",
    "\n",
    "# Print the shape of the new dataframe\n",
    "#print(top_70_features_data.shape)"
   ]
  },
  {
   "cell_type": "code",
   "execution_count": 137,
   "id": "feb7bb59",
   "metadata": {},
   "outputs": [
    {
     "name": "stdout",
     "output_type": "stream",
     "text": [
      "              cap-diameter  stem-height  stem-width\n",
      "cap-diameter      1.000000     0.421315    0.694313\n",
      "stem-height       0.421315     1.000000    0.436266\n",
      "stem-width        0.694313     0.436266    1.000000\n"
     ]
    }
   ],
   "source": [
    "data_test = pd.read_csv('mushroom_test.csv', usecols = [0,1,2,3,4,5,6,7,8,9,10,11,12,13,14,15])\n",
    "data_new_test = data_test.to_numpy()\n",
    "\n",
    "# Calculate the Pearson correlation coefficient for all pairs of columns\n",
    "corr_matrix = data_test.corr()\n",
    "\n",
    "# Display the correlation matrix\n",
    "print(corr_matrix)\n",
    "\n",
    "#categorical_col = ['cap-shape', 'cap-surface', 'cap-color', 'does-bruise-or-bleed', 'gill-attachment', 'gill-spacing', 'gill-color', 'stem-color', 'has-ring', 'ring-type', 'habitat', 'season']\n",
    "categorical_col = ['cap-shape', 'cap-surface', 'cap-color', 'does-bruise-or-bleed', 'gill-attachment', 'gill-spacing', 'gill-color', 'stem-color', 'has-ring', 'ring-type', 'habitat', 'season','class']\n",
    "categorical_data_test = data_test[categorical_col]\n",
    "encoded_data_test = pd.get_dummies(categorical_data_test, prefix = categorical_col, prefix_sep='_')"
   ]
  },
  {
   "cell_type": "code",
   "execution_count": 138,
   "id": "d866f33c",
   "metadata": {},
   "outputs": [],
   "source": [
    "numerical_col_test = data_test[['cap-diameter', 'stem-height', 'stem-width']]\n",
    "scaler = StandardScaler()\n",
    "numerical_col_scaled_test = scaler.fit_transform(numerical_col_test)\n",
    "numerical_data_test = pd.DataFrame(numerical_col_scaled_test, columns=numerical_col_test.columns)\n",
    "\n",
    "final_data_test = pd.concat([numerical_data_test, encoded_data_test], axis = 1)\n",
    "\n",
    "df_temp = pd.DataFrame({'zeros': [0] * (final_data_test.shape[0])})\n",
    "df_temp.loc[final_data_test.iloc[:,-2] == 1, 'zeros'] = 0\n",
    "df_temp.loc[final_data_test.iloc[:,-1] == 1, 'zeros'] = 1"
   ]
  },
  {
   "cell_type": "code",
   "execution_count": 139,
   "id": "498afb9d",
   "metadata": {},
   "outputs": [
    {
     "name": "stdout",
     "output_type": "stream",
     "text": [
      "Top 10 positive correlations:\n",
      "            feature_1     feature_2  correlation_coefficient\n",
      "3        cap-diameter    stem-width                 0.694313\n",
      "4          stem-width  cap-diameter                 0.694313\n",
      "5         stem-height    stem-width                 0.436266\n",
      "6          stem-width   stem-height                 0.436266\n",
      "7         ring-type_m   stem-height                 0.433530\n",
      "8         stem-height  cap-diameter                 0.421315\n",
      "9        cap-diameter   stem-height                 0.421315\n",
      "10  gill-attachment_p    stem-width                 0.414484\n",
      "11  gill-attachment_p  cap-diameter                 0.372388\n",
      "12        ring-type_f   stem-height                 0.323684\n",
      "\n",
      "Top 10 negative correlations:\n",
      "             feature_1     feature_2  correlation_coefficient\n",
      "275       gill-color_o    stem-width                 0.000028\n",
      "274        ring-type_l    stem-width                 0.000548\n",
      "273          habitat_u    stem-width                 0.000694\n",
      "272  gill-attachment_s  cap-diameter                 0.001258\n",
      "271     gill-spacing_c    stem-width                 0.001833\n",
      "270      cap-surface_i   stem-height                 0.002169\n",
      "269      cap-surface_k    stem-width                 0.002248\n",
      "268          habitat_l    stem-width                 0.002260\n",
      "267       stem-color_r    stem-width                 0.002378\n",
      "266           season_u  cap-diameter                 0.002442\n",
      "(20425, 113)\n",
      "(20425,)\n"
     ]
    }
   ],
   "source": [
    "final_data_test = final_data_test.drop(final_data_test.columns[-2:], axis=1)\n",
    "\n",
    "final_data_test_watch = pd.concat([final_data_test, df_temp], axis=1)\n",
    "\n",
    "final_data_test_watch = pd.concat([final_data_test, df_temp], axis=1)\n",
    "final_data_test_watch = final_data_test_watch.rename(columns={'<old_column_name>': 'label'})\n",
    "\n",
    "# define the columns of interest\n",
    "cols_of_interest = ['stem-width', 'stem-height', 'cap-diameter']\n",
    "\n",
    "# calculate the correlation matrix\n",
    "corr_matrix = final_data_test.corr(method='pearson')\n",
    "\n",
    "# filter the correlation matrix to only include rows or columns with 'stem-width', 'stem-height', or 'cap-diameter'\n",
    "corr_filtered = corr_matrix[(corr_matrix.index.isin(cols_of_interest)) | (corr_matrix.columns.isin(cols_of_interest))]\n",
    "\n",
    "# create a copy of the filtered correlation matrix for sorting\n",
    "corr_sorted = corr_filtered.abs().unstack().sort_values(ascending=False).reset_index()\n",
    "\n",
    "# remove self-correlations (correlations of features with themselves)\n",
    "corr_sorted = corr_sorted[corr_sorted['level_0'] != corr_sorted['level_1']]\n",
    "\n",
    "# rename the columns of the sorted correlation matrix\n",
    "corr_sorted.columns = ['feature_1', 'feature_2', 'correlation_coefficient']\n",
    "\n",
    "# filter the sorted correlation matrix to only include rows or columns with 'stem-width', 'stem-height', or 'cap-diameter'\n",
    "corr_sorted_filtered = corr_sorted[(corr_sorted['feature_1'].isin(cols_of_interest)) | (corr_sorted['feature_2'].isin(cols_of_interest))]\n",
    "\n",
    "# display the top 5 positive and top 5 negative correlation coefficient values with their corresponding row and column names\n",
    "print('Top 10 positive correlations:')\n",
    "print(corr_sorted_filtered.head(10))\n",
    "\n",
    "print('\\nTop 10 negative correlations:')\n",
    "print(corr_sorted_filtered.tail(10)[::-1])\n",
    "\n",
    "filtered_cols = final_data_test.columns\n",
    "\n",
    "final_data_test = pd.concat([final_data_test, df_temp], axis=1)\n",
    "#final_data_train = final_data_train.to_numpy()\n",
    "\n",
    "# select the rows where 'ring-type_m' is 1\n",
    "selected_rows_shape_m = final_data_test_watch[final_data_test_watch['ring-type_m'] == 1]\n",
    "\n",
    "# create a new dataframe with the selected rows\n",
    "selected_data = pd.DataFrame(selected_rows_shape_m, columns=final_data_test_watch.columns)\n",
    "\n",
    "selected_data_m = final_data_test_watch.loc[final_data_test_watch['ring-type_m'] == 1].copy()\n",
    "\n",
    "stem_width_min = selected_data_m['stem-width'].min()\n",
    "stem_width_max = selected_data_m['stem-width'].max()\n",
    "stem_width_mean = selected_data_m['stem-width'].mean()\n",
    "\n",
    "selected_data_m['stem_width_ring_type_m_min'] = stem_width_min\n",
    "selected_data_m['stem_width_ring_type_m_max'] = stem_width_max\n",
    "selected_data_m['stem_width_ring_type_m_mean'] = stem_width_mean\n",
    "selected_data_m = selected_data_m.rename(columns={'zeros': 'label1'})\n",
    "\n",
    "# select the rows where 'gill-attachment_p' is 1\n",
    "selected_rows_shape_p = final_data_test_watch[final_data_test_watch['gill-attachment_p'] == 1]\n",
    "\n",
    "# create a new dataframe with the selected rows\n",
    "selected_data = pd.DataFrame(selected_rows_shape_p, columns=final_data_test_watch.columns)\n",
    "\n",
    "selected_data_p = final_data_test_watch.loc[final_data_test_watch['gill-attachment_p'] == 1].copy()\n",
    "\n",
    "stem_width_min = selected_data_p['stem-width'].min()\n",
    "stem_width_max = selected_data_p['stem-width'].max()\n",
    "stem_width_mean = selected_data_p['stem-width'].mean()\n",
    "\n",
    "selected_data_p['stem_width_gill_attachment_p_min'] = stem_width_min\n",
    "selected_data_p['stem_width_gill_attachment_p_max'] = stem_width_max\n",
    "selected_data_p['stem_width_gill_attachment_p_mean'] = stem_width_mean\n",
    "#print(selected_data_p)\n",
    "selected_data_p = selected_data_p.rename(columns={'zeros': 'label2'})\n",
    "#print(selected_data_p)\n",
    "\n",
    "# select the rows where 'ring-type_f' is 1\n",
    "selected_rows_shape_f = final_data_test_watch[final_data_test_watch['ring-type_f'] == 1]\n",
    "\n",
    "# create a new dataframe with the selected rows\n",
    "selected_data = pd.DataFrame(selected_rows_shape_f, columns=final_data_test_watch.columns)\n",
    "\n",
    "selected_data_f = final_data_test_watch.loc[final_data_test_watch['ring-type_f'] == 1].copy()\n",
    "\n",
    "stem_width_min = selected_data_f['stem-height'].min()\n",
    "stem_width_max = selected_data_f['stem-height'].max()\n",
    "stem_width_mean = selected_data_f['stem-height'].mean()\n",
    "\n",
    "selected_data_f['stem_height_ring_type_f_min'] = stem_width_min\n",
    "selected_data_f['stem_height_ring_type_f_max'] = stem_width_max\n",
    "selected_data_f['stem_height_ring_type_f_mean'] = stem_width_mean\n",
    "#print(selected_data_f)\n",
    "selected_data_f = selected_data_f.rename(columns={'zeros': 'label3'})\n",
    "#print(selected_data_f)\n",
    "\n",
    "# select the rows where 'gill-color_o' is 1\n",
    "selected_rows_shape_o = final_data_test_watch[final_data_test_watch['gill-color_o'] == 1]\n",
    "\n",
    "# create a new dataframe with the selected rows\n",
    "selected_data = pd.DataFrame(selected_rows_shape_o, columns=final_data_test_watch.columns)\n",
    "\n",
    "selected_data_o = final_data_test_watch.loc[final_data_test_watch['gill-color_o'] == 1].copy()\n",
    "\n",
    "stem_width_min = selected_data_o['stem-width'].min()\n",
    "stem_width_max = selected_data_o['stem-width'].max()\n",
    "stem_width_mean = selected_data_o['stem-width'].mean()\n",
    "\n",
    "selected_data_o['stem_width_gill_color_o_min'] = stem_width_min\n",
    "selected_data_o['stem_width_gill_color_o_max'] = stem_width_max\n",
    "selected_data_o['stem_width_gill_color_o_mean'] = stem_width_mean\n",
    "#print(selected_data_o)\n",
    "selected_data_o = selected_data_o.rename(columns={'zeros': 'label4'})\n",
    "#print(selected_data_o)\n",
    "\n",
    "# select the rows where 'cap-color_e' is 1\n",
    "selected_rows_shape_e = final_data_test_watch[final_data_test_watch['cap-color_e'] == 1]\n",
    "\n",
    "# create a new dataframe with the selected rows\n",
    "selected_data = pd.DataFrame(selected_rows_shape_e, columns=final_data_test_watch.columns)\n",
    "\n",
    "selected_data_e = final_data_test_watch.loc[final_data_test_watch['cap-color_e'] == 1].copy()\n",
    "\n",
    "stem_width_min = selected_data_e['cap-diameter'].min()\n",
    "stem_width_max = selected_data_e['cap-diameter'].max()\n",
    "stem_width_mean = selected_data_e['cap-diameter'].mean()\n",
    "\n",
    "selected_data_e['cap_diameter_cap_color_e_min'] = stem_width_min\n",
    "selected_data_e['cap_diameter_cap_color_e_max'] = stem_width_max\n",
    "selected_data_e['cap_diameter_cap_color_e_mean'] = stem_width_mean\n",
    "#print(selected_data_e)\n",
    "selected_data_e = selected_data_e.rename(columns={'zeros': 'label5'})\n",
    "#print(selected_data_e)\n",
    "\n",
    "# select the rows where 'cap-shape_p' is 1\n",
    "selected_rows_shape_p_only = final_data_test_watch[final_data_test_watch['cap-shape_p'] == 1]\n",
    "\n",
    "# create a new dataframe with the selected rows\n",
    "selected_data = pd.DataFrame(selected_rows_shape_p_only, columns=final_data_test_watch.columns)\n",
    "\n",
    "selected_data_p_only = final_data_test_watch.loc[final_data_test_watch['cap-shape_p'] == 1].copy()\n",
    "\n",
    "cap_diameter_min = selected_data_p_only['cap-diameter'].min()\n",
    "cap_diameter_max = selected_data_p_only['cap-diameter'].max()\n",
    "cap_diameter_mean = selected_data_p_only['cap-diameter'].mean()\n",
    "\n",
    "selected_data_p_only['cap_diameter_p_min'] = cap_diameter_min\n",
    "selected_data_p_only['cap_diameter_p_max'] = cap_diameter_max\n",
    "selected_data_p_only['cap_diameter_p_mean'] = cap_diameter_mean\n",
    "#print(selected_data_p_only)\n",
    "selected_data_p_only = selected_data_p_only.rename(columns={'zeros': 'label6'})\n",
    "#print(selected_data_p_only)\n",
    "\n",
    "concatenated_data = pd.concat([selected_data_m, selected_data_p, selected_data_f, selected_data_o, selected_data_e, selected_data_b, selected_data_p_only], axis=0)\n",
    "\n",
    "# replace all NaN values in concatenated_data with 0s\n",
    "concatenated_data = concatenated_data.fillna(0)\n",
    "\n",
    "# print the updated dataframe\n",
    "#print(concatenated_data)\n",
    "\n",
    "# Define a function to check if any of the label columns has '1'\n",
    "def has_label(row):\n",
    "    label_cols = ['label1', 'label2', 'label3', 'label4', 'label5', 'label6']\n",
    "    for col in label_cols:\n",
    "        if row[col] == 1:\n",
    "            return 1\n",
    "    return 0\n",
    "\n",
    "# Create the new 'label' column by applying the 'has_label' function to each row\n",
    "concatenated_data['label'] = concatenated_data.apply(has_label, axis=1)\n",
    "\n",
    "# Print the updated concatenated_data\n",
    "#print(concatenated_data)\n",
    "\n",
    "column_names = concatenated_data.columns.tolist()\n",
    "#print(column_names)\n",
    "\n",
    "shuffled_data = concatenated_data.sample(frac=1, random_state=42)\n",
    "#print(shuffled_data)\n",
    "\n",
    "shuffled_data_test = shuffled_data.iloc[:, :-1]\n",
    "label_test = shuffled_data.iloc[:, -1]\n",
    "shuffled_data_test = shuffled_data_test.drop(['label1', 'label2', 'label3', 'label4', 'label5', 'label6'], axis=1)\n",
    "print(shuffled_data_test.shape)\n",
    "print(label_test.shape)"
   ]
  },
  {
   "cell_type": "code",
   "execution_count": 140,
   "id": "d9b79cb2",
   "metadata": {},
   "outputs": [],
   "source": [
    "shuffled_data_test = shuffled_data_test[top_features]        # Features found through PCA on train dataset"
   ]
  },
  {
   "cell_type": "code",
   "execution_count": 141,
   "id": "c3099ddf",
   "metadata": {},
   "outputs": [
    {
     "name": "stdout",
     "output_type": "stream",
     "text": [
      "              precision    recall  f1-score   support\n",
      "\n",
      "           0       0.74      0.76      0.75      9647\n",
      "           1       0.78      0.75      0.77     10778\n",
      "\n",
      "    accuracy                           0.76     20425\n",
      "   macro avg       0.76      0.76      0.76     20425\n",
      "weighted avg       0.76      0.76      0.76     20425\n",
      "\n",
      "Test accuracy: 0.7582864137086903\n"
     ]
    }
   ],
   "source": [
    "from sklearn.linear_model import LogisticRegression\n",
    "from sklearn.metrics import classification_report\n",
    "\n",
    "X_train = top_70_features_data\n",
    "y_train = label_train\n",
    "#print(label_train.shape)\n",
    "\n",
    "# Create a logistic regression object and fit it to the training data\n",
    "logreg = LogisticRegression(max_iter=1000)\n",
    "logreg.fit(X_train, y_train)\n",
    "\n",
    "X_test = shuffled_data_test\n",
    "\n",
    "# Predict the class labels of the test data\n",
    "y_pred = logreg.predict(X_test)\n",
    "\n",
    "# Evaluate the performance of the logistic regression model using classification metrics\n",
    "print(classification_report(label_test, y_pred))\n",
    "\n",
    "score = logreg.score(X_test, label_test)\n",
    "print(\"Test accuracy:\", score)"
   ]
  },
  {
   "cell_type": "code",
   "execution_count": 149,
   "id": "21b31820",
   "metadata": {},
   "outputs": [
    {
     "data": {
      "image/png": "[encoded data removed]",
      "text/plain": [
       "<Figure size 640x480 with 1 Axes>"
      ]
     },
     "metadata": {},
     "output_type": "display_data"
    },
    {
     "data": {
      "image/png": "[encoded data removed]",
      "text/plain": [
       "<Figure size 640x480 with 1 Axes>"
      ]
     },
     "metadata": {},
     "output_type": "display_data"
    }
   ],
   "source": [
    "from sklearn.linear_model import LogisticRegression\n",
    "from sklearn.metrics import classification_report, log_loss\n",
    "import matplotlib.pyplot as plt\n",
    "\n",
    "X_train = top_70_features_data\n",
    "y_train = label_train\n",
    "\n",
    "logreg = LogisticRegression(max_iter=1000)\n",
    "losses = []\n",
    "accuracies = []\n",
    "\n",
    "for i in range(100):\n",
    "    logreg.fit(X_train, y_train)\n",
    "    y_pred = logreg.predict(shuffled_data_test)\n",
    "    y_prob = logreg.predict_proba(shuffled_data_test)\n",
    "    loss = log_loss(label_test, y_prob)\n",
    "    accuracy = logreg.score(shuffled_data_test, label_test)\n",
    "    losses.append(loss)\n",
    "    accuracies.append(accuracy)\n",
    "\n",
    "plt.plot(losses)\n",
    "plt.title(\"Log loss\")\n",
    "plt.xlabel(\"Iteration\")\n",
    "plt.ylabel(\"Loss\")\n",
    "plt.show()\n",
    "\n",
    "plt.plot(accuracies)\n",
    "plt.title(\"Accuracy\")\n",
    "plt.xlabel(\"Iteration\")\n",
    "plt.ylabel(\"Accuracy\")\n",
    "plt.show()"
   ]
  },
  {
   "cell_type": "code",
   "execution_count": 143,
   "id": "cd6523cf",
   "metadata": {},
   "outputs": [
    {
     "data": {
      "text/plain": [
       "array([0, 1], dtype=int64)"
      ]
     },
     "execution_count": 143,
     "metadata": {},
     "output_type": "execute_result"
    }
   ],
   "source": [
    "np.unique(label_test)"
   ]
  },
  {
   "cell_type": "code",
   "execution_count": 146,
   "id": "d6319445",
   "metadata": {},
   "outputs": [
    {
     "data": {
      "text/plain": [
       "<sklearn.metrics._plot.confusion_matrix.ConfusionMatrixDisplay at 0x2cbacbe88e0>"
      ]
     },
     "execution_count": 146,
     "metadata": {},
     "output_type": "execute_result"
    },
    {
     "data": {
      "image/png": "[encoded data removed]",
      "text/plain": [
       "<Figure size 640x480 with 2 Axes>"
      ]
     },
     "metadata": {},
     "output_type": "display_data"
    }
   ],
   "source": [
    "from sklearn.metrics import ConfusionMatrixDisplay, confusion_matrix\n",
    "\n",
    "# Get the confusion matrix\n",
    "cm = confusion_matrix(label_test, y_pred)\n",
    "\n",
    "# Create a confusion matrix display object with labels\n",
    "cm_display = ConfusionMatrixDisplay(cm, display_labels=[0,1])\n",
    "\n",
    "# Plot the confusion matrix\n",
    "cm_display.plot()"
   ]
  },
  {
   "cell_type": "code",
   "execution_count": null,
   "id": "d205a159",
   "metadata": {},
   "outputs": [],
   "source": []
  }
 ],
 "metadata": {
  "kernelspec": {
   "display_name": "Python 3 (ipykernel)",
   "language": "python",
   "name": "python3"
  },
  "language_info": {
   "codemirror_mode": {
    "name": "ipython",
    "version": 3
   },
   "file_extension": ".py",
   "mimetype": "text/x-python",
   "name": "python",
   "nbconvert_exporter": "python",
   "pygments_lexer": "ipython3",
   "version": "3.9.13"
  }
 },
 "nbformat": 4,
 "nbformat_minor": 5
}
