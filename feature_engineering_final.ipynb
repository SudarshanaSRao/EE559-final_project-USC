{
  "cells": [
    {
      "cell_type": "markdown",
      "source": [
        "# **Feature Engineering**"
      ],
      "metadata": {
        "id": "5JnTZ01ituas"
      },
      "id": "5JnTZ01ituas"
    },
    {
      "cell_type": "code",
      "execution_count": 1,
      "id": "0862b153",
      "metadata": {
        "id": "0862b153"
      },
      "outputs": [],
      "source": [
        "# Importing necessary libraries:\n",
        "import numpy as np\n",
        "import pandas as pd\n",
        "from sklearn.preprocessing import StandardScaler\n",
        "from sklearn.metrics import f1_score, accuracy_score, confusion_matrix, classification_report\n",
        "import seaborn as sns\n",
        "import matplotlib.pyplot as plt\n",
        "from sklearn.decomposition import PCA\n",
        "from sklearn.linear_model import LogisticRegression\n",
        "from sklearn.tree import DecisionTreeClassifier\n",
        "from sklearn.ensemble import RandomForestClassifier\n",
        "from sklearn.svm import SVC\n",
        "from sklearn.feature_selection import SelectKBest, chi2"
      ]
    },
    {
      "cell_type": "code",
      "execution_count": 2,
      "id": "d1166990",
      "metadata": {
        "colab": {
          "base_uri": "https://localhost:8080/"
        },
        "id": "d1166990",
        "outputId": "b51697d9-351e-4861-8b9c-e2a3db26a109"
      },
      "outputs": [
        {
          "output_type": "stream",
          "name": "stdout",
          "text": [
            "THe correlation between the numerical columns of the features-\n",
            "               cap-diameter  stem-height  stem-width\n",
            "cap-diameter      1.000000     0.423171    0.695804\n",
            "stem-height       0.423171     1.000000    0.436069\n",
            "stem-width        0.695804     0.436069    1.000000\n"
          ]
        },
        {
          "output_type": "stream",
          "name": "stderr",
          "text": [
            "<ipython-input-2-87ffbe0782c1>:4: FutureWarning: The default value of numeric_only in DataFrame.corr is deprecated. In a future version, it will default to False. Select only valid columns or specify the value of numeric_only to silence this warning.\n",
            "  corr_matrix = data_train.corr()\n"
          ]
        }
      ],
      "source": [
        "# Reading the training dataset into a pandas dataframe:\n",
        "data_train = pd.read_csv('mushroom_train.csv')\n",
        "# Calculating the correlation of the numerical features:\n",
        "corr_matrix = data_train.corr()\n",
        "print(\"THe correlation between the numerical columns of the features-\\n\", corr_matrix)"
      ]
    },
    {
      "cell_type": "code",
      "execution_count": 3,
      "id": "363518b6",
      "metadata": {
        "id": "363518b6"
      },
      "outputs": [],
      "source": [
        "# Separating the categorical data:\n",
        "categorical_col = ['cap-shape', 'cap-surface', 'cap-color', 'does-bruise-or-bleed', 'gill-attachment', 'gill-spacing', 'gill-color', 'stem-color', 'has-ring', 'ring-type', 'habitat', 'season','class']\n",
        "categorical_data_train = data_train[categorical_col]\n",
        "encoded_data_train = pd.get_dummies(categorical_data_train, prefix = categorical_col, prefix_sep = '_') # One-hot encoding."
      ]
    },
    {
      "cell_type": "markdown",
      "source": [
        "**Standardizing the numerical features**"
      ],
      "metadata": {
        "id": "DLSEGnNruSGK"
      },
      "id": "DLSEGnNruSGK"
    },
    {
      "cell_type": "code",
      "execution_count": 4,
      "id": "2e09ffa3",
      "metadata": {
        "id": "2e09ffa3"
      },
      "outputs": [],
      "source": [
        "numerical_col_train = data_train[['cap-diameter', 'stem-height', 'stem-width']] # Separating the numerical columns.\n",
        "scaler = StandardScaler()\n",
        "numerical_col_scaled_train = scaler.fit_transform(numerical_col_train)\n",
        "numerical_data_train = pd.DataFrame(numerical_col_scaled_train, columns = numerical_col_train.columns)"
      ]
    },
    {
      "cell_type": "code",
      "execution_count": 5,
      "id": "02f128db",
      "metadata": {
        "id": "02f128db"
      },
      "outputs": [],
      "source": [
        "# Concatenating the columns (standardized numerical columns and the one-hot encoded categorical data) into one dataframe:\n",
        "final_data_train = pd.concat([numerical_data_train, encoded_data_train], axis = 1)\n",
        "df_temp = pd.DataFrame({'zeros': [0] * 42748})\n",
        "df_temp.loc[final_data_train.iloc[:, -2] == 1, 'zeros'] = 0\n",
        "df_temp.loc[final_data_train.iloc[:, -1] == 1, 'zeros'] = 1\n",
        "final_data_train = final_data_train.drop(final_data_train.columns[-2:], axis = 1)\n",
        "final_data_train_watch = pd.concat([final_data_train, df_temp], axis = 1)\n",
        "final_data_train_watch = final_data_train_watch.rename(columns = {'<old_column_name>': 'label'})\n",
        "new_data_train_watch = final_data_train_watch.reset_index()"
      ]
    },
    {
      "cell_type": "markdown",
      "source": [
        "# **Pearson's correlation**"
      ],
      "metadata": {
        "id": "dNA4fHJLvKQj"
      },
      "id": "dNA4fHJLvKQj"
    },
    {
      "cell_type": "code",
      "execution_count": 6,
      "id": "af357490",
      "metadata": {
        "colab": {
          "base_uri": "https://localhost:8080/"
        },
        "id": "af357490",
        "outputId": "68c37c7e-ba21-42f9-ee6e-af6e6e10054a"
      },
      "outputs": [
        {
          "output_type": "stream",
          "name": "stdout",
          "text": [
            "Top 10 positive correlations:\n",
            "             Feature-1     Feature-2  Correlation coefficient\n",
            "3        cap-diameter    stem-width                 0.695804\n",
            "4          stem-width  cap-diameter                 0.695804\n",
            "5         stem-height    stem-width                 0.436069\n",
            "6          stem-width   stem-height                 0.436069\n",
            "7         stem-height  cap-diameter                 0.423171\n",
            "8        cap-diameter   stem-height                 0.423171\n",
            "9         ring-type_m   stem-height                 0.406376\n",
            "10  gill-attachment_p    stem-width                 0.400621\n",
            "11  gill-attachment_p  cap-diameter                 0.353896\n",
            "12        ring-type_f   stem-height                 0.332793\n",
            "\n",
            "Top 10 negative correlations:\n",
            "           Feature-1     Feature-2  Correlation coefficient\n",
            "275    gill-color_o    stem-width                 0.000822\n",
            "274     cap-color_e  cap-diameter                 0.000841\n",
            "273    stem-color_u   stem-height                 0.000941\n",
            "272     ring-type_l    stem-width                 0.001029\n",
            "271       habitat_u    stem-width                 0.001503\n",
            "270   cap-surface_w    stem-width                 0.001601\n",
            "269  gill-spacing_c    stem-width                 0.001994\n",
            "268       habitat_l    stem-width                 0.002066\n",
            "267      has-ring_t    stem-width                 0.002306\n",
            "266      has-ring_f    stem-width                 0.002306\n"
          ]
        }
      ],
      "source": [
        "# Separating the numerical columns:\n",
        "cols_of_interest = ['stem-width', 'stem-height', 'cap-diameter']\n",
        "corr_matrix = final_data_train.corr(method = 'pearson') # Computing the correlation matrix.\n",
        "corr_filtered = corr_matrix[(corr_matrix.index.isin(cols_of_interest)) | (corr_matrix.columns.isin(cols_of_interest))] # Filtering out the correlation matrix to only include with 'stem-width', 'stem-height', or 'cap-diameter' columns.\n",
        "# Creating a copy of the filtered correlation matrix to sort and to remove self-correlations:\n",
        "corr_sorted = corr_filtered.abs().unstack().sort_values(ascending = False).reset_index()\n",
        "corr_sorted = corr_sorted[corr_sorted['level_0'] != corr_sorted['level_1']]\n",
        "corr_sorted.columns = ['Feature-1', 'Feature-2', 'Correlation coefficient']\n",
        "corr_sorted_filtered = corr_sorted[(corr_sorted['Feature-1'].isin(cols_of_interest)) | (corr_sorted['Feature-2'].isin(cols_of_interest))]\n",
        "\n",
        "# Printing the top 10 positively and top 10 negatively correlated features:\n",
        "print(\"Top 10 positive correlations:\\n\", corr_sorted_filtered.head(10))\n",
        "print(\"\\nTop 10 negative correlations:\\n\", corr_sorted_filtered.tail(10)[::-1])"
      ]
    },
    {
      "cell_type": "code",
      "execution_count": 7,
      "id": "82e63a61",
      "metadata": {
        "id": "82e63a61"
      },
      "outputs": [],
      "source": [
        "new_data_train_watch = pd.concat([new_data_train_watch, df_temp], axis = 1)\n",
        "# Reset the index of the DataFrame and creating a new column 'index':\n",
        "new_data_train_watch.reset_index(inplace = True)\n",
        "new_data_train_watch.rename(columns = {'index': 'index_column'}, inplace = True)"
      ]
    },
    {
      "cell_type": "markdown",
      "source": [
        "**Adding new features**"
      ],
      "metadata": {
        "id": "HiVGClnf4hRX"
      },
      "id": "HiVGClnf4hRX"
    },
    {
      "cell_type": "code",
      "execution_count": 8,
      "id": "4e686f66",
      "metadata": {
        "id": "4e686f66"
      },
      "outputs": [],
      "source": [
        "selected_rows_shape_m = new_data_train_watch[new_data_train_watch['ring-type_m'] == 1] # Selecting the rows where 'ring-type_m' is 1.\n",
        "selected_data_m = pd.DataFrame(selected_rows_shape_m, columns = new_data_train_watch.columns) # Create a new dataframe with the selected rows.\n",
        "selected_data_m = new_data_train_watch.loc[new_data_train_watch['ring-type_m'] == 1].copy()\n",
        "# Computing the minimum, maximum and average of the corresponding numerical columns:\n",
        "stem_width_min = selected_data_m['stem-width'].min()\n",
        "stem_width_max = selected_data_m['stem-width'].max()\n",
        "stem_width_mean = selected_data_m['stem-width'].mean()\n",
        "selected_data_m['stem_width_ring_type_m_min'] = stem_width_min\n",
        "selected_data_m['stem_width_ring_type_m_max'] = stem_width_max\n",
        "selected_data_m['stem_width_ring_type_m_mean'] = stem_width_mean\n",
        "\n",
        "selected_data_m = selected_data_m.rename(columns = {'zeros': 'label1'})\n",
        "selected_data_m = selected_data_m.loc[:, ~selected_data_m.columns.duplicated()] # Deleting the duplicate <'label'> column.\n",
        "selected_data_m = selected_data_m[['index_column', 'stem_width_ring_type_m_min', 'stem_width_ring_type_m_max', 'stem_width_ring_type_m_mean', 'label1']]"
      ]
    },
    {
      "cell_type": "code",
      "execution_count": 9,
      "id": "d9419b85",
      "metadata": {
        "id": "d9419b85"
      },
      "outputs": [],
      "source": [
        "selected_rows_shape_p = new_data_train_watch[new_data_train_watch['gill-attachment_p'] == 1] \n",
        "selected_data = pd.DataFrame(selected_rows_shape_p, columns = new_data_train_watch.columns)\n",
        "selected_data_p = new_data_train_watch.loc[new_data_train_watch['gill-attachment_p'] == 1].copy()\n",
        "\n",
        "stem_width_min = selected_data_p['stem-width'].min()\n",
        "stem_width_max = selected_data_p['stem-width'].max()\n",
        "stem_width_mean = selected_data_p['stem-width'].mean()\n",
        "selected_data_p['stem_width_gill_attachment_p_min'] = stem_width_min\n",
        "selected_data_p['stem_width_gill_attachment_p_max'] = stem_width_max\n",
        "selected_data_p['stem_width_gill_attachment_p_mean'] = stem_width_mean\n",
        "\n",
        "selected_data_p = selected_data_p.rename(columns = {'zeros': 'label2'})\n",
        "selected_data_p = selected_data_p.loc[:, ~selected_data_p.columns.duplicated()]\n",
        "selected_data_p = selected_data_p[['index_column', 'stem_width_gill_attachment_p_min', 'stem_width_gill_attachment_p_max', 'stem_width_gill_attachment_p_mean', 'label2']]"
      ]
    },
    {
      "cell_type": "code",
      "execution_count": 10,
      "id": "d3430aa8",
      "metadata": {
        "id": "d3430aa8"
      },
      "outputs": [],
      "source": [
        "selected_rows_shape_f = new_data_train_watch[new_data_train_watch['ring-type_f'] == 1]\n",
        "selected_data = pd.DataFrame(selected_rows_shape_f, columns = new_data_train_watch.columns)\n",
        "selected_data_f = new_data_train_watch.loc[new_data_train_watch['ring-type_f'] == 1].copy()\n",
        "\n",
        "stem_height_min = selected_data_f['stem-height'].min()\n",
        "stem_height_max = selected_data_f['stem-height'].max()\n",
        "stem_height_mean = selected_data_f['stem-height'].mean()\n",
        "selected_data_f['stem_height_ring_type_f_min'] = stem_height_min\n",
        "selected_data_f['stem_height_ring_type_f_max'] = stem_height_max\n",
        "selected_data_f['stem_height_ring_type_f_mean'] = stem_height_mean\n",
        "\n",
        "selected_data_f = selected_data_f.rename(columns = {'zeros': 'label3'})\n",
        "selected_data_f = selected_data_f.loc[:, ~selected_data_f.columns.duplicated()]\n",
        "selected_data_f = selected_data_f[['index_column', 'stem_height_ring_type_f_min', 'stem_height_ring_type_f_max', 'stem_height_ring_type_f_mean', 'label3']]"
      ]
    },
    {
      "cell_type": "code",
      "execution_count": 11,
      "id": "c63a62be",
      "metadata": {
        "id": "c63a62be"
      },
      "outputs": [],
      "source": [
        "selected_rows_shape_o = new_data_train_watch[new_data_train_watch['gill-color_o'] == 1]\n",
        "selected_data = pd.DataFrame(selected_rows_shape_o, columns = new_data_train_watch.columns)\n",
        "selected_data_o = new_data_train_watch.loc[new_data_train_watch['gill-color_o'] == 1].copy()\n",
        "\n",
        "stem_width_min = selected_data_o['stem-width'].min()\n",
        "stem_width_max = selected_data_o['stem-width'].max()\n",
        "stem_width_mean = selected_data_o['stem-width'].mean()\n",
        "selected_data_o['stem_width_gill_color_o_min'] = stem_width_min\n",
        "selected_data_o['stem_width_gill_color_o_max'] = stem_width_max\n",
        "selected_data_o['stem_width_gill_color_o_mean'] = stem_width_mean\n",
        "\n",
        "selected_data_o = selected_data_o.rename(columns = {'zeros': 'label4'})\n",
        "selected_data_o = selected_data_o.loc[:, ~selected_data_o.columns.duplicated()]\n",
        "selected_data_o = selected_data_o[['index_column', 'stem_width_gill_color_o_min', 'stem_width_gill_color_o_max', 'stem_width_gill_color_o_mean', 'label4']]"
      ]
    },
    {
      "cell_type": "code",
      "execution_count": 12,
      "id": "b4647dde",
      "metadata": {
        "id": "b4647dde"
      },
      "outputs": [],
      "source": [
        "selected_rows_shape_e = new_data_train_watch[new_data_train_watch['cap-color_e'] == 1]\n",
        "selected_data = pd.DataFrame(selected_rows_shape_e, columns = new_data_train_watch.columns)\n",
        "selected_data_e = new_data_train_watch.loc[new_data_train_watch['cap-color_e'] == 1].copy()\n",
        "\n",
        "cap_diameter_min = selected_data_e['cap-diameter'].min()\n",
        "cap_diameter_max = selected_data_e['cap-diameter'].max()\n",
        "cap_diameter_mean = selected_data_e['cap-diameter'].mean()\n",
        "selected_data_e['cap_diameter_cap_color_e_min'] = cap_diameter_min\n",
        "selected_data_e['cap_diameter_cap_color_e_max'] = cap_diameter_max\n",
        "selected_data_e['cap_diameter_cap_color_e_mean'] = cap_diameter_mean\n",
        "\n",
        "selected_data_e = selected_data_e.rename(columns = {'zeros': 'label5'})\n",
        "selected_data_e = selected_data_e.loc[:, ~selected_data_e.columns.duplicated()]\n",
        "selected_data_e = selected_data_e[['index_column', 'cap_diameter_cap_color_e_min', 'cap_diameter_cap_color_e_max', 'cap_diameter_cap_color_e_mean', 'label5']]"
      ]
    },
    {
      "cell_type": "code",
      "execution_count": 13,
      "id": "6608a439",
      "metadata": {
        "id": "6608a439"
      },
      "outputs": [],
      "source": [
        "selected_rows_shape_p_only = new_data_train_watch[new_data_train_watch['cap-shape_p'] == 1]\n",
        "selected_data = pd.DataFrame(selected_rows_shape_p_only, columns = new_data_train_watch.columns)\n",
        "selected_data_p_only = new_data_train_watch.loc[new_data_train_watch['cap-shape_p'] == 1].copy()\n",
        "\n",
        "cap_diameter_min = selected_data_p_only['cap-diameter'].min()\n",
        "cap_diameter_max = selected_data_p_only['cap-diameter'].max()\n",
        "cap_diameter_mean = selected_data_p_only['cap-diameter'].mean()\n",
        "selected_data_p_only['cap_diameter_p_min'] = cap_diameter_min\n",
        "selected_data_p_only['cap_diameter_p_max'] = cap_diameter_max\n",
        "selected_data_p_only['cap_diameter_p_mean'] = cap_diameter_mean\n",
        "\n",
        "selected_data_p_only = selected_data_p_only.rename(columns = {'zeros': 'label6'})\n",
        "selected_data_p_only = selected_data_p_only.loc[:, ~selected_data_p_only.columns.duplicated()]\n",
        "selected_data_p_only = selected_data_p_only[['index_column', 'cap_diameter_p_min', 'cap_diameter_p_max', 'cap_diameter_p_mean', 'label6']]"
      ]
    },
    {
      "cell_type": "code",
      "execution_count": 14,
      "id": "83b4f964",
      "metadata": {
        "colab": {
          "base_uri": "https://localhost:8080/"
        },
        "id": "83b4f964",
        "outputId": "05e447aa-c3fc-44c6-be1c-e148c89970df"
      },
      "outputs": [
        {
          "output_type": "stream",
          "name": "stdout",
          "text": [
            "DataFrame with the all augmented features:\n",
            " Index(['cap-diameter', 'stem-height', 'stem-width', 'cap-shape_b',\n",
            "       'cap-shape_c', 'cap-shape_f', 'cap-shape_o', 'cap-shape_p',\n",
            "       'cap-shape_s', 'cap-shape_x',\n",
            "       ...\n",
            "       'stem_width_gill_color_o_mean', 'label4',\n",
            "       'cap_diameter_cap_color_e_min', 'cap_diameter_cap_color_e_max',\n",
            "       'cap_diameter_cap_color_e_mean', 'label5', 'cap_diameter_p_min',\n",
            "       'cap_diameter_p_max', 'cap_diameter_p_mean', 'label6'],\n",
            "      dtype='object', length=118)\n"
          ]
        }
      ],
      "source": [
        "dataframes = [new_data_train_watch, selected_data_m, selected_data_p, selected_data_f, selected_data_o, selected_data_e, selected_data_p_only]\n",
        "concatenated_df = pd.concat(dataframes, axis = 1, join = 'outer') # Concatenating all the created dataframes based on a common index.\n",
        "concatenated_df['common_index'] = concatenated_df.index\n",
        "concatenated_df.fillna(0, inplace = True) # Replacing any Not-a-Number values with zeroes.\n",
        "concatenated_df.set_index('common_index', inplace = True)\n",
        "concatenated_df = concatenated_df.drop('index_column', axis = 1)\n",
        "concatenated_df = concatenated_df.drop('level_0', axis = 1) # Dropping the common index column.\n",
        "print(\"DataFrame with the all augmented features:\\n\", concatenated_df.columns)"
      ]
    },
    {
      "cell_type": "code",
      "source": [
        "# Defining a function to check if any of the label columns has '1':\n",
        "def has_label(row):\n",
        "    label_cols = ['label1', 'label2', 'label3', 'label4', 'label5', 'label6']\n",
        "    \n",
        "    for col in label_cols:\n",
        "        \n",
        "        if row[col] == 1:\n",
        "            return 1\n",
        "    \n",
        "    return 0"
      ],
      "metadata": {
        "id": "kLr5BWno0OIB"
      },
      "id": "kLr5BWno0OIB",
      "execution_count": 15,
      "outputs": []
    },
    {
      "cell_type": "code",
      "execution_count": 16,
      "id": "8f6838ba",
      "metadata": {
        "id": "8f6838ba"
      },
      "outputs": [],
      "source": [
        "concatenated_df['label'] = concatenated_df.apply(has_label, axis = 1)\n",
        "concatenated_df = concatenated_df.drop(['label1', 'label2', 'label3', 'label4','label5','label6'], axis = 1)\n",
        "concatenated_df = concatenated_df.drop(['zeros'], axis = 1)\n",
        "concatenated_df_train = concatenated_df # Final training dataframe.\n",
        "label_column_train = concatenated_df_train.iloc[:, -1] # Labels of the final training dataframe. "
      ]
    },
    {
      "cell_type": "markdown",
      "source": [
        "# **Principal Component Analysis**"
      ],
      "metadata": {
        "id": "O8jcYd_T1F34"
      },
      "id": "O8jcYd_T1F34"
    },
    {
      "cell_type": "code",
      "execution_count": 17,
      "id": "779cf99d",
      "metadata": {
        "colab": {
          "base_uri": "https://localhost:8080/"
        },
        "id": "779cf99d",
        "outputId": "7561028b-c373-4970-c2ea-5b01525d86aa"
      },
      "outputs": [
        {
          "output_type": "stream",
          "name": "stdout",
          "text": [
            "The optimal features determined by PCA-\n",
            " ['cap-diameter', 'stem-height', 'stem_height_ring_type_f_max', 'stem_width_gill_attachment_p_max', 'stem-width']\n"
          ]
        }
      ],
      "source": [
        "pca = PCA(n_components = 5) # Defining the number of features to pass to the PCA function.\n",
        "pcs = pca.fit_transform(concatenated_df_train)\n",
        "top_feature_names = []\n",
        "\n",
        "for comps in range(pca.n_components_):\n",
        "    component_loadings = abs(pca.components_[comps])\n",
        "    sorted_indices = component_loadings.argsort()[::-1]\n",
        "    top_feature_indices = sorted_indices[:pca.n_components]\n",
        "    top_feature_names.append(concatenated_df_train.columns[top_feature_indices].tolist())\n",
        "\n",
        "all_top_feature_names = [name for sublist in top_feature_names for name in sublist] # Concatenating the lists of top feature names into a single list.\n",
        "feature_counts = pd.Series(all_top_feature_names).value_counts().sort_values(ascending = False) # Counting the frequency of each feature and sorting in descending order.\n",
        "top_features = feature_counts.index[:pca.n_components].tolist() # Extracting the most frequent features.\n",
        "print(\"The optimal features determined by PCA-\\n\", top_features)"
      ]
    },
    {
      "cell_type": "code",
      "execution_count": 18,
      "id": "786be7cd",
      "metadata": {
        "colab": {
          "base_uri": "https://localhost:8080/"
        },
        "id": "786be7cd",
        "outputId": "c53a8751-216f-407c-d35e-ed58dd7189da"
      },
      "outputs": [
        {
          "output_type": "stream",
          "name": "stdout",
          "text": [
            "              cap-diameter  stem-height  stem_height_ring_type_f_max  \\\n",
            "common_index                                                           \n",
            "0                -0.332216    -0.161276                      5.35784   \n",
            "1                -0.742182    -0.274093                      0.00000   \n",
            "2                 0.905345     0.132642                      0.00000   \n",
            "3                 0.393845    -0.636294                      5.35784   \n",
            "4                 0.160126     0.542345                      5.35784   \n",
            "...                    ...          ...                          ...   \n",
            "42743            -0.657890    -0.481913                      0.00000   \n",
            "42744             0.420665    -0.585823                      5.35784   \n",
            "42745             7.495450    -0.247373                      5.35784   \n",
            "42746             0.803811     0.287022                      0.00000   \n",
            "42747            -0.824558    -0.909429                      5.35784   \n",
            "\n",
            "              stem_width_gill_attachment_p_max  stem-width  \n",
            "common_index                                                \n",
            "0                                     0.000000   -0.590488  \n",
            "1                                     0.000000   -0.856362  \n",
            "2                                     0.000000    1.316604  \n",
            "3                                     0.000000    0.149160  \n",
            "4                                     9.174866    0.631930  \n",
            "...                                        ...         ...  \n",
            "42743                                 0.000000   -0.860360  \n",
            "42744                                 0.000000   -0.099722  \n",
            "42745                                 9.174866    1.423554  \n",
            "42746                                 0.000000    1.225648  \n",
            "42747                                 0.000000   -0.840369  \n",
            "\n",
            "[42748 rows x 5 columns]\n"
          ]
        }
      ],
      "source": [
        "# Accessing the indices of the columns that correspond to the top features and creating a new dataframe of only top features:\n",
        "top_feature_indices = [concatenated_df_train.columns.get_loc(feature) for feature in top_features[:pca.n_components]]\n",
        "top_features_data_train = concatenated_df_train.iloc[:, top_feature_indices]\n",
        "print(top_features_data_train)"
      ]
    },
    {
      "cell_type": "markdown",
      "source": [
        "**Standardizing the testing dataset**"
      ],
      "metadata": {
        "id": "uOPvgvaG5TH-"
      },
      "id": "uOPvgvaG5TH-"
    },
    {
      "cell_type": "code",
      "execution_count": 19,
      "id": "b1e6866e",
      "metadata": {
        "id": "b1e6866e"
      },
      "outputs": [],
      "source": [
        "data_test = pd.read_csv('mushroom_test.csv')\n",
        "categorical_col = ['cap-shape', 'cap-surface', 'cap-color', 'does-bruise-or-bleed', 'gill-attachment', 'gill-spacing', 'gill-color', 'stem-color', 'has-ring', 'ring-type', 'habitat', 'season','class']\n",
        "categorical_data_test = data_test[categorical_col]\n",
        "encoded_data_test = pd.get_dummies(categorical_data_test, prefix = categorical_col, prefix_sep = '_') # One-hot encoding the categorical values.\n",
        "numerical_col_test = data_test[['cap-diameter', 'stem-height', 'stem-width']]\n",
        "scaler = StandardScaler()\n",
        "numerical_col_scaled_test = scaler.fit_transform(numerical_col_test)\n",
        "numerical_data_test = pd.DataFrame(numerical_col_scaled_test, columns = numerical_col_test.columns)\n",
        "final_data_test = pd.concat([numerical_data_test, encoded_data_test], axis = 1)"
      ]
    },
    {
      "cell_type": "code",
      "execution_count": 20,
      "id": "4b4fe8d0",
      "metadata": {
        "id": "4b4fe8d0"
      },
      "outputs": [],
      "source": [
        "df_temp = pd.DataFrame({'zeros': [0] * (final_data_test.shape[0])})\n",
        "df_temp.loc[final_data_test.iloc[:,-2] == 1, 'zeros'] = 0\n",
        "df_temp.loc[final_data_test.iloc[:,-1] == 1, 'zeros'] = 1\n",
        "final_data_test = final_data_test.drop(final_data_test.columns[-2:], axis = 1)\n",
        "final_data_test_watch = pd.concat([final_data_test, df_temp], axis = 1)\n",
        "final_data_test_watch = final_data_test_watch.rename(columns={'<old_column_name>': 'label'})\n",
        "new_data_test_watch= final_data_test.reset_index()\n",
        "new_data_test_watch.rename(columns = {'index': 'index_column'}, inplace = True)\n",
        "new_data_test_watch = pd.concat([new_data_test_watch, df_temp], axis = 1)\n",
        "new_data_test_watch.reset_index(inplace = True)\n",
        "new_data_test_watch.rename(columns = {'index': 'index_column'}, inplace = True)"
      ]
    },
    {
      "cell_type": "markdown",
      "source": [
        "**Adding new features to the testing dataset**"
      ],
      "metadata": {
        "id": "GPnK2U0Z6DDG"
      },
      "id": "GPnK2U0Z6DDG"
    },
    {
      "cell_type": "code",
      "execution_count": 21,
      "id": "778f003b",
      "metadata": {
        "id": "778f003b"
      },
      "outputs": [],
      "source": [
        "selected_rows_shape_m_test = new_data_test_watch[new_data_test_watch['ring-type_m'] == 1]\n",
        "selected_data_m_test = pd.DataFrame(selected_rows_shape_m_test, columns = new_data_test_watch.columns)\n",
        "selected_data_m_test = new_data_test_watch.loc[new_data_test_watch['ring-type_m'] == 1].copy()\n",
        "\n",
        "stem_width_min_test = selected_data_m_test['stem-width'].min()\n",
        "stem_width_max_test = selected_data_m_test['stem-width'].max()\n",
        "stem_width_mean_test = selected_data_m_test['stem-width'].mean()\n",
        "selected_data_m_test['stem_width_ring_type_m_min'] = stem_width_min_test\n",
        "selected_data_m_test['stem_width_ring_type_m_max'] = stem_width_max_test\n",
        "selected_data_m_test['stem_width_ring_type_m_mean'] = stem_width_mean_test\n",
        "\n",
        "selected_data_m_test = selected_data_m_test.rename(columns = {'zeros': 'label1'})\n",
        "selected_data_m_test = selected_data_m_test.loc[:, ~selected_data_m_test.columns.duplicated()]\n",
        "selected_data_m_test = selected_data_m_test[['index_column', 'stem_width_ring_type_m_min', 'stem_width_ring_type_m_max', 'stem_width_ring_type_m_mean', 'label1']]"
      ]
    },
    {
      "cell_type": "code",
      "execution_count": 22,
      "id": "325228ce",
      "metadata": {
        "id": "325228ce"
      },
      "outputs": [],
      "source": [
        "selected_rows_shape_p_test = new_data_test_watch[new_data_test_watch['gill-attachment_p'] == 1]\n",
        "selected_data_test = pd.DataFrame(selected_rows_shape_p_test, columns = new_data_test_watch.columns)\n",
        "selected_data_p_test = new_data_test_watch.loc[new_data_test_watch['gill-attachment_p'] == 1].copy()\n",
        "\n",
        "stem_width_min_test = selected_data_p_test['stem-width'].min()\n",
        "stem_width_max_test = selected_data_p_test['stem-width'].max()\n",
        "stem_width_mean_test = selected_data_p_test['stem-width'].mean()\n",
        "selected_data_p_test['stem_width_gill_attachment_p_min'] = stem_width_min\n",
        "selected_data_p_test['stem_width_gill_attachment_p_max'] = stem_width_max\n",
        "selected_data_p_test['stem_width_gill_attachment_p_mean'] = stem_width_mean\n",
        "\n",
        "selected_data_p_test = selected_data_p_test.rename(columns = {'zeros': 'label2'})\n",
        "selected_data_p_test = selected_data_p_test.loc[:, ~selected_data_p_test.columns.duplicated()]\n",
        "selected_data_p_test = selected_data_p_test[['index_column', 'stem_width_gill_attachment_p_min', 'stem_width_gill_attachment_p_max', 'stem_width_gill_attachment_p_mean', 'label2']]"
      ]
    },
    {
      "cell_type": "code",
      "execution_count": 23,
      "id": "6ba7f616",
      "metadata": {
        "id": "6ba7f616"
      },
      "outputs": [],
      "source": [
        "selected_rows_shape_f_test = new_data_test_watch[new_data_test_watch['ring-type_f'] == 1]\n",
        "selected_data_test = pd.DataFrame(selected_rows_shape_f_test, columns = new_data_test_watch.columns)\n",
        "selected_data_f_test = new_data_test_watch.loc[new_data_test_watch['ring-type_f'] == 1].copy()\n",
        "\n",
        "stem_height_min_test = selected_data_f_test['stem-height'].min()\n",
        "stem_height_max_test = selected_data_f_test['stem-height'].max()\n",
        "stem_height_mean_test = selected_data_f_test['stem-height'].mean()\n",
        "selected_data_f_test['stem_height_ring_type_f_min'] = stem_height_min_test\n",
        "selected_data_f_test['stem_height_ring_type_f_max'] = stem_height_max_test\n",
        "selected_data_f_test['stem_height_ring_type_f_mean'] = stem_height_mean_test\n",
        "\n",
        "selected_data_f_test = selected_data_f_test.rename(columns = {'zeros': 'label3'})\n",
        "selected_data_f_test = selected_data_f_test.loc[:, ~selected_data_f_test.columns.duplicated()]\n",
        "selected_data_f_test = selected_data_f_test[['index_column', 'stem_height_ring_type_f_min', 'stem_height_ring_type_f_max', 'stem_height_ring_type_f_mean', 'label3']]"
      ]
    },
    {
      "cell_type": "code",
      "execution_count": 24,
      "id": "096d2fba",
      "metadata": {
        "id": "096d2fba"
      },
      "outputs": [],
      "source": [
        "selected_rows_shape_o_test = new_data_test_watch[new_data_test_watch['gill-color_o'] == 1]\n",
        "selected_data_test = pd.DataFrame(selected_rows_shape_o_test, columns = new_data_test_watch.columns)\n",
        "selected_data_o_test = new_data_test_watch.loc[new_data_test_watch['gill-color_o'] == 1].copy()\n",
        "\n",
        "stem_width_min_test = selected_data_o_test['stem-width'].min()\n",
        "stem_width_max_test = selected_data_o_test['stem-width'].max()\n",
        "stem_width_mean_test = selected_data_o_test['stem-width'].mean()\n",
        "selected_data_o_test['stem_width_gill_color_o_min'] = stem_width_min_test\n",
        "selected_data_o_test['stem_width_gill_color_o_max'] = stem_width_max_test\n",
        "selected_data_o_test['stem_width_gill_color_o_mean'] = stem_width_mean_test\n",
        "\n",
        "selected_data_o_test = selected_data_o_test.rename(columns = {'zeros': 'label4'})\n",
        "selected_data_o_test = selected_data_o_test.loc[:, ~selected_data_o_test.columns.duplicated()]\n",
        "selected_data_o_test = selected_data_o_test[['index_column', 'stem_width_gill_color_o_min', 'stem_width_gill_color_o_max', 'stem_width_gill_color_o_mean', 'label4']]"
      ]
    },
    {
      "cell_type": "code",
      "execution_count": 25,
      "id": "fa253e28",
      "metadata": {
        "id": "fa253e28"
      },
      "outputs": [],
      "source": [
        "selected_rows_shape_e_test = new_data_test_watch[new_data_test_watch['cap-color_e'] == 1]\n",
        "selected_data_test = pd.DataFrame(selected_rows_shape_e_test, columns = new_data_test_watch.columns)\n",
        "selected_data_e_test = new_data_test_watch.loc[new_data_test_watch['cap-color_e'] == 1].copy()\n",
        "\n",
        "cap_diameter_min_test = selected_data_e_test['cap-diameter'].min()\n",
        "cap_diameter_max_test = selected_data_e_test['cap-diameter'].max()\n",
        "cap_diameter_mean_test = selected_data_e_test['cap-diameter'].mean()\n",
        "selected_data_e_test['cap_diameter_cap_color_e_min'] = cap_diameter_min_test\n",
        "selected_data_e_test['cap_diameter_cap_color_e_max'] = cap_diameter_max_test\n",
        "selected_data_e_test['cap_diameter_cap_color_e_mean'] = cap_diameter_mean_test\n",
        "\n",
        "selected_data_e_test = selected_data_e_test.rename(columns = {'zeros': 'label5'})\n",
        "selected_data_e_test = selected_data_e_test.loc[:, ~selected_data_e_test.columns.duplicated()]\n",
        "selected_data_e_test = selected_data_e_test[['index_column', 'cap_diameter_cap_color_e_min', 'cap_diameter_cap_color_e_max', 'cap_diameter_cap_color_e_mean', 'label5']]"
      ]
    },
    {
      "cell_type": "code",
      "execution_count": 26,
      "id": "5b3c4596",
      "metadata": {
        "id": "5b3c4596"
      },
      "outputs": [],
      "source": [
        "selected_rows_shape_p_only_test = new_data_test_watch[new_data_test_watch['cap-shape_p'] == 1]\n",
        "selected_data_test = pd.DataFrame(selected_rows_shape_p_only_test, columns = new_data_test_watch.columns)\n",
        "selected_data_p_only_test = new_data_test_watch.loc[new_data_test_watch['cap-shape_p'] == 1].copy()\n",
        "\n",
        "cap_diameter_min_test = selected_data_p_only_test['cap-diameter'].min()\n",
        "cap_diameter_max_test = selected_data_p_only_test['cap-diameter'].max()\n",
        "cap_diameter_mean_test = selected_data_p_only_test['cap-diameter'].mean()\n",
        "selected_data_p_only_test['cap_diameter_p_min'] = cap_diameter_min_test\n",
        "selected_data_p_only_test['cap_diameter_p_max'] = cap_diameter_max_test\n",
        "selected_data_p_only_test['cap_diameter_p_mean'] = cap_diameter_mean_test\n",
        "\n",
        "selected_data_p_only_test = selected_data_p_only_test.rename(columns = {'zeros': 'label6'})\n",
        "selected_data_p_only_test = selected_data_p_only_test.loc[:, ~selected_data_p_only_test.columns.duplicated()]\n",
        "selected_data_p_only_test = selected_data_p_only_test[['index_column', 'cap_diameter_p_min', 'cap_diameter_p_max', 'cap_diameter_p_mean', 'label6']]"
      ]
    },
    {
      "cell_type": "code",
      "execution_count": 27,
      "id": "b716910a",
      "metadata": {
        "id": "b716910a"
      },
      "outputs": [],
      "source": [
        "dataframes_test = [new_data_test_watch, selected_data_m_test, selected_data_p_test, selected_data_f_test, selected_data_o_test, selected_data_e_test, selected_data_p_only_test]\n",
        "concatenated_df_test = pd.concat(dataframes_test, axis = 1, join = 'outer')\n",
        "concatenated_df_test = concatenated_df_test.drop('index_column', axis = 1)"
      ]
    },
    {
      "cell_type": "code",
      "execution_count": 28,
      "id": "8faae7d6",
      "metadata": {
        "id": "8faae7d6"
      },
      "outputs": [],
      "source": [
        "concatenated_df_test['common_index'] = concatenated_df_test.index\n",
        "concatenated_df_test.fillna(0, inplace = True)\n",
        "concatenated_df_test.set_index('common_index', inplace = True)\n",
        "\n",
        "def has_label(row):\n",
        "    label_cols = ['label1', 'label2', 'label3', 'label4', 'label5', 'label6']\n",
        "    \n",
        "    for col in label_cols:\n",
        "        \n",
        "        if row[col] == 1:\n",
        "            return 1\n",
        "    return 0\n",
        "\n",
        "concatenated_df_test['label'] = concatenated_df_test.apply(has_label, axis = 1)\n",
        "concatenated_df_test = concatenated_df_test.drop(['label1', 'label2', 'label3', 'label4','label5','label6'], axis = 1)\n",
        "concatenated_df_test = concatenated_df_test.drop(['zeros'], axis = 1)\n",
        "last_column_test = concatenated_df_test.iloc[:, -1]\n",
        "last_column_test = concatenated_df_test.iloc[:, -1].reset_index(drop = True)"
      ]
    },
    {
      "cell_type": "code",
      "execution_count": 29,
      "id": "d9b79cb2",
      "metadata": {
        "colab": {
          "base_uri": "https://localhost:8080/"
        },
        "id": "d9b79cb2",
        "outputId": "05ace0ea-2a43-4984-a76d-4ffb46d317f1"
      },
      "outputs": [
        {
          "output_type": "stream",
          "name": "stdout",
          "text": [
            "The final testing dataset-\n",
            "               cap-diameter  stem-height  stem_height_ring_type_f_max  \\\n",
            "common_index                                                           \n",
            "0                 1.335793     0.323775                     5.756592   \n",
            "1                 2.051180    -0.055604                     5.756592   \n",
            "2                -0.983626    -0.378668                     5.756592   \n",
            "3                 1.592885    -0.420163                     5.756592   \n",
            "4                 1.710253     5.036366                     0.000000   \n",
            "...                    ...          ...                          ...   \n",
            "18316             0.089454     0.409728                     0.000000   \n",
            "18317             2.710678     3.231355                     5.756592   \n",
            "18318            -0.769383     0.566814                     5.756592   \n",
            "18319             1.484832     0.540139                     5.756592   \n",
            "18320            -0.588673    -0.239365                     5.756592   \n",
            "\n",
            "              stem_width_gill_attachment_p_max  stem-width  \n",
            "common_index                                                \n",
            "0                                     0.000000    0.989005  \n",
            "1                                     0.000000    2.393873  \n",
            "2                                     0.000000   -1.066850  \n",
            "3                                     0.000000    1.422338  \n",
            "4                                     0.000000    0.720893  \n",
            "...                                        ...         ...  \n",
            "18316                                 0.000000   -0.422788  \n",
            "18317                                 2.662964    2.589763  \n",
            "18318                                 0.000000   -0.835344  \n",
            "18319                                 0.000000    0.978122  \n",
            "18320                                 0.000000   -0.765100  \n",
            "\n",
            "[18321 rows x 5 columns]\n"
          ]
        }
      ],
      "source": [
        "# Extracting the indices of the columns in top PCA features training dataset to append to the testing dataset:\n",
        "top_feature_indices_test = [concatenated_df_test.columns.get_loc(feature) for feature in top_features[:pca.n_components]]\n",
        "top_features_data_test = concatenated_df_test.iloc[:, top_feature_indices_test]\n",
        "print(\"The final testing dataset-\\n\", top_features_data_test)"
      ]
    },
    {
      "cell_type": "code",
      "source": [
        "# Defining the X & y training components: \n",
        "X_train = top_features_data_train\n",
        "true_labels = label_column_train\n",
        "# Defining the X & y testing components:\n",
        "X_test = top_features_data_test\n",
        "y_test = pd.DataFrame(last_column_test)\n",
        "y_test = y_test['label'].values"
      ],
      "metadata": {
        "id": "CK6bS6xiQjhV"
      },
      "id": "CK6bS6xiQjhV",
      "execution_count": 30,
      "outputs": []
    },
    {
      "cell_type": "markdown",
      "source": [
        "**Logistic Regression on PCA reduced dataset**"
      ],
      "metadata": {
        "id": "-KJIYXTQ8nuf"
      },
      "id": "-KJIYXTQ8nuf"
    },
    {
      "cell_type": "code",
      "execution_count": 31,
      "id": "c3099ddf",
      "metadata": {
        "colab": {
          "base_uri": "https://localhost:8080/"
        },
        "id": "c3099ddf",
        "outputId": "d8b80fb9-7322-44aa-a6bc-e497a387b331"
      },
      "outputs": [
        {
          "output_type": "stream",
          "name": "stdout",
          "text": [
            "The accuracy of logistic regression = 60.95191310517984%\n",
            "              precision    recall  f1-score   support\n",
            "\n",
            "           0       0.74      0.38      0.50      9448\n",
            "           1       0.56      0.86      0.68      8873\n",
            "\n",
            "    accuracy                           0.61     18321\n",
            "   macro avg       0.65      0.62      0.59     18321\n",
            "weighted avg       0.65      0.61      0.59     18321\n",
            "\n"
          ]
        }
      ],
      "source": [
        "# Performing Logistic Regression on the final dataframes:\n",
        "logreg = LogisticRegression(max_iter = 1000)\n",
        "logreg.fit(X_train, true_labels)\n",
        "# Predicting the class labels of the testing dataset:\n",
        "predicted_labels = logreg.predict(X_test)\n",
        "accuracy = accuracy_score(predicted_labels, y_test) # Calculating the accuracy.\n",
        "print(f\"The accuracy of logistic regression = {accuracy * 100}%\")\n",
        "print(classification_report(y_test, predicted_labels))"
      ]
    },
    {
      "cell_type": "markdown",
      "source": [
        "**Random Forest Classifier on PCA reduced dataset**"
      ],
      "metadata": {
        "id": "5y7JRXfK9qLn"
      },
      "id": "5y7JRXfK9qLn"
    },
    {
      "cell_type": "code",
      "source": [
        "rf = RandomForestClassifier()\n",
        "rf.fit(X_train, true_labels)\n",
        "predicted_labels_rf = rf.predict(X_test)\n",
        "accuracy_rf = accuracy_score(predicted_labels_rf, y_test)\n",
        "print(f\"The accuracy of random forest classifier = {accuracy_rf * 100}%\")\n",
        "print(classification_report(y_test, predicted_labels_rf))"
      ],
      "metadata": {
        "colab": {
          "base_uri": "https://localhost:8080/"
        },
        "id": "UREjQaXtXSGq",
        "outputId": "17935167-6049-4e3f-c5bf-85dcf5e9c288"
      },
      "id": "UREjQaXtXSGq",
      "execution_count": 32,
      "outputs": [
        {
          "output_type": "stream",
          "name": "stdout",
          "text": [
            "The accuracy of random forest classifier = 79.66268216800393%\n",
            "              precision    recall  f1-score   support\n",
            "\n",
            "           0       0.81      0.79      0.80      9448\n",
            "           1       0.78      0.81      0.79      8873\n",
            "\n",
            "    accuracy                           0.80     18321\n",
            "   macro avg       0.80      0.80      0.80     18321\n",
            "weighted avg       0.80      0.80      0.80     18321\n",
            "\n"
          ]
        }
      ]
    },
    {
      "cell_type": "markdown",
      "source": [
        "**Support Vector Machine on PCA reduced dataset**"
      ],
      "metadata": {
        "id": "B4tI8N_QCtxj"
      },
      "id": "B4tI8N_QCtxj"
    },
    {
      "cell_type": "code",
      "source": [
        "svm = SVC(kernel = 'rbf', C = 1, gamma = 3)\n",
        "svm.fit(X_train, true_labels)\n",
        "predicted_labels_svm = svm.predict(X_test)\n",
        "print(f\"The accuracy of support vector machine = {accuracy_score(predicted_labels_svm, y_test) * 100}%\")\n",
        "print(classification_report(y_test, predicted_labels_svm))"
      ],
      "metadata": {
        "colab": {
          "base_uri": "https://localhost:8080/"
        },
        "id": "dQf2qSWuVBjj",
        "outputId": "2821e2ef-50d8-486f-8a12-880bac37a081"
      },
      "id": "dQf2qSWuVBjj",
      "execution_count": 33,
      "outputs": [
        {
          "output_type": "stream",
          "name": "stdout",
          "text": [
            "The accuracy of support vector machine = 78.7948256099558%\n",
            "              precision    recall  f1-score   support\n",
            "\n",
            "           0       0.76      0.85      0.81      9448\n",
            "           1       0.82      0.72      0.77      8873\n",
            "\n",
            "    accuracy                           0.79     18321\n",
            "   macro avg       0.79      0.79      0.79     18321\n",
            "weighted avg       0.79      0.79      0.79     18321\n",
            "\n"
          ]
        }
      ]
    },
    {
      "cell_type": "markdown",
      "source": [
        "# **Univariate Feature Selection**"
      ],
      "metadata": {
        "id": "qlZHCpTDPrkX"
      },
      "id": "qlZHCpTDPrkX"
    },
    {
      "cell_type": "code",
      "source": [
        "ufs = SelectKBest(score_func = chi2, k = 10)\n",
        "ufs.fit(abs(concatenated_df_train), label_column_train)\n",
        "X_train_selected = ufs.transform(concatenated_df_train)\n",
        "X_test_selected = ufs.transform(concatenated_df_test)"
      ],
      "metadata": {
        "id": "GueWPjyKPr6m"
      },
      "id": "GueWPjyKPr6m",
      "execution_count": 34,
      "outputs": []
    },
    {
      "cell_type": "markdown",
      "source": [
        "**Logistic Regression on UFS data**"
      ],
      "metadata": {
        "id": "A8Hh-BKGVJdE"
      },
      "id": "A8Hh-BKGVJdE"
    },
    {
      "cell_type": "code",
      "source": [
        "lr = LogisticRegression()\n",
        "lr.fit(X_train_selected, label_column_train)\n",
        "predicted_labels_lr_ufs = lr.predict(X_test_selected)\n",
        "accuracy_lr_ufs = accuracy_score(last_column_test, predicted_labels_lr_ufs)\n",
        "print(f\"The accuracy of logistic regression = {accuracy_lr_ufs * 100}%\")\n",
        "print(classification_report(last_column_test, predicted_labels_lr_ufs))"
      ],
      "metadata": {
        "colab": {
          "base_uri": "https://localhost:8080/"
        },
        "id": "tBGhtua8VI7T",
        "outputId": "e4ec798e-dc64-4387-ec73-07bb41727518"
      },
      "id": "tBGhtua8VI7T",
      "execution_count": 39,
      "outputs": [
        {
          "output_type": "stream",
          "name": "stdout",
          "text": [
            "The accuracy of logistic regression = 100.0%\n",
            "              precision    recall  f1-score   support\n",
            "\n",
            "           0       1.00      1.00      1.00      9448\n",
            "           1       1.00      1.00      1.00      8873\n",
            "\n",
            "    accuracy                           1.00     18321\n",
            "   macro avg       1.00      1.00      1.00     18321\n",
            "weighted avg       1.00      1.00      1.00     18321\n",
            "\n"
          ]
        }
      ]
    },
    {
      "cell_type": "markdown",
      "source": [
        "**Support Vector Machine on UFS data**"
      ],
      "metadata": {
        "id": "rqrgu3UTVjXV"
      },
      "id": "rqrgu3UTVjXV"
    },
    {
      "cell_type": "code",
      "source": [
        "svm_ufs = SVC(kernel = 'rbf', C = 1, gamma = 3)\n",
        "svm_ufs.fit(X_train_selected, label_column_train)\n",
        "predicted_labels_lr_svm = svm_ufs.predict(X_test_selected)\n",
        "print(f\"The accuracy of support vector machine = {accuracy_score(predicted_labels_lr_svm, last_column_test) * 100}%\")\n",
        "print(classification_report(last_column_test, predicted_labels_lr_svm))"
      ],
      "metadata": {
        "colab": {
          "base_uri": "https://localhost:8080/"
        },
        "id": "CLiZvIMIVjGG",
        "outputId": "bc6169f5-d270-45ed-d2f8-cc7bbb8c6118"
      },
      "id": "CLiZvIMIVjGG",
      "execution_count": 40,
      "outputs": [
        {
          "output_type": "stream",
          "name": "stdout",
          "text": [
            "The accuracy of support vector machine = 96.94339828611976%\n",
            "              precision    recall  f1-score   support\n",
            "\n",
            "           0       0.94      1.00      0.97      9448\n",
            "           1       1.00      0.94      0.97      8873\n",
            "\n",
            "    accuracy                           0.97     18321\n",
            "   macro avg       0.97      0.97      0.97     18321\n",
            "weighted avg       0.97      0.97      0.97     18321\n",
            "\n"
          ]
        }
      ]
    },
    {
      "cell_type": "markdown",
      "source": [
        "**Random Forest Classifier on UFS data**"
      ],
      "metadata": {
        "id": "SSem4DI3WEF0"
      },
      "id": "SSem4DI3WEF0"
    },
    {
      "cell_type": "code",
      "source": [
        "rf_ufs = RandomForestClassifier()\n",
        "rf_ufs.fit(X_train_selected, label_column_train)\n",
        "predicted_labels_rf_ufs = rf_ufs.predict(X_test_selected)\n",
        "accuracy_rf_ufs = accuracy_score(predicted_labels_rf_ufs, last_column_test)\n",
        "print(f\"The accuracy of random forest classifier = {accuracy_rf_ufs * 100}%\")\n",
        "print(classification_report(last_column_test, predicted_labels_rf_ufs))"
      ],
      "metadata": {
        "colab": {
          "base_uri": "https://localhost:8080/"
        },
        "id": "Y0tzsekiWEYM",
        "outputId": "d783986b-59ea-415c-8975-07896b7d3dcb"
      },
      "id": "Y0tzsekiWEYM",
      "execution_count": 41,
      "outputs": [
        {
          "output_type": "stream",
          "name": "stdout",
          "text": [
            "The accuracy of random forest classifier = 100.0%\n",
            "              precision    recall  f1-score   support\n",
            "\n",
            "           0       1.00      1.00      1.00      9448\n",
            "           1       1.00      1.00      1.00      8873\n",
            "\n",
            "    accuracy                           1.00     18321\n",
            "   macro avg       1.00      1.00      1.00     18321\n",
            "weighted avg       1.00      1.00      1.00     18321\n",
            "\n"
          ]
        }
      ]
    }
  ],
  "metadata": {
    "kernelspec": {
      "display_name": "Python 3 (ipykernel)",
      "language": "python",
      "name": "python3"
    },
    "language_info": {
      "codemirror_mode": {
        "name": "ipython",
        "version": 3
      },
      "file_extension": ".py",
      "mimetype": "text/x-python",
      "name": "python",
      "nbconvert_exporter": "python",
      "pygments_lexer": "ipython3",
      "version": "3.9.13"
    },
    "colab": {
      "provenance": [],
      "collapsed_sections": [
        "5y7JRXfK9qLn",
        "B4tI8N_QCtxj"
      ]
    }
  },
  "nbformat": 4,
  "nbformat_minor": 5
}