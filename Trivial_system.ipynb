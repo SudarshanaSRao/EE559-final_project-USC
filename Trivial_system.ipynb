{
  "nbformat": 4,
  "nbformat_minor": 0,
  "metadata": {
    "colab": {
      "provenance": []
    },
    "kernelspec": {
      "name": "python3",
      "display_name": "Python 3"
    },
    "language_info": {
      "name": "python"
    }
  },
  "cells": [
    {
      "cell_type": "code",
      "source": [
        "# Importing the necessary libraries:\n",
        "import pandas as pds\n",
        "import seaborn as sns\n",
        "import numpy as np\n",
        "from sklearn.metrics import confusion_matrix\n",
        "from sklearn.metrics import f1_score\n",
        "import matplotlib.pyplot as plt\n",
        "from sklearn.preprocessing import StandardScaler\n",
        "from sklearn.preprocessing import LabelEncoder"
      ],
      "metadata": {
        "id": "aSDioqENYxwY"
      },
      "execution_count": 1,
      "outputs": []
    },
    {
      "cell_type": "code",
      "source": [
        "# Reading the datasets into dataframes:\n",
        "df_training = pds.read_csv('mushroom_train.csv')\n",
        "df_testing = pds.read_csv('mushroom_test.csv')"
      ],
      "metadata": {
        "id": "0MJWf0ReY3DY"
      },
      "execution_count": 2,
      "outputs": []
    },
    {
      "cell_type": "markdown",
      "source": [
        "# **Exploratory Data Analysis**"
      ],
      "metadata": {
        "id": "njNl6sINbbKz"
      }
    },
    {
      "cell_type": "code",
      "source": [
        "df_training.head()"
      ],
      "metadata": {
        "colab": {
          "base_uri": "https://localhost:8080/",
          "height": 267
        },
        "id": "W1UHyMJNZXQH",
        "outputId": "43319d7d-9f8a-4732-944f-7b115799f09a"
      },
      "execution_count": 3,
      "outputs": [
        {
          "output_type": "execute_result",
          "data": {
            "text/plain": [
              "   cap-diameter cap-shape cap-surface cap-color does-bruise-or-bleed  \\\n",
              "0          4.98         c           i         y                    f   \n",
              "1          2.84         x           y         y                    f   \n",
              "2         11.44         x           y         y                    f   \n",
              "3          8.77         s           t         r                    t   \n",
              "4          7.55         x           d         n                    t   \n",
              "\n",
              "  gill-attachment gill-spacing gill-color  stem-height  stem-width stem-color  \\\n",
              "0               a            c          n         6.04        6.21          w   \n",
              "1               a            c          w         5.66        3.55          y   \n",
              "2               a            c          w         7.03       25.29          n   \n",
              "3               d            c          g         4.44       13.61          r   \n",
              "4               p            c          y         8.41       18.44          y   \n",
              "\n",
              "  has-ring ring-type habitat season class  \n",
              "0        f         f       d      a     p  \n",
              "1        t         r       h      u     p  \n",
              "2        t         e       d      w     e  \n",
              "3        f         f       d      a     p  \n",
              "4        f         f       d      a     e  "
            ],
            "text/html": [
              "\n",
              "  <div id=\"df-0fd66d9f-c9af-4b54-aecd-f636316889de\">\n",
              "    <div class=\"colab-df-container\">\n",
              "      <div>\n",
              "<style scoped>\n",
              "    .dataframe tbody tr th:only-of-type {\n",
              "        vertical-align: middle;\n",
              "    }\n",
              "\n",
              "    .dataframe tbody tr th {\n",
              "        vertical-align: top;\n",
              "    }\n",
              "\n",
              "    .dataframe thead th {\n",
              "        text-align: right;\n",
              "    }\n",
              "</style>\n",
              "<table border=\"1\" class=\"dataframe\">\n",
              "  <thead>\n",
              "    <tr style=\"text-align: right;\">\n",
              "      <th></th>\n",
              "      <th>cap-diameter</th>\n",
              "      <th>cap-shape</th>\n",
              "      <th>cap-surface</th>\n",
              "      <th>cap-color</th>\n",
              "      <th>does-bruise-or-bleed</th>\n",
              "      <th>gill-attachment</th>\n",
              "      <th>gill-spacing</th>\n",
              "      <th>gill-color</th>\n",
              "      <th>stem-height</th>\n",
              "      <th>stem-width</th>\n",
              "      <th>stem-color</th>\n",
              "      <th>has-ring</th>\n",
              "      <th>ring-type</th>\n",
              "      <th>habitat</th>\n",
              "      <th>season</th>\n",
              "      <th>class</th>\n",
              "    </tr>\n",
              "  </thead>\n",
              "  <tbody>\n",
              "    <tr>\n",
              "      <th>0</th>\n",
              "      <td>4.98</td>\n",
              "      <td>c</td>\n",
              "      <td>i</td>\n",
              "      <td>y</td>\n",
              "      <td>f</td>\n",
              "      <td>a</td>\n",
              "      <td>c</td>\n",
              "      <td>n</td>\n",
              "      <td>6.04</td>\n",
              "      <td>6.21</td>\n",
              "      <td>w</td>\n",
              "      <td>f</td>\n",
              "      <td>f</td>\n",
              "      <td>d</td>\n",
              "      <td>a</td>\n",
              "      <td>p</td>\n",
              "    </tr>\n",
              "    <tr>\n",
              "      <th>1</th>\n",
              "      <td>2.84</td>\n",
              "      <td>x</td>\n",
              "      <td>y</td>\n",
              "      <td>y</td>\n",
              "      <td>f</td>\n",
              "      <td>a</td>\n",
              "      <td>c</td>\n",
              "      <td>w</td>\n",
              "      <td>5.66</td>\n",
              "      <td>3.55</td>\n",
              "      <td>y</td>\n",
              "      <td>t</td>\n",
              "      <td>r</td>\n",
              "      <td>h</td>\n",
              "      <td>u</td>\n",
              "      <td>p</td>\n",
              "    </tr>\n",
              "    <tr>\n",
              "      <th>2</th>\n",
              "      <td>11.44</td>\n",
              "      <td>x</td>\n",
              "      <td>y</td>\n",
              "      <td>y</td>\n",
              "      <td>f</td>\n",
              "      <td>a</td>\n",
              "      <td>c</td>\n",
              "      <td>w</td>\n",
              "      <td>7.03</td>\n",
              "      <td>25.29</td>\n",
              "      <td>n</td>\n",
              "      <td>t</td>\n",
              "      <td>e</td>\n",
              "      <td>d</td>\n",
              "      <td>w</td>\n",
              "      <td>e</td>\n",
              "    </tr>\n",
              "    <tr>\n",
              "      <th>3</th>\n",
              "      <td>8.77</td>\n",
              "      <td>s</td>\n",
              "      <td>t</td>\n",
              "      <td>r</td>\n",
              "      <td>t</td>\n",
              "      <td>d</td>\n",
              "      <td>c</td>\n",
              "      <td>g</td>\n",
              "      <td>4.44</td>\n",
              "      <td>13.61</td>\n",
              "      <td>r</td>\n",
              "      <td>f</td>\n",
              "      <td>f</td>\n",
              "      <td>d</td>\n",
              "      <td>a</td>\n",
              "      <td>p</td>\n",
              "    </tr>\n",
              "    <tr>\n",
              "      <th>4</th>\n",
              "      <td>7.55</td>\n",
              "      <td>x</td>\n",
              "      <td>d</td>\n",
              "      <td>n</td>\n",
              "      <td>t</td>\n",
              "      <td>p</td>\n",
              "      <td>c</td>\n",
              "      <td>y</td>\n",
              "      <td>8.41</td>\n",
              "      <td>18.44</td>\n",
              "      <td>y</td>\n",
              "      <td>f</td>\n",
              "      <td>f</td>\n",
              "      <td>d</td>\n",
              "      <td>a</td>\n",
              "      <td>e</td>\n",
              "    </tr>\n",
              "  </tbody>\n",
              "</table>\n",
              "</div>\n",
              "      <button class=\"colab-df-convert\" onclick=\"convertToInteractive('df-0fd66d9f-c9af-4b54-aecd-f636316889de')\"\n",
              "              title=\"Convert this dataframe to an interactive table.\"\n",
              "              style=\"display:none;\">\n",
              "        \n",
              "  <svg xmlns=\"http://www.w3.org/2000/svg\" height=\"24px\"viewBox=\"0 0 24 24\"\n",
              "       width=\"24px\">\n",
              "    <path d=\"M0 0h24v24H0V0z\" fill=\"none\"/>\n",
              "    <path d=\"M18.56 5.44l.94 2.06.94-2.06 2.06-.94-2.06-.94-.94-2.06-.94 2.06-2.06.94zm-11 1L8.5 8.5l.94-2.06 2.06-.94-2.06-.94L8.5 2.5l-.94 2.06-2.06.94zm10 10l.94 2.06.94-2.06 2.06-.94-2.06-.94-.94-2.06-.94 2.06-2.06.94z\"/><path d=\"M17.41 7.96l-1.37-1.37c-.4-.4-.92-.59-1.43-.59-.52 0-1.04.2-1.43.59L10.3 9.45l-7.72 7.72c-.78.78-.78 2.05 0 2.83L4 21.41c.39.39.9.59 1.41.59.51 0 1.02-.2 1.41-.59l7.78-7.78 2.81-2.81c.8-.78.8-2.07 0-2.86zM5.41 20L4 18.59l7.72-7.72 1.47 1.35L5.41 20z\"/>\n",
              "  </svg>\n",
              "      </button>\n",
              "      \n",
              "  <style>\n",
              "    .colab-df-container {\n",
              "      display:flex;\n",
              "      flex-wrap:wrap;\n",
              "      gap: 12px;\n",
              "    }\n",
              "\n",
              "    .colab-df-convert {\n",
              "      background-color: #E8F0FE;\n",
              "      border: none;\n",
              "      border-radius: 50%;\n",
              "      cursor: pointer;\n",
              "      display: none;\n",
              "      fill: #1967D2;\n",
              "      height: 32px;\n",
              "      padding: 0 0 0 0;\n",
              "      width: 32px;\n",
              "    }\n",
              "\n",
              "    .colab-df-convert:hover {\n",
              "      background-color: #E2EBFA;\n",
              "      box-shadow: 0px 1px 2px rgba(60, 64, 67, 0.3), 0px 1px 3px 1px rgba(60, 64, 67, 0.15);\n",
              "      fill: #174EA6;\n",
              "    }\n",
              "\n",
              "    [theme=dark] .colab-df-convert {\n",
              "      background-color: #3B4455;\n",
              "      fill: #D2E3FC;\n",
              "    }\n",
              "\n",
              "    [theme=dark] .colab-df-convert:hover {\n",
              "      background-color: #434B5C;\n",
              "      box-shadow: 0px 1px 3px 1px rgba(0, 0, 0, 0.15);\n",
              "      filter: drop-shadow(0px 1px 2px rgba(0, 0, 0, 0.3));\n",
              "      fill: #FFFFFF;\n",
              "    }\n",
              "  </style>\n",
              "\n",
              "      <script>\n",
              "        const buttonEl =\n",
              "          document.querySelector('#df-0fd66d9f-c9af-4b54-aecd-f636316889de button.colab-df-convert');\n",
              "        buttonEl.style.display =\n",
              "          google.colab.kernel.accessAllowed ? 'block' : 'none';\n",
              "\n",
              "        async function convertToInteractive(key) {\n",
              "          const element = document.querySelector('#df-0fd66d9f-c9af-4b54-aecd-f636316889de');\n",
              "          const dataTable =\n",
              "            await google.colab.kernel.invokeFunction('convertToInteractive',\n",
              "                                                     [key], {});\n",
              "          if (!dataTable) return;\n",
              "\n",
              "          const docLinkHtml = 'Like what you see? Visit the ' +\n",
              "            '<a target=\"_blank\" href=https://colab.research.google.com/notebooks/data_table.ipynb>data table notebook</a>'\n",
              "            + ' to learn more about interactive tables.';\n",
              "          element.innerHTML = '';\n",
              "          dataTable['output_type'] = 'display_data';\n",
              "          await google.colab.output.renderOutput(dataTable, element);\n",
              "          const docLink = document.createElement('div');\n",
              "          docLink.innerHTML = docLinkHtml;\n",
              "          element.appendChild(docLink);\n",
              "        }\n",
              "      </script>\n",
              "    </div>\n",
              "  </div>\n",
              "  "
            ]
          },
          "metadata": {},
          "execution_count": 3
        }
      ]
    },
    {
      "cell_type": "code",
      "source": [
        "df_training.describe()"
      ],
      "metadata": {
        "colab": {
          "base_uri": "https://localhost:8080/",
          "height": 300
        },
        "id": "BTPmf5jEZusX",
        "outputId": "07ad3c63-876c-4936-b4b1-d5f25ff2bb6c"
      },
      "execution_count": 4,
      "outputs": [
        {
          "output_type": "execute_result",
          "data": {
            "text/plain": [
              "       cap-diameter   stem-height    stem-width\n",
              "count  42748.000000  42748.000000  42748.000000\n",
              "mean       6.714149      6.583224     12.117692\n",
              "std        5.220008      3.368333     10.004874\n",
              "min        0.380000      0.000000      0.000000\n",
              "25%        3.480000      4.640000      5.180000\n",
              "50%        5.865000      5.960000     10.200000\n",
              "75%        8.530000      7.750000     16.540000\n",
              "max       62.340000     33.920000    103.910000"
            ],
            "text/html": [
              "\n",
              "  <div id=\"df-861b15d3-2296-42e6-b893-4c7fbacda606\">\n",
              "    <div class=\"colab-df-container\">\n",
              "      <div>\n",
              "<style scoped>\n",
              "    .dataframe tbody tr th:only-of-type {\n",
              "        vertical-align: middle;\n",
              "    }\n",
              "\n",
              "    .dataframe tbody tr th {\n",
              "        vertical-align: top;\n",
              "    }\n",
              "\n",
              "    .dataframe thead th {\n",
              "        text-align: right;\n",
              "    }\n",
              "</style>\n",
              "<table border=\"1\" class=\"dataframe\">\n",
              "  <thead>\n",
              "    <tr style=\"text-align: right;\">\n",
              "      <th></th>\n",
              "      <th>cap-diameter</th>\n",
              "      <th>stem-height</th>\n",
              "      <th>stem-width</th>\n",
              "    </tr>\n",
              "  </thead>\n",
              "  <tbody>\n",
              "    <tr>\n",
              "      <th>count</th>\n",
              "      <td>42748.000000</td>\n",
              "      <td>42748.000000</td>\n",
              "      <td>42748.000000</td>\n",
              "    </tr>\n",
              "    <tr>\n",
              "      <th>mean</th>\n",
              "      <td>6.714149</td>\n",
              "      <td>6.583224</td>\n",
              "      <td>12.117692</td>\n",
              "    </tr>\n",
              "    <tr>\n",
              "      <th>std</th>\n",
              "      <td>5.220008</td>\n",
              "      <td>3.368333</td>\n",
              "      <td>10.004874</td>\n",
              "    </tr>\n",
              "    <tr>\n",
              "      <th>min</th>\n",
              "      <td>0.380000</td>\n",
              "      <td>0.000000</td>\n",
              "      <td>0.000000</td>\n",
              "    </tr>\n",
              "    <tr>\n",
              "      <th>25%</th>\n",
              "      <td>3.480000</td>\n",
              "      <td>4.640000</td>\n",
              "      <td>5.180000</td>\n",
              "    </tr>\n",
              "    <tr>\n",
              "      <th>50%</th>\n",
              "      <td>5.865000</td>\n",
              "      <td>5.960000</td>\n",
              "      <td>10.200000</td>\n",
              "    </tr>\n",
              "    <tr>\n",
              "      <th>75%</th>\n",
              "      <td>8.530000</td>\n",
              "      <td>7.750000</td>\n",
              "      <td>16.540000</td>\n",
              "    </tr>\n",
              "    <tr>\n",
              "      <th>max</th>\n",
              "      <td>62.340000</td>\n",
              "      <td>33.920000</td>\n",
              "      <td>103.910000</td>\n",
              "    </tr>\n",
              "  </tbody>\n",
              "</table>\n",
              "</div>\n",
              "      <button class=\"colab-df-convert\" onclick=\"convertToInteractive('df-861b15d3-2296-42e6-b893-4c7fbacda606')\"\n",
              "              title=\"Convert this dataframe to an interactive table.\"\n",
              "              style=\"display:none;\">\n",
              "        \n",
              "  <svg xmlns=\"http://www.w3.org/2000/svg\" height=\"24px\"viewBox=\"0 0 24 24\"\n",
              "       width=\"24px\">\n",
              "    <path d=\"M0 0h24v24H0V0z\" fill=\"none\"/>\n",
              "    <path d=\"M18.56 5.44l.94 2.06.94-2.06 2.06-.94-2.06-.94-.94-2.06-.94 2.06-2.06.94zm-11 1L8.5 8.5l.94-2.06 2.06-.94-2.06-.94L8.5 2.5l-.94 2.06-2.06.94zm10 10l.94 2.06.94-2.06 2.06-.94-2.06-.94-.94-2.06-.94 2.06-2.06.94z\"/><path d=\"M17.41 7.96l-1.37-1.37c-.4-.4-.92-.59-1.43-.59-.52 0-1.04.2-1.43.59L10.3 9.45l-7.72 7.72c-.78.78-.78 2.05 0 2.83L4 21.41c.39.39.9.59 1.41.59.51 0 1.02-.2 1.41-.59l7.78-7.78 2.81-2.81c.8-.78.8-2.07 0-2.86zM5.41 20L4 18.59l7.72-7.72 1.47 1.35L5.41 20z\"/>\n",
              "  </svg>\n",
              "      </button>\n",
              "      \n",
              "  <style>\n",
              "    .colab-df-container {\n",
              "      display:flex;\n",
              "      flex-wrap:wrap;\n",
              "      gap: 12px;\n",
              "    }\n",
              "\n",
              "    .colab-df-convert {\n",
              "      background-color: #E8F0FE;\n",
              "      border: none;\n",
              "      border-radius: 50%;\n",
              "      cursor: pointer;\n",
              "      display: none;\n",
              "      fill: #1967D2;\n",
              "      height: 32px;\n",
              "      padding: 0 0 0 0;\n",
              "      width: 32px;\n",
              "    }\n",
              "\n",
              "    .colab-df-convert:hover {\n",
              "      background-color: #E2EBFA;\n",
              "      box-shadow: 0px 1px 2px rgba(60, 64, 67, 0.3), 0px 1px 3px 1px rgba(60, 64, 67, 0.15);\n",
              "      fill: #174EA6;\n",
              "    }\n",
              "\n",
              "    [theme=dark] .colab-df-convert {\n",
              "      background-color: #3B4455;\n",
              "      fill: #D2E3FC;\n",
              "    }\n",
              "\n",
              "    [theme=dark] .colab-df-convert:hover {\n",
              "      background-color: #434B5C;\n",
              "      box-shadow: 0px 1px 3px 1px rgba(0, 0, 0, 0.15);\n",
              "      filter: drop-shadow(0px 1px 2px rgba(0, 0, 0, 0.3));\n",
              "      fill: #FFFFFF;\n",
              "    }\n",
              "  </style>\n",
              "\n",
              "      <script>\n",
              "        const buttonEl =\n",
              "          document.querySelector('#df-861b15d3-2296-42e6-b893-4c7fbacda606 button.colab-df-convert');\n",
              "        buttonEl.style.display =\n",
              "          google.colab.kernel.accessAllowed ? 'block' : 'none';\n",
              "\n",
              "        async function convertToInteractive(key) {\n",
              "          const element = document.querySelector('#df-861b15d3-2296-42e6-b893-4c7fbacda606');\n",
              "          const dataTable =\n",
              "            await google.colab.kernel.invokeFunction('convertToInteractive',\n",
              "                                                     [key], {});\n",
              "          if (!dataTable) return;\n",
              "\n",
              "          const docLinkHtml = 'Like what you see? Visit the ' +\n",
              "            '<a target=\"_blank\" href=https://colab.research.google.com/notebooks/data_table.ipynb>data table notebook</a>'\n",
              "            + ' to learn more about interactive tables.';\n",
              "          element.innerHTML = '';\n",
              "          dataTable['output_type'] = 'display_data';\n",
              "          await google.colab.output.renderOutput(dataTable, element);\n",
              "          const docLink = document.createElement('div');\n",
              "          docLink.innerHTML = docLinkHtml;\n",
              "          element.appendChild(docLink);\n",
              "        }\n",
              "      </script>\n",
              "    </div>\n",
              "  </div>\n",
              "  "
            ]
          },
          "metadata": {},
          "execution_count": 4
        }
      ]
    },
    {
      "cell_type": "markdown",
      "source": [
        "It is concluded that the training dataset is not sandardized as the mean is no where close to zero and standard deviation is not close to one."
      ],
      "metadata": {
        "id": "Dxf1sU8nQ_4m"
      }
    },
    {
      "cell_type": "code",
      "source": [
        "df_training.info()"
      ],
      "metadata": {
        "colab": {
          "base_uri": "https://localhost:8080/"
        },
        "id": "FHwDPQpTZ1A5",
        "outputId": "0115e34d-567c-4571-add1-6e5b4454b9aa"
      },
      "execution_count": 5,
      "outputs": [
        {
          "output_type": "stream",
          "name": "stdout",
          "text": [
            "<class 'pandas.core.frame.DataFrame'>\n",
            "RangeIndex: 42748 entries, 0 to 42747\n",
            "Data columns (total 16 columns):\n",
            " #   Column                Non-Null Count  Dtype  \n",
            "---  ------                --------------  -----  \n",
            " 0   cap-diameter          42748 non-null  float64\n",
            " 1   cap-shape             42748 non-null  object \n",
            " 2   cap-surface           42748 non-null  object \n",
            " 3   cap-color             42748 non-null  object \n",
            " 4   does-bruise-or-bleed  42748 non-null  object \n",
            " 5   gill-attachment       42748 non-null  object \n",
            " 6   gill-spacing          42748 non-null  object \n",
            " 7   gill-color            42748 non-null  object \n",
            " 8   stem-height           42748 non-null  float64\n",
            " 9   stem-width            42748 non-null  float64\n",
            " 10  stem-color            42748 non-null  object \n",
            " 11  has-ring              42748 non-null  object \n",
            " 12  ring-type             42748 non-null  object \n",
            " 13  habitat               42748 non-null  object \n",
            " 14  season                42748 non-null  object \n",
            " 15  class                 42748 non-null  object \n",
            "dtypes: float64(3), object(13)\n",
            "memory usage: 5.2+ MB\n"
          ]
        }
      ]
    },
    {
      "cell_type": "code",
      "source": [
        "df_testing.head()"
      ],
      "metadata": {
        "colab": {
          "base_uri": "https://localhost:8080/",
          "height": 267
        },
        "id": "2kZ5-eYDZpiO",
        "outputId": "0edb7462-f7f1-40c0-b983-163c3910981a"
      },
      "execution_count": 6,
      "outputs": [
        {
          "output_type": "execute_result",
          "data": {
            "text/plain": [
              "   cap-diameter cap-shape cap-surface cap-color does-bruise-or-bleed  \\\n",
              "0         13.95         s           e         g                    f   \n",
              "1         17.79         s           k         n                    f   \n",
              "2          1.50         x           k         n                    f   \n",
              "3         15.33         x           t         n                    t   \n",
              "4         15.96         p           y         w                    f   \n",
              "\n",
              "  gill-attachment gill-spacing gill-color  stem-height  stem-width stem-color  \\\n",
              "0               d            c          w         7.67       22.22          w   \n",
              "1               d            c          y         6.39       36.42          n   \n",
              "2               a            c          n         5.30        1.44          n   \n",
              "3               d            c          b         5.16       26.60          n   \n",
              "4               a            c          w        23.57       19.51          n   \n",
              "\n",
              "  has-ring ring-type habitat season class  \n",
              "0        f         f       d      a     e  \n",
              "1        f         f       d      u     p  \n",
              "2        f         f       d      w     p  \n",
              "3        f         f       g      a     p  \n",
              "4        t         m       m      a     e  "
            ],
            "text/html": [
              "\n",
              "  <div id=\"df-7bb1578c-64a0-4108-890f-1d57d54b0844\">\n",
              "    <div class=\"colab-df-container\">\n",
              "      <div>\n",
              "<style scoped>\n",
              "    .dataframe tbody tr th:only-of-type {\n",
              "        vertical-align: middle;\n",
              "    }\n",
              "\n",
              "    .dataframe tbody tr th {\n",
              "        vertical-align: top;\n",
              "    }\n",
              "\n",
              "    .dataframe thead th {\n",
              "        text-align: right;\n",
              "    }\n",
              "</style>\n",
              "<table border=\"1\" class=\"dataframe\">\n",
              "  <thead>\n",
              "    <tr style=\"text-align: right;\">\n",
              "      <th></th>\n",
              "      <th>cap-diameter</th>\n",
              "      <th>cap-shape</th>\n",
              "      <th>cap-surface</th>\n",
              "      <th>cap-color</th>\n",
              "      <th>does-bruise-or-bleed</th>\n",
              "      <th>gill-attachment</th>\n",
              "      <th>gill-spacing</th>\n",
              "      <th>gill-color</th>\n",
              "      <th>stem-height</th>\n",
              "      <th>stem-width</th>\n",
              "      <th>stem-color</th>\n",
              "      <th>has-ring</th>\n",
              "      <th>ring-type</th>\n",
              "      <th>habitat</th>\n",
              "      <th>season</th>\n",
              "      <th>class</th>\n",
              "    </tr>\n",
              "  </thead>\n",
              "  <tbody>\n",
              "    <tr>\n",
              "      <th>0</th>\n",
              "      <td>13.95</td>\n",
              "      <td>s</td>\n",
              "      <td>e</td>\n",
              "      <td>g</td>\n",
              "      <td>f</td>\n",
              "      <td>d</td>\n",
              "      <td>c</td>\n",
              "      <td>w</td>\n",
              "      <td>7.67</td>\n",
              "      <td>22.22</td>\n",
              "      <td>w</td>\n",
              "      <td>f</td>\n",
              "      <td>f</td>\n",
              "      <td>d</td>\n",
              "      <td>a</td>\n",
              "      <td>e</td>\n",
              "    </tr>\n",
              "    <tr>\n",
              "      <th>1</th>\n",
              "      <td>17.79</td>\n",
              "      <td>s</td>\n",
              "      <td>k</td>\n",
              "      <td>n</td>\n",
              "      <td>f</td>\n",
              "      <td>d</td>\n",
              "      <td>c</td>\n",
              "      <td>y</td>\n",
              "      <td>6.39</td>\n",
              "      <td>36.42</td>\n",
              "      <td>n</td>\n",
              "      <td>f</td>\n",
              "      <td>f</td>\n",
              "      <td>d</td>\n",
              "      <td>u</td>\n",
              "      <td>p</td>\n",
              "    </tr>\n",
              "    <tr>\n",
              "      <th>2</th>\n",
              "      <td>1.50</td>\n",
              "      <td>x</td>\n",
              "      <td>k</td>\n",
              "      <td>n</td>\n",
              "      <td>f</td>\n",
              "      <td>a</td>\n",
              "      <td>c</td>\n",
              "      <td>n</td>\n",
              "      <td>5.30</td>\n",
              "      <td>1.44</td>\n",
              "      <td>n</td>\n",
              "      <td>f</td>\n",
              "      <td>f</td>\n",
              "      <td>d</td>\n",
              "      <td>w</td>\n",
              "      <td>p</td>\n",
              "    </tr>\n",
              "    <tr>\n",
              "      <th>3</th>\n",
              "      <td>15.33</td>\n",
              "      <td>x</td>\n",
              "      <td>t</td>\n",
              "      <td>n</td>\n",
              "      <td>t</td>\n",
              "      <td>d</td>\n",
              "      <td>c</td>\n",
              "      <td>b</td>\n",
              "      <td>5.16</td>\n",
              "      <td>26.60</td>\n",
              "      <td>n</td>\n",
              "      <td>f</td>\n",
              "      <td>f</td>\n",
              "      <td>g</td>\n",
              "      <td>a</td>\n",
              "      <td>p</td>\n",
              "    </tr>\n",
              "    <tr>\n",
              "      <th>4</th>\n",
              "      <td>15.96</td>\n",
              "      <td>p</td>\n",
              "      <td>y</td>\n",
              "      <td>w</td>\n",
              "      <td>f</td>\n",
              "      <td>a</td>\n",
              "      <td>c</td>\n",
              "      <td>w</td>\n",
              "      <td>23.57</td>\n",
              "      <td>19.51</td>\n",
              "      <td>n</td>\n",
              "      <td>t</td>\n",
              "      <td>m</td>\n",
              "      <td>m</td>\n",
              "      <td>a</td>\n",
              "      <td>e</td>\n",
              "    </tr>\n",
              "  </tbody>\n",
              "</table>\n",
              "</div>\n",
              "      <button class=\"colab-df-convert\" onclick=\"convertToInteractive('df-7bb1578c-64a0-4108-890f-1d57d54b0844')\"\n",
              "              title=\"Convert this dataframe to an interactive table.\"\n",
              "              style=\"display:none;\">\n",
              "        \n",
              "  <svg xmlns=\"http://www.w3.org/2000/svg\" height=\"24px\"viewBox=\"0 0 24 24\"\n",
              "       width=\"24px\">\n",
              "    <path d=\"M0 0h24v24H0V0z\" fill=\"none\"/>\n",
              "    <path d=\"M18.56 5.44l.94 2.06.94-2.06 2.06-.94-2.06-.94-.94-2.06-.94 2.06-2.06.94zm-11 1L8.5 8.5l.94-2.06 2.06-.94-2.06-.94L8.5 2.5l-.94 2.06-2.06.94zm10 10l.94 2.06.94-2.06 2.06-.94-2.06-.94-.94-2.06-.94 2.06-2.06.94z\"/><path d=\"M17.41 7.96l-1.37-1.37c-.4-.4-.92-.59-1.43-.59-.52 0-1.04.2-1.43.59L10.3 9.45l-7.72 7.72c-.78.78-.78 2.05 0 2.83L4 21.41c.39.39.9.59 1.41.59.51 0 1.02-.2 1.41-.59l7.78-7.78 2.81-2.81c.8-.78.8-2.07 0-2.86zM5.41 20L4 18.59l7.72-7.72 1.47 1.35L5.41 20z\"/>\n",
              "  </svg>\n",
              "      </button>\n",
              "      \n",
              "  <style>\n",
              "    .colab-df-container {\n",
              "      display:flex;\n",
              "      flex-wrap:wrap;\n",
              "      gap: 12px;\n",
              "    }\n",
              "\n",
              "    .colab-df-convert {\n",
              "      background-color: #E8F0FE;\n",
              "      border: none;\n",
              "      border-radius: 50%;\n",
              "      cursor: pointer;\n",
              "      display: none;\n",
              "      fill: #1967D2;\n",
              "      height: 32px;\n",
              "      padding: 0 0 0 0;\n",
              "      width: 32px;\n",
              "    }\n",
              "\n",
              "    .colab-df-convert:hover {\n",
              "      background-color: #E2EBFA;\n",
              "      box-shadow: 0px 1px 2px rgba(60, 64, 67, 0.3), 0px 1px 3px 1px rgba(60, 64, 67, 0.15);\n",
              "      fill: #174EA6;\n",
              "    }\n",
              "\n",
              "    [theme=dark] .colab-df-convert {\n",
              "      background-color: #3B4455;\n",
              "      fill: #D2E3FC;\n",
              "    }\n",
              "\n",
              "    [theme=dark] .colab-df-convert:hover {\n",
              "      background-color: #434B5C;\n",
              "      box-shadow: 0px 1px 3px 1px rgba(0, 0, 0, 0.15);\n",
              "      filter: drop-shadow(0px 1px 2px rgba(0, 0, 0, 0.3));\n",
              "      fill: #FFFFFF;\n",
              "    }\n",
              "  </style>\n",
              "\n",
              "      <script>\n",
              "        const buttonEl =\n",
              "          document.querySelector('#df-7bb1578c-64a0-4108-890f-1d57d54b0844 button.colab-df-convert');\n",
              "        buttonEl.style.display =\n",
              "          google.colab.kernel.accessAllowed ? 'block' : 'none';\n",
              "\n",
              "        async function convertToInteractive(key) {\n",
              "          const element = document.querySelector('#df-7bb1578c-64a0-4108-890f-1d57d54b0844');\n",
              "          const dataTable =\n",
              "            await google.colab.kernel.invokeFunction('convertToInteractive',\n",
              "                                                     [key], {});\n",
              "          if (!dataTable) return;\n",
              "\n",
              "          const docLinkHtml = 'Like what you see? Visit the ' +\n",
              "            '<a target=\"_blank\" href=https://colab.research.google.com/notebooks/data_table.ipynb>data table notebook</a>'\n",
              "            + ' to learn more about interactive tables.';\n",
              "          element.innerHTML = '';\n",
              "          dataTable['output_type'] = 'display_data';\n",
              "          await google.colab.output.renderOutput(dataTable, element);\n",
              "          const docLink = document.createElement('div');\n",
              "          docLink.innerHTML = docLinkHtml;\n",
              "          element.appendChild(docLink);\n",
              "        }\n",
              "      </script>\n",
              "    </div>\n",
              "  </div>\n",
              "  "
            ]
          },
          "metadata": {},
          "execution_count": 6
        }
      ]
    },
    {
      "cell_type": "code",
      "source": [
        "df_testing.describe()"
      ],
      "metadata": {
        "colab": {
          "base_uri": "https://localhost:8080/",
          "height": 300
        },
        "id": "vbQIWerhZxUB",
        "outputId": "d7cc6fef-ce41-4986-d3a9-30d3de0ccfb6"
      },
      "execution_count": 7,
      "outputs": [
        {
          "output_type": "execute_result",
          "data": {
            "text/plain": [
              "       cap-diameter   stem-height    stem-width\n",
              "count  18321.000000  18321.000000  18321.000000\n",
              "mean       6.779834      6.577604     12.223417\n",
              "std        5.367869      3.374032     10.107991\n",
              "min        0.440000      0.000000      0.000000\n",
              "25%        3.490000      4.630000      5.260000\n",
              "50%        5.860000      5.940000     10.160000\n",
              "75%        8.580000      7.720000     16.660000\n",
              "max       58.300000     33.720000    102.480000"
            ],
            "text/html": [
              "\n",
              "  <div id=\"df-9b856974-2c3e-4334-bdc1-4507127b7b29\">\n",
              "    <div class=\"colab-df-container\">\n",
              "      <div>\n",
              "<style scoped>\n",
              "    .dataframe tbody tr th:only-of-type {\n",
              "        vertical-align: middle;\n",
              "    }\n",
              "\n",
              "    .dataframe tbody tr th {\n",
              "        vertical-align: top;\n",
              "    }\n",
              "\n",
              "    .dataframe thead th {\n",
              "        text-align: right;\n",
              "    }\n",
              "</style>\n",
              "<table border=\"1\" class=\"dataframe\">\n",
              "  <thead>\n",
              "    <tr style=\"text-align: right;\">\n",
              "      <th></th>\n",
              "      <th>cap-diameter</th>\n",
              "      <th>stem-height</th>\n",
              "      <th>stem-width</th>\n",
              "    </tr>\n",
              "  </thead>\n",
              "  <tbody>\n",
              "    <tr>\n",
              "      <th>count</th>\n",
              "      <td>18321.000000</td>\n",
              "      <td>18321.000000</td>\n",
              "      <td>18321.000000</td>\n",
              "    </tr>\n",
              "    <tr>\n",
              "      <th>mean</th>\n",
              "      <td>6.779834</td>\n",
              "      <td>6.577604</td>\n",
              "      <td>12.223417</td>\n",
              "    </tr>\n",
              "    <tr>\n",
              "      <th>std</th>\n",
              "      <td>5.367869</td>\n",
              "      <td>3.374032</td>\n",
              "      <td>10.107991</td>\n",
              "    </tr>\n",
              "    <tr>\n",
              "      <th>min</th>\n",
              "      <td>0.440000</td>\n",
              "      <td>0.000000</td>\n",
              "      <td>0.000000</td>\n",
              "    </tr>\n",
              "    <tr>\n",
              "      <th>25%</th>\n",
              "      <td>3.490000</td>\n",
              "      <td>4.630000</td>\n",
              "      <td>5.260000</td>\n",
              "    </tr>\n",
              "    <tr>\n",
              "      <th>50%</th>\n",
              "      <td>5.860000</td>\n",
              "      <td>5.940000</td>\n",
              "      <td>10.160000</td>\n",
              "    </tr>\n",
              "    <tr>\n",
              "      <th>75%</th>\n",
              "      <td>8.580000</td>\n",
              "      <td>7.720000</td>\n",
              "      <td>16.660000</td>\n",
              "    </tr>\n",
              "    <tr>\n",
              "      <th>max</th>\n",
              "      <td>58.300000</td>\n",
              "      <td>33.720000</td>\n",
              "      <td>102.480000</td>\n",
              "    </tr>\n",
              "  </tbody>\n",
              "</table>\n",
              "</div>\n",
              "      <button class=\"colab-df-convert\" onclick=\"convertToInteractive('df-9b856974-2c3e-4334-bdc1-4507127b7b29')\"\n",
              "              title=\"Convert this dataframe to an interactive table.\"\n",
              "              style=\"display:none;\">\n",
              "        \n",
              "  <svg xmlns=\"http://www.w3.org/2000/svg\" height=\"24px\"viewBox=\"0 0 24 24\"\n",
              "       width=\"24px\">\n",
              "    <path d=\"M0 0h24v24H0V0z\" fill=\"none\"/>\n",
              "    <path d=\"M18.56 5.44l.94 2.06.94-2.06 2.06-.94-2.06-.94-.94-2.06-.94 2.06-2.06.94zm-11 1L8.5 8.5l.94-2.06 2.06-.94-2.06-.94L8.5 2.5l-.94 2.06-2.06.94zm10 10l.94 2.06.94-2.06 2.06-.94-2.06-.94-.94-2.06-.94 2.06-2.06.94z\"/><path d=\"M17.41 7.96l-1.37-1.37c-.4-.4-.92-.59-1.43-.59-.52 0-1.04.2-1.43.59L10.3 9.45l-7.72 7.72c-.78.78-.78 2.05 0 2.83L4 21.41c.39.39.9.59 1.41.59.51 0 1.02-.2 1.41-.59l7.78-7.78 2.81-2.81c.8-.78.8-2.07 0-2.86zM5.41 20L4 18.59l7.72-7.72 1.47 1.35L5.41 20z\"/>\n",
              "  </svg>\n",
              "      </button>\n",
              "      \n",
              "  <style>\n",
              "    .colab-df-container {\n",
              "      display:flex;\n",
              "      flex-wrap:wrap;\n",
              "      gap: 12px;\n",
              "    }\n",
              "\n",
              "    .colab-df-convert {\n",
              "      background-color: #E8F0FE;\n",
              "      border: none;\n",
              "      border-radius: 50%;\n",
              "      cursor: pointer;\n",
              "      display: none;\n",
              "      fill: #1967D2;\n",
              "      height: 32px;\n",
              "      padding: 0 0 0 0;\n",
              "      width: 32px;\n",
              "    }\n",
              "\n",
              "    .colab-df-convert:hover {\n",
              "      background-color: #E2EBFA;\n",
              "      box-shadow: 0px 1px 2px rgba(60, 64, 67, 0.3), 0px 1px 3px 1px rgba(60, 64, 67, 0.15);\n",
              "      fill: #174EA6;\n",
              "    }\n",
              "\n",
              "    [theme=dark] .colab-df-convert {\n",
              "      background-color: #3B4455;\n",
              "      fill: #D2E3FC;\n",
              "    }\n",
              "\n",
              "    [theme=dark] .colab-df-convert:hover {\n",
              "      background-color: #434B5C;\n",
              "      box-shadow: 0px 1px 3px 1px rgba(0, 0, 0, 0.15);\n",
              "      filter: drop-shadow(0px 1px 2px rgba(0, 0, 0, 0.3));\n",
              "      fill: #FFFFFF;\n",
              "    }\n",
              "  </style>\n",
              "\n",
              "      <script>\n",
              "        const buttonEl =\n",
              "          document.querySelector('#df-9b856974-2c3e-4334-bdc1-4507127b7b29 button.colab-df-convert');\n",
              "        buttonEl.style.display =\n",
              "          google.colab.kernel.accessAllowed ? 'block' : 'none';\n",
              "\n",
              "        async function convertToInteractive(key) {\n",
              "          const element = document.querySelector('#df-9b856974-2c3e-4334-bdc1-4507127b7b29');\n",
              "          const dataTable =\n",
              "            await google.colab.kernel.invokeFunction('convertToInteractive',\n",
              "                                                     [key], {});\n",
              "          if (!dataTable) return;\n",
              "\n",
              "          const docLinkHtml = 'Like what you see? Visit the ' +\n",
              "            '<a target=\"_blank\" href=https://colab.research.google.com/notebooks/data_table.ipynb>data table notebook</a>'\n",
              "            + ' to learn more about interactive tables.';\n",
              "          element.innerHTML = '';\n",
              "          dataTable['output_type'] = 'display_data';\n",
              "          await google.colab.output.renderOutput(dataTable, element);\n",
              "          const docLink = document.createElement('div');\n",
              "          docLink.innerHTML = docLinkHtml;\n",
              "          element.appendChild(docLink);\n",
              "        }\n",
              "      </script>\n",
              "    </div>\n",
              "  </div>\n",
              "  "
            ]
          },
          "metadata": {},
          "execution_count": 7
        }
      ]
    },
    {
      "cell_type": "code",
      "source": [
        "df_testing.info()"
      ],
      "metadata": {
        "colab": {
          "base_uri": "https://localhost:8080/"
        },
        "id": "9Slqs6oLZ3wh",
        "outputId": "b2692b99-7991-4093-959b-e1c0677cd2ae"
      },
      "execution_count": 8,
      "outputs": [
        {
          "output_type": "stream",
          "name": "stdout",
          "text": [
            "<class 'pandas.core.frame.DataFrame'>\n",
            "RangeIndex: 18321 entries, 0 to 18320\n",
            "Data columns (total 16 columns):\n",
            " #   Column                Non-Null Count  Dtype  \n",
            "---  ------                --------------  -----  \n",
            " 0   cap-diameter          18321 non-null  float64\n",
            " 1   cap-shape             18321 non-null  object \n",
            " 2   cap-surface           18321 non-null  object \n",
            " 3   cap-color             18321 non-null  object \n",
            " 4   does-bruise-or-bleed  18321 non-null  object \n",
            " 5   gill-attachment       18321 non-null  object \n",
            " 6   gill-spacing          18321 non-null  object \n",
            " 7   gill-color            18321 non-null  object \n",
            " 8   stem-height           18321 non-null  float64\n",
            " 9   stem-width            18321 non-null  float64\n",
            " 10  stem-color            18321 non-null  object \n",
            " 11  has-ring              18321 non-null  object \n",
            " 12  ring-type             18321 non-null  object \n",
            " 13  habitat               18321 non-null  object \n",
            " 14  season                18321 non-null  object \n",
            " 15  class                 18321 non-null  object \n",
            "dtypes: float64(3), object(13)\n",
            "memory usage: 2.2+ MB\n"
          ]
        }
      ]
    },
    {
      "cell_type": "code",
      "source": [
        "df_training.isnull().sum()"
      ],
      "metadata": {
        "colab": {
          "base_uri": "https://localhost:8080/"
        },
        "id": "swKihRiEaHcK",
        "outputId": "3ec7735f-140d-41b6-b471-63c82f1e4cb6"
      },
      "execution_count": 9,
      "outputs": [
        {
          "output_type": "execute_result",
          "data": {
            "text/plain": [
              "cap-diameter            0\n",
              "cap-shape               0\n",
              "cap-surface             0\n",
              "cap-color               0\n",
              "does-bruise-or-bleed    0\n",
              "gill-attachment         0\n",
              "gill-spacing            0\n",
              "gill-color              0\n",
              "stem-height             0\n",
              "stem-width              0\n",
              "stem-color              0\n",
              "has-ring                0\n",
              "ring-type               0\n",
              "habitat                 0\n",
              "season                  0\n",
              "class                   0\n",
              "dtype: int64"
            ]
          },
          "metadata": {},
          "execution_count": 9
        }
      ]
    },
    {
      "cell_type": "code",
      "source": [
        "df_testing.isnull().sum()"
      ],
      "metadata": {
        "colab": {
          "base_uri": "https://localhost:8080/"
        },
        "id": "QgpuKQAjaUoy",
        "outputId": "87da60c6-8665-4cd8-df15-54b44e7e36c7"
      },
      "execution_count": 10,
      "outputs": [
        {
          "output_type": "execute_result",
          "data": {
            "text/plain": [
              "cap-diameter            0\n",
              "cap-shape               0\n",
              "cap-surface             0\n",
              "cap-color               0\n",
              "does-bruise-or-bleed    0\n",
              "gill-attachment         0\n",
              "gill-spacing            0\n",
              "gill-color              0\n",
              "stem-height             0\n",
              "stem-width              0\n",
              "stem-color              0\n",
              "has-ring                0\n",
              "ring-type               0\n",
              "habitat                 0\n",
              "season                  0\n",
              "class                   0\n",
              "dtype: int64"
            ]
          },
          "metadata": {},
          "execution_count": 10
        }
      ]
    },
    {
      "cell_type": "markdown",
      "source": [
        "The datasets do not have any null/void values."
      ],
      "metadata": {
        "id": "NM9yyHytbr_h"
      }
    },
    {
      "cell_type": "code",
      "source": [
        "mushroom_train_df = pds.read_csv('mushroom_train.csv')\n",
        "# Label encoding the class column:\n",
        "label_encoding = LabelEncoder()\n",
        "mushroom_train_df['class'] = label_encoding.fit_transform(mushroom_train_df['class']) # Class 'e' is 0 and class 'p' is 1.\n",
        "\n",
        "sns.countplot(x = mushroom_train_df['class'], label = 'Class e')\n",
        "plt.title(\"Distribution of poisonous and edible mushrooms\")\n",
        "plt.legend()\n",
        "plt.xlabel('Classes')\n",
        "plt.ylabel('Frequency')\n",
        "plt.show()"
      ],
      "metadata": {
        "colab": {
          "base_uri": "https://localhost:8080/",
          "height": 472
        },
        "id": "snWFwPPATox2",
        "outputId": "857f4037-cc7d-4ba8-8a14-8eaa1740d340"
      },
      "execution_count": 50,
      "outputs": [
        {
          "output_type": "display_data",
          "data": {
            "text/plain": [
              "<Figure size 640x480 with 1 Axes>"
            ],
            "image/png": "[encoded data removed]"
          },
          "metadata": {}
        }
      ]
    },
    {
      "cell_type": "markdown",
      "source": [
        "It is evident from the above graph that the mushroom dataset is balanced."
      ],
      "metadata": {
        "id": "qORTh84CVxw3"
      }
    },
    {
      "cell_type": "markdown",
      "source": [
        "**Standardizing the training dataset**"
      ],
      "metadata": {
        "id": "1pjsI35gn_Gd"
      }
    },
    {
      "cell_type": "code",
      "source": [
        "only_numerics = df_training.select_dtypes(include = [np.number]).columns # Accessing the indices of the columns that have only numbers.\n",
        "standardizer = StandardScaler()\n",
        "standardizer.fit(df_training[only_numerics])\n",
        "df_std = pds.DataFrame(standardizer.transform(df_training[only_numerics]), columns = df_training[only_numerics].columns)\n",
        "# Combining the standardized dataframe with the rest of the columns:\n",
        "non_numeric = df_training.select_dtypes(exclude = [np.number]).columns # Accessing the indices of the columns that have data other than numbers.\n",
        "df_combined = pds.concat([df_std, df_training[non_numeric]], axis = 1)\n",
        "#df_combined.head()"
      ],
      "metadata": {
        "id": "DWF1zLwfnlPe"
      },
      "execution_count": 12,
      "outputs": []
    },
    {
      "cell_type": "markdown",
      "source": [
        "# **Training phase of the system**"
      ],
      "metadata": {
        "id": "4J8nVo-UdZuV"
      }
    },
    {
      "cell_type": "markdown",
      "source": [
        "A system that outputs class assignments (S0, S1) at random with probability N0 / N and N1 / N, respectively; 𝑁i is the number of training data points with class label Si, and N is the total number of training data points."
      ],
      "metadata": {
        "id": "qJ2D4RvvcB4Y"
      }
    },
    {
      "cell_type": "code",
      "execution_count": 13,
      "metadata": {
        "id": "5fysLi2RTX1T"
      },
      "outputs": [],
      "source": [
        "# Defining the ratio constants:\n",
        "N = len(df_combined) # Number of rows present in the training dataset.\n",
        "N_0 = len(df_combined[df_combined['class'] == 'p']) # Number of datapoints present in class 'p'.\n",
        "N_1 = len(df_combined[df_combined['class'] == 'e']) # Number of datapoints present in class 'e'.\n",
        "\n",
        "# Computing the probabilities: \n",
        "S_0 = N_0 / N\n",
        "S_1 = N_1 / N"
      ]
    },
    {
      "cell_type": "markdown",
      "source": [
        "# **Testing phase of the system**"
      ],
      "metadata": {
        "id": "LZtgSx4lds-L"
      }
    },
    {
      "cell_type": "code",
      "source": [
        "length = len(df_testing)\n",
        "# Randomly assigning the class labels to the testing datapoints using S0 & S1:\n",
        "df_testing['class_predicted'] = np.random.choice(['p', 'e'], size = length, p = [S_0, S_1])"
      ],
      "metadata": {
        "id": "tSjqclj-cZrT"
      },
      "execution_count": 14,
      "outputs": []
    },
    {
      "cell_type": "markdown",
      "source": [
        "**Testing accuracy**"
      ],
      "metadata": {
        "id": "idfrWiBweCMa"
      }
    },
    {
      "cell_type": "code",
      "source": [
        "# Calculating the testing accuracy:\n",
        "testing_accuracy = df_testing['class'] == df_testing['class_predicted']\n",
        "#print(testing_accuracy)"
      ],
      "metadata": {
        "id": "g2MKz93rpQbw"
      },
      "execution_count": 15,
      "outputs": []
    },
    {
      "cell_type": "code",
      "source": [
        "print(f\"The accuracy during the testing phase = {testing_accuracy.mean() * 100}%\")"
      ],
      "metadata": {
        "colab": {
          "base_uri": "https://localhost:8080/"
        },
        "id": "kZ3x19Zxg_69",
        "outputId": "27ca5695-0c68-4424-c7e4-d945795eb2c9"
      },
      "execution_count": 16,
      "outputs": [
        {
          "output_type": "stream",
          "name": "stdout",
          "text": [
            "The accuracy during the testing phase = 50.816003493259096%\n"
          ]
        }
      ]
    },
    {
      "cell_type": "markdown",
      "source": [
        "The test accuracy of this trivial system is low."
      ],
      "metadata": {
        "id": "D3It4XzWvVm-"
      }
    },
    {
      "cell_type": "markdown",
      "source": [
        "**F1 score of the system**"
      ],
      "metadata": {
        "id": "fXhAn4oZnMqc"
      }
    },
    {
      "cell_type": "code",
      "source": [
        "# Computing the F1 score:\n",
        "F1_score_p = f1_score(df_testing['class'], df_testing['class_predicted'], pos_label = 'p')\n",
        "F1_score_e = f1_score(df_testing['class'], df_testing['class_predicted'], pos_label = 'e')\n",
        "print(f\"The F1 score for class p = {F1_score_p} and for class e = {F1_score_e}\")"
      ],
      "metadata": {
        "colab": {
          "base_uri": "https://localhost:8080/"
        },
        "id": "JmXb3ptomptX",
        "outputId": "1e978cc3-10e3-4a0a-ea2d-3c04abbd7edb"
      },
      "execution_count": 17,
      "outputs": [
        {
          "output_type": "stream",
          "name": "stdout",
          "text": [
            "The F1 score for class p = 0.5612309490188441 and for class e = 0.44048432163924256\n"
          ]
        }
      ]
    },
    {
      "cell_type": "markdown",
      "source": [
        "Similarly, the F1 score is also very low."
      ],
      "metadata": {
        "id": "3yjFYMJ5wUdt"
      }
    },
    {
      "cell_type": "markdown",
      "source": [
        "**Confusion matrix of the system**"
      ],
      "metadata": {
        "id": "u42Z_iYb1CHp"
      }
    },
    {
      "cell_type": "code",
      "source": [
        "matrix = confusion_matrix(df_testing['class'], df_testing['class_predicted'], labels = ['p', 'e'])\n",
        "sns.heatmap(matrix, annot = True, fmt = 'd', cmap = 'cool', xticklabels = ['p', 'e'], yticklabels = ['p', 'e'])\n",
        "plt.title(\"Confusion matrix\")\n",
        "plt.xlabel(\"Predicted labels\")\n",
        "plt.ylabel(\"True labels\")\n",
        "plt.show()"
      ],
      "metadata": {
        "colab": {
          "base_uri": "https://localhost:8080/",
          "height": 472
        },
        "id": "FOFvoeozxZe_",
        "outputId": "5a91c725-d9fa-42e6-8025-99687dbf6bfb"
      },
      "execution_count": 18,
      "outputs": [
        {
          "output_type": "display_data",
          "data": {
            "text/plain": [
              "<Figure size 640x480 with 2 Axes>"
            ],
            "image/png": "[encoded data removed]"
          },
          "metadata": {}
        }
      ]
    },
    {
      "cell_type": "markdown",
      "source": [
        "The number of true positives is very low and the number of false negative is low. However, the false positives and true negatives are relatively high indicating that the trivial system is not accurate in classification."
      ],
      "metadata": {
        "id": "Ep5Kcwq31Yed"
      }
    }
  ]
}