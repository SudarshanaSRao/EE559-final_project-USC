{
 "cells": [
  {
   "cell_type": "markdown",
   "id": "5JnTZ01ituas",
   "metadata": {
    "id": "5JnTZ01ituas"
   },
   "source": [
    "# **Feature Engineering**"
   ]
  },
  {
   "cell_type": "code",
   "execution_count": 1,
   "id": "0862b153",
   "metadata": {
    "id": "0862b153"
   },
   "outputs": [],
   "source": [
    "# Importing necessary libraries:\n",
    "import numpy as np\n",
    "import pandas as pd\n",
    "from sklearn.preprocessing import StandardScaler\n",
    "from sklearn.metrics import f1_score, accuracy_score, confusion_matrix, classification_report\n",
    "import seaborn as sns\n",
    "import matplotlib.pyplot as plt\n",
    "from sklearn.decomposition import PCA\n",
    "from sklearn.linear_model import LogisticRegression\n",
    "from sklearn.ensemble import RandomForestClassifier\n",
    "from sklearn.svm import SVC\n",
    "from sklearn.feature_selection import SelectKBest, chi2\n",
    "from sklearn.naive_bayes import GaussianNB\n",
    "from sklearn.model_selection import cross_val_score, train_test_split\n",
    "from sklearn.model_selection import KFold\n",
    "import tensorflow as tf\n",
    "from tensorflow import keras\n",
    "from tensorflow.keras.wrappers.scikit_learn import KerasClassifier\n",
    "from keras.callbacks import ModelCheckpoint"
   ]
  },
  {
   "cell_type": "code",
   "execution_count": 2,
   "id": "d1166990",
   "metadata": {
    "colab": {
     "base_uri": "https://localhost:8080/"
    },
    "id": "d1166990",
    "outputId": "ea0541a8-ab8a-49f6-8712-f557804293b6"
   },
   "outputs": [
    {
     "name": "stdout",
     "output_type": "stream",
     "text": [
      "The correlation between the numerical columns of the features-\n",
      "               cap-diameter  stem-height  stem-width\n",
      "cap-diameter      1.000000     0.423171    0.695804\n",
      "stem-height       0.423171     1.000000    0.436069\n",
      "stem-width        0.695804     0.436069    1.000000\n"
     ]
    }
   ],
   "source": [
    "# Reading the training dataset into a pandas dataframe:\n",
    "data_train = pd.read_csv('mushroom_train.csv')\n",
    "# Calculating the correlation of the numerical features:\n",
    "corr_matrix = data_train.corr()\n",
    "print(\"The correlation between the numerical columns of the features-\\n\", corr_matrix)"
   ]
  },
  {
   "cell_type": "code",
   "execution_count": 3,
   "id": "363518b6",
   "metadata": {
    "id": "363518b6"
   },
   "outputs": [],
   "source": [
    "# Separating the categorical data:\n",
    "categorical_col = ['cap-shape', 'cap-surface', 'cap-color', 'does-bruise-or-bleed', 'gill-attachment', 'gill-spacing', 'gill-color', 'stem-color', 'has-ring', 'ring-type', 'habitat', 'season','class']\n",
    "categorical_data_train = data_train[categorical_col]\n",
    "encoded_data_train = pd.get_dummies(categorical_data_train, prefix = categorical_col, prefix_sep = '_') # One-hot encoding."
   ]
  },
  {
   "cell_type": "markdown",
   "id": "DLSEGnNruSGK",
   "metadata": {
    "id": "DLSEGnNruSGK"
   },
   "source": [
    "**Standardizing the numerical features**"
   ]
  },
  {
   "cell_type": "code",
   "execution_count": 4,
   "id": "2e09ffa3",
   "metadata": {
    "id": "2e09ffa3"
   },
   "outputs": [],
   "source": [
    "numerical_col_train = data_train[['cap-diameter', 'stem-height', 'stem-width']] # Separating the numerical columns.\n",
    "scaler = StandardScaler()\n",
    "numerical_col_scaled_train = scaler.fit_transform(numerical_col_train)\n",
    "numerical_data_train = pd.DataFrame(numerical_col_scaled_train, columns = numerical_col_train.columns)"
   ]
  },
  {
   "cell_type": "code",
   "execution_count": 5,
   "id": "02f128db",
   "metadata": {
    "id": "02f128db"
   },
   "outputs": [],
   "source": [
    "# Concatenating the columns (standardized numerical columns and the one-hot encoded categorical data) into one dataframe:\n",
    "final_data_train = pd.concat([numerical_data_train, encoded_data_train], axis = 1)\n",
    "df_temp = pd.DataFrame({'zeros': [0] * 42748})\n",
    "df_temp.loc[final_data_train.iloc[:, -2] == 1, 'zeros'] = 0\n",
    "df_temp.loc[final_data_train.iloc[:, -1] == 1, 'zeros'] = 1\n",
    "final_data_train = final_data_train.drop(final_data_train.columns[-2:], axis = 1)\n",
    "final_data_train_watch = pd.concat([final_data_train, df_temp], axis = 1)\n",
    "final_data_train_watch = final_data_train_watch.rename(columns = {'<old_column_name>': 'label'})\n",
    "new_data_train_watch = final_data_train_watch.reset_index()"
   ]
  },
  {
   "cell_type": "markdown",
   "id": "dNA4fHJLvKQj",
   "metadata": {
    "id": "dNA4fHJLvKQj"
   },
   "source": [
    "# **Pearson's correlation**"
   ]
  },
  {
   "cell_type": "code",
   "execution_count": 6,
   "id": "af357490",
   "metadata": {
    "colab": {
     "base_uri": "https://localhost:8080/"
    },
    "id": "af357490",
    "outputId": "335f59eb-9a56-4b51-cd44-7883c3f9aed3"
   },
   "outputs": [
    {
     "name": "stdout",
     "output_type": "stream",
     "text": [
      "Top 10 positive correlations:\n",
      "             Feature-1     Feature-2  Correlation coefficient\n",
      "3        cap-diameter    stem-width                 0.695804\n",
      "4          stem-width  cap-diameter                 0.695804\n",
      "5         stem-height    stem-width                 0.436069\n",
      "6          stem-width   stem-height                 0.436069\n",
      "7         stem-height  cap-diameter                 0.423171\n",
      "8        cap-diameter   stem-height                 0.423171\n",
      "9         ring-type_m   stem-height                 0.406376\n",
      "10  gill-attachment_p    stem-width                 0.400621\n",
      "11  gill-attachment_p  cap-diameter                 0.353896\n",
      "12        ring-type_f   stem-height                 0.332793\n",
      "\n",
      "Top 10 negative correlations:\n",
      "           Feature-1     Feature-2  Correlation coefficient\n",
      "275    gill-color_o    stem-width                 0.000822\n",
      "274     cap-color_e  cap-diameter                 0.000841\n",
      "273    stem-color_u   stem-height                 0.000941\n",
      "272     ring-type_l    stem-width                 0.001029\n",
      "271       habitat_u    stem-width                 0.001503\n",
      "270   cap-surface_w    stem-width                 0.001601\n",
      "269  gill-spacing_c    stem-width                 0.001994\n",
      "268       habitat_l    stem-width                 0.002066\n",
      "267      has-ring_t    stem-width                 0.002306\n",
      "266      has-ring_f    stem-width                 0.002306\n"
     ]
    }
   ],
   "source": [
    "# Separating the numerical columns:\n",
    "cols_of_interest = ['stem-width', 'stem-height', 'cap-diameter']\n",
    "corr_matrix = final_data_train.corr(method = 'pearson') # Computing the correlation matrix.\n",
    "corr_filtered = corr_matrix[(corr_matrix.index.isin(cols_of_interest)) | (corr_matrix.columns.isin(cols_of_interest))] # Filtering out the correlation matrix to only include with 'stem-width', 'stem-height', or 'cap-diameter' columns.\n",
    "# Creating a copy of the filtered correlation matrix to sort and to remove self-correlations:\n",
    "corr_sorted = corr_filtered.abs().unstack().sort_values(ascending = False).reset_index()\n",
    "corr_sorted = corr_sorted[corr_sorted['level_0'] != corr_sorted['level_1']]\n",
    "corr_sorted.columns = ['Feature-1', 'Feature-2', 'Correlation coefficient']\n",
    "corr_sorted_filtered = corr_sorted[(corr_sorted['Feature-1'].isin(cols_of_interest)) | (corr_sorted['Feature-2'].isin(cols_of_interest))]\n",
    "\n",
    "# Printing the top 10 positively and top 10 negatively correlated features:\n",
    "print(\"Top 10 positive correlations:\\n\", corr_sorted_filtered.head(10))\n",
    "print(\"\\nTop 10 negative correlations:\\n\", corr_sorted_filtered.tail(10)[::-1])"
   ]
  },
  {
   "cell_type": "code",
   "execution_count": 7,
   "id": "82e63a61",
   "metadata": {
    "id": "82e63a61"
   },
   "outputs": [],
   "source": [
    "new_data_train_watch = pd.concat([new_data_train_watch, df_temp], axis = 1)\n",
    "# Reset the index of the DataFrame and creating a new column 'index':\n",
    "new_data_train_watch.reset_index(inplace = True)\n",
    "new_data_train_watch.rename(columns = {'index': 'index_column'}, inplace = True)"
   ]
  },
  {
   "cell_type": "markdown",
   "id": "HiVGClnf4hRX",
   "metadata": {
    "id": "HiVGClnf4hRX"
   },
   "source": [
    "**Adding new features**"
   ]
  },
  {
   "cell_type": "code",
   "execution_count": 8,
   "id": "4e686f66",
   "metadata": {
    "id": "4e686f66"
   },
   "outputs": [],
   "source": [
    "selected_rows_shape_m = new_data_train_watch[new_data_train_watch['ring-type_m'] == 1] # Selecting the rows where 'ring-type_m' is 1.\n",
    "selected_data_m = pd.DataFrame(selected_rows_shape_m, columns = new_data_train_watch.columns) # Create a new dataframe with the selected rows.\n",
    "selected_data_m = new_data_train_watch.loc[new_data_train_watch['ring-type_m'] == 1].copy()\n",
    "# Computing the minimum, maximum and average of the corresponding numerical columns:\n",
    "stem_width_min = selected_data_m['stem-width'].min()\n",
    "stem_width_max = selected_data_m['stem-width'].max()\n",
    "stem_width_mean = selected_data_m['stem-width'].mean()\n",
    "selected_data_m['stem_width_ring_type_m_min'] = stem_width_min\n",
    "selected_data_m['stem_width_ring_type_m_max'] = stem_width_max\n",
    "selected_data_m['stem_width_ring_type_m_mean'] = stem_width_mean\n",
    "\n",
    "selected_data_m = selected_data_m.rename(columns = {'zeros': 'label1'})\n",
    "selected_data_m = selected_data_m.loc[:, ~selected_data_m.columns.duplicated()] # Deleting the duplicate <'label'> column.\n",
    "selected_data_m = selected_data_m[['index_column', 'stem_width_ring_type_m_min', 'stem_width_ring_type_m_max', 'stem_width_ring_type_m_mean', 'label1']]"
   ]
  },
  {
   "cell_type": "code",
   "execution_count": 9,
   "id": "d9419b85",
   "metadata": {
    "id": "d9419b85"
   },
   "outputs": [],
   "source": [
    "selected_rows_shape_p = new_data_train_watch[new_data_train_watch['gill-attachment_p'] == 1] \n",
    "selected_data = pd.DataFrame(selected_rows_shape_p, columns = new_data_train_watch.columns)\n",
    "selected_data_p = new_data_train_watch.loc[new_data_train_watch['gill-attachment_p'] == 1].copy()\n",
    "\n",
    "stem_width_min = selected_data_p['stem-width'].min()\n",
    "stem_width_max = selected_data_p['stem-width'].max()\n",
    "stem_width_mean = selected_data_p['stem-width'].mean()\n",
    "selected_data_p['stem_width_gill_attachment_p_min'] = stem_width_min\n",
    "selected_data_p['stem_width_gill_attachment_p_max'] = stem_width_max\n",
    "selected_data_p['stem_width_gill_attachment_p_mean'] = stem_width_mean\n",
    "\n",
    "selected_data_p = selected_data_p.rename(columns = {'zeros': 'label2'})\n",
    "selected_data_p = selected_data_p.loc[:, ~selected_data_p.columns.duplicated()]\n",
    "selected_data_p = selected_data_p[['index_column', 'stem_width_gill_attachment_p_min', 'stem_width_gill_attachment_p_max', 'stem_width_gill_attachment_p_mean', 'label2']]"
   ]
  },
  {
   "cell_type": "code",
   "execution_count": 10,
   "id": "d3430aa8",
   "metadata": {
    "id": "d3430aa8"
   },
   "outputs": [],
   "source": [
    "selected_rows_shape_f = new_data_train_watch[new_data_train_watch['ring-type_f'] == 1]\n",
    "selected_data = pd.DataFrame(selected_rows_shape_f, columns = new_data_train_watch.columns)\n",
    "selected_data_f = new_data_train_watch.loc[new_data_train_watch['ring-type_f'] == 1].copy()\n",
    "\n",
    "stem_height_min = selected_data_f['stem-height'].min()\n",
    "stem_height_max = selected_data_f['stem-height'].max()\n",
    "stem_height_mean = selected_data_f['stem-height'].mean()\n",
    "selected_data_f['stem_height_ring_type_f_min'] = stem_height_min\n",
    "selected_data_f['stem_height_ring_type_f_max'] = stem_height_max\n",
    "selected_data_f['stem_height_ring_type_f_mean'] = stem_height_mean\n",
    "\n",
    "selected_data_f = selected_data_f.rename(columns = {'zeros': 'label3'})\n",
    "selected_data_f = selected_data_f.loc[:, ~selected_data_f.columns.duplicated()]\n",
    "selected_data_f = selected_data_f[['index_column', 'stem_height_ring_type_f_min', 'stem_height_ring_type_f_max', 'stem_height_ring_type_f_mean', 'label3']]"
   ]
  },
  {
   "cell_type": "code",
   "execution_count": 11,
   "id": "c63a62be",
   "metadata": {
    "id": "c63a62be"
   },
   "outputs": [],
   "source": [
    "selected_rows_shape_o = new_data_train_watch[new_data_train_watch['gill-color_o'] == 1]\n",
    "selected_data = pd.DataFrame(selected_rows_shape_o, columns = new_data_train_watch.columns)\n",
    "selected_data_o = new_data_train_watch.loc[new_data_train_watch['gill-color_o'] == 1].copy()\n",
    "\n",
    "stem_width_min = selected_data_o['stem-width'].min()\n",
    "stem_width_max = selected_data_o['stem-width'].max()\n",
    "stem_width_mean = selected_data_o['stem-width'].mean()\n",
    "selected_data_o['stem_width_gill_color_o_min'] = stem_width_min\n",
    "selected_data_o['stem_width_gill_color_o_max'] = stem_width_max\n",
    "selected_data_o['stem_width_gill_color_o_mean'] = stem_width_mean\n",
    "\n",
    "selected_data_o = selected_data_o.rename(columns = {'zeros': 'label4'})\n",
    "selected_data_o = selected_data_o.loc[:, ~selected_data_o.columns.duplicated()]\n",
    "selected_data_o = selected_data_o[['index_column', 'stem_width_gill_color_o_min', 'stem_width_gill_color_o_max', 'stem_width_gill_color_o_mean', 'label4']]"
   ]
  },
  {
   "cell_type": "code",
   "execution_count": 12,
   "id": "b4647dde",
   "metadata": {
    "id": "b4647dde"
   },
   "outputs": [],
   "source": [
    "selected_rows_shape_e = new_data_train_watch[new_data_train_watch['cap-color_e'] == 1]\n",
    "selected_data = pd.DataFrame(selected_rows_shape_e, columns = new_data_train_watch.columns)\n",
    "selected_data_e = new_data_train_watch.loc[new_data_train_watch['cap-color_e'] == 1].copy()\n",
    "\n",
    "cap_diameter_min = selected_data_e['cap-diameter'].min()\n",
    "cap_diameter_max = selected_data_e['cap-diameter'].max()\n",
    "cap_diameter_mean = selected_data_e['cap-diameter'].mean()\n",
    "selected_data_e['cap_diameter_cap_color_e_min'] = cap_diameter_min\n",
    "selected_data_e['cap_diameter_cap_color_e_max'] = cap_diameter_max\n",
    "selected_data_e['cap_diameter_cap_color_e_mean'] = cap_diameter_mean\n",
    "\n",
    "selected_data_e = selected_data_e.rename(columns = {'zeros': 'label5'})\n",
    "selected_data_e = selected_data_e.loc[:, ~selected_data_e.columns.duplicated()]\n",
    "selected_data_e = selected_data_e[['index_column', 'cap_diameter_cap_color_e_min', 'cap_diameter_cap_color_e_max', 'cap_diameter_cap_color_e_mean', 'label5']]"
   ]
  },
  {
   "cell_type": "code",
   "execution_count": 13,
   "id": "6608a439",
   "metadata": {
    "id": "6608a439"
   },
   "outputs": [],
   "source": [
    "selected_rows_shape_p_only = new_data_train_watch[new_data_train_watch['cap-shape_p'] == 1]\n",
    "selected_data = pd.DataFrame(selected_rows_shape_p_only, columns = new_data_train_watch.columns)\n",
    "selected_data_p_only = new_data_train_watch.loc[new_data_train_watch['cap-shape_p'] == 1].copy()\n",
    "\n",
    "cap_diameter_min = selected_data_p_only['cap-diameter'].min()\n",
    "cap_diameter_max = selected_data_p_only['cap-diameter'].max()\n",
    "cap_diameter_mean = selected_data_p_only['cap-diameter'].mean()\n",
    "selected_data_p_only['cap_diameter_p_min'] = cap_diameter_min\n",
    "selected_data_p_only['cap_diameter_p_max'] = cap_diameter_max\n",
    "selected_data_p_only['cap_diameter_p_mean'] = cap_diameter_mean\n",
    "\n",
    "selected_data_p_only = selected_data_p_only.rename(columns = {'zeros': 'label6'})\n",
    "selected_data_p_only = selected_data_p_only.loc[:, ~selected_data_p_only.columns.duplicated()]\n",
    "selected_data_p_only = selected_data_p_only[['index_column', 'cap_diameter_p_min', 'cap_diameter_p_max', 'cap_diameter_p_mean', 'label6']]"
   ]
  },
  {
   "cell_type": "code",
   "execution_count": 14,
   "id": "83b4f964",
   "metadata": {
    "colab": {
     "base_uri": "https://localhost:8080/"
    },
    "id": "83b4f964",
    "outputId": "7d77187a-a36c-40f7-a3d8-3506fff4c788"
   },
   "outputs": [
    {
     "name": "stdout",
     "output_type": "stream",
     "text": [
      "DataFrame with the all augmented features:\n",
      " Index(['cap-diameter', 'stem-height', 'stem-width', 'cap-shape_b',\n",
      "       'cap-shape_c', 'cap-shape_f', 'cap-shape_o', 'cap-shape_p',\n",
      "       'cap-shape_s', 'cap-shape_x',\n",
      "       ...\n",
      "       'stem_width_gill_color_o_mean', 'label4',\n",
      "       'cap_diameter_cap_color_e_min', 'cap_diameter_cap_color_e_max',\n",
      "       'cap_diameter_cap_color_e_mean', 'label5', 'cap_diameter_p_min',\n",
      "       'cap_diameter_p_max', 'cap_diameter_p_mean', 'label6'],\n",
      "      dtype='object', length=118)\n"
     ]
    }
   ],
   "source": [
    "dataframes = [new_data_train_watch, selected_data_m, selected_data_p, selected_data_f, selected_data_o, selected_data_e, selected_data_p_only]\n",
    "concatenated_df = pd.concat(dataframes, axis = 1, join = 'outer') # Concatenating all the created dataframes based on a common index.\n",
    "concatenated_df['common_index'] = concatenated_df.index\n",
    "concatenated_df.fillna(0, inplace = True) # Replacing any Not-a-Number values with zeroes.\n",
    "concatenated_df.set_index('common_index', inplace = True)\n",
    "concatenated_df = concatenated_df.drop('index_column', axis = 1)\n",
    "concatenated_df = concatenated_df.drop('level_0', axis = 1) # Dropping the common index column.\n",
    "print(\"DataFrame with the all augmented features:\\n\", concatenated_df.columns)"
   ]
  },
  {
   "cell_type": "code",
   "execution_count": 15,
   "id": "kLr5BWno0OIB",
   "metadata": {
    "id": "kLr5BWno0OIB"
   },
   "outputs": [],
   "source": [
    "# Defining a function to check if any of the label columns has '1':\n",
    "def has_label(row):\n",
    "    label_cols = ['label1', 'label2', 'label3', 'label4', 'label5', 'label6']\n",
    "    \n",
    "    for col in label_cols:\n",
    "        \n",
    "        if row[col] == 1:\n",
    "            return 1\n",
    "    \n",
    "    return 0"
   ]
  },
  {
   "cell_type": "code",
   "execution_count": 16,
   "id": "8f6838ba",
   "metadata": {
    "colab": {
     "base_uri": "https://localhost:8080/",
     "height": 393
    },
    "id": "8f6838ba",
    "outputId": "2d47d2a3-5778-46c7-a58b-1f31517a738f"
   },
   "outputs": [
    {
     "data": {
      "text/html": [
       "<div>\n",
       "<style scoped>\n",
       "    .dataframe tbody tr th:only-of-type {\n",
       "        vertical-align: middle;\n",
       "    }\n",
       "\n",
       "    .dataframe tbody tr th {\n",
       "        vertical-align: top;\n",
       "    }\n",
       "\n",
       "    .dataframe thead th {\n",
       "        text-align: right;\n",
       "    }\n",
       "</style>\n",
       "<table border=\"1\" class=\"dataframe\">\n",
       "  <thead>\n",
       "    <tr style=\"text-align: right;\">\n",
       "      <th></th>\n",
       "      <th>cap-diameter</th>\n",
       "      <th>stem-height</th>\n",
       "      <th>stem-width</th>\n",
       "      <th>cap-shape_b</th>\n",
       "      <th>cap-shape_c</th>\n",
       "      <th>cap-shape_f</th>\n",
       "      <th>cap-shape_o</th>\n",
       "      <th>cap-shape_p</th>\n",
       "      <th>cap-shape_s</th>\n",
       "      <th>cap-shape_x</th>\n",
       "      <th>...</th>\n",
       "      <th>stem_width_gill_color_o_min</th>\n",
       "      <th>stem_width_gill_color_o_max</th>\n",
       "      <th>stem_width_gill_color_o_mean</th>\n",
       "      <th>cap_diameter_cap_color_e_min</th>\n",
       "      <th>cap_diameter_cap_color_e_max</th>\n",
       "      <th>cap_diameter_cap_color_e_mean</th>\n",
       "      <th>cap_diameter_p_min</th>\n",
       "      <th>cap_diameter_p_max</th>\n",
       "      <th>cap_diameter_p_mean</th>\n",
       "      <th>label</th>\n",
       "    </tr>\n",
       "  </thead>\n",
       "  <tbody>\n",
       "    <tr>\n",
       "      <th>count</th>\n",
       "      <td>4.274800e+04</td>\n",
       "      <td>4.274800e+04</td>\n",
       "      <td>4.274800e+04</td>\n",
       "      <td>42748.000000</td>\n",
       "      <td>42748.000000</td>\n",
       "      <td>42748.000000</td>\n",
       "      <td>42748.000000</td>\n",
       "      <td>42748.000000</td>\n",
       "      <td>42748.000000</td>\n",
       "      <td>42748.000000</td>\n",
       "      <td>...</td>\n",
       "      <td>42748.000000</td>\n",
       "      <td>42748.000000</td>\n",
       "      <td>42748.000000</td>\n",
       "      <td>42748.000000</td>\n",
       "      <td>42748.000000</td>\n",
       "      <td>42748.000000</td>\n",
       "      <td>42748.000000</td>\n",
       "      <td>42748.000000</td>\n",
       "      <td>42748.000000</td>\n",
       "      <td>42748.000000</td>\n",
       "    </tr>\n",
       "    <tr>\n",
       "      <th>mean</th>\n",
       "      <td>-2.940579e-16</td>\n",
       "      <td>1.759299e-17</td>\n",
       "      <td>1.877183e-16</td>\n",
       "      <td>0.094578</td>\n",
       "      <td>0.030130</td>\n",
       "      <td>0.217297</td>\n",
       "      <td>0.056541</td>\n",
       "      <td>0.042669</td>\n",
       "      <td>0.118813</td>\n",
       "      <td>0.439974</td>\n",
       "      <td>...</td>\n",
       "      <td>-0.054011</td>\n",
       "      <td>0.127143</td>\n",
       "      <td>-0.000175</td>\n",
       "      <td>-0.076948</td>\n",
       "      <td>0.266904</td>\n",
       "      <td>-0.000207</td>\n",
       "      <td>-0.050550</td>\n",
       "      <td>0.176691</td>\n",
       "      <td>0.019000</td>\n",
       "      <td>0.479648</td>\n",
       "    </tr>\n",
       "    <tr>\n",
       "      <th>std</th>\n",
       "      <td>1.000012e+00</td>\n",
       "      <td>1.000012e+00</td>\n",
       "      <td>1.000012e+00</td>\n",
       "      <td>0.292634</td>\n",
       "      <td>0.170947</td>\n",
       "      <td>0.412411</td>\n",
       "      <td>0.230965</td>\n",
       "      <td>0.202111</td>\n",
       "      <td>0.323572</td>\n",
       "      <td>0.496390</td>\n",
       "      <td>...</td>\n",
       "      <td>0.241211</td>\n",
       "      <td>0.567820</td>\n",
       "      <td>0.000783</td>\n",
       "      <td>0.291710</td>\n",
       "      <td>1.011835</td>\n",
       "      <td>0.000786</td>\n",
       "      <td>0.239444</td>\n",
       "      <td>0.836945</td>\n",
       "      <td>0.089997</td>\n",
       "      <td>0.499591</td>\n",
       "    </tr>\n",
       "    <tr>\n",
       "      <th>min</th>\n",
       "      <td>-1.213451e+00</td>\n",
       "      <td>-1.954469e+00</td>\n",
       "      <td>-1.211193e+00</td>\n",
       "      <td>0.000000</td>\n",
       "      <td>0.000000</td>\n",
       "      <td>0.000000</td>\n",
       "      <td>0.000000</td>\n",
       "      <td>0.000000</td>\n",
       "      <td>0.000000</td>\n",
       "      <td>0.000000</td>\n",
       "      <td>...</td>\n",
       "      <td>-1.131231</td>\n",
       "      <td>0.000000</td>\n",
       "      <td>-0.003670</td>\n",
       "      <td>-1.182799</td>\n",
       "      <td>0.000000</td>\n",
       "      <td>-0.003187</td>\n",
       "      <td>-1.184715</td>\n",
       "      <td>0.000000</td>\n",
       "      <td>0.000000</td>\n",
       "      <td>0.000000</td>\n",
       "    </tr>\n",
       "    <tr>\n",
       "      <th>25%</th>\n",
       "      <td>-6.195751e-01</td>\n",
       "      <td>-5.769166e-01</td>\n",
       "      <td>-6.934393e-01</td>\n",
       "      <td>0.000000</td>\n",
       "      <td>0.000000</td>\n",
       "      <td>0.000000</td>\n",
       "      <td>0.000000</td>\n",
       "      <td>0.000000</td>\n",
       "      <td>0.000000</td>\n",
       "      <td>0.000000</td>\n",
       "      <td>...</td>\n",
       "      <td>0.000000</td>\n",
       "      <td>0.000000</td>\n",
       "      <td>0.000000</td>\n",
       "      <td>0.000000</td>\n",
       "      <td>0.000000</td>\n",
       "      <td>0.000000</td>\n",
       "      <td>0.000000</td>\n",
       "      <td>0.000000</td>\n",
       "      <td>0.000000</td>\n",
       "      <td>0.000000</td>\n",
       "    </tr>\n",
       "    <tr>\n",
       "      <th>50%</th>\n",
       "      <td>-1.626738e-01</td>\n",
       "      <td>-1.850268e-01</td>\n",
       "      <td>-1.916780e-01</td>\n",
       "      <td>0.000000</td>\n",
       "      <td>0.000000</td>\n",
       "      <td>0.000000</td>\n",
       "      <td>0.000000</td>\n",
       "      <td>0.000000</td>\n",
       "      <td>0.000000</td>\n",
       "      <td>0.000000</td>\n",
       "      <td>...</td>\n",
       "      <td>0.000000</td>\n",
       "      <td>0.000000</td>\n",
       "      <td>0.000000</td>\n",
       "      <td>0.000000</td>\n",
       "      <td>0.000000</td>\n",
       "      <td>0.000000</td>\n",
       "      <td>0.000000</td>\n",
       "      <td>0.000000</td>\n",
       "      <td>0.000000</td>\n",
       "      <td>0.000000</td>\n",
       "    </tr>\n",
       "    <tr>\n",
       "      <th>75%</th>\n",
       "      <td>3.478678e-01</td>\n",
       "      <td>3.463996e-01</td>\n",
       "      <td>4.420205e-01</td>\n",
       "      <td>0.000000</td>\n",
       "      <td>0.000000</td>\n",
       "      <td>0.000000</td>\n",
       "      <td>0.000000</td>\n",
       "      <td>0.000000</td>\n",
       "      <td>0.000000</td>\n",
       "      <td>1.000000</td>\n",
       "      <td>...</td>\n",
       "      <td>0.000000</td>\n",
       "      <td>0.000000</td>\n",
       "      <td>0.000000</td>\n",
       "      <td>0.000000</td>\n",
       "      <td>0.000000</td>\n",
       "      <td>0.000000</td>\n",
       "      <td>0.000000</td>\n",
       "      <td>0.000000</td>\n",
       "      <td>0.000000</td>\n",
       "      <td>1.000000</td>\n",
       "    </tr>\n",
       "    <tr>\n",
       "      <th>max</th>\n",
       "      <td>1.065640e+01</td>\n",
       "      <td>8.115913e+00</td>\n",
       "      <td>9.174866e+00</td>\n",
       "      <td>1.000000</td>\n",
       "      <td>1.000000</td>\n",
       "      <td>1.000000</td>\n",
       "      <td>1.000000</td>\n",
       "      <td>1.000000</td>\n",
       "      <td>1.000000</td>\n",
       "      <td>1.000000</td>\n",
       "      <td>...</td>\n",
       "      <td>0.000000</td>\n",
       "      <td>2.662964</td>\n",
       "      <td>0.000000</td>\n",
       "      <td>0.000000</td>\n",
       "      <td>4.102695</td>\n",
       "      <td>0.000000</td>\n",
       "      <td>0.000000</td>\n",
       "      <td>4.141010</td>\n",
       "      <td>0.445286</td>\n",
       "      <td>1.000000</td>\n",
       "    </tr>\n",
       "  </tbody>\n",
       "</table>\n",
       "<p>8 rows × 111 columns</p>\n",
       "</div>"
      ],
      "text/plain": [
       "       cap-diameter   stem-height    stem-width   cap-shape_b   cap-shape_c  \\\n",
       "count  4.274800e+04  4.274800e+04  4.274800e+04  42748.000000  42748.000000   \n",
       "mean  -2.940579e-16  1.759299e-17  1.877183e-16      0.094578      0.030130   \n",
       "std    1.000012e+00  1.000012e+00  1.000012e+00      0.292634      0.170947   \n",
       "min   -1.213451e+00 -1.954469e+00 -1.211193e+00      0.000000      0.000000   \n",
       "25%   -6.195751e-01 -5.769166e-01 -6.934393e-01      0.000000      0.000000   \n",
       "50%   -1.626738e-01 -1.850268e-01 -1.916780e-01      0.000000      0.000000   \n",
       "75%    3.478678e-01  3.463996e-01  4.420205e-01      0.000000      0.000000   \n",
       "max    1.065640e+01  8.115913e+00  9.174866e+00      1.000000      1.000000   \n",
       "\n",
       "        cap-shape_f   cap-shape_o   cap-shape_p   cap-shape_s   cap-shape_x  \\\n",
       "count  42748.000000  42748.000000  42748.000000  42748.000000  42748.000000   \n",
       "mean       0.217297      0.056541      0.042669      0.118813      0.439974   \n",
       "std        0.412411      0.230965      0.202111      0.323572      0.496390   \n",
       "min        0.000000      0.000000      0.000000      0.000000      0.000000   \n",
       "25%        0.000000      0.000000      0.000000      0.000000      0.000000   \n",
       "50%        0.000000      0.000000      0.000000      0.000000      0.000000   \n",
       "75%        0.000000      0.000000      0.000000      0.000000      1.000000   \n",
       "max        1.000000      1.000000      1.000000      1.000000      1.000000   \n",
       "\n",
       "       ...  stem_width_gill_color_o_min  stem_width_gill_color_o_max  \\\n",
       "count  ...                 42748.000000                 42748.000000   \n",
       "mean   ...                    -0.054011                     0.127143   \n",
       "std    ...                     0.241211                     0.567820   \n",
       "min    ...                    -1.131231                     0.000000   \n",
       "25%    ...                     0.000000                     0.000000   \n",
       "50%    ...                     0.000000                     0.000000   \n",
       "75%    ...                     0.000000                     0.000000   \n",
       "max    ...                     0.000000                     2.662964   \n",
       "\n",
       "       stem_width_gill_color_o_mean  cap_diameter_cap_color_e_min  \\\n",
       "count                  42748.000000                  42748.000000   \n",
       "mean                      -0.000175                     -0.076948   \n",
       "std                        0.000783                      0.291710   \n",
       "min                       -0.003670                     -1.182799   \n",
       "25%                        0.000000                      0.000000   \n",
       "50%                        0.000000                      0.000000   \n",
       "75%                        0.000000                      0.000000   \n",
       "max                        0.000000                      0.000000   \n",
       "\n",
       "       cap_diameter_cap_color_e_max  cap_diameter_cap_color_e_mean  \\\n",
       "count                  42748.000000                   42748.000000   \n",
       "mean                       0.266904                      -0.000207   \n",
       "std                        1.011835                       0.000786   \n",
       "min                        0.000000                      -0.003187   \n",
       "25%                        0.000000                       0.000000   \n",
       "50%                        0.000000                       0.000000   \n",
       "75%                        0.000000                       0.000000   \n",
       "max                        4.102695                       0.000000   \n",
       "\n",
       "       cap_diameter_p_min  cap_diameter_p_max  cap_diameter_p_mean  \\\n",
       "count        42748.000000        42748.000000         42748.000000   \n",
       "mean            -0.050550            0.176691             0.019000   \n",
       "std              0.239444            0.836945             0.089997   \n",
       "min             -1.184715            0.000000             0.000000   \n",
       "25%              0.000000            0.000000             0.000000   \n",
       "50%              0.000000            0.000000             0.000000   \n",
       "75%              0.000000            0.000000             0.000000   \n",
       "max              0.000000            4.141010             0.445286   \n",
       "\n",
       "              label  \n",
       "count  42748.000000  \n",
       "mean       0.479648  \n",
       "std        0.499591  \n",
       "min        0.000000  \n",
       "25%        0.000000  \n",
       "50%        0.000000  \n",
       "75%        1.000000  \n",
       "max        1.000000  \n",
       "\n",
       "[8 rows x 111 columns]"
      ]
     },
     "execution_count": 16,
     "metadata": {},
     "output_type": "execute_result"
    }
   ],
   "source": [
    "concatenated_df['label'] = concatenated_df.apply(has_label, axis = 1)\n",
    "concatenated_df = concatenated_df.drop(['label1', 'label2', 'label3', 'label4','label5','label6'], axis = 1)\n",
    "concatenated_df = concatenated_df.drop(['zeros'], axis = 1)\n",
    "concatenated_df_train = concatenated_df # Final training dataframe.\n",
    "label_column_train = concatenated_df_train.iloc[:, -1] # Labels of the final training dataframe. \n",
    "concatenated_df_train.describe()"
   ]
  },
  {
   "cell_type": "markdown",
   "id": "O8jcYd_T1F34",
   "metadata": {
    "id": "O8jcYd_T1F34"
   },
   "source": [
    "# **Principal Component Analysis**"
   ]
  },
  {
   "cell_type": "code",
   "execution_count": 17,
   "id": "779cf99d",
   "metadata": {
    "colab": {
     "base_uri": "https://localhost:8080/"
    },
    "id": "779cf99d",
    "outputId": "abf67867-961d-494e-9393-5c9df9d37821"
   },
   "outputs": [
    {
     "name": "stdout",
     "output_type": "stream",
     "text": [
      "The optimal features determined by PCA-\n",
      " ['stem-width', 'stem-height', 'cap-diameter', 'cap-color_n', 'cap_diameter_p_max', 'cap-shape_x', 'gill-attachment_a', 'season_a', 'stem-color_w', 'stem_height_ring_type_f_max', 'gill-color_w']\n"
     ]
    }
   ],
   "source": [
    "pca = PCA(n_components = 11) # Defining the number of features to pass to the PCA function.\n",
    "pcs = pca.fit_transform(concatenated_df_train)\n",
    "top_feature_names = []\n",
    "\n",
    "for comps in range(pca.n_components_):\n",
    "    component_loadings = abs(pca.components_[comps])\n",
    "    sorted_indices = component_loadings.argsort()[::-1]\n",
    "    top_feature_indices = sorted_indices[:pca.n_components]\n",
    "    top_feature_names.append(concatenated_df_train.columns[top_feature_indices].tolist())\n",
    "\n",
    "all_top_feature_names = [name for sublist in top_feature_names for name in sublist] # Concatenating the lists of top feature names into a single list.\n",
    "feature_counts = pd.Series(all_top_feature_names).value_counts().sort_values(ascending = False) # Counting the frequency of each feature and sorting in descending order.\n",
    "top_features = feature_counts.index[:pca.n_components].tolist() # Extracting the most frequent features.\n",
    "print(\"The optimal features determined by PCA-\\n\", top_features)"
   ]
  },
  {
   "cell_type": "code",
   "execution_count": 18,
   "id": "449ab5bd",
   "metadata": {
    "colab": {
     "base_uri": "https://localhost:8080/",
     "height": 472
    },
    "id": "449ab5bd",
    "outputId": "64494578-b25e-4483-99be-20b72d0a52bb"
   },
   "outputs": [
    {
     "data": {
      "image/png": "[encoded data removed]",
      "text/plain": [
       "<Figure size 640x480 with 1 Axes>"
      ]
     },
     "metadata": {},
     "output_type": "display_data"
    }
   ],
   "source": [
    "pca = PCA(n_components = 25)\n",
    "pca.fit(concatenated_df_train)\n",
    "variances = pca.explained_variance_\n",
    "\n",
    "\n",
    "plt.plot(variances)\n",
    "plt.xlabel(\"Total number of features\")\n",
    "plt.ylabel(\"Maximum variance\")\n",
    "plt.title(\"Maximum variance versus total number of features\")\n",
    "plt.show()"
   ]
  },
  {
   "cell_type": "code",
   "execution_count": 19,
   "id": "786be7cd",
   "metadata": {
    "colab": {
     "base_uri": "https://localhost:8080/"
    },
    "id": "786be7cd",
    "outputId": "5d6fe896-b89c-422b-b05e-7cc036efae97"
   },
   "outputs": [
    {
     "name": "stdout",
     "output_type": "stream",
     "text": [
      "              stem-width  stem-height  cap-diameter  cap-color_n  \\\n",
      "common_index                                                       \n",
      "0              -0.590488    -0.161276     -0.332216            0   \n",
      "1              -0.856362    -0.274093     -0.742182            0   \n",
      "2               1.316604     0.132642      0.905345            0   \n",
      "3               0.149160    -0.636294      0.393845            0   \n",
      "4               0.631930     0.542345      0.160126            1   \n",
      "...                  ...          ...           ...          ...   \n",
      "42743          -0.860360    -0.481913     -0.657890            0   \n",
      "42744          -0.099722    -0.585823      0.420665            0   \n",
      "42745           1.423554    -0.247373      7.495450            0   \n",
      "42746           1.225648     0.287022      0.803811            1   \n",
      "42747          -0.840369    -0.909429     -0.824558            0   \n",
      "\n",
      "              cap_diameter_p_max  cap-shape_x  gill-attachment_a  season_a  \\\n",
      "common_index                                                                 \n",
      "0                            0.0            0                  1         1   \n",
      "1                            0.0            1                  1         0   \n",
      "2                            0.0            1                  1         0   \n",
      "3                            0.0            0                  0         1   \n",
      "4                            0.0            1                  0         1   \n",
      "...                          ...          ...                ...       ...   \n",
      "42743                        0.0            0                  0         0   \n",
      "42744                        0.0            1                  0         1   \n",
      "42745                        0.0            0                  0         0   \n",
      "42746                        0.0            0                  1         0   \n",
      "42747                        0.0            0                  1         0   \n",
      "\n",
      "              stem-color_w  stem_height_ring_type_f_max  gill-color_w  \n",
      "common_index                                                           \n",
      "0                        1                      5.35784             0  \n",
      "1                        0                      0.00000             1  \n",
      "2                        0                      0.00000             1  \n",
      "3                        0                      5.35784             0  \n",
      "4                        0                      5.35784             0  \n",
      "...                    ...                          ...           ...  \n",
      "42743                    1                      0.00000             0  \n",
      "42744                    0                      5.35784             0  \n",
      "42745                    0                      5.35784             0  \n",
      "42746                    0                      0.00000             1  \n",
      "42747                    0                      5.35784             0  \n",
      "\n",
      "[42748 rows x 11 columns]\n"
     ]
    }
   ],
   "source": [
    "# Accessing the indices of the columns that correspond to the top features and creating a new dataframe of only top features:\n",
    "top_feature_indices = [concatenated_df_train.columns.get_loc(feature) for feature in top_features[:pca.n_components]]\n",
    "top_features_data_train = concatenated_df_train.iloc[:, top_feature_indices]\n",
    "print(top_features_data_train)"
   ]
  },
  {
   "cell_type": "markdown",
   "id": "uOPvgvaG5TH-",
   "metadata": {
    "id": "uOPvgvaG5TH-"
   },
   "source": [
    "**Standardizing the testing dataset**"
   ]
  },
  {
   "cell_type": "code",
   "execution_count": 20,
   "id": "b1e6866e",
   "metadata": {
    "id": "b1e6866e"
   },
   "outputs": [],
   "source": [
    "data_test = pd.read_csv('mushroom_test.csv')\n",
    "categorical_col = ['cap-shape', 'cap-surface', 'cap-color', 'does-bruise-or-bleed', 'gill-attachment', 'gill-spacing', 'gill-color', 'stem-color', 'has-ring', 'ring-type', 'habitat', 'season','class']\n",
    "categorical_data_test = data_test[categorical_col]\n",
    "encoded_data_test = pd.get_dummies(categorical_data_test, prefix = categorical_col, prefix_sep = '_') # One-hot encoding the categorical values.\n",
    "numerical_col_test = data_test[['cap-diameter', 'stem-height', 'stem-width']]\n",
    "scaler = StandardScaler()\n",
    "numerical_col_scaled_test = scaler.fit_transform(numerical_col_test)\n",
    "numerical_data_test = pd.DataFrame(numerical_col_scaled_test, columns = numerical_col_test.columns)\n",
    "final_data_test = pd.concat([numerical_data_test, encoded_data_test], axis = 1)"
   ]
  },
  {
   "cell_type": "code",
   "execution_count": 21,
   "id": "4b4fe8d0",
   "metadata": {
    "id": "4b4fe8d0"
   },
   "outputs": [],
   "source": [
    "df_temp = pd.DataFrame({'zeros': [0] * (final_data_test.shape[0])})\n",
    "df_temp.loc[final_data_test.iloc[:,-2] == 1, 'zeros'] = 0\n",
    "df_temp.loc[final_data_test.iloc[:,-1] == 1, 'zeros'] = 1\n",
    "final_data_test = final_data_test.drop(final_data_test.columns[-2:], axis = 1)\n",
    "final_data_test_watch = pd.concat([final_data_test, df_temp], axis = 1)\n",
    "final_data_test_watch = final_data_test_watch.rename(columns={'<old_column_name>': 'label'})\n",
    "new_data_test_watch= final_data_test.reset_index()\n",
    "new_data_test_watch.rename(columns = {'index': 'index_column'}, inplace = True)\n",
    "new_data_test_watch = pd.concat([new_data_test_watch, df_temp], axis = 1)\n",
    "new_data_test_watch.reset_index(inplace = True)\n",
    "new_data_test_watch.rename(columns = {'index': 'index_column'}, inplace = True)"
   ]
  },
  {
   "cell_type": "markdown",
   "id": "GPnK2U0Z6DDG",
   "metadata": {
    "id": "GPnK2U0Z6DDG"
   },
   "source": [
    "**Adding new features to the testing dataset**"
   ]
  },
  {
   "cell_type": "code",
   "execution_count": 22,
   "id": "778f003b",
   "metadata": {
    "id": "778f003b"
   },
   "outputs": [],
   "source": [
    "selected_rows_shape_m_test = new_data_test_watch[new_data_test_watch['ring-type_m'] == 1]\n",
    "selected_data_m_test = pd.DataFrame(selected_rows_shape_m_test, columns = new_data_test_watch.columns)\n",
    "selected_data_m_test = new_data_test_watch.loc[new_data_test_watch['ring-type_m'] == 1].copy()\n",
    "\n",
    "stem_width_min_test = selected_data_m_test['stem-width'].min()\n",
    "stem_width_max_test = selected_data_m_test['stem-width'].max()\n",
    "stem_width_mean_test = selected_data_m_test['stem-width'].mean()\n",
    "selected_data_m_test['stem_width_ring_type_m_min'] = stem_width_min_test\n",
    "selected_data_m_test['stem_width_ring_type_m_max'] = stem_width_max_test\n",
    "selected_data_m_test['stem_width_ring_type_m_mean'] = stem_width_mean_test\n",
    "\n",
    "selected_data_m_test = selected_data_m_test.rename(columns = {'zeros': 'label1'})\n",
    "selected_data_m_test = selected_data_m_test.loc[:, ~selected_data_m_test.columns.duplicated()]\n",
    "selected_data_m_test = selected_data_m_test[['index_column', 'stem_width_ring_type_m_min', 'stem_width_ring_type_m_max', 'stem_width_ring_type_m_mean', 'label1']]"
   ]
  },
  {
   "cell_type": "code",
   "execution_count": 23,
   "id": "325228ce",
   "metadata": {
    "id": "325228ce"
   },
   "outputs": [],
   "source": [
    "selected_rows_shape_p_test = new_data_test_watch[new_data_test_watch['gill-attachment_p'] == 1]\n",
    "selected_data_test = pd.DataFrame(selected_rows_shape_p_test, columns = new_data_test_watch.columns)\n",
    "selected_data_p_test = new_data_test_watch.loc[new_data_test_watch['gill-attachment_p'] == 1].copy()\n",
    "\n",
    "stem_width_min_test = selected_data_p_test['stem-width'].min()\n",
    "stem_width_max_test = selected_data_p_test['stem-width'].max()\n",
    "stem_width_mean_test = selected_data_p_test['stem-width'].mean()\n",
    "selected_data_p_test['stem_width_gill_attachment_p_min'] = stem_width_min\n",
    "selected_data_p_test['stem_width_gill_attachment_p_max'] = stem_width_max\n",
    "selected_data_p_test['stem_width_gill_attachment_p_mean'] = stem_width_mean\n",
    "\n",
    "selected_data_p_test = selected_data_p_test.rename(columns = {'zeros': 'label2'})\n",
    "selected_data_p_test = selected_data_p_test.loc[:, ~selected_data_p_test.columns.duplicated()]\n",
    "selected_data_p_test = selected_data_p_test[['index_column', 'stem_width_gill_attachment_p_min', 'stem_width_gill_attachment_p_max', 'stem_width_gill_attachment_p_mean', 'label2']]"
   ]
  },
  {
   "cell_type": "code",
   "execution_count": 24,
   "id": "6ba7f616",
   "metadata": {
    "id": "6ba7f616"
   },
   "outputs": [],
   "source": [
    "selected_rows_shape_f_test = new_data_test_watch[new_data_test_watch['ring-type_f'] == 1]\n",
    "selected_data_test = pd.DataFrame(selected_rows_shape_f_test, columns = new_data_test_watch.columns)\n",
    "selected_data_f_test = new_data_test_watch.loc[new_data_test_watch['ring-type_f'] == 1].copy()\n",
    "\n",
    "stem_height_min_test = selected_data_f_test['stem-height'].min()\n",
    "stem_height_max_test = selected_data_f_test['stem-height'].max()\n",
    "stem_height_mean_test = selected_data_f_test['stem-height'].mean()\n",
    "selected_data_f_test['stem_height_ring_type_f_min'] = stem_height_min_test\n",
    "selected_data_f_test['stem_height_ring_type_f_max'] = stem_height_max_test\n",
    "selected_data_f_test['stem_height_ring_type_f_mean'] = stem_height_mean_test\n",
    "\n",
    "selected_data_f_test = selected_data_f_test.rename(columns = {'zeros': 'label3'})\n",
    "selected_data_f_test = selected_data_f_test.loc[:, ~selected_data_f_test.columns.duplicated()]\n",
    "selected_data_f_test = selected_data_f_test[['index_column', 'stem_height_ring_type_f_min', 'stem_height_ring_type_f_max', 'stem_height_ring_type_f_mean', 'label3']]"
   ]
  },
  {
   "cell_type": "code",
   "execution_count": 25,
   "id": "096d2fba",
   "metadata": {
    "id": "096d2fba"
   },
   "outputs": [],
   "source": [
    "selected_rows_shape_o_test = new_data_test_watch[new_data_test_watch['gill-color_o'] == 1]\n",
    "selected_data_test = pd.DataFrame(selected_rows_shape_o_test, columns = new_data_test_watch.columns)\n",
    "selected_data_o_test = new_data_test_watch.loc[new_data_test_watch['gill-color_o'] == 1].copy()\n",
    "\n",
    "stem_width_min_test = selected_data_o_test['stem-width'].min()\n",
    "stem_width_max_test = selected_data_o_test['stem-width'].max()\n",
    "stem_width_mean_test = selected_data_o_test['stem-width'].mean()\n",
    "selected_data_o_test['stem_width_gill_color_o_min'] = stem_width_min_test\n",
    "selected_data_o_test['stem_width_gill_color_o_max'] = stem_width_max_test\n",
    "selected_data_o_test['stem_width_gill_color_o_mean'] = stem_width_mean_test\n",
    "\n",
    "selected_data_o_test = selected_data_o_test.rename(columns = {'zeros': 'label4'})\n",
    "selected_data_o_test = selected_data_o_test.loc[:, ~selected_data_o_test.columns.duplicated()]\n",
    "selected_data_o_test = selected_data_o_test[['index_column', 'stem_width_gill_color_o_min', 'stem_width_gill_color_o_max', 'stem_width_gill_color_o_mean', 'label4']]"
   ]
  },
  {
   "cell_type": "code",
   "execution_count": 26,
   "id": "fa253e28",
   "metadata": {
    "id": "fa253e28"
   },
   "outputs": [],
   "source": [
    "selected_rows_shape_e_test = new_data_test_watch[new_data_test_watch['cap-color_e'] == 1]\n",
    "selected_data_test = pd.DataFrame(selected_rows_shape_e_test, columns = new_data_test_watch.columns)\n",
    "selected_data_e_test = new_data_test_watch.loc[new_data_test_watch['cap-color_e'] == 1].copy()\n",
    "\n",
    "cap_diameter_min_test = selected_data_e_test['cap-diameter'].min()\n",
    "cap_diameter_max_test = selected_data_e_test['cap-diameter'].max()\n",
    "cap_diameter_mean_test = selected_data_e_test['cap-diameter'].mean()\n",
    "selected_data_e_test['cap_diameter_cap_color_e_min'] = cap_diameter_min_test\n",
    "selected_data_e_test['cap_diameter_cap_color_e_max'] = cap_diameter_max_test\n",
    "selected_data_e_test['cap_diameter_cap_color_e_mean'] = cap_diameter_mean_test\n",
    "\n",
    "selected_data_e_test = selected_data_e_test.rename(columns = {'zeros': 'label5'})\n",
    "selected_data_e_test = selected_data_e_test.loc[:, ~selected_data_e_test.columns.duplicated()]\n",
    "selected_data_e_test = selected_data_e_test[['index_column', 'cap_diameter_cap_color_e_min', 'cap_diameter_cap_color_e_max', 'cap_diameter_cap_color_e_mean', 'label5']]"
   ]
  },
  {
   "cell_type": "code",
   "execution_count": 27,
   "id": "5b3c4596",
   "metadata": {
    "id": "5b3c4596"
   },
   "outputs": [],
   "source": [
    "selected_rows_shape_p_only_test = new_data_test_watch[new_data_test_watch['cap-shape_p'] == 1]\n",
    "selected_data_test = pd.DataFrame(selected_rows_shape_p_only_test, columns = new_data_test_watch.columns)\n",
    "selected_data_p_only_test = new_data_test_watch.loc[new_data_test_watch['cap-shape_p'] == 1].copy()\n",
    "\n",
    "cap_diameter_min_test = selected_data_p_only_test['cap-diameter'].min()\n",
    "cap_diameter_max_test = selected_data_p_only_test['cap-diameter'].max()\n",
    "cap_diameter_mean_test = selected_data_p_only_test['cap-diameter'].mean()\n",
    "selected_data_p_only_test['cap_diameter_p_min'] = cap_diameter_min_test\n",
    "selected_data_p_only_test['cap_diameter_p_max'] = cap_diameter_max_test\n",
    "selected_data_p_only_test['cap_diameter_p_mean'] = cap_diameter_mean_test\n",
    "\n",
    "selected_data_p_only_test = selected_data_p_only_test.rename(columns = {'zeros': 'label6'})\n",
    "selected_data_p_only_test = selected_data_p_only_test.loc[:, ~selected_data_p_only_test.columns.duplicated()]\n",
    "selected_data_p_only_test = selected_data_p_only_test[['index_column', 'cap_diameter_p_min', 'cap_diameter_p_max', 'cap_diameter_p_mean', 'label6']]"
   ]
  },
  {
   "cell_type": "code",
   "execution_count": 28,
   "id": "b716910a",
   "metadata": {
    "id": "b716910a"
   },
   "outputs": [],
   "source": [
    "dataframes_test = [new_data_test_watch, selected_data_m_test, selected_data_p_test, selected_data_f_test, selected_data_o_test, selected_data_e_test, selected_data_p_only_test]\n",
    "concatenated_df_test = pd.concat(dataframes_test, axis = 1, join = 'outer')\n",
    "concatenated_df_test = concatenated_df_test.drop('index_column', axis = 1)"
   ]
  },
  {
   "cell_type": "code",
   "execution_count": 29,
   "id": "8faae7d6",
   "metadata": {
    "id": "8faae7d6"
   },
   "outputs": [],
   "source": [
    "concatenated_df_test['common_index'] = concatenated_df_test.index\n",
    "concatenated_df_test.fillna(0, inplace = True)\n",
    "concatenated_df_test.set_index('common_index', inplace = True)\n",
    "\n",
    "def has_label(row):\n",
    "    label_cols = ['label1', 'label2', 'label3', 'label4', 'label5', 'label6']\n",
    "    \n",
    "    for col in label_cols:\n",
    "        \n",
    "        if row[col] == 1:\n",
    "            return 1\n",
    "    return 0\n",
    "\n",
    "concatenated_df_test['label'] = concatenated_df_test.apply(has_label, axis = 1)\n",
    "concatenated_df_test = concatenated_df_test.drop(['label1', 'label2', 'label3', 'label4','label5','label6'], axis = 1)\n",
    "concatenated_df_test = concatenated_df_test.drop(['zeros'], axis = 1)\n",
    "last_column_test = concatenated_df_test.iloc[:, -1]\n",
    "last_column_test = concatenated_df_test.iloc[:, -1].reset_index(drop = True)"
   ]
  },
  {
   "cell_type": "code",
   "execution_count": 30,
   "id": "d9b79cb2",
   "metadata": {
    "colab": {
     "base_uri": "https://localhost:8080/"
    },
    "id": "d9b79cb2",
    "outputId": "853058ae-7e30-4418-caca-3ee700dc78a4"
   },
   "outputs": [
    {
     "name": "stdout",
     "output_type": "stream",
     "text": [
      "The final testing dataset-\n",
      "               stem-width  stem-height  cap-diameter  cap-color_n  \\\n",
      "common_index                                                       \n",
      "0               0.989005     0.323775      1.335793            0   \n",
      "1               2.393873    -0.055604      2.051180            1   \n",
      "2              -1.066850    -0.378668     -0.983626            1   \n",
      "3               1.422338    -0.420163      1.592885            1   \n",
      "4               0.720893     5.036366      1.710253            0   \n",
      "...                  ...          ...           ...          ...   \n",
      "18316          -0.422788     0.409728      0.089454            1   \n",
      "18317           2.589763     3.231355      2.710678            1   \n",
      "18318          -0.835344     0.566814     -0.769383            1   \n",
      "18319           0.978122     0.540139      1.484832            0   \n",
      "18320          -0.765100    -0.239365     -0.588673            1   \n",
      "\n",
      "              cap_diameter_p_max  cap-shape_x  gill-attachment_a  season_a  \\\n",
      "common_index                                                                 \n",
      "0                       0.000000            0                  0         1   \n",
      "1                       0.000000            0                  0         0   \n",
      "2                       0.000000            1                  1         0   \n",
      "3                       0.000000            1                  0         1   \n",
      "4                       4.501009            0                  1         1   \n",
      "...                          ...          ...                ...       ...   \n",
      "18316                   0.000000            1                  1         1   \n",
      "18317                   0.000000            1                  0         1   \n",
      "18318                   0.000000            0                  1         0   \n",
      "18319                   0.000000            0                  0         1   \n",
      "18320                   0.000000            0                  1         1   \n",
      "\n",
      "              stem-color_w  stem_height_ring_type_f_max  gill-color_w  \n",
      "common_index                                                           \n",
      "0                        1                     5.756592             1  \n",
      "1                        0                     5.756592             0  \n",
      "2                        0                     5.756592             0  \n",
      "3                        0                     5.756592             0  \n",
      "4                        0                     0.000000             1  \n",
      "...                    ...                          ...           ...  \n",
      "18316                    0                     0.000000             0  \n",
      "18317                    1                     5.756592             0  \n",
      "18318                    0                     5.756592             0  \n",
      "18319                    0                     5.756592             0  \n",
      "18320                    1                     5.756592             0  \n",
      "\n",
      "[18321 rows x 11 columns]\n"
     ]
    }
   ],
   "source": [
    "# Extracting the indices of the columns in top PCA features training dataset to append to the testing dataset:\n",
    "top_feature_indices_test = [concatenated_df_test.columns.get_loc(feature) for feature in top_features[:pca.n_components]]\n",
    "top_features_data_test = concatenated_df_test.iloc[:, top_feature_indices_test]\n",
    "print(\"The final testing dataset-\\n\", top_features_data_test)"
   ]
  },
  {
   "cell_type": "code",
   "execution_count": 31,
   "id": "CK6bS6xiQjhV",
   "metadata": {
    "id": "CK6bS6xiQjhV"
   },
   "outputs": [],
   "source": [
    "# Defining the X & y training components: \n",
    "X_train = top_features_data_train\n",
    "true_labels = label_column_train\n",
    "# Defining the X & y testing components:\n",
    "X_test = top_features_data_test\n",
    "y_test = pd.DataFrame(last_column_test)\n",
    "y_test = y_test['label'].values\n",
    "X_train_v, X_val, y_train, y_val = train_test_split(X_train, true_labels, test_size = 0.2, random_state = 42) # Splitting the training dataset into validation set (80/20).\n",
    "k = 5"
   ]
  },
  {
   "cell_type": "markdown",
   "id": "-KJIYXTQ8nuf",
   "metadata": {
    "id": "-KJIYXTQ8nuf"
   },
   "source": [
    "**Logistic Regression on PCA reduced dataset**"
   ]
  },
  {
   "cell_type": "code",
   "execution_count": 32,
   "id": "c3099ddf",
   "metadata": {
    "colab": {
     "base_uri": "https://localhost:8080/"
    },
    "id": "c3099ddf",
    "outputId": "1e352961-7252-4128-fc60-47e133b93243"
   },
   "outputs": [
    {
     "name": "stdout",
     "output_type": "stream",
     "text": [
      "The validation accuracy of logistic regression = 68.05847953216374%\n",
      "The training accuracy of logistic regression = 68.67653079127435%\n",
      "The test accuracy of random forest = 67.96572239506577%\n",
      "\n",
      "               precision    recall  f1-score   support\n",
      "\n",
      "           0       0.72      0.62      0.67      9448\n",
      "           1       0.65      0.74      0.69      8873\n",
      "\n",
      "    accuracy                           0.68     18321\n",
      "   macro avg       0.68      0.68      0.68     18321\n",
      "weighted avg       0.68      0.68      0.68     18321\n",
      "\n",
      "[[5896 3552]\n",
      " [2317 6556]]\n",
      "The F1-score of Logistic Regression = 67.88783064740669%\n"
     ]
    }
   ],
   "source": [
    "# Performing Logistic Regression on the final dataframes:\n",
    "logreg = LogisticRegression(max_iter = 1000)\n",
    "scores = cross_val_score(logreg, X_train_v, y_train, cv = k)\n",
    "logreg.fit(X_train_v, y_train)\n",
    "val_accuracy = logreg.score(X_val, y_val)\n",
    "train_accuracy = logreg.score(X_train_v, y_train)\n",
    "print(f\"The validation accuracy of logistic regression = {val_accuracy * 100}%\")\n",
    "print(f\"The training accuracy of logistic regression = {train_accuracy * 100}%\")\n",
    "\n",
    "predicted_labels_logregnew = logreg.predict(X_test)\n",
    "print(f\"The test accuracy of random forest = {accuracy_score(predicted_labels_logregnew, y_test) * 100}%\")\n",
    "print('\\n', classification_report(y_test, predicted_labels_logregnew))\n",
    "\n",
    "conf_mat = confusion_matrix(y_test, predicted_labels_logregnew)\n",
    "\n",
    "print(conf_mat)\n",
    "f1score_lognew = f1_score(y_test, predicted_labels_logregnew, average='weighted')\n",
    "print(f\"The F1-score of Logistic Regression = {f1score_lognew * 100}%\")"
   ]
  },
  {
   "cell_type": "markdown",
   "id": "5y7JRXfK9qLn",
   "metadata": {
    "id": "5y7JRXfK9qLn"
   },
   "source": [
    "**Random Forest Classifier on PCA reduced dataset**"
   ]
  },
  {
   "cell_type": "code",
   "execution_count": 33,
   "id": "UREjQaXtXSGq",
   "metadata": {
    "colab": {
     "base_uri": "https://localhost:8080/"
    },
    "id": "UREjQaXtXSGq",
    "outputId": "c73a6df4-26ac-4918-e990-784e1513eba4"
   },
   "outputs": [
    {
     "name": "stdout",
     "output_type": "stream",
     "text": [
      "The validation accuracy of random forest classifier = 94.29239766081872%\n",
      "The training accuracy of random forest classifier = 100.0%\n",
      "The test accuracy of random forest = 94.30162109055182%\n",
      "\n",
      "               precision    recall  f1-score   support\n",
      "\n",
      "           0       0.94      0.95      0.94      9448\n",
      "           1       0.94      0.94      0.94      8873\n",
      "\n",
      "    accuracy                           0.94     18321\n",
      "   macro avg       0.94      0.94      0.94     18321\n",
      "weighted avg       0.94      0.94      0.94     18321\n",
      "\n",
      "[[8936  512]\n",
      " [ 532 8341]]\n",
      "The F1-score of random forest = 94.30141885465977%\n"
     ]
    }
   ],
   "source": [
    "rf = RandomForestClassifier()\n",
    "scores_rf = cross_val_score(rf, X_train_v, y_train, cv = k)\n",
    "rf.fit(X_train_v, y_train)\n",
    "val_accuracy_rf = rf.score(X_val, y_val)\n",
    "train_accuracy_rf = rf.score(X_train_v, y_train)\n",
    "print(f\"The validation accuracy of random forest classifier = {val_accuracy_rf * 100}%\")\n",
    "print(f\"The training accuracy of random forest classifier = {train_accuracy_rf * 100}%\")\n",
    "\n",
    "predicted_labels_rfnew = rf.predict(X_test)\n",
    "print(f\"The test accuracy of random forest = {accuracy_score(predicted_labels_rfnew, y_test) * 100}%\")\n",
    "print('\\n', classification_report(y_test, predicted_labels_rfnew))\n",
    "\n",
    "conf_mat = confusion_matrix(y_test, predicted_labels_rfnew)\n",
    "\n",
    "print(conf_mat)\n",
    "f1score_rfnew = f1_score(y_test, predicted_labels_rfnew, average='weighted')\n",
    "print(f\"The F1-score of random forest = {f1score_rfnew * 100}%\")"
   ]
  },
  {
   "cell_type": "markdown",
   "id": "B4tI8N_QCtxj",
   "metadata": {
    "id": "B4tI8N_QCtxj"
   },
   "source": [
    "**Support Vector Machine on PCA reduced dataset**"
   ]
  },
  {
   "cell_type": "code",
   "execution_count": 34,
   "id": "dQf2qSWuVBjj",
   "metadata": {
    "colab": {
     "base_uri": "https://localhost:8080/",
     "height": 698
    },
    "id": "dQf2qSWuVBjj",
    "outputId": "0922690d-178f-4748-b8d1-d859bd5a4438"
   },
   "outputs": [
    {
     "name": "stdout",
     "output_type": "stream",
     "text": [
      "The validation accuracy of support vector machine =  93.54385964912281%\n",
      "The training accuracy of support vector machine = 94.40318147260074%\n",
      "[[4181  315]\n",
      " [ 237 3817]]\n",
      "The test accuracy of support vector machine = 93.06260575296108%\n",
      "\n",
      "               precision    recall  f1-score   support\n",
      "\n",
      "           0       0.93      0.94      0.93      9448\n",
      "           1       0.94      0.92      0.93      8873\n",
      "\n",
      "    accuracy                           0.93     18321\n",
      "   macro avg       0.93      0.93      0.93     18321\n",
      "weighted avg       0.93      0.93      0.93     18321\n",
      "\n"
     ]
    },
    {
     "data": {
      "image/png": "[encoded data removed]",
      "text/plain": [
       "<Figure size 640x480 with 2 Axes>"
      ]
     },
     "metadata": {},
     "output_type": "display_data"
    },
    {
     "name": "stdout",
     "output_type": "stream",
     "text": [
      "The test accuracy of random forest = 93.06260575296108%\n",
      "\n",
      "               precision    recall  f1-score   support\n",
      "\n",
      "           0       0.93      0.94      0.93      9448\n",
      "           1       0.94      0.92      0.93      8873\n",
      "\n",
      "    accuracy                           0.93     18321\n",
      "   macro avg       0.93      0.93      0.93     18321\n",
      "weighted avg       0.93      0.93      0.93     18321\n",
      "\n",
      "[[8887  561]\n",
      " [ 710 8163]]\n",
      "The F1-score of SVM= 93.06037268675416%\n"
     ]
    }
   ],
   "source": [
    "# Performing SVM on the final dataframes:\n",
    "svm = SVC(kernel='rbf', C=1, gamma=3,random_state=42)\n",
    "scores_svm = cross_val_score(svm, X_train_v, y_train, cv=k)\n",
    "svm.fit(X_train_v, y_train)\n",
    "val_accuracy_svm = svm.score(X_val, y_val)\n",
    "train_accuracy_svm = svm.score(X_train_v, y_train)\n",
    "print(f\"The validation accuracy of support vector machine =  {val_accuracy_svm * 100}%\")\n",
    "print(f\"The training accuracy of support vector machine = {train_accuracy_svm * 100}%\")\n",
    "\n",
    "predicted_labels_svm = svm.predict(X_val)\n",
    "\n",
    "\n",
    "conf_mat = confusion_matrix(y_val, predicted_labels_svm)\n",
    "\n",
    "print(conf_mat)\n",
    "\n",
    "predicted_labels_svm = svm.predict(X_test)\n",
    "print(f\"The test accuracy of support vector machine = {accuracy_score(predicted_labels_svm, y_test) * 100}%\")\n",
    "print('\\n', classification_report(y_test, predicted_labels_svm))\n",
    "conf_mat = confusion_matrix(y_test, predicted_labels_svm)\n",
    "sns.heatmap(conf_mat, annot=True, fmt='d', cmap='cool', xticklabels=['p', 'e'], yticklabels=['p', 'e'])\n",
    "plt.title(\"Confusion matrix\")\n",
    "plt.xlabel(\"Predicted labels\")\n",
    "plt.ylabel(\"True labels\")\n",
    "plt.show()\n",
    "\n",
    "\n",
    "predicted_labels_svmnew = svm.predict(X_test)\n",
    "print(f\"The test accuracy of random forest = {accuracy_score(predicted_labels_svmnew, y_test) * 100}%\")\n",
    "print('\\n', classification_report(y_test, predicted_labels_svmnew))\n",
    "# Calculate confusion matrix for the validation set:\n",
    "conf_mat = confusion_matrix(y_test, predicted_labels_svmnew)\n",
    "print(conf_mat)\n",
    "\n",
    "f1score_svmnew = f1_score(y_test, predicted_labels_svmnew, average='weighted')\n",
    "print(f\"The F1-score of SVM= {f1score_svmnew * 100}%\")"
   ]
  },
  {
   "cell_type": "markdown",
   "id": "1BhQWxpHJ0HV",
   "metadata": {
    "id": "1BhQWxpHJ0HV"
   },
   "source": [
    "**Naive Bayes on PCA data**"
   ]
  },
  {
   "cell_type": "code",
   "execution_count": 35,
   "id": "gFYyyAR6ISiO",
   "metadata": {
    "colab": {
     "base_uri": "https://localhost:8080/"
    },
    "id": "gFYyyAR6ISiO",
    "outputId": "01360973-10a6-4e33-d736-1c83240d2314"
   },
   "outputs": [
    {
     "name": "stdout",
     "output_type": "stream",
     "text": [
      "The validation accuracy of naive bayes classifier = 62.69005847953216%\n",
      "The training accuracy of naive bayes classifier = 63.98034972805428%\n",
      "[[2126 2370]\n",
      " [ 820 3234]]\n",
      "The test accuracy of random forest = 64.07947164456088%\n",
      "\n",
      "               precision    recall  f1-score   support\n",
      "\n",
      "           0       0.73      0.48      0.58      9448\n",
      "           1       0.59      0.81      0.69      8873\n",
      "\n",
      "    accuracy                           0.64     18321\n",
      "   macro avg       0.66      0.65      0.63     18321\n",
      "weighted avg       0.67      0.64      0.63     18321\n",
      "\n",
      "[[4527 4921]\n",
      " [1660 7213]]\n",
      "The F1-score of random forest = 63.12153320170004%\n"
     ]
    }
   ],
   "source": [
    "bayes = GaussianNB()\n",
    "scores_bayes = cross_val_score(bayes, X_train_v, y_train, cv = k)\n",
    "bayes.fit(X_train_v, y_train)\n",
    "val_accuracy_bayes = bayes.score(X_val, y_val)\n",
    "train_accuracy_bayes = bayes.score(X_train_v, y_train)\n",
    "print(f\"The validation accuracy of naive bayes classifier = {val_accuracy_bayes * 100}%\")\n",
    "print(f\"The training accuracy of naive bayes classifier = {train_accuracy_bayes * 100}%\")\n",
    "predicted_labels_bayes = bayes.predict(X_val)\n",
    "\n",
    "conf_mat = confusion_matrix(y_val, predicted_labels_bayes)\n",
    "\n",
    "print(conf_mat)\n",
    "\n",
    "\n",
    "predicted_labels_bayesnew = bayes.predict(X_test)\n",
    "print(f\"The test accuracy of random forest = {accuracy_score(predicted_labels_bayesnew, y_test) * 100}%\")\n",
    "print('\\n', classification_report(y_test, predicted_labels_bayesnew))\n",
    "\n",
    "conf_mat = confusion_matrix(y_test, predicted_labels_bayesnew)\n",
    "print(conf_mat)\n",
    "\n",
    "f1score_bayesnew = f1_score(y_test, predicted_labels_bayesnew, average='weighted')\n",
    "print(f\"The F1-score of random forest = {f1score_bayesnew * 100}%\")"
   ]
  },
  {
   "cell_type": "markdown",
   "id": "i3BYtykMipnh",
   "metadata": {
    "id": "i3BYtykMipnh"
   },
   "source": [
    "**MLP on PCA data**"
   ]
  },
  {
   "cell_type": "code",
   "execution_count": 36,
   "id": "LbVDsV424Z3n",
   "metadata": {
    "colab": {
     "base_uri": "https://localhost:8080/",
     "height": 561
    },
    "id": "LbVDsV424Z3n",
    "outputId": "2c9b2d52-e81b-4494-8c79-2d5ae3ce271e"
   },
   "outputs": [
    {
     "name": "stderr",
     "output_type": "stream",
     "text": [
      "C:\\Users\\Kranti\\AppData\\Local\\Temp\\ipykernel_33924\\3868489163.py:6: DeprecationWarning: KerasClassifier is deprecated, use Sci-Keras (https://github.com/adriangb/scikeras) instead. See https://www.adriangb.com/scikeras/stable/migration.html for help migrating.\n",
      "  keras_estimator = KerasClassifier(build_fn = model_mlp, epochs = 5, batch_size = 32, verbose = 0)\n"
     ]
    },
    {
     "name": "stdout",
     "output_type": "stream",
     "text": [
      "Training accuracy of the MLP = 86.55477166175842%\n",
      "Validation accuracy of the MLP = 86.23896479606628%\n"
     ]
    },
    {
     "data": {
      "image/png": "[encoded data removed]",
      "text/plain": [
       "<Figure size 640x480 with 1 Axes>"
      ]
     },
     "metadata": {},
     "output_type": "display_data"
    },
    {
     "name": "stdout",
     "output_type": "stream",
     "text": [
      "268/268 [==============================] - 0s 948us/step\n",
      "[[3883  613]\n",
      " [ 485 3569]]\n",
      "573/573 [==============================] - 1s 991us/step\n",
      "The test accuracy of random forest = 86.80203045685279%\n",
      "\n",
      "               precision    recall  f1-score   support\n",
      "\n",
      "           0       0.88      0.86      0.87      9448\n",
      "           1       0.86      0.87      0.87      8873\n",
      "\n",
      "    accuracy                           0.87     18321\n",
      "   macro avg       0.87      0.87      0.87     18321\n",
      "weighted avg       0.87      0.87      0.87     18321\n",
      "\n",
      "[[8146 1302]\n",
      " [1116 7757]]\n",
      "The F1-score of random forest = 86.80487666822559%\n"
     ]
    }
   ],
   "source": [
    "def model_mlp():\n",
    "  mlp = keras.models.Sequential([keras.layers.Dense(64, activation = 'relu', input_shape = (X_train.shape[1],)), keras.layers.Dense(32, activation = 'relu'), keras.layers.Dense(1, activation = 'sigmoid')])\n",
    "  mlp.compile(loss = 'binary_crossentropy', optimizer = 'adam', metrics = ['accuracy'])\n",
    "  return mlp\n",
    "\n",
    "keras_estimator = KerasClassifier(build_fn = model_mlp, epochs = 5, batch_size = 32, verbose = 0)\n",
    "cv_scores = cross_val_score(keras_estimator, X_train_v, y_train, cv = k)\n",
    "model_train = model_mlp()\n",
    "hist = model_train.fit(X_train_v, y_train, epochs = 5, batch_size = 32, verbose = 0)\n",
    "training_acc = hist.history['accuracy']\n",
    "print(f\"Training accuracy of the MLP = {training_acc[-1] * 100}%\")\n",
    "print(f\"Validation accuracy of the MLP = {cv_scores.mean() * 100}%\")\n",
    "\n",
    "plt.plot(range(1, 6), cv_scores * 100, label = \"Validation accuracy\")\n",
    "plt.plot(range(1, 6), np.array(training_acc) * 100, label = \"Training accuracy\")\n",
    "plt.title(\"MLP accuracy over epochs\")\n",
    "plt.ylabel('Accuracy(%)')\n",
    "plt.xlabel('Epochs')\n",
    "plt.legend()\n",
    "plt.show()\n",
    "\n",
    "predicted_scores_mlp = model_train.predict(X_val)\n",
    "predicted_labels_mlp = np.round(predicted_scores_mlp)\n",
    "\n",
    "conf_mat = confusion_matrix(y_val, predicted_labels_mlp)\n",
    "print(conf_mat)\n",
    "\n",
    "predicted_labels_mlpnew = model_train.predict(X_test)\n",
    "predicted_labels_mlpnew = np.round(predicted_labels_mlpnew)\n",
    "print(f\"The test accuracy of random forest = {accuracy_score(predicted_labels_mlpnew, y_test) * 100}%\")\n",
    "print('\\n', classification_report(y_test, predicted_labels_mlpnew))\n",
    "\n",
    "conf_mat = confusion_matrix(y_test, predicted_labels_mlpnew)\n",
    "print(conf_mat)\n",
    "\n",
    "f1score_mlpnew = f1_score(y_test, predicted_labels_mlpnew, average='weighted')\n",
    "print(f\"The F1-score of random forest = {f1score_mlpnew * 100}%\")"
   ]
  },
  {
   "cell_type": "code",
   "execution_count": 37,
   "id": "ZUAVGt0_MazY",
   "metadata": {
    "colab": {
     "base_uri": "https://localhost:8080/",
     "height": 472
    },
    "id": "ZUAVGt0_MazY",
    "outputId": "c5f21dea-3d0d-4ef0-fe08-9141bf989a8e"
   },
   "outputs": [
    {
     "data": {
      "image/png": "[encoded data removed]",
      "text/plain": [
       "<Figure size 640x480 with 1 Axes>"
      ]
     },
     "metadata": {},
     "output_type": "display_data"
    }
   ],
   "source": [
    "model = model_mlp()\n",
    "checkpoint = ModelCheckpoint('best_weights.h5', save_best_only = True, save_weights_only = True, monitor = 'val_loss', mode = 'min')\n",
    "hist_loss = model.fit(X_train_v, y_train, epochs = 5, batch_size = 32, verbose = 0, validation_data=(X_val, y_val), callbacks = [checkpoint])\n",
    "model.load_weights('best_weights.h5')\n",
    "losses = model.history.history['loss']\n",
    "\n",
    "plt.plot(hist_loss.history['loss'], label = 'Training loss')\n",
    "plt.plot(hist_loss.history['val_loss'], label = 'Validation loss')\n",
    "plt.title(\"Loss curve\")\n",
    "plt.xlabel('Epochs')\n",
    "plt.ylabel('Loss')\n",
    "plt.legend()\n",
    "plt.show()"
   ]
  },
  {
   "cell_type": "markdown",
   "id": "qlZHCpTDPrkX",
   "metadata": {
    "id": "qlZHCpTDPrkX"
   },
   "source": [
    "# **Univariate Feature Selection**"
   ]
  },
  {
   "cell_type": "code",
   "execution_count": 38,
   "id": "GueWPjyKPr6m",
   "metadata": {
    "id": "GueWPjyKPr6m"
   },
   "outputs": [],
   "source": [
    "del concatenated_df_test['label']\n",
    "del concatenated_df_train['label']\n",
    "ufs = SelectKBest(score_func = chi2, k = 7)\n",
    "ufs.fit(abs(concatenated_df_train), label_column_train)\n",
    "X_train_selected = ufs.transform(concatenated_df_train)\n",
    "X_test_selected = ufs.transform(concatenated_df_test)\n",
    "X_train_v, X_val, y_train, y_val = train_test_split(X_train_selected, label_column_train, test_size = 0.2, random_state = 42) # Splitting the training dataset into validation set (80/20).\n",
    "k = 5\n",
    "kf = KFold(n_splits = k, shuffle = True, random_state = 42)"
   ]
  },
  {
   "cell_type": "code",
   "execution_count": 39,
   "id": "13ef4a82",
   "metadata": {
    "colab": {
     "base_uri": "https://localhost:8080/",
     "height": 715
    },
    "id": "13ef4a82",
    "outputId": "8c455fb6-4814-4e9a-b338-b1709e5a8f88"
   },
   "outputs": [
    {
     "data": {
      "image/png": "[encoded data removed]",
      "text/plain": [
       "<Figure size 640x480 with 1 Axes>"
      ]
     },
     "metadata": {},
     "output_type": "display_data"
    }
   ],
   "source": [
    "ufs = SelectKBest(score_func = chi2, k = 20)\n",
    "ufs.fit(abs(concatenated_df_train), label_column_train)\n",
    "chi_scores = ufs.scores_\n",
    "feature_names = concatenated_df_train.columns\n",
    "sorted_idx = np.argsort(chi_scores)[::-1][:20]\n",
    "\n",
    "plt.figure()\n",
    "plt.bar(range(20), chi_scores[sorted_idx])\n",
    "plt.xticks(range(20), feature_names[sorted_idx], rotation=90)\n",
    "plt.xlabel('Features')\n",
    "plt.ylabel('Chi-squared score')\n",
    "plt.title(\"Chi-squared scores of top 20 features\")\n",
    "plt.show()"
   ]
  },
  {
   "cell_type": "markdown",
   "id": "A8Hh-BKGVJdE",
   "metadata": {
    "id": "A8Hh-BKGVJdE"
   },
   "source": [
    "**Logistic Regression on UFS data**"
   ]
  },
  {
   "cell_type": "code",
   "execution_count": 40,
   "id": "1c6f3fff",
   "metadata": {
    "colab": {
     "base_uri": "https://localhost:8080/",
     "height": 819
    },
    "id": "1c6f3fff",
    "outputId": "a36b1ea8-d172-4d18-b128-fafc77efcd0d"
   },
   "outputs": [
    {
     "name": "stdout",
     "output_type": "stream",
     "text": [
      "Current fold- 1\n",
      "The validation accuracy of logistic regression = 71.39181286549707%\n",
      "The training accuracy of logistic regression = 72.59196444236505%\n",
      "+++++++++++++++++++++++++\n",
      "Current fold- 2\n",
      "The validation accuracy of logistic regression = 72.99415204678363%\n",
      "The training accuracy of logistic regression = 72.19135621966197%\n",
      "+++++++++++++++++++++++++\n",
      "Current fold- 3\n",
      "The validation accuracy of logistic regression = 73.46198830409357%\n",
      "The training accuracy of logistic regression = 73.06567635534242%\n",
      "+++++++++++++++++++++++++\n",
      "Current fold- 4\n",
      "The validation accuracy of logistic regression = 72.67516668616213%\n",
      "The training accuracy of logistic regression = 72.27111903856837%\n",
      "+++++++++++++++++++++++++\n",
      "Current fold- 5\n",
      "The validation accuracy of logistic regression = 71.98502748859515%\n",
      "The training accuracy of logistic regression = 72.44363870288605%\n",
      "+++++++++++++++++++++++++\n"
     ]
    },
    {
     "data": {
      "image/png": "[encoded data removed]",
      "text/plain": [
       "<Figure size 640x480 with 1 Axes>"
      ]
     },
     "metadata": {},
     "output_type": "display_data"
    },
    {
     "name": "stdout",
     "output_type": "stream",
     "text": [
      "The test accuracy of random forest classifier = 70.34004694066918%\n",
      "\n",
      "               precision    recall  f1-score   support\n",
      "\n",
      "           0       0.77      0.61      0.68      9448\n",
      "           1       0.66      0.80      0.72      8873\n",
      "\n",
      "    accuracy                           0.70     18321\n",
      "   macro avg       0.71      0.71      0.70     18321\n",
      "weighted avg       0.71      0.70      0.70     18321\n",
      "\n",
      "[[5773 3675]\n",
      " [1759 7114]]\n",
      "The F1-score of Logistic Regression = 70.11178717647073%\n"
     ]
    }
   ],
   "source": [
    "val_acc_list = []\n",
    "train_acc_list = []\n",
    "\n",
    "for fold, (train_index, val_index) in enumerate(kf.split(X_train_selected)):\n",
    "    print(f\"Current fold- {fold + 1}\")\n",
    "    X_train_v, X_val = X_train_selected[train_index], X_train_selected[val_index]\n",
    "    y_train, y_val = label_column_train[train_index], label_column_train[val_index]\n",
    "    lr = LogisticRegression()\n",
    "    lr.fit(X_train_v, y_train)\n",
    "    val_accuracy = lr.score(X_val, y_val)\n",
    "    train_accuracy = lr.score(X_train_v, y_train)\n",
    "    val_acc_list.append(val_accuracy)\n",
    "    train_acc_list.append(train_accuracy)\n",
    "    print(f\"The validation accuracy of logistic regression = {val_accuracy * 100}%\")\n",
    "    print(f\"The training accuracy of logistic regression = {train_accuracy * 100}%\")\n",
    "    print('+' * 25)\n",
    "\n",
    "epochs = np.arange(1, k + 1)\n",
    "plt.plot(epochs, np.array(val_acc_list) * 100, label = \"Validation accuracy\")\n",
    "plt.plot(epochs, np.array(train_acc_list) * 100, label = \"Training accuracy\")\n",
    "plt.xlabel('Epochs')\n",
    "plt.ylabel('Accuracy(%)')\n",
    "plt.title(\"Logistic Regression accuracy over epochs\")\n",
    "plt.legend()\n",
    "plt.show()\n",
    "\n",
    "predicted_labels_logreg_ufs = lr.predict(X_test_selected)\n",
    "accuracy_logreg_ufs = accuracy_score(predicted_labels_logreg_ufs, last_column_test)\n",
    "print(f\"The test accuracy of random forest classifier = {accuracy_logreg_ufs * 100}%\")\n",
    "print('\\n', classification_report(last_column_test, predicted_labels_logreg_ufs))\n",
    "\n",
    "conf_mat = confusion_matrix(last_column_test, predicted_labels_logreg_ufs)\n",
    "print(conf_mat)\n",
    "\n",
    "f1score_lognew = f1_score(y_test, predicted_labels_logreg_ufs, average='weighted')\n",
    "print(f\"The F1-score of Logistic Regression = {f1score_lognew * 100}%\")"
   ]
  },
  {
   "cell_type": "markdown",
   "id": "rqrgu3UTVjXV",
   "metadata": {
    "id": "rqrgu3UTVjXV"
   },
   "source": [
    "**Support Vector Machine on UFS data**"
   ]
  },
  {
   "cell_type": "code",
   "execution_count": null,
   "id": "ab575923",
   "metadata": {
    "colab": {
     "base_uri": "https://localhost:8080/",
     "height": 507
    },
    "id": "ab575923",
    "outputId": "89512fdd-49b3-4e97-88ee-2eb146eb26a4"
   },
   "outputs": [
    {
     "name": "stdout",
     "output_type": "stream",
     "text": [
      "The training accuracy of support vector machine = 73.95433710122595%\n",
      "The validation accuracy of support vector machine = 73.95433794452208%\n"
     ]
    },
    {
     "data": {
      "image/png": "[encoded data removed]",
      "text/plain": [
       "<Figure size 640x480 with 1 Axes>"
      ]
     },
     "metadata": {},
     "output_type": "display_data"
    }
   ],
   "source": [
    "svm_ufs = SVC(kernel = 'rbf', C = 1, gamma = 3)\n",
    "train_accs = []\n",
    "val_accs = []\n",
    "\n",
    "for train_index, val_index in kf.split(X_train_selected):\n",
    "    X_train, X_val = X_train_selected[train_index], X_train_selected[val_index]\n",
    "    y_train, y_val = label_column_train[train_index], label_column_train[val_index]\n",
    "    svm_ufs.fit(X_train, y_train)\n",
    "    train_accuracy_svm = svm_ufs.score(X_train, y_train)\n",
    "    train_accs.append(train_accuracy_svm)\n",
    "    val_accuracy_ufs = svm_ufs.score(X_val, y_val)\n",
    "    val_accs.append(val_accuracy_ufs)\n",
    "    \n",
    "print(f\"The training accuracy of support vector machine = {np.mean(train_accs) * 100}%\")\n",
    "print(f\"The validation accuracy of support vector machine = {np.mean(val_accs) * 100}%\")\n",
    "\n",
    "plt.plot(np.array(train_accs) * 100, label = \"Training accuracy\")\n",
    "plt.plot(np.array(val_accs) * 100, label = \"Validation accuracy\")\n",
    "plt.title(\"Support Vector Machine accuracy over epochs\")\n",
    "plt.xlabel('Epochs')\n",
    "plt.ylabel('Accuracy(%)')\n",
    "plt.legend()\n",
    "plt.show()\n",
    "\n",
    "predicted_labels_svm_ufs = svm_ufs.predict(X_test_selected)\n",
    "accuracy_svm_ufs = accuracy_score(predicted_labels_svm_ufs, last_column_test)\n",
    "print(f\"The test accuracy of support vector machine = {accuracy_svm_ufs * 100}%\")\n",
    "print('\\n', classification_report(last_column_test, predicted_labels_svm_ufs))\n",
    "\n",
    "# Calculate confusion matrix for the validation set\n",
    "conf_mat = confusion_matrix(last_column_test, predicted_labels_svm_ufs)\n",
    "# Print the confusion matrix\n",
    "print(conf_mat)\n",
    "\n",
    "\n",
    "f1score_svmnew = f1_score(y_test, predicted_labels_svm_ufs, average='weighted')\n",
    "print(f\"The F1-score of SVM = {f1score_svmnew * 100}%\")"
   ]
  },
  {
   "cell_type": "markdown",
   "id": "ZA6XjRDMJ7Kq",
   "metadata": {
    "id": "ZA6XjRDMJ7Kq"
   },
   "source": [
    "**Naive Bayes on UFS data**"
   ]
  },
  {
   "cell_type": "code",
   "execution_count": null,
   "id": "8cdb6c57",
   "metadata": {
    "colab": {
     "base_uri": "https://localhost:8080/",
     "height": 489
    },
    "id": "8cdb6c57",
    "outputId": "542b433c-af1a-4c00-fbc7-7f033828a669"
   },
   "outputs": [],
   "source": [
    "train_accs = []\n",
    "val_accs_nb = []\n",
    "\n",
    "for train_index, val_index in kf.split(X_train_selected):\n",
    "    X_train_fold, X_val_fold = X_train_selected[train_index], X_train_selected[val_index]\n",
    "    y_train_fold, y_val_fold = label_column_train[train_index], label_column_train[val_index]\n",
    "    bayes_ufs = GaussianNB()\n",
    "    bayes_ufs.fit(X_train_fold, y_train_fold)\n",
    "    train_acc = bayes_ufs.score(X_train_fold, y_train_fold) \n",
    "    val_acc = bayes_ufs.score(X_val_fold, y_val_fold)\n",
    "    train_accs.append(train_acc)\n",
    "    val_accs_nb.append(val_acc)\n",
    "    \n",
    "print(f\"Training accuracy = {np.mean(train_accs) * 100}% | Validation accuracy: {np.mean(val_accs_nb) * 100}%\")\n",
    "\n",
    "plt.plot(np.array(train_accs) * 100, label = \"Training accuracy\")\n",
    "plt.plot(np.array(val_accs_nb) * 100, label = \"Validation accuracy\")\n",
    "plt.xlabel('Epoch')\n",
    "plt.ylabel('Accuracy')\n",
    "plt.title(\"Gaussian Naive Bayes Classifier accuracy over epochs\")\n",
    "plt.legend()\n",
    "plt.show()\n",
    "\n",
    "predicted_labels_bayes_ufs = bayes_ufs.predict(X_test_selected)\n",
    "accuracy_bayes_ufs = accuracy_score(predicted_labels_bayes_ufs, last_column_test)\n",
    "print(f\"The test accuracy of Gaussian Naive Bayes classifier = {accuracy_bayes_ufs * 100}%\")\n",
    "print('\\n', classification_report(last_column_test, predicted_labels_bayes_ufs))\n",
    "\n",
    "# Calculate confusion matrix for the validation set\n",
    "conf_mat = confusion_matrix(last_column_test, predicted_labels_bayes_ufs)\n",
    "# Print the confusion matrix\n",
    "print(conf_mat)\n",
    "\n",
    "f1score_bayes_ufs = f1_score(y_test, predicted_labels_bayes_ufs, average='weighted')\n",
    "print(f\"The F1-score of Gaussian Naive Bayes = {f1score_bayes_ufs * 100}%\")"
   ]
  },
  {
   "cell_type": "markdown",
   "id": "SSem4DI3WEF0",
   "metadata": {
    "id": "SSem4DI3WEF0"
   },
   "source": [
    "**Random Forest Classifier on UFS data**"
   ]
  },
  {
   "cell_type": "code",
   "execution_count": null,
   "id": "04786a16",
   "metadata": {
    "colab": {
     "base_uri": "https://localhost:8080/",
     "height": 507
    },
    "id": "04786a16",
    "outputId": "fd8b3d0e-4fd8-4084-e201-b3cfcf691213"
   },
   "outputs": [],
   "source": [
    "rf_ufs = RandomForestClassifier()\n",
    "scores_rf_ufs = []\n",
    "train_acc_rf_ufs = []\n",
    "val_acc_rf_ufs = []\n",
    "\n",
    "for i in range(k):\n",
    "    X_train_fold, X_val_fold, y_train_fold, y_val_fold = train_test_split(X_train_v, y_train, test_size = 0.2, random_state = i)\n",
    "    rf_ufs.fit(X_train_fold, y_train_fold)\n",
    "    train_acc_rf_ufs.append(rf_ufs.score(X_train_fold, y_train_fold))\n",
    "    val_acc_rf_ufs.append(rf_ufs.score(X_val_fold, y_val_fold))\n",
    "    scores_rf_ufs.append(rf_ufs.score(X_val_fold, y_val_fold))\n",
    "\n",
    "print(f\"The training accuracy of Random Forest Classifier = {train_acc_rf_ufs[-1] * 100}%\")\n",
    "print(f\"The validation accuracy of Random Forest Classifier = {val_acc_rf_ufs[-1] * 100}%\")\n",
    "\n",
    "plt.plot(range(1, k + 1), np.array(train_acc_rf_ufs) * 100, label = \"Training accuracy\")\n",
    "plt.plot(range(1, k + 1), np.array(val_acc_rf_ufs) * 100, label = \"Validation accuracy\")\n",
    "plt.title(\"Random Forest Classifier accuracy over epochs\")\n",
    "plt.xlabel('Folds')\n",
    "plt.ylabel('Accuracy')\n",
    "plt.xticks(range(1, k + 1))\n",
    "plt.legend()\n",
    "plt.show()\n"
   ]
  },
  {
   "cell_type": "markdown",
   "id": "_MPXvdo8ik_Y",
   "metadata": {
    "id": "_MPXvdo8ik_Y"
   },
   "source": [
    "**MLP on UFS data**"
   ]
  },
  {
   "cell_type": "code",
   "execution_count": null,
   "id": "jPYeDQ3gjStC",
   "metadata": {
    "colab": {
     "base_uri": "https://localhost:8080/",
     "height": 561
    },
    "id": "jPYeDQ3gjStC",
    "outputId": "0b62c21e-76dd-4d63-cd45-11f038693e80"
   },
   "outputs": [],
   "source": [
    "def model_mlp_ufs():\n",
    "    mlp_ufs = keras.models.Sequential([\n",
    "        keras.layers.Dense(64, activation='relu', input_shape=(X_train_selected.shape[1],)),\n",
    "        keras.layers.Dense(32, activation='relu'),\n",
    "        keras.layers.Dense(1, activation='sigmoid')\n",
    "    ])\n",
    "    mlp_ufs.compile(loss='binary_crossentropy', optimizer='adam', metrics=['accuracy'])\n",
    "    return mlp_ufs\n",
    "\n",
    "keras_estimator = KerasClassifier(build_fn=model_mlp_ufs, epochs=5, batch_size=32, verbose=0)\n",
    "cv_scores = cross_val_score(keras_estimator, X_train_v, y_train, cv=k)\n",
    "model_train_ufs = model_mlp_ufs()\n",
    "hist_ufs = model_train_ufs.fit(X_train_v, y_train, epochs=5, batch_size=32, verbose=0)\n",
    "training_acc = hist_ufs.history['accuracy']\n",
    "print(f\"Training accuracy of the MLP = {training_acc[-1] * 100}%\")\n",
    "print(f\"Validation accuracy of the MLP = {cv_scores.mean() * 100}%\")\n",
    "\n",
    "plt.plot(range(1, 6), cv_scores * 100, label=\"Validation accuracy\")\n",
    "plt.plot(range(1, 6), np.array(training_acc) * 100, label=\"Training accuracy\")\n",
    "plt.title(\"MLP accuracy over epochs\")\n",
    "plt.ylabel('Accuracy(%)')\n",
    "plt.xlabel('Epochs')\n",
    "plt.legend()\n",
    "plt.show()\n",
    "\n",
    "predicted_labels_mlp_ufs = model_train_ufs.predict(X_test_selected)\n",
    "predicted_labels_mlp_ufs = (predicted_labels_mlp_ufs > 0.5).astype(int)\n",
    "accuracy_mlp_ufs = accuracy_score(predicted_labels_mlp_ufs, last_column_test)\n",
    "print(f\"The test accuracy of MLP = {accuracy_mlp_ufs}\")\n",
    "print('\\n', classification_report(last_column_test, predicted_labels_mlp_ufs))\n",
    "\n",
    "conf_mat = confusion_matrix(last_column_test, predicted_labels_mlp_ufs)\n",
    "print(conf_mat)"
   ]
  },
  {
   "cell_type": "code",
   "execution_count": null,
   "id": "lXn-Crvrjpzb",
   "metadata": {
    "colab": {
     "base_uri": "https://localhost:8080/",
     "height": 472
    },
    "id": "lXn-Crvrjpzb",
    "outputId": "a5f39c12-7179-4bf3-9f69-b8b200ceb1a6"
   },
   "outputs": [],
   "source": [
    "model = model_mlp_ufs()\n",
    "checkpoint = ModelCheckpoint('best_weights.h5', save_best_only = True, save_weights_only = True, monitor = 'val_loss', mode = 'min')\n",
    "hist_loss = model.fit(X_train_v, y_train, epochs = 5, batch_size = 32, verbose = 0, validation_data=(X_val, y_val), callbacks = [checkpoint])\n",
    "model.load_weights('best_weights.h5')\n",
    "losses = model.history.history['loss']\n",
    "\n",
    "plt.plot(hist_loss.history['loss'], label = 'Training loss')\n",
    "plt.plot(hist_loss.history['val_loss'], label = 'Validation loss')\n",
    "plt.title(\"Loss curve\")\n",
    "plt.xlabel('Epochs')\n",
    "plt.ylabel('Loss')\n",
    "plt.legend()\n",
    "plt.show()"
   ]
  },
  {
   "cell_type": "code",
   "execution_count": null,
   "id": "LZF8A6aw6yio",
   "metadata": {
    "colab": {
     "base_uri": "https://localhost:8080/",
     "height": 472
    },
    "id": "LZF8A6aw6yio",
    "outputId": "b6148edd-631e-4176-b28f-3b5ef9ec4980"
   },
   "outputs": [],
   "source": [
    "plt.plot(np.array(val_acc_list) * 100, label = \"Logistic Regression\")\n",
    "plt.plot(np.array(val_acc_rf_ufs) * 100, label = \"Random Forest Classifier\")\n",
    "plt.plot(np.array(val_accs) * 100, label = \"Support Vector Machine\")\n",
    "plt.plot(np.array(val_accs_nb) * 100, label = \"Naive Bayes Classifier\")\n",
    "plt.plot(np.array(cv_scores) * 100, label = \"MLP\")\n",
    "plt.title(\"Models' performances\")\n",
    "plt.xlabel(\"Epochs\")\n",
    "plt.ylabel(\"Accuracy(%)\")\n",
    "plt.legend()\n",
    "plt.show() "
   ]
  },
  {
   "cell_type": "markdown",
   "id": "F3Aj8G8AAvCR",
   "metadata": {
    "id": "F3Aj8G8AAvCR"
   },
   "source": [
    "From the above graph it is evident that Random Forest Classifier is the best model."
   ]
  },
  {
   "cell_type": "code",
   "execution_count": null,
   "id": "FFUih26DAuue",
   "metadata": {
    "colab": {
     "base_uri": "https://localhost:8080/",
     "height": 663
    },
    "id": "FFUih26DAuue",
    "outputId": "620b983f-e90f-41b1-b0b7-138cba7ebd76"
   },
   "outputs": [],
   "source": [
    "predicted_labels_rf_ufs = rf_ufs.predict(X_test_selected)\n",
    "binary_predicted_labels_rf_ufs = np.where(predicted_labels_rf_ufs > 0.5, 1, 0)\n",
    "accuracy_rf_ufs = accuracy_score(binary_predicted_labels_rf_ufs, last_column_test)\n",
    "print(f\"The test accuracy of random forest classifier = {accuracy_rf_ufs * 100}%\")\n",
    "print('\\n', classification_report(last_column_test, binary_predicted_labels_rf_ufs))\n",
    "conf_mat_ufs = confusion_matrix(last_column_test, binary_predicted_labels_rf_ufs)\n",
    "sns.heatmap(conf_mat_ufs, annot = True, fmt = 'd', cmap = 'cool', xticklabels = ['p', 'e'], yticklabels = ['p', 'e'])\n",
    "plt.title(\"Confusion matrix\")\n",
    "plt.xlabel(\"Predicted labels\")\n",
    "plt.ylabel(\"True labels\")\n",
    "plt.show()\n",
    "\n",
    "conf_mat = confusion_matrix(last_column_test, binary_predicted_labels_rf_ufs)\n",
    "print(conf_mat)\n",
    "\n",
    "f1score_rfnew = f1_score(last_column_test, binary_predicted_labels_rf_ufs, average='weighted')\n",
    "print(f\"The F1-score of random forest = {f1score_rfnew * 100}%\")"
   ]
  }
 ],
 "metadata": {
  "colab": {
   "provenance": []
  },
  "kernelspec": {
   "display_name": "Python 3 (ipykernel)",
   "language": "python",
   "name": "python3"
  },
  "language_info": {
   "codemirror_mode": {
    "name": "ipython",
    "version": 3
   },
   "file_extension": ".py",
   "mimetype": "text/x-python",
   "name": "python",
   "nbconvert_exporter": "python",
   "pygments_lexer": "ipython3",
   "version": "3.9.13"
  }
 },
 "nbformat": 4,
 "nbformat_minor": 5
}
