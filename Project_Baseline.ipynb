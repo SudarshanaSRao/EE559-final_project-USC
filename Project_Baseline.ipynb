{
 "cells": [
  {
   "cell_type": "code",
   "execution_count": 1,
   "id": "55f1a79a",
   "metadata": {},
   "outputs": [],
   "source": [
    "#Creating Baseline using Nearest Means Classifier"
   ]
  },
  {
   "cell_type": "code",
   "execution_count": 3,
   "id": "0862b153",
   "metadata": {},
   "outputs": [],
   "source": [
    "import numpy as np\n",
    "import pandas as pd\n",
    "from sklearn.preprocessing import StandardScaler\n",
    "from sklearn.neighbors import NearestCentroid\n",
    "from sklearn.metrics import f1_score\n",
    "from sklearn.metrics import confusion_matrix\n",
    "import seaborn as sns\n",
    "import matplotlib.pyplot as plt"
   ]
  },
  {
   "cell_type": "code",
   "execution_count": 4,
   "id": "5e84ce8c",
   "metadata": {},
   "outputs": [],
   "source": [
    "data_train = pd.read_csv('mushroom_train.csv', usecols = [0,1,2,3,4,5,6,7,8,9,10,11,12,13,14,15])\n",
    "data_new_train = data_train.to_numpy()"
   ]
  },
  {
   "cell_type": "code",
   "execution_count": 5,
   "id": "363518b6",
   "metadata": {},
   "outputs": [],
   "source": [
    "#categorical_col = ['cap-shape', 'cap-surface', 'cap-color', 'does-bruise-or-bleed', 'gill-attachment', 'gill-spacing', 'gill-color', 'stem-color', 'has-ring', 'ring-type', 'habitat', 'season']\n",
    "categorical_col = ['cap-shape', 'cap-surface', 'cap-color', 'does-bruise-or-bleed', 'gill-attachment', 'gill-spacing', 'gill-color', 'stem-color', 'has-ring', 'ring-type', 'habitat', 'season','class']\n",
    "categorical_data_train = data_train[categorical_col]\n",
    "encoded_data_train = pd.get_dummies(categorical_data_train, prefix = categorical_col, prefix_sep='_')"
   ]
  },
  {
   "cell_type": "code",
   "execution_count": 6,
   "id": "2e09ffa3",
   "metadata": {},
   "outputs": [],
   "source": [
    "numerical_col_train = data_train.select_dtypes(include=['float64', 'int64'])\n",
    "scaler = StandardScaler()\n",
    "numerical_col_scaled_train = scaler.fit_transform(numerical_col_train)\n",
    "numerical_data_train = pd.DataFrame(numerical_col_scaled_train)"
   ]
  },
  {
   "cell_type": "code",
   "execution_count": 7,
   "id": "02f128db",
   "metadata": {},
   "outputs": [
    {
     "name": "stdout",
     "output_type": "stream",
     "text": [
      "(42748, 94)\n"
     ]
    }
   ],
   "source": [
    "final_data_train = pd.concat([numerical_data_train, encoded_data_train], axis = 1)\n",
    "#final_array_train = final_data_train.to_numpy()\n",
    "#print(final_array_train.shape)\n",
    "print(final_data_train.shape)"
   ]
  },
  {
   "cell_type": "code",
   "execution_count": 8,
   "id": "42becbc8",
   "metadata": {},
   "outputs": [],
   "source": [
    "df_temp = pd.DataFrame({'zeros': [0] * 42748})\n",
    "df_temp.loc[final_data_train.iloc[:,-2] == 1, 'zeros'] = 0\n",
    "df_temp.loc[final_data_train.iloc[:,-1] == 1, 'zeros'] = 1"
   ]
  },
  {
   "cell_type": "code",
   "execution_count": 9,
   "id": "e4f3acd7",
   "metadata": {},
   "outputs": [
    {
     "name": "stdout",
     "output_type": "stream",
     "text": [
      "(42748, 92)\n"
     ]
    }
   ],
   "source": [
    "final_data_train = final_data_train.drop(final_data_train.columns[-2:], axis=1)\n",
    "print(final_data_train.shape)"
   ]
  },
  {
   "cell_type": "code",
   "execution_count": 10,
   "id": "82e63a61",
   "metadata": {},
   "outputs": [
    {
     "name": "stdout",
     "output_type": "stream",
     "text": [
      "(42748, 93)\n"
     ]
    }
   ],
   "source": [
    "final_data_train = pd.concat([final_data_train, df_temp], axis=1)\n",
    "final_data_train = final_data_train.to_numpy()\n",
    "print(final_data_train.shape)"
   ]
  },
  {
   "cell_type": "code",
   "execution_count": 37,
   "id": "1944e379",
   "metadata": {},
   "outputs": [
    {
     "name": "stdout",
     "output_type": "stream",
     "text": [
      "[0, 1, 2, 'cap-shape_b', 'cap-shape_c', 'cap-shape_f', 'cap-shape_o', 'cap-shape_p', 'cap-shape_s', 'cap-shape_x', 'cap-surface_d', 'cap-surface_e', 'cap-surface_g', 'cap-surface_h', 'cap-surface_i', 'cap-surface_k', 'cap-surface_l', 'cap-surface_s', 'cap-surface_t', 'cap-surface_w', 'cap-surface_y', 'cap-color_b', 'cap-color_e', 'cap-color_g', 'cap-color_k', 'cap-color_l', 'cap-color_n', 'cap-color_o', 'cap-color_p', 'cap-color_r', 'cap-color_u', 'cap-color_w', 'cap-color_y', 'does-bruise-or-bleed_f', 'does-bruise-or-bleed_t', 'gill-attachment_a', 'gill-attachment_d', 'gill-attachment_e', 'gill-attachment_f', 'gill-attachment_p', 'gill-attachment_s', 'gill-attachment_x', 'gill-spacing_c', 'gill-spacing_d', 'gill-spacing_f', 'gill-color_b', 'gill-color_e', 'gill-color_f', 'gill-color_g', 'gill-color_k', 'gill-color_n', 'gill-color_o', 'gill-color_p', 'gill-color_r', 'gill-color_u', 'gill-color_w', 'gill-color_y', 'stem-color_b', 'stem-color_e', 'stem-color_f', 'stem-color_g', 'stem-color_k', 'stem-color_l', 'stem-color_n', 'stem-color_o', 'stem-color_p', 'stem-color_r', 'stem-color_u', 'stem-color_w', 'stem-color_y', 'has-ring_f', 'has-ring_t', 'ring-type_e', 'ring-type_f', 'ring-type_g', 'ring-type_l', 'ring-type_m', 'ring-type_p', 'ring-type_r', 'ring-type_z', 'habitat_d', 'habitat_g', 'habitat_h', 'habitat_l', 'habitat_m', 'habitat_p', 'habitat_u', 'habitat_w', 'season_a', 'season_s', 'season_u', 'season_w', 'zeros', 'zeros']\n"
     ]
    }
   ],
   "source": [
    "column_names = final_data_train.columns.tolist()\n",
    "print(column_names)"
   ]
  },
  {
   "cell_type": "code",
   "execution_count": 11,
   "id": "8964be2b",
   "metadata": {},
   "outputs": [
    {
     "name": "stdout",
     "output_type": "stream",
     "text": [
      "float64\n",
      "(42748, 93)\n",
      "(42748, 16)\n"
     ]
    }
   ],
   "source": [
    "print(final_array_train.dtype)\n",
    "print(final_array_train.shape)\n",
    "print(data_new_train.shape)"
   ]
  },
  {
   "cell_type": "code",
   "execution_count": 12,
   "id": "d17412b4",
   "metadata": {},
   "outputs": [],
   "source": [
    "X_train = final_array_train[:,:-1]\n",
    "Y_train = final_array_train[:,-1]"
   ]
  },
  {
   "cell_type": "code",
   "execution_count": 13,
   "id": "7fc5416f",
   "metadata": {
    "scrolled": true
   },
   "outputs": [
    {
     "data": {
      "text/plain": [
       "NearestCentroid()"
      ]
     },
     "execution_count": 13,
     "metadata": {},
     "output_type": "execute_result"
    }
   ],
   "source": [
    "clf = NearestCentroid()  #Nearest Means Classifier\n",
    "clf.fit(X_train,Y_train)"
   ]
  },
  {
   "cell_type": "code",
   "execution_count": 21,
   "id": "a651602c",
   "metadata": {},
   "outputs": [
    {
     "name": "stdout",
     "output_type": "stream",
     "text": [
      "(18321, 91)\n",
      "(18321, 3)\n",
      "(18321, 94)\n"
     ]
    }
   ],
   "source": [
    "#Test Dataset\n",
    "data_test = pd.read_csv('mushroom_test.csv', usecols = [0,1,2,3,4,5,6,7,8,9,10,11,12,13,14,15])\n",
    "\n",
    "categorical_data_test = data_test[categorical_col]\n",
    "encoded_data_test = pd.get_dummies(categorical_data_test, prefix = categorical_col, prefix_sep='_')\n",
    "print(encoded_data_test.shape)\n",
    "\n",
    "numerical_col_test = data_test.select_dtypes(include=['float64', 'int64'])\n",
    "scaler = StandardScaler()\n",
    "numerical_col_scaled_test = scaler.fit_transform(numerical_col_test)\n",
    "numerical_data_test = pd.DataFrame(numerical_col_scaled_test)\n",
    "print(numerical_data_test.shape)\n",
    "\n",
    "final_data_test = pd.concat([numerical_data_test, encoded_data_test], axis=1)\n",
    "print(final_data_test.shape)"
   ]
  },
  {
   "cell_type": "code",
   "execution_count": 22,
   "id": "c99a4572",
   "metadata": {},
   "outputs": [
    {
     "name": "stdout",
     "output_type": "stream",
     "text": [
      "       zeros\n",
      "0          0\n",
      "1          1\n",
      "2          1\n",
      "3          1\n",
      "4          0\n",
      "...      ...\n",
      "18316      1\n",
      "18317      0\n",
      "18318      0\n",
      "18319      0\n",
      "18320      1\n",
      "\n",
      "[18321 rows x 1 columns]\n"
     ]
    }
   ],
   "source": [
    "df_temp_test = pd.DataFrame({'zeros': [0] * len(encoded_data_test)})\n",
    "df_temp_test.loc[encoded_data_test.iloc[:,-2] == 1, 'zeros'] = 0\n",
    "df_temp_test.loc[encoded_data_test.iloc[:,-1] == 1, 'zeros'] = 1\n",
    "print(df_temp_test)"
   ]
  },
  {
   "cell_type": "code",
   "execution_count": 23,
   "id": "b82e0d7c",
   "metadata": {},
   "outputs": [
    {
     "name": "stdout",
     "output_type": "stream",
     "text": [
      "(18321, 92)\n"
     ]
    }
   ],
   "source": [
    "final_data_test = final_data_test.drop(final_data_test.columns[-2:], axis=1)\n",
    "print(final_data_test.shape)"
   ]
  },
  {
   "cell_type": "code",
   "execution_count": 24,
   "id": "d1689964",
   "metadata": {},
   "outputs": [
    {
     "name": "stdout",
     "output_type": "stream",
     "text": [
      "(18321, 93)\n"
     ]
    }
   ],
   "source": [
    "final_data_test = pd.concat([final_data_test, df_temp_test], axis=1)\n",
    "final_data_test = final_data_test.to_numpy()\n",
    "print(final_data_test.shape)"
   ]
  },
  {
   "cell_type": "code",
   "execution_count": 26,
   "id": "72125a32",
   "metadata": {},
   "outputs": [
    {
     "name": "stdout",
     "output_type": "stream",
     "text": [
      "float64\n",
      "(18321, 93)\n"
     ]
    }
   ],
   "source": [
    "print(final_data_test.dtype)\n",
    "print(final_data_test.shape)"
   ]
  },
  {
   "cell_type": "code",
   "execution_count": 28,
   "id": "c2f0539b",
   "metadata": {},
   "outputs": [],
   "source": [
    "X_test = final_data_test[:,:-1]\n",
    "Y_test = final_data_test[:, -1]"
   ]
  },
  {
   "cell_type": "code",
   "execution_count": 29,
   "id": "7c37c7cb",
   "metadata": {},
   "outputs": [],
   "source": [
    "Y_pred = clf.predict(X_test)"
   ]
  },
  {
   "cell_type": "code",
   "execution_count": 30,
   "id": "7c55cdd3",
   "metadata": {},
   "outputs": [
    {
     "name": "stdout",
     "output_type": "stream",
     "text": [
      "Accuracy is:62.8568%\n"
     ]
    }
   ],
   "source": [
    "accuracy = clf.score(X_test,Y_test)\n",
    "print(\"Accuracy is:{:.4f}%\".format(accuracy*100))"
   ]
  },
  {
   "cell_type": "code",
   "execution_count": 31,
   "id": "5fa79fd3",
   "metadata": {},
   "outputs": [
    {
     "name": "stdout",
     "output_type": "stream",
     "text": [
      "0.6737932026269114\n"
     ]
    }
   ],
   "source": [
    "f1 = f1_score(Y_test,Y_pred)\n",
    "print(f1)"
   ]
  },
  {
   "cell_type": "code",
   "execution_count": 32,
   "id": "884dc843",
   "metadata": {},
   "outputs": [
    {
     "data": {
      "text/plain": [
       "Text(0.5, 1.0, 'Confusion Matrix')"
      ]
     },
     "execution_count": 32,
     "metadata": {},
     "output_type": "execute_result"
    },
    {
     "data": {
      "image/png": "[encoded data removed]",
      "text/plain": [
       "<Figure size 600x600 with 2 Axes>"
      ]
     },
     "metadata": {},
     "output_type": "display_data"
    }
   ],
   "source": [
    "cm = confusion_matrix(Y_test, Y_pred)\n",
    "classes = ['Poisonous', 'Edible']\n",
    "plt.figure(figsize=(6,6))\n",
    "sns.heatmap(cm, annot=True, cmap='Blues', xticklabels=classes, yticklabels=classes)\n",
    "plt.xlabel('Predicted Labels')\n",
    "plt.ylabel('True labels')\n",
    "plt.title('Confusion Matrix')"
   ]
  }
 ],
 "metadata": {
  "kernelspec": {
   "display_name": "Python 3 (ipykernel)",
   "language": "python",
   "name": "python3"
  },
  "language_info": {
   "codemirror_mode": {
    "name": "ipython",
    "version": 3
   },
   "file_extension": ".py",
   "mimetype": "text/x-python",
   "name": "python",
   "nbconvert_exporter": "python",
   "pygments_lexer": "ipython3",
   "version": "3.9.13"
  }
 },
 "nbformat": 4,
 "nbformat_minor": 5
}
