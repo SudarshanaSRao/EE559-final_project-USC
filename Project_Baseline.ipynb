{
 "cells": [
  {
   "cell_type": "code",
   "execution_count": 208,
   "id": "55f1a79a",
   "metadata": {},
   "outputs": [],
   "source": [
    "#Creating Baseline using Nearest Means Classifier"
   ]
  },
  {
   "cell_type": "code",
   "execution_count": 190,
   "id": "0862b153",
   "metadata": {},
   "outputs": [],
   "source": [
    "import numpy as np\n",
    "import pandas as pd\n",
    "from sklearn.preprocessing import StandardScaler\n",
    "from sklearn.neighbors import NearestCentroid\n",
    "from sklearn.metrics import f1_score\n",
    "from sklearn.metrics import confusion_matrix\n",
    "import seaborn as sns\n",
    "import matplotlib.pyplot as plt"
   ]
  },
  {
   "cell_type": "code",
   "execution_count": 191,
   "id": "5e84ce8c",
   "metadata": {},
   "outputs": [],
   "source": [
    "data_train = pd.read_csv('mushroom_train.csv', usecols = [0,1,2,3,4,5,6,7,8,9,10,11,12,13,14,15])\n",
    "data_new_train = data_train.to_numpy()"
   ]
  },
  {
   "cell_type": "code",
   "execution_count": 192,
   "id": "363518b6",
   "metadata": {},
   "outputs": [],
   "source": [
    "#categorical_col = ['cap-shape', 'cap-surface', 'cap-color', 'does-bruise-or-bleed', 'gill-attachment', 'gill-spacing', 'gill-color', 'stem-color', 'has-ring', 'ring-type', 'habitat', 'season']\n",
    "categorical_col = ['cap-shape', 'cap-surface', 'cap-color', 'does-bruise-or-bleed', 'gill-attachment', 'gill-spacing', 'gill-color', 'stem-color', 'has-ring', 'ring-type', 'habitat', 'season','class']\n",
    "categorical_data_train = data_train[categorical_col]\n",
    "encoded_data_train = pd.get_dummies(categorical_data_train, prefix = categorical_col, prefix_sep='_')"
   ]
  },
  {
   "cell_type": "code",
   "execution_count": 193,
   "id": "2e09ffa3",
   "metadata": {},
   "outputs": [
    {
     "name": "stdout",
     "output_type": "stream",
     "text": [
      "              0         1         2\n",
      "0     -0.332216 -0.161276 -0.590488\n",
      "1     -0.742182 -0.274093 -0.856362\n",
      "2      0.905345  0.132642  1.316604\n",
      "3      0.393845 -0.636294  0.149160\n",
      "4      0.160126  0.542345  0.631930\n",
      "...         ...       ...       ...\n",
      "42743 -0.657890 -0.481913 -0.860360\n",
      "42744  0.420665 -0.585823 -0.099722\n",
      "42745  7.495450 -0.247373  1.423554\n",
      "42746  0.803811  0.287022  1.225648\n",
      "42747 -0.824558 -0.909429 -0.840369\n",
      "\n",
      "[42748 rows x 3 columns]\n"
     ]
    }
   ],
   "source": [
    "numerical_col_train = data.select_dtypes(include=['float64', 'int64'])\n",
    "scaler = StandardScaler()\n",
    "numerical_col_scaled_train = scaler.fit_transform(numerical_col_train)\n",
    "numerical_data_train = pd.DataFrame(numerical_col_scaled_train)\n",
    "print(numerical_data_train)"
   ]
  },
  {
   "cell_type": "code",
   "execution_count": 194,
   "id": "02f128db",
   "metadata": {},
   "outputs": [
    {
     "name": "stdout",
     "output_type": "stream",
     "text": [
      "[[-0.3322158  -0.16127588 -0.5904883  ...  0.          0.\n",
      "   1.        ]\n",
      " [-0.74218167 -0.27409266 -0.85636181 ...  0.          0.\n",
      "   1.        ]\n",
      " [ 0.90534474  0.13264151  1.31660445 ...  1.          1.\n",
      "   0.        ]\n",
      " ...\n",
      " [ 7.4954504  -0.2473729   1.42355358 ...  0.          1.\n",
      "   0.        ]\n",
      " [ 0.80381114  0.28702237  1.22564772 ...  1.          1.\n",
      "   0.        ]\n",
      " [-0.82455799 -0.90942926 -0.84036942 ...  0.          0.\n",
      "   1.        ]]\n"
     ]
    }
   ],
   "source": [
    "final_data_train = pd.concat([numerical_data_train, encoded_data_train], axis = 1)\n",
    "final_array_train = final_data_train.to_numpy()\n",
    "print(final_array_train)"
   ]
  },
  {
   "cell_type": "code",
   "execution_count": 195,
   "id": "8964be2b",
   "metadata": {},
   "outputs": [
    {
     "name": "stdout",
     "output_type": "stream",
     "text": [
      "float64\n",
      "(42748, 94)\n",
      "(42748, 16)\n"
     ]
    }
   ],
   "source": [
    "print(final_array_train.dtype)\n",
    "print(final_array_train.shape)\n",
    "print(data_new_train.shape)"
   ]
  },
  {
   "cell_type": "code",
   "execution_count": 196,
   "id": "d17412b4",
   "metadata": {},
   "outputs": [],
   "source": [
    "X_train = final_array_train[:,:-1]\n",
    "Y_train = final_array_train[:,-1]"
   ]
  },
  {
   "cell_type": "code",
   "execution_count": 197,
   "id": "7fc5416f",
   "metadata": {
    "scrolled": true
   },
   "outputs": [
    {
     "data": {
      "text/plain": [
       "NearestCentroid()"
      ]
     },
     "execution_count": 197,
     "metadata": {},
     "output_type": "execute_result"
    }
   ],
   "source": [
    "clf = NearestCentroid()  #Nearest Means Classifier\n",
    "clf.fit(X_train,Y_train)"
   ]
  },
  {
   "cell_type": "code",
   "execution_count": 198,
   "id": "053ab781",
   "metadata": {},
   "outputs": [
    {
     "name": "stdout",
     "output_type": "stream",
     "text": [
      "(18321, 16)\n"
     ]
    }
   ],
   "source": [
    "#Test Dataset\n",
    "data_test = pd.read_csv('mushroom_test.csv', usecols = [0,1,2,3,4,5,6,7,8,9,10,11,12,13,14,15])\n",
    "data_new_test = data_test.to_numpy()\n",
    "print(data_new_test.shape)"
   ]
  },
  {
   "cell_type": "code",
   "execution_count": 199,
   "id": "79b0ce30",
   "metadata": {},
   "outputs": [
    {
     "name": "stdout",
     "output_type": "stream",
     "text": [
      "(18321, 91)\n"
     ]
    }
   ],
   "source": [
    "categorical_data_test = data_test[categorical_col]\n",
    "encoded_data_test = pd.get_dummies(categorical_data_test, prefix = categorical_col, prefix_sep='_')\n",
    "print(encoded_data_test.shape)"
   ]
  },
  {
   "cell_type": "code",
   "execution_count": 200,
   "id": "5d22bd4d",
   "metadata": {},
   "outputs": [
    {
     "name": "stdout",
     "output_type": "stream",
     "text": [
      "(18321, 3)\n"
     ]
    }
   ],
   "source": [
    "numerical_col_test = data_test.select_dtypes(include=['float64', 'int64'])\n",
    "scaler = StandardScaler()\n",
    "numerical_col_scaled_test = scaler.fit_transform(numerical_col_test)\n",
    "print(numerical_col_scaled_test.shape)"
   ]
  },
  {
   "cell_type": "code",
   "execution_count": 201,
   "id": "2bf3b4cf",
   "metadata": {},
   "outputs": [],
   "source": [
    "numerical_data_test = pd.DataFrame(numerical_col_scaled_test)\n",
    "final_data_test = pd.concat([numerical_data_test, encoded_data_test], axis = 1)\n",
    "final_array_test = final_data_test.to_numpy()"
   ]
  },
  {
   "cell_type": "code",
   "execution_count": 202,
   "id": "72125a32",
   "metadata": {},
   "outputs": [
    {
     "name": "stdout",
     "output_type": "stream",
     "text": [
      "float64\n",
      "(18321, 94)\n",
      "(18321, 16)\n"
     ]
    }
   ],
   "source": [
    "print(final_array_test.dtype)\n",
    "print(final_array_test.shape)\n",
    "print(data_new_test.shape)"
   ]
  },
  {
   "cell_type": "code",
   "execution_count": 203,
   "id": "c2f0539b",
   "metadata": {},
   "outputs": [],
   "source": [
    "X_test = final_array_test[:,:-1]\n",
    "Y_test = final_array_test[:, -1]"
   ]
  },
  {
   "cell_type": "code",
   "execution_count": 204,
   "id": "7c37c7cb",
   "metadata": {},
   "outputs": [],
   "source": [
    "Y_pred = clf.predict(X_test)"
   ]
  },
  {
   "cell_type": "code",
   "execution_count": 205,
   "id": "7c55cdd3",
   "metadata": {},
   "outputs": [
    {
     "name": "stdout",
     "output_type": "stream",
     "text": [
      "Accuracy is:81.7859%\n"
     ]
    }
   ],
   "source": [
    "accuracy = clf.score(X_test,Y_test)\n",
    "print(\"Accuracy is:{:.4f}%\".format(accuracy*100))"
   ]
  },
  {
   "cell_type": "code",
   "execution_count": 206,
   "id": "5fa79fd3",
   "metadata": {},
   "outputs": [
    {
     "name": "stdout",
     "output_type": "stream",
     "text": [
      "0.8342192856078294\n"
     ]
    }
   ],
   "source": [
    "f1 = f1_score(Y_test,Y_pred)\n",
    "print(f1)"
   ]
  },
  {
   "cell_type": "code",
   "execution_count": 207,
   "id": "884dc843",
   "metadata": {},
   "outputs": [
    {
     "data": {
      "text/plain": [
       "Text(0.5, 1.0, 'Confusion Matrix')"
      ]
     },
     "execution_count": 207,
     "metadata": {},
     "output_type": "execute_result"
    },
    {
     "data": {
      "image/png": "[encoded data removed]",
      "text/plain": [
       "<Figure size 600x600 with 2 Axes>"
      ]
     },
     "metadata": {},
     "output_type": "display_data"
    }
   ],
   "source": [
    "cm = confusion_matrix(Y_test, Y_pred)\n",
    "classes = ['Poisonous', 'Edible']\n",
    "plt.figure(figsize=(6,6))\n",
    "sns.heatmap(cm, annot=True, cmap='Blues', xticklabels=classes, yticklabels=classes)\n",
    "plt.xlabel('Predicted Labels')\n",
    "plt.ylabel('True labels')\n",
    "plt.title('Confusion Matrix')"
   ]
  },
  {
   "cell_type": "code",
   "execution_count": 161,
   "id": "f2e8c9bc",
   "metadata": {},
   "outputs": [],
   "source": [
    "#Standardize entire array - numerical and one-hot encoded"
   ]
  },
  {
   "cell_type": "code",
   "execution_count": 162,
   "id": "05cf641b",
   "metadata": {},
   "outputs": [],
   "source": [
    "scaler = StandardScaler()\n",
    "final_array_train_whole = final_array_train[:,:-1]\n",
    "X_train_whole = scaler.fit_transform(final_array_train_whole)"
   ]
  },
  {
   "cell_type": "code",
   "execution_count": 163,
   "id": "0944a2a4",
   "metadata": {},
   "outputs": [],
   "source": [
    "scaler = StandardScaler()\n",
    "final_array_test_whole = final_array_test[:,:-1]\n",
    "X_test_whole = scaler.fit_transform(final_array_test_whole)"
   ]
  },
  {
   "cell_type": "code",
   "execution_count": 164,
   "id": "02d20139",
   "metadata": {},
   "outputs": [
    {
     "data": {
      "text/plain": [
       "NearestCentroid()"
      ]
     },
     "execution_count": 164,
     "metadata": {},
     "output_type": "execute_result"
    }
   ],
   "source": [
    "clf1 = NearestCentroid()  #Nearest Means Classifier\n",
    "clf1.fit(X_train_whole,Y_train)"
   ]
  },
  {
   "cell_type": "code",
   "execution_count": 165,
   "id": "e637e23a",
   "metadata": {},
   "outputs": [],
   "source": [
    "Y_pred_whole = clf1.predict(X_test_whole)"
   ]
  },
  {
   "cell_type": "code",
   "execution_count": 166,
   "id": "efee9b12",
   "metadata": {},
   "outputs": [
    {
     "name": "stdout",
     "output_type": "stream",
     "text": [
      "Accuracy is:93.6466%\n"
     ]
    }
   ],
   "source": [
    "accuracy_test = clf1.score(X_test_whole,Y_test)\n",
    "print(\"Accuracy is:{:.4f}%\".format(accuracy_test*100))"
   ]
  },
  {
   "cell_type": "code",
   "execution_count": null,
   "id": "45d32371",
   "metadata": {},
   "outputs": [],
   "source": []
  },
  {
   "cell_type": "code",
   "execution_count": null,
   "id": "c0c08a6f",
   "metadata": {},
   "outputs": [],
   "source": []
  }
 ],
 "metadata": {
  "kernelspec": {
   "display_name": "Python 3 (ipykernel)",
   "language": "python",
   "name": "python3"
  },
  "language_info": {
   "codemirror_mode": {
    "name": "ipython",
    "version": 3
   },
   "file_extension": ".py",
   "mimetype": "text/x-python",
   "name": "python",
   "nbconvert_exporter": "python",
   "pygments_lexer": "ipython3",
   "version": "3.9.13"
  }
 },
 "nbformat": 4,
 "nbformat_minor": 5
}
