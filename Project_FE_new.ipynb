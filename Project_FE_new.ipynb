{
  "cells": [
    {
      "cell_type": "code",
      "execution_count": 1,
      "id": "0862b153",
      "metadata": {
        "id": "0862b153"
      },
      "outputs": [],
      "source": [
        "import numpy as np\n",
        "import pandas as pd\n",
        "from sklearn.preprocessing import StandardScaler\n",
        "from sklearn.neighbors import NearestCentroid\n",
        "from sklearn.metrics import f1_score, classification_report, log_loss, accuracy_score\n",
        "from sklearn.metrics import confusion_matrix\n",
        "import seaborn as sns\n",
        "import matplotlib.pyplot as plt\n",
        "from sklearn.decomposition import PCA\n",
        "from sklearn.linear_model import LogisticRegression\n",
        "from sklearn.discriminant_analysis import LinearDiscriminantAnalysis\n",
        "from sklearn.svm import SVC"
      ]
    },
    {
      "cell_type": "code",
      "execution_count": 2,
      "id": "5e84ce8c",
      "metadata": {
        "id": "5e84ce8c"
      },
      "outputs": [],
      "source": [
        "data_train = pd.read_csv('mushroom_train.csv', usecols = [0, 1, 2, 3, 4, 5, 6, 7, 8, 9, 10, 11, 12, 13, 14, 15])\n",
        "data_new_train = data_train.to_numpy()"
      ]
    },
    {
      "cell_type": "code",
      "execution_count": 3,
      "id": "d1166990",
      "metadata": {
        "colab": {
          "base_uri": "https://localhost:8080/"
        },
        "id": "d1166990",
        "outputId": "09c95ebc-3e68-4924-8b5d-5a69692d2fa6"
      },
      "outputs": [
        {
          "output_type": "stream",
          "name": "stdout",
          "text": [
            "              cap-diameter  stem-height  stem-width\n",
            "cap-diameter      1.000000     0.423171    0.695804\n",
            "stem-height       0.423171     1.000000    0.436069\n",
            "stem-width        0.695804     0.436069    1.000000\n"
          ]
        },
        {
          "output_type": "stream",
          "name": "stderr",
          "text": [
            "<ipython-input-3-73879a0920ae>:5: FutureWarning: The default value of numeric_only in DataFrame.corr is deprecated. In a future version, it will default to False. Select only valid columns or specify the value of numeric_only to silence this warning.\n",
            "  corr_matrix = data_train.corr()\n"
          ]
        }
      ],
      "source": [
        "# Load the data_train DataFrame\n",
        "data_train = pd.read_csv('mushroom_train.csv', usecols = [0, 1, 2, 3, 4, 5, 6, 7, 8, 9, 10, 11, 12, 13, 14, 15])\n",
        "\n",
        "# Calculate the Pearson correlation coefficient for all pairs of columns\n",
        "corr_matrix = data_train.corr()\n",
        "\n",
        "# Display the correlation matrix\n",
        "print(corr_matrix)"
      ]
    },
    {
      "cell_type": "code",
      "execution_count": 4,
      "id": "363518b6",
      "metadata": {
        "id": "363518b6"
      },
      "outputs": [],
      "source": [
        "categorical_col = ['cap-shape', 'cap-surface', 'cap-color', 'does-bruise-or-bleed', 'gill-attachment', 'gill-spacing', 'gill-color', 'stem-color', 'has-ring', 'ring-type', 'habitat', 'season','class']\n",
        "categorical_data_train = data_train[categorical_col]\n",
        "encoded_data_train = pd.get_dummies(categorical_data_train, prefix = categorical_col, prefix_sep = '_')"
      ]
    },
    {
      "cell_type": "code",
      "execution_count": 5,
      "id": "2e09ffa3",
      "metadata": {
        "id": "2e09ffa3"
      },
      "outputs": [],
      "source": [
        "numerical_col_train = data_train[['cap-diameter', 'stem-height', 'stem-width']]\n",
        "scaler = StandardScaler()\n",
        "numerical_col_scaled_train = scaler.fit_transform(numerical_col_train)\n",
        "numerical_data_train = pd.DataFrame(numerical_col_scaled_train, columns = numerical_col_train.columns)"
      ]
    },
    {
      "cell_type": "code",
      "execution_count": 6,
      "id": "02f128db",
      "metadata": {
        "id": "02f128db"
      },
      "outputs": [],
      "source": [
        "final_data_train = pd.concat([numerical_data_train, encoded_data_train], axis = 1)"
      ]
    },
    {
      "cell_type": "code",
      "execution_count": 7,
      "id": "42becbc8",
      "metadata": {
        "id": "42becbc8"
      },
      "outputs": [],
      "source": [
        "df_temp = pd.DataFrame({'zeros': [0] * 42748})\n",
        "df_temp.loc[final_data_train.iloc[:,-2] == 1, 'zeros'] = 0\n",
        "df_temp.loc[final_data_train.iloc[:,-1] == 1, 'zeros'] = 1"
      ]
    },
    {
      "cell_type": "code",
      "execution_count": 8,
      "id": "e4f3acd7",
      "metadata": {
        "id": "e4f3acd7"
      },
      "outputs": [],
      "source": [
        "final_data_train = final_data_train.drop(final_data_train.columns[-2:], axis = 1)"
      ]
    },
    {
      "cell_type": "code",
      "execution_count": 9,
      "id": "49709b3f",
      "metadata": {
        "id": "49709b3f"
      },
      "outputs": [],
      "source": [
        "final_data_train_watch = pd.concat([final_data_train, df_temp], axis = 1)"
      ]
    },
    {
      "cell_type": "code",
      "execution_count": 10,
      "id": "36c864e4",
      "metadata": {
        "id": "36c864e4"
      },
      "outputs": [],
      "source": [
        "final_data_train_watch = pd.concat([final_data_train, df_temp], axis = 1)\n",
        "final_data_train_watch = final_data_train_watch.rename(columns = {'<old_column_name>': 'label'})"
      ]
    },
    {
      "cell_type": "code",
      "execution_count": 11,
      "id": "af357490",
      "metadata": {
        "colab": {
          "base_uri": "https://localhost:8080/"
        },
        "id": "af357490",
        "outputId": "814ccaf2-7869-4cd1-ee34-ad209cfc4305"
      },
      "outputs": [
        {
          "output_type": "stream",
          "name": "stdout",
          "text": [
            "Top 10 positive correlations:\n",
            "            feature_1     feature_2  correlation_coefficient\n",
            "3        cap-diameter    stem-width                 0.695804\n",
            "4          stem-width  cap-diameter                 0.695804\n",
            "5         stem-height    stem-width                 0.436069\n",
            "6          stem-width   stem-height                 0.436069\n",
            "7         stem-height  cap-diameter                 0.423171\n",
            "8        cap-diameter   stem-height                 0.423171\n",
            "9         ring-type_m   stem-height                 0.406376\n",
            "10  gill-attachment_p    stem-width                 0.400621\n",
            "11  gill-attachment_p  cap-diameter                 0.353896\n",
            "12        ring-type_f   stem-height                 0.332793\n",
            "\n",
            "Top 10 negative correlations:\n",
            "          feature_1     feature_2  correlation_coefficient\n",
            "275    gill-color_o    stem-width                 0.000822\n",
            "274     cap-color_e  cap-diameter                 0.000841\n",
            "273    stem-color_u   stem-height                 0.000941\n",
            "272     ring-type_l    stem-width                 0.001029\n",
            "271       habitat_u    stem-width                 0.001503\n",
            "270   cap-surface_w    stem-width                 0.001601\n",
            "269  gill-spacing_c    stem-width                 0.001994\n",
            "268       habitat_l    stem-width                 0.002066\n",
            "267      has-ring_t    stem-width                 0.002306\n",
            "266      has-ring_f    stem-width                 0.002306\n"
          ]
        }
      ],
      "source": [
        "# define the columns of interest\n",
        "cols_of_interest = ['stem-width', 'stem-height', 'cap-diameter']\n",
        "\n",
        "# calculate the correlation matrix\n",
        "corr_matrix = final_data_train.corr(method = 'pearson')\n",
        "\n",
        "# filter the correlation matrix to only include rows or columns with 'stem-width', 'stem-height', or 'cap-diameter'\n",
        "corr_filtered = corr_matrix[(corr_matrix.index.isin(cols_of_interest)) | (corr_matrix.columns.isin(cols_of_interest))]\n",
        "\n",
        "# create a copy of the filtered correlation matrix for sorting\n",
        "corr_sorted = corr_filtered.abs().unstack().sort_values(ascending = False).reset_index()\n",
        "\n",
        "# remove self-correlations (correlations of features with themselves)\n",
        "corr_sorted = corr_sorted[corr_sorted['level_0'] != corr_sorted['level_1']]\n",
        "\n",
        "# rename the columns of the sorted correlation matrix\n",
        "corr_sorted.columns = ['feature_1', 'feature_2', 'correlation_coefficient']\n",
        "\n",
        "# filter the sorted correlation matrix to only include rows or columns with 'stem-width', 'stem-height', or 'cap-diameter'\n",
        "corr_sorted_filtered = corr_sorted[(corr_sorted['feature_1'].isin(cols_of_interest)) | (corr_sorted['feature_2'].isin(cols_of_interest))]\n",
        "\n",
        "# display the top 5 positive and top 5 negative correlation coefficient values with their corresponding row and column names\n",
        "print('Top 10 positive correlations:')\n",
        "print(corr_sorted_filtered.head(10))\n",
        "\n",
        "print('\\nTop 10 negative correlations:')\n",
        "print(corr_sorted_filtered.tail(10)[::-1])"
      ]
    },
    {
      "cell_type": "code",
      "execution_count": 12,
      "id": "908b2b5c",
      "metadata": {
        "scrolled": true,
        "id": "908b2b5c"
      },
      "outputs": [],
      "source": [
        "filtered_cols = final_data_train.columns"
      ]
    },
    {
      "cell_type": "code",
      "execution_count": 13,
      "id": "82e63a61",
      "metadata": {
        "id": "82e63a61"
      },
      "outputs": [],
      "source": [
        "final_data_train = pd.concat([final_data_train, df_temp], axis = 1)"
      ]
    },
    {
      "cell_type": "code",
      "execution_count": 14,
      "id": "4e686f66",
      "metadata": {
        "id": "4e686f66"
      },
      "outputs": [],
      "source": [
        "# select the rows where 'ring-type_m' is 1\n",
        "selected_rows_shape_m = final_data_train_watch[final_data_train_watch['ring-type_m'] == 1]\n",
        "\n",
        "# create a new dataframe with the selected rows\n",
        "selected_data = pd.DataFrame(selected_rows_shape_m, columns=final_data_train_watch.columns)\n",
        "\n",
        "selected_data_m = final_data_train_watch.loc[final_data_train_watch['ring-type_m'] == 1].copy()\n",
        "\n",
        "stem_width_min = selected_data_m['stem-width'].min()\n",
        "stem_width_max = selected_data_m['stem-width'].max()\n",
        "stem_width_mean = selected_data_m['stem-width'].mean()\n",
        "\n",
        "selected_data_m['stem_width_ring_type_m_min'] = stem_width_min\n",
        "selected_data_m['stem_width_ring_type_m_max'] = stem_width_max\n",
        "selected_data_m['stem_width_ring_type_m_mean'] = stem_width_mean\n",
        "selected_data_m = selected_data_m.rename(columns = {'zeros': 'label1'})"
      ]
    },
    {
      "cell_type": "code",
      "execution_count": 15,
      "id": "d9419b85",
      "metadata": {
        "id": "d9419b85"
      },
      "outputs": [],
      "source": [
        "# select the rows where 'gill-attachment_p' is 1\n",
        "selected_rows_shape_p = final_data_train_watch[final_data_train_watch['gill-attachment_p'] == 1]\n",
        "\n",
        "# create a new dataframe with the selected rows\n",
        "selected_data = pd.DataFrame(selected_rows_shape_p, columns = final_data_train_watch.columns)\n",
        "\n",
        "selected_data_p = final_data_train_watch.loc[final_data_train_watch['gill-attachment_p'] == 1].copy()\n",
        "\n",
        "stem_width_min = selected_data_p['stem-width'].min()\n",
        "stem_width_max = selected_data_p['stem-width'].max()\n",
        "stem_width_mean = selected_data_p['stem-width'].mean()\n",
        "\n",
        "selected_data_p['stem_width_gill_attachment_p_min'] = stem_width_min\n",
        "selected_data_p['stem_width_gill_attachment_p_max'] = stem_width_max\n",
        "selected_data_p['stem_width_gill_attachment_p_mean'] = stem_width_mean\n",
        "selected_data_p = selected_data_p.rename(columns = {'zeros': 'label2'})"
      ]
    },
    {
      "cell_type": "code",
      "execution_count": 16,
      "id": "d3430aa8",
      "metadata": {
        "id": "d3430aa8"
      },
      "outputs": [],
      "source": [
        "# select the rows where 'ring-type_f' is 1\n",
        "selected_rows_shape_f = final_data_train_watch[final_data_train_watch['ring-type_f'] == 1]\n",
        "\n",
        "# create a new dataframe with the selected rows\n",
        "selected_data = pd.DataFrame(selected_rows_shape_f, columns = final_data_train_watch.columns)\n",
        "\n",
        "selected_data_f = final_data_train_watch.loc[final_data_train_watch['ring-type_f'] == 1].copy()\n",
        "\n",
        "stem_width_min = selected_data_f['stem-height'].min()\n",
        "stem_width_max = selected_data_f['stem-height'].max()\n",
        "stem_width_mean = selected_data_f['stem-height'].mean()\n",
        "\n",
        "selected_data_f['stem_height_ring_type_f_min'] = stem_width_min\n",
        "selected_data_f['stem_height_ring_type_f_max'] = stem_width_max\n",
        "selected_data_f['stem_height_ring_type_f_mean'] = stem_width_mean\n",
        "selected_data_f = selected_data_f.rename(columns = {'zeros': 'label3'})"
      ]
    },
    {
      "cell_type": "code",
      "execution_count": 17,
      "id": "c63a62be",
      "metadata": {
        "id": "c63a62be"
      },
      "outputs": [],
      "source": [
        "# select the rows where 'gill-color_o' is 1\n",
        "selected_rows_shape_o = final_data_train_watch[final_data_train_watch['gill-color_o'] == 1]\n",
        "\n",
        "# create a new dataframe with the selected rows\n",
        "selected_data = pd.DataFrame(selected_rows_shape_o, columns = final_data_train_watch.columns)\n",
        "\n",
        "selected_data_o = final_data_train_watch.loc[final_data_train_watch['gill-color_o'] == 1].copy()\n",
        "\n",
        "stem_width_min = selected_data_o['stem-width'].min()\n",
        "stem_width_max = selected_data_o['stem-width'].max()\n",
        "stem_width_mean = selected_data_o['stem-width'].mean()\n",
        "\n",
        "selected_data_o['stem_width_gill_color_o_min'] = stem_width_min\n",
        "selected_data_o['stem_width_gill_color_o_max'] = stem_width_max\n",
        "selected_data_o['stem_width_gill_color_o_mean'] = stem_width_mean\n",
        "selected_data_o = selected_data_o.rename(columns = {'zeros': 'label4'})"
      ]
    },
    {
      "cell_type": "code",
      "execution_count": 18,
      "id": "b4647dde",
      "metadata": {
        "id": "b4647dde"
      },
      "outputs": [],
      "source": [
        "# select the rows where 'cap-color_e' is 1\n",
        "selected_rows_shape_e = final_data_train_watch[final_data_train_watch['cap-color_e'] == 1]\n",
        "\n",
        "# create a new dataframe with the selected rows\n",
        "selected_data = pd.DataFrame(selected_rows_shape_e, columns = final_data_train_watch.columns)\n",
        "\n",
        "selected_data_e = final_data_train_watch.loc[final_data_train_watch['cap-color_e'] == 1].copy()\n",
        "\n",
        "stem_width_min = selected_data_e['cap-diameter'].min()\n",
        "stem_width_max = selected_data_e['cap-diameter'].max()\n",
        "stem_width_mean = selected_data_e['cap-diameter'].mean()\n",
        "\n",
        "selected_data_e['cap_diameter_cap_color_e_min'] = stem_width_min\n",
        "selected_data_e['cap_diameter_cap_color_e_max'] = stem_width_max\n",
        "selected_data_e['cap_diameter_cap_color_e_mean'] = stem_width_mean\n",
        "selected_data_e = selected_data_e.rename(columns = {'zeros': 'label5'})"
      ]
    },
    {
      "cell_type": "code",
      "execution_count": 19,
      "id": "6608a439",
      "metadata": {
        "id": "6608a439"
      },
      "outputs": [],
      "source": [
        "# select the rows where 'cap-shape_p' is 1\n",
        "selected_rows_shape_p_only = final_data_train_watch[final_data_train_watch['cap-shape_p'] == 1]\n",
        "\n",
        "# create a new dataframe with the selected rows\n",
        "selected_data = pd.DataFrame(selected_rows_shape_p_only, columns = final_data_train_watch.columns)\n",
        "\n",
        "selected_data_p_only = final_data_train_watch.loc[final_data_train_watch['cap-shape_p'] == 1].copy()\n",
        "\n",
        "cap_diameter_min = selected_data_p_only['cap-diameter'].min()\n",
        "cap_diameter_max = selected_data_p_only['cap-diameter'].max()\n",
        "cap_diameter_mean = selected_data_p_only['cap-diameter'].mean()\n",
        "\n",
        "selected_data_p_only['cap_diameter_p_min'] = cap_diameter_min\n",
        "selected_data_p_only['cap_diameter_p_max'] = cap_diameter_max\n",
        "selected_data_p_only['cap_diameter_p_mean'] = cap_diameter_mean\n",
        "selected_data_p_only = selected_data_p_only.rename(columns = {'zeros': 'label6'})"
      ]
    },
    {
      "cell_type": "code",
      "execution_count": 20,
      "id": "571cf8b4",
      "metadata": {
        "id": "571cf8b4"
      },
      "outputs": [],
      "source": [
        "concatenated_data = pd.concat([selected_data_m, selected_data_p, selected_data_f, selected_data_o, selected_data_e, selected_data_p_only], axis = 0)\n",
        "\n",
        "# replace all NaN values in concatenated_data with 0s\n",
        "concatenated_data = concatenated_data.fillna(0)"
      ]
    },
    {
      "cell_type": "code",
      "execution_count": 21,
      "id": "8f6838ba",
      "metadata": {
        "id": "8f6838ba"
      },
      "outputs": [],
      "source": [
        "# Define a function to check if any of the label columns has '1'\n",
        "def has_label(row):\n",
        "    label_cols = ['label1', 'label2', 'label3', 'label4', 'label5', 'label6']\n",
        "    \n",
        "    for col in label_cols:\n",
        "        \n",
        "        if row[col] == 1:\n",
        "            return 1\n",
        "    return 0\n",
        "\n",
        "# Create the new 'label' column by applying the 'has_label' function to each row\n",
        "concatenated_data['label'] = concatenated_data.apply(has_label, axis = 1)"
      ]
    },
    {
      "cell_type": "code",
      "execution_count": 22,
      "id": "d3c2268c",
      "metadata": {
        "id": "d3c2268c"
      },
      "outputs": [],
      "source": [
        "column_names = concatenated_data.columns.tolist()"
      ]
    },
    {
      "cell_type": "code",
      "execution_count": 23,
      "id": "8ea4d4f2",
      "metadata": {
        "id": "8ea4d4f2"
      },
      "outputs": [],
      "source": [
        "shuffled_data = concatenated_data.sample(frac = 1, random_state = 42)"
      ]
    },
    {
      "cell_type": "code",
      "execution_count": 24,
      "id": "779cf99d",
      "metadata": {
        "colab": {
          "base_uri": "https://localhost:8080/"
        },
        "id": "779cf99d",
        "outputId": "6095307b-6758-47dd-f853-3453050b5dc4"
      },
      "outputs": [
        {
          "output_type": "stream",
          "name": "stdout",
          "text": [
            "['stem-color_e', 'gill-attachment_p', 'gill-color_y', 'cap-surface_g', 'gill-attachment_s', 'gill-color_p', 'gill-color_o', 'cap-shape_b', 'cap-color_w', 'cap-surface_y', 'cap-color_y', 'cap-color_g', 'gill-attachment_e', 'stem-color_n', 'cap-shape_o', 'gill-color_n', 'habitat_m', 'gill-attachment_d', 'stem-color_g', 'cap-color_e', 'habitat_l', 'gill-color_e', 'cap-surface_k', 'stem-color_y', 'cap-shape_f', 'cap-shape_s', 'habitat_g', 'stem_width_gill_color_o_max', 'stem-color_o', 'gill-color_g', 'ring-type_f', 'cap-color_o', 'cap-surface_e', 'gill-color_f', 'gill-spacing_f', 'gill-spacing_d', 'cap-surface_h', 'cap-color_p', 'stem-color_f', 'gill-color_w', 'stem-color_w', 'cap-shape_x', 'cap-shape_c', 'cap-surface_i', 'gill-attachment_f', 'habitat_h', 'cap_diameter_p_max', 'cap-surface_d', 'season_w', 'gill-color_k', 'cap-surface_s', 'cap-color_n', 'gill-attachment_x', 'has-ring_f', 'cap-color_u', 'gill-attachment_a', 'cap_diameter_cap_color_e_max', 'season_s', 'has-ring_t', 'stem-height', 'cap-shape_p', 'cap-surface_w', 'cap-color_b', 'cap-surface_l', 'stem-color_u', 'stem-color_k', 'ring-type_m', 'habitat_d', 'does-bruise-or-bleed_t', 'cap-color_r']\n"
          ]
        }
      ],
      "source": [
        "shuffled_data_train = shuffled_data.iloc[:, :-1]\n",
        "label_train = shuffled_data.iloc[:, -1]\n",
        "shuffled_data_train = shuffled_data_train.drop(['label1', 'label2', 'label3', 'label4', 'label5', 'label6'], axis = 1)\n",
        "\n",
        "# Apply PCA to the shuffled data\n",
        "pca = PCA(n_components = 70)\n",
        "pcs = pca.fit_transform(shuffled_data_train)\n",
        "\n",
        "# Get the names of the original features with the highest absolute loadings for each component\n",
        "num_top_features = 70  # change this to the desired number of top features\n",
        "top_feature_names = []\n",
        "\n",
        "for i in range(pca.n_components_):\n",
        "    component_loadings = abs(pca.components_[i])\n",
        "    sorted_indices = component_loadings.argsort()[::-1]\n",
        "    top_feature_indices = sorted_indices[:num_top_features]\n",
        "    top_feature_names.append(shuffled_data_train.columns[top_feature_indices].tolist())\n",
        "\n",
        "# Concatenate the lists of top feature names into a single list\n",
        "all_top_feature_names = [name for sublist in top_feature_names for name in sublist]\n",
        "\n",
        "# Count the frequency of each feature and sort them in descending order\n",
        "feature_counts = pd.Series(all_top_feature_names).value_counts().sort_values(ascending = False)\n",
        "\n",
        "# Get the top 10 most frequent features\n",
        "top_features = feature_counts.index[:70].tolist()\n",
        "\n",
        "# Print the list of top feature names\n",
        "print(top_features)"
      ]
    },
    {
      "cell_type": "code",
      "execution_count": 25,
      "id": "0ab29245",
      "metadata": {
        "colab": {
          "base_uri": "https://localhost:8080/"
        },
        "id": "0ab29245",
        "outputId": "25e41413-1e7a-4fcf-dd98-29a8a2bffd22"
      },
      "outputs": [
        {
          "output_type": "stream",
          "name": "stdout",
          "text": [
            "Column does not exist in shuffled_data_train\n"
          ]
        }
      ],
      "source": [
        "if 'label5' in shuffled_data_train.columns:\n",
        "    print(\"Column exists in shuffled_data_train\")\n",
        "else:\n",
        "    print(\"Column does not exist in shuffled_data_train\")"
      ]
    },
    {
      "cell_type": "code",
      "execution_count": 26,
      "id": "786be7cd",
      "metadata": {
        "id": "786be7cd"
      },
      "outputs": [],
      "source": [
        "# Get the indices of the columns in shuffled_data that correspond to the top 70 features\n",
        "top_feature_indices = [shuffled_data_train.columns.get_loc(feature) for feature in top_features[:70]]\n",
        "\n",
        "# Create a new dataframe that contains only the top 70 features\n",
        "top_70_features_data = shuffled_data_train.iloc[:, top_feature_indices]"
      ]
    },
    {
      "cell_type": "code",
      "execution_count": 27,
      "id": "feb7bb59",
      "metadata": {
        "colab": {
          "base_uri": "https://localhost:8080/"
        },
        "id": "feb7bb59",
        "outputId": "5e35338e-3495-487d-b685-484c92bcb4d4"
      },
      "outputs": [
        {
          "output_type": "stream",
          "name": "stdout",
          "text": [
            "              cap-diameter  stem-height  stem-width\n",
            "cap-diameter      1.000000     0.421315    0.694313\n",
            "stem-height       0.421315     1.000000    0.436266\n",
            "stem-width        0.694313     0.436266    1.000000\n",
            "['cap-shape_b', 'cap-shape_c', 'cap-shape_f', 'cap-shape_o', 'cap-shape_p', 'cap-shape_s', 'cap-shape_x', 'cap-surface_d', 'cap-surface_e', 'cap-surface_g', 'cap-surface_h', 'cap-surface_i', 'cap-surface_k', 'cap-surface_l', 'cap-surface_s', 'cap-surface_t', 'cap-surface_w', 'cap-surface_y', 'cap-color_b', 'cap-color_e', 'cap-color_g', 'cap-color_k', 'cap-color_l', 'cap-color_n', 'cap-color_o', 'cap-color_p', 'cap-color_r', 'cap-color_u', 'cap-color_w', 'cap-color_y', 'does-bruise-or-bleed_f', 'does-bruise-or-bleed_t', 'gill-attachment_a', 'gill-attachment_d', 'gill-attachment_e', 'gill-attachment_f', 'gill-attachment_p', 'gill-attachment_s', 'gill-attachment_x', 'gill-spacing_c', 'gill-spacing_d', 'gill-spacing_f', 'gill-color_b', 'gill-color_e', 'gill-color_f', 'gill-color_g', 'gill-color_k', 'gill-color_n', 'gill-color_o', 'gill-color_p', 'gill-color_r', 'gill-color_u', 'gill-color_w', 'gill-color_y', 'stem-color_b', 'stem-color_e', 'stem-color_f', 'stem-color_g', 'stem-color_k', 'stem-color_l', 'stem-color_n', 'stem-color_o', 'stem-color_p', 'stem-color_r', 'stem-color_u', 'stem-color_w', 'stem-color_y', 'has-ring_f', 'has-ring_t', 'ring-type_e', 'ring-type_f', 'ring-type_g', 'ring-type_l', 'ring-type_m', 'ring-type_p', 'ring-type_r', 'ring-type_z', 'habitat_d', 'habitat_g', 'habitat_h', 'habitat_l', 'habitat_m', 'habitat_p', 'habitat_u', 'habitat_w', 'season_a', 'season_s', 'season_u', 'season_w', 'class_e', 'class_p']\n"
          ]
        },
        {
          "output_type": "stream",
          "name": "stderr",
          "text": [
            "<ipython-input-27-b58a634a196b>:5: FutureWarning: The default value of numeric_only in DataFrame.corr is deprecated. In a future version, it will default to False. Select only valid columns or specify the value of numeric_only to silence this warning.\n",
            "  corr_matrix = data_test.corr()\n"
          ]
        }
      ],
      "source": [
        "data_test = pd.read_csv('mushroom_test.csv', usecols = [0, 1, 2, 3, 4, 5, 6, 7, 8, 9, 10, 11, 12, 13, 14, 15])\n",
        "data_new_test = data_test.to_numpy()\n",
        "\n",
        "# Calculate the Pearson correlation coefficient for all pairs of columns\n",
        "corr_matrix = data_test.corr()\n",
        "\n",
        "# Display the correlation matrix\n",
        "print(corr_matrix)\n",
        "\n",
        "categorical_col = ['cap-shape', 'cap-surface', 'cap-color', 'does-bruise-or-bleed', 'gill-attachment', 'gill-spacing', 'gill-color', 'stem-color', 'has-ring', 'ring-type', 'habitat', 'season','class']\n",
        "categorical_data_test = data_test[categorical_col]\n",
        "encoded_data_test = pd.get_dummies(categorical_data_test, prefix = categorical_col, prefix_sep='_')\n",
        "print(encoded_data_test.columns.tolist())"
      ]
    },
    {
      "cell_type": "code",
      "execution_count": 28,
      "id": "d866f33c",
      "metadata": {
        "colab": {
          "base_uri": "https://localhost:8080/"
        },
        "id": "d866f33c",
        "outputId": "4dd9aaba-ef45-492a-df9b-0f82ea16abe5"
      },
      "outputs": [
        {
          "output_type": "stream",
          "name": "stdout",
          "text": [
            "['cap-diameter', 'stem-height', 'stem-width', 'cap-shape_b', 'cap-shape_c', 'cap-shape_f', 'cap-shape_o', 'cap-shape_p', 'cap-shape_s', 'cap-shape_x', 'cap-surface_d', 'cap-surface_e', 'cap-surface_g', 'cap-surface_h', 'cap-surface_i', 'cap-surface_k', 'cap-surface_l', 'cap-surface_s', 'cap-surface_t', 'cap-surface_w', 'cap-surface_y', 'cap-color_b', 'cap-color_e', 'cap-color_g', 'cap-color_k', 'cap-color_l', 'cap-color_n', 'cap-color_o', 'cap-color_p', 'cap-color_r', 'cap-color_u', 'cap-color_w', 'cap-color_y', 'does-bruise-or-bleed_f', 'does-bruise-or-bleed_t', 'gill-attachment_a', 'gill-attachment_d', 'gill-attachment_e', 'gill-attachment_f', 'gill-attachment_p', 'gill-attachment_s', 'gill-attachment_x', 'gill-spacing_c', 'gill-spacing_d', 'gill-spacing_f', 'gill-color_b', 'gill-color_e', 'gill-color_f', 'gill-color_g', 'gill-color_k', 'gill-color_n', 'gill-color_o', 'gill-color_p', 'gill-color_r', 'gill-color_u', 'gill-color_w', 'gill-color_y', 'stem-color_b', 'stem-color_e', 'stem-color_f', 'stem-color_g', 'stem-color_k', 'stem-color_l', 'stem-color_n', 'stem-color_o', 'stem-color_p', 'stem-color_r', 'stem-color_u', 'stem-color_w', 'stem-color_y', 'has-ring_f', 'has-ring_t', 'ring-type_e', 'ring-type_f', 'ring-type_g', 'ring-type_l', 'ring-type_m', 'ring-type_p', 'ring-type_r', 'ring-type_z', 'habitat_d', 'habitat_g', 'habitat_h', 'habitat_l', 'habitat_m', 'habitat_p', 'habitat_u', 'habitat_w', 'season_a', 'season_s', 'season_u', 'season_w', 'class_e', 'class_p']\n"
          ]
        }
      ],
      "source": [
        "numerical_col_test = data_test[['cap-diameter', 'stem-height', 'stem-width']]\n",
        "scaler = StandardScaler()\n",
        "numerical_col_scaled_test = scaler.fit_transform(numerical_col_test)\n",
        "numerical_data_test = pd.DataFrame(numerical_col_scaled_test, columns = numerical_col_test.columns)\n",
        "\n",
        "final_data_test = pd.concat([numerical_data_test, encoded_data_test], axis = 1)\n",
        "print(final_data_test.columns.tolist())"
      ]
    },
    {
      "cell_type": "code",
      "execution_count": 29,
      "id": "42f356a7",
      "metadata": {
        "id": "42f356a7"
      },
      "outputs": [],
      "source": [
        "df_temp = pd.DataFrame({'zeros': [0] * (final_data_test.shape[0])})\n",
        "df_temp.loc[final_data_test.iloc[:,-2] == 1, 'zeros'] = 0\n",
        "df_temp.loc[final_data_test.iloc[:,-1] == 1, 'zeros'] = 1"
      ]
    },
    {
      "cell_type": "code",
      "execution_count": 30,
      "id": "498afb9d",
      "metadata": {
        "colab": {
          "base_uri": "https://localhost:8080/"
        },
        "id": "498afb9d",
        "outputId": "b1e6bf22-649a-4dd0-fc45-ce0d3b592840"
      },
      "outputs": [
        {
          "output_type": "stream",
          "name": "stdout",
          "text": [
            "['cap-diameter', 'stem-height', 'stem-width', 'cap-shape_b', 'cap-shape_c', 'cap-shape_f', 'cap-shape_o', 'cap-shape_p', 'cap-shape_s', 'cap-shape_x', 'cap-surface_d', 'cap-surface_e', 'cap-surface_g', 'cap-surface_h', 'cap-surface_i', 'cap-surface_k', 'cap-surface_l', 'cap-surface_s', 'cap-surface_t', 'cap-surface_w', 'cap-surface_y', 'cap-color_b', 'cap-color_e', 'cap-color_g', 'cap-color_k', 'cap-color_l', 'cap-color_n', 'cap-color_o', 'cap-color_p', 'cap-color_r', 'cap-color_u', 'cap-color_w', 'cap-color_y', 'does-bruise-or-bleed_f', 'does-bruise-or-bleed_t', 'gill-attachment_a', 'gill-attachment_d', 'gill-attachment_e', 'gill-attachment_f', 'gill-attachment_p', 'gill-attachment_s', 'gill-attachment_x', 'gill-spacing_c', 'gill-spacing_d', 'gill-spacing_f', 'gill-color_b', 'gill-color_e', 'gill-color_f', 'gill-color_g', 'gill-color_k', 'gill-color_n', 'gill-color_o', 'gill-color_p', 'gill-color_r', 'gill-color_u', 'gill-color_w', 'gill-color_y', 'stem-color_b', 'stem-color_e', 'stem-color_f', 'stem-color_g', 'stem-color_k', 'stem-color_l', 'stem-color_n', 'stem-color_o', 'stem-color_p', 'stem-color_r', 'stem-color_u', 'stem-color_w', 'stem-color_y', 'has-ring_f', 'has-ring_t', 'ring-type_e', 'ring-type_f', 'ring-type_g', 'ring-type_l', 'ring-type_m', 'ring-type_p', 'ring-type_r', 'ring-type_z', 'habitat_d', 'habitat_g', 'habitat_h', 'habitat_l', 'habitat_m', 'habitat_p', 'habitat_u', 'habitat_w', 'season_a', 'season_s', 'season_u', 'season_w']\n"
          ]
        }
      ],
      "source": [
        "final_data_test = final_data_test.drop(final_data_test.columns[-2:], axis = 1)\n",
        "print(final_data_test.columns.tolist())"
      ]
    },
    {
      "cell_type": "code",
      "execution_count": 31,
      "id": "cba90b47",
      "metadata": {
        "colab": {
          "base_uri": "https://localhost:8080/"
        },
        "id": "cba90b47",
        "outputId": "3b7c4735-803b-4498-d784-77a7ee159a28"
      },
      "outputs": [
        {
          "output_type": "stream",
          "name": "stdout",
          "text": [
            "['cap-diameter', 'stem-height', 'stem-width', 'cap-shape_b', 'cap-shape_c', 'cap-shape_f', 'cap-shape_o', 'cap-shape_p', 'cap-shape_s', 'cap-shape_x', 'cap-surface_d', 'cap-surface_e', 'cap-surface_g', 'cap-surface_h', 'cap-surface_i', 'cap-surface_k', 'cap-surface_l', 'cap-surface_s', 'cap-surface_t', 'cap-surface_w', 'cap-surface_y', 'cap-color_b', 'cap-color_e', 'cap-color_g', 'cap-color_k', 'cap-color_l', 'cap-color_n', 'cap-color_o', 'cap-color_p', 'cap-color_r', 'cap-color_u', 'cap-color_w', 'cap-color_y', 'does-bruise-or-bleed_f', 'does-bruise-or-bleed_t', 'gill-attachment_a', 'gill-attachment_d', 'gill-attachment_e', 'gill-attachment_f', 'gill-attachment_p', 'gill-attachment_s', 'gill-attachment_x', 'gill-spacing_c', 'gill-spacing_d', 'gill-spacing_f', 'gill-color_b', 'gill-color_e', 'gill-color_f', 'gill-color_g', 'gill-color_k', 'gill-color_n', 'gill-color_o', 'gill-color_p', 'gill-color_r', 'gill-color_u', 'gill-color_w', 'gill-color_y', 'stem-color_b', 'stem-color_e', 'stem-color_f', 'stem-color_g', 'stem-color_k', 'stem-color_l', 'stem-color_n', 'stem-color_o', 'stem-color_p', 'stem-color_r', 'stem-color_u', 'stem-color_w', 'stem-color_y', 'has-ring_f', 'has-ring_t', 'ring-type_e', 'ring-type_f', 'ring-type_g', 'ring-type_l', 'ring-type_m', 'ring-type_p', 'ring-type_r', 'ring-type_z', 'habitat_d', 'habitat_g', 'habitat_h', 'habitat_l', 'habitat_m', 'habitat_p', 'habitat_u', 'habitat_w', 'season_a', 'season_s', 'season_u', 'season_w', 'zeros']\n"
          ]
        }
      ],
      "source": [
        "final_data_test_watch = pd.concat([final_data_test, df_temp], axis = 1)\n",
        "final_data_test_watch = final_data_test_watch.rename(columns = {'<old_column_name>': 'label'})\n",
        "print(final_data_test_watch.columns.tolist())"
      ]
    },
    {
      "cell_type": "code",
      "execution_count": 32,
      "id": "1c061ea7",
      "metadata": {
        "colab": {
          "base_uri": "https://localhost:8080/"
        },
        "id": "1c061ea7",
        "outputId": "4331ce02-2b18-4efb-cd76-f27a2254f4e4"
      },
      "outputs": [
        {
          "output_type": "stream",
          "name": "stdout",
          "text": [
            "Top 10 positive correlations:\n",
            "            feature_1     feature_2  correlation_coefficient\n",
            "3        cap-diameter    stem-width                 0.694313\n",
            "4          stem-width  cap-diameter                 0.694313\n",
            "5         stem-height    stem-width                 0.436266\n",
            "6          stem-width   stem-height                 0.436266\n",
            "7         ring-type_m   stem-height                 0.433530\n",
            "8         stem-height  cap-diameter                 0.421315\n",
            "9        cap-diameter   stem-height                 0.421315\n",
            "10  gill-attachment_p    stem-width                 0.414484\n",
            "11  gill-attachment_p  cap-diameter                 0.372388\n",
            "12        ring-type_f   stem-height                 0.323684\n",
            "\n",
            "Top 10 negative correlations:\n",
            "             feature_1     feature_2  correlation_coefficient\n",
            "275       gill-color_o    stem-width                 0.000028\n",
            "274        ring-type_l    stem-width                 0.000548\n",
            "273          habitat_u    stem-width                 0.000694\n",
            "272  gill-attachment_s  cap-diameter                 0.001258\n",
            "271     gill-spacing_c    stem-width                 0.001833\n",
            "270      cap-surface_i   stem-height                 0.002169\n",
            "269      cap-surface_k    stem-width                 0.002248\n",
            "268          habitat_l    stem-width                 0.002260\n",
            "267       stem-color_r    stem-width                 0.002378\n",
            "266           season_u  cap-diameter                 0.002442\n",
            "['cap-diameter', 'stem-height', 'stem-width', 'cap-shape_b', 'cap-shape_c', 'cap-shape_f', 'cap-shape_o', 'cap-shape_p', 'cap-shape_s', 'cap-shape_x', 'cap-surface_d', 'cap-surface_e', 'cap-surface_g', 'cap-surface_h', 'cap-surface_i', 'cap-surface_k', 'cap-surface_l', 'cap-surface_s', 'cap-surface_t', 'cap-surface_w', 'cap-surface_y', 'cap-color_b', 'cap-color_e', 'cap-color_g', 'cap-color_k', 'cap-color_l', 'cap-color_n', 'cap-color_o', 'cap-color_p', 'cap-color_r', 'cap-color_u', 'cap-color_w', 'cap-color_y', 'does-bruise-or-bleed_f', 'does-bruise-or-bleed_t', 'gill-attachment_a', 'gill-attachment_d', 'gill-attachment_e', 'gill-attachment_f', 'gill-attachment_p', 'gill-attachment_s', 'gill-attachment_x', 'gill-spacing_c', 'gill-spacing_d', 'gill-spacing_f', 'gill-color_b', 'gill-color_e', 'gill-color_f', 'gill-color_g', 'gill-color_k', 'gill-color_n', 'gill-color_o', 'gill-color_p', 'gill-color_r', 'gill-color_u', 'gill-color_w', 'gill-color_y', 'stem-color_b', 'stem-color_e', 'stem-color_f', 'stem-color_g', 'stem-color_k', 'stem-color_l', 'stem-color_n', 'stem-color_o', 'stem-color_p', 'stem-color_r', 'stem-color_u', 'stem-color_w', 'stem-color_y', 'has-ring_f', 'has-ring_t', 'ring-type_e', 'ring-type_f', 'ring-type_g', 'ring-type_l', 'ring-type_m', 'ring-type_p', 'ring-type_r', 'ring-type_z', 'habitat_d', 'habitat_g', 'habitat_h', 'habitat_l', 'habitat_m', 'habitat_p', 'habitat_u', 'habitat_w', 'season_a', 'season_s', 'season_u', 'season_w', 'zeros']\n"
          ]
        }
      ],
      "source": [
        "# define the columns of interest\n",
        "cols_of_interest = ['stem-width', 'stem-height', 'cap-diameter']\n",
        "\n",
        "# calculate the correlation matrix\n",
        "corr_matrix = final_data_test.corr(method = 'pearson')\n",
        "\n",
        "# filter the correlation matrix to only include rows or columns with 'stem-width', 'stem-height', or 'cap-diameter'\n",
        "corr_filtered = corr_matrix[(corr_matrix.index.isin(cols_of_interest)) | (corr_matrix.columns.isin(cols_of_interest))]\n",
        "\n",
        "# create a copy of the filtered correlation matrix for sorting\n",
        "corr_sorted = corr_filtered.abs().unstack().sort_values(ascending = False).reset_index()\n",
        "\n",
        "# remove self-correlations (correlations of features with themselves)\n",
        "corr_sorted = corr_sorted[corr_sorted['level_0'] != corr_sorted['level_1']]\n",
        "\n",
        "# rename the columns of the sorted correlation matrix\n",
        "corr_sorted.columns = ['feature_1', 'feature_2', 'correlation_coefficient']\n",
        "\n",
        "# filter the sorted correlation matrix to only include rows or columns with 'stem-width', 'stem-height', or 'cap-diameter'\n",
        "corr_sorted_filtered = corr_sorted[(corr_sorted['feature_1'].isin(cols_of_interest)) | (corr_sorted['feature_2'].isin(cols_of_interest))]\n",
        "\n",
        "# display the top 5 positive and top 5 negative correlation coefficient values with their corresponding row and column names\n",
        "print('Top 10 positive correlations:')\n",
        "print(corr_sorted_filtered.head(10))\n",
        "\n",
        "print('\\nTop 10 negative correlations:')\n",
        "print(corr_sorted_filtered.tail(10)[::-1])\n",
        "\n",
        "filtered_cols = final_data_test.columns\n",
        "\n",
        "final_data_test = pd.concat([final_data_test, df_temp], axis = 1)\n",
        "\n",
        "print(final_data_test.columns.tolist())"
      ]
    },
    {
      "cell_type": "code",
      "execution_count": 33,
      "id": "b4ce85ca",
      "metadata": {
        "colab": {
          "base_uri": "https://localhost:8080/"
        },
        "id": "b4ce85ca",
        "outputId": "dbc47d4e-9a1e-44b6-c3f4-2eaa479c92c3"
      },
      "outputs": [
        {
          "output_type": "stream",
          "name": "stdout",
          "text": [
            "['cap-diameter', 'stem-height', 'stem-width', 'cap-shape_b', 'cap-shape_c', 'cap-shape_f', 'cap-shape_o', 'cap-shape_p', 'cap-shape_s', 'cap-shape_x', 'cap-surface_d', 'cap-surface_e', 'cap-surface_g', 'cap-surface_h', 'cap-surface_i', 'cap-surface_k', 'cap-surface_l', 'cap-surface_s', 'cap-surface_t', 'cap-surface_w', 'cap-surface_y', 'cap-color_b', 'cap-color_e', 'cap-color_g', 'cap-color_k', 'cap-color_l', 'cap-color_n', 'cap-color_o', 'cap-color_p', 'cap-color_r', 'cap-color_u', 'cap-color_w', 'cap-color_y', 'does-bruise-or-bleed_f', 'does-bruise-or-bleed_t', 'gill-attachment_a', 'gill-attachment_d', 'gill-attachment_e', 'gill-attachment_f', 'gill-attachment_p', 'gill-attachment_s', 'gill-attachment_x', 'gill-spacing_c', 'gill-spacing_d', 'gill-spacing_f', 'gill-color_b', 'gill-color_e', 'gill-color_f', 'gill-color_g', 'gill-color_k', 'gill-color_n', 'gill-color_o', 'gill-color_p', 'gill-color_r', 'gill-color_u', 'gill-color_w', 'gill-color_y', 'stem-color_b', 'stem-color_e', 'stem-color_f', 'stem-color_g', 'stem-color_k', 'stem-color_l', 'stem-color_n', 'stem-color_o', 'stem-color_p', 'stem-color_r', 'stem-color_u', 'stem-color_w', 'stem-color_y', 'has-ring_f', 'has-ring_t', 'ring-type_e', 'ring-type_f', 'ring-type_g', 'ring-type_l', 'ring-type_m', 'ring-type_p', 'ring-type_r', 'ring-type_z', 'habitat_d', 'habitat_g', 'habitat_h', 'habitat_l', 'habitat_m', 'habitat_p', 'habitat_u', 'habitat_w', 'season_a', 'season_s', 'season_u', 'season_w', 'label1', 'stem_width_ring_type_m_min', 'stem_width_ring_type_m_max', 'stem_width_ring_type_m_mean', 'label2', 'stem_width_gill_attachment_p_min', 'stem_width_gill_attachment_p_max', 'stem_width_gill_attachment_p_mean', 'label3', 'stem_height_ring_type_f_min', 'stem_height_ring_type_f_max', 'stem_height_ring_type_f_mean', 'label4', 'stem_width_gill_color_o_min', 'stem_width_gill_color_o_max', 'stem_width_gill_color_o_mean', 'label5', 'cap_diameter_cap_color_e_min', 'cap_diameter_cap_color_e_max', 'cap_diameter_cap_color_e_mean', 'label6', 'cap_diameter_p_min', 'cap_diameter_p_max', 'cap_diameter_p_mean', 'label']\n",
            "(20076, 117)\n"
          ]
        }
      ],
      "source": [
        "# select the rows where 'ring-type_m' is 1\n",
        "selected_rows_shape_m = final_data_test_watch[final_data_test_watch['ring-type_m'] == 1]\n",
        "\n",
        "# create a new dataframe with the selected rows\n",
        "selected_data = pd.DataFrame(selected_rows_shape_m, columns = final_data_test_watch.columns)\n",
        "\n",
        "selected_data_m = final_data_test_watch.loc[final_data_test_watch['ring-type_m'] == 1].copy()\n",
        "\n",
        "stem_width_min = selected_data_m['stem-width'].min()\n",
        "stem_width_max = selected_data_m['stem-width'].max()\n",
        "stem_width_mean = selected_data_m['stem-width'].mean()\n",
        "\n",
        "selected_data_m['stem_width_ring_type_m_min'] = stem_width_min\n",
        "selected_data_m['stem_width_ring_type_m_max'] = stem_width_max\n",
        "selected_data_m['stem_width_ring_type_m_mean'] = stem_width_mean\n",
        "selected_data_m = selected_data_m.rename(columns = {'zeros': 'label1'})\n",
        "\n",
        "# select the rows where 'gill-attachment_p' is 1\n",
        "selected_rows_shape_p = final_data_test_watch[final_data_test_watch['gill-attachment_p'] == 1]\n",
        "\n",
        "# create a new dataframe with the selected rows\n",
        "selected_data = pd.DataFrame(selected_rows_shape_p, columns=final_data_test_watch.columns)\n",
        "\n",
        "selected_data_p = final_data_test_watch.loc[final_data_test_watch['gill-attachment_p'] == 1].copy()\n",
        "\n",
        "stem_width_min = selected_data_p['stem-width'].min()\n",
        "stem_width_max = selected_data_p['stem-width'].max()\n",
        "stem_width_mean = selected_data_p['stem-width'].mean()\n",
        "\n",
        "selected_data_p['stem_width_gill_attachment_p_min'] = stem_width_min\n",
        "selected_data_p['stem_width_gill_attachment_p_max'] = stem_width_max\n",
        "selected_data_p['stem_width_gill_attachment_p_mean'] = stem_width_mean\n",
        "selected_data_p = selected_data_p.rename(columns = {'zeros': 'label2'})\n",
        "\n",
        "# select the rows where 'ring-type_f' is 1\n",
        "selected_rows_shape_f = final_data_test_watch[final_data_test_watch['ring-type_f'] == 1]\n",
        "\n",
        "# create a new dataframe with the selected rows\n",
        "selected_data = pd.DataFrame(selected_rows_shape_f, columns = final_data_test_watch.columns)\n",
        "\n",
        "selected_data_f = final_data_test_watch.loc[final_data_test_watch['ring-type_f'] == 1].copy()\n",
        "\n",
        "stem_width_min = selected_data_f['stem-height'].min()\n",
        "stem_width_max = selected_data_f['stem-height'].max()\n",
        "stem_width_mean = selected_data_f['stem-height'].mean()\n",
        "\n",
        "selected_data_f['stem_height_ring_type_f_min'] = stem_width_min\n",
        "selected_data_f['stem_height_ring_type_f_max'] = stem_width_max\n",
        "selected_data_f['stem_height_ring_type_f_mean'] = stem_width_mean\n",
        "selected_data_f = selected_data_f.rename(columns = {'zeros': 'label3'})\n",
        "\n",
        "# select the rows where 'gill-color_o' is 1\n",
        "selected_rows_shape_o = final_data_test_watch[final_data_test_watch['gill-color_o'] == 1]\n",
        "\n",
        "# create a new dataframe with the selected rows\n",
        "selected_data = pd.DataFrame(selected_rows_shape_o, columns=final_data_test_watch.columns)\n",
        "\n",
        "selected_data_o = final_data_test_watch.loc[final_data_test_watch['gill-color_o'] == 1].copy()\n",
        "\n",
        "stem_width_min = selected_data_o['stem-width'].min()\n",
        "stem_width_max = selected_data_o['stem-width'].max()\n",
        "stem_width_mean = selected_data_o['stem-width'].mean()\n",
        "\n",
        "selected_data_o['stem_width_gill_color_o_min'] = stem_width_min\n",
        "selected_data_o['stem_width_gill_color_o_max'] = stem_width_max\n",
        "selected_data_o['stem_width_gill_color_o_mean'] = stem_width_mean\n",
        "selected_data_o = selected_data_o.rename(columns = {'zeros': 'label4'})\n",
        "\n",
        "# select the rows where 'cap-color_e' is 1\n",
        "selected_rows_shape_e = final_data_test_watch[final_data_test_watch['cap-color_e'] == 1]\n",
        "\n",
        "# create a new dataframe with the selected rows\n",
        "selected_data = pd.DataFrame(selected_rows_shape_e, columns=final_data_test_watch.columns)\n",
        "\n",
        "selected_data_e = final_data_test_watch.loc[final_data_test_watch['cap-color_e'] == 1].copy()\n",
        "\n",
        "stem_width_min = selected_data_e['cap-diameter'].min()\n",
        "stem_width_max = selected_data_e['cap-diameter'].max()\n",
        "stem_width_mean = selected_data_e['cap-diameter'].mean()\n",
        "\n",
        "selected_data_e['cap_diameter_cap_color_e_min'] = stem_width_min\n",
        "selected_data_e['cap_diameter_cap_color_e_max'] = stem_width_max\n",
        "selected_data_e['cap_diameter_cap_color_e_mean'] = stem_width_mean\n",
        "selected_data_e = selected_data_e.rename(columns = {'zeros': 'label5'})\n",
        "\n",
        "# select the rows where 'cap-shape_p' is 1\n",
        "selected_rows_shape_p_only = final_data_test_watch[final_data_test_watch['cap-shape_p'] == 1]\n",
        "\n",
        "# create a new dataframe with the selected rows\n",
        "selected_data = pd.DataFrame(selected_rows_shape_p_only, columns=final_data_test_watch.columns)\n",
        "\n",
        "selected_data_p_only = final_data_test_watch.loc[final_data_test_watch['cap-shape_p'] == 1].copy()\n",
        "\n",
        "cap_diameter_min = selected_data_p_only['cap-diameter'].min()\n",
        "cap_diameter_max = selected_data_p_only['cap-diameter'].max()\n",
        "cap_diameter_mean = selected_data_p_only['cap-diameter'].mean()\n",
        "\n",
        "selected_data_p_only['cap_diameter_p_min'] = cap_diameter_min\n",
        "selected_data_p_only['cap_diameter_p_max'] = cap_diameter_max\n",
        "selected_data_p_only['cap_diameter_p_mean'] = cap_diameter_mean\n",
        "selected_data_p_only = selected_data_p_only.rename(columns = {'zeros': 'label6'})\n",
        "\n",
        "concatenated_data = pd.concat([selected_data_m, selected_data_p, selected_data_f, selected_data_o, selected_data_e, selected_data_p_only], axis = 0)\n",
        "\n",
        "# replace all NaN values in concatenated_data with 0s\n",
        "concatenated_data = concatenated_data.fillna(0)\n",
        "\n",
        "# Define a function to check if any of the label columns has '1'\n",
        "def has_label(row):\n",
        "    label_cols = ['label1', 'label2', 'label3', 'label4', 'label5', 'label6']\n",
        "    \n",
        "    for col in label_cols:\n",
        "        \n",
        "        if row[col] == 1:\n",
        "            return 1\n",
        "    return 0\n",
        "\n",
        "# Create the new 'label' column by applying the 'has_label' function to each row\n",
        "concatenated_data['label'] = concatenated_data.apply(has_label, axis = 1)\n",
        "\n",
        "column_names = concatenated_data.columns.tolist()\n",
        "\n",
        "shuffled_data = concatenated_data.sample(frac = 1, random_state = 42)\n",
        "\n",
        "print(shuffled_data.columns.tolist())\n",
        "print(shuffled_data.shape)"
      ]
    },
    {
      "cell_type": "code",
      "execution_count": 34,
      "id": "c4a099eb",
      "metadata": {
        "colab": {
          "base_uri": "https://localhost:8080/"
        },
        "id": "c4a099eb",
        "outputId": "8162de51-ceba-48d4-c077-9262fb1b461a"
      },
      "outputs": [
        {
          "output_type": "stream",
          "name": "stdout",
          "text": [
            "['cap-diameter', 'stem-height', 'stem-width', 'cap-shape_b', 'cap-shape_c', 'cap-shape_f', 'cap-shape_o', 'cap-shape_p', 'cap-shape_s', 'cap-shape_x', 'cap-surface_d', 'cap-surface_e', 'cap-surface_g', 'cap-surface_h', 'cap-surface_i', 'cap-surface_k', 'cap-surface_l', 'cap-surface_s', 'cap-surface_t', 'cap-surface_w', 'cap-surface_y', 'cap-color_b', 'cap-color_e', 'cap-color_g', 'cap-color_k', 'cap-color_l', 'cap-color_n', 'cap-color_o', 'cap-color_p', 'cap-color_r', 'cap-color_u', 'cap-color_w', 'cap-color_y', 'does-bruise-or-bleed_f', 'does-bruise-or-bleed_t', 'gill-attachment_a', 'gill-attachment_d', 'gill-attachment_e', 'gill-attachment_f', 'gill-attachment_p', 'gill-attachment_s', 'gill-attachment_x', 'gill-spacing_c', 'gill-spacing_d', 'gill-spacing_f', 'gill-color_b', 'gill-color_e', 'gill-color_f', 'gill-color_g', 'gill-color_k', 'gill-color_n', 'gill-color_o', 'gill-color_p', 'gill-color_r', 'gill-color_u', 'gill-color_w', 'gill-color_y', 'stem-color_b', 'stem-color_e', 'stem-color_f', 'stem-color_g', 'stem-color_k', 'stem-color_l', 'stem-color_n', 'stem-color_o', 'stem-color_p', 'stem-color_r', 'stem-color_u', 'stem-color_w', 'stem-color_y', 'has-ring_f', 'has-ring_t', 'ring-type_e', 'ring-type_f', 'ring-type_g', 'ring-type_l', 'ring-type_m', 'ring-type_p', 'ring-type_r', 'ring-type_z', 'habitat_d', 'habitat_g', 'habitat_h', 'habitat_l', 'habitat_m', 'habitat_p', 'habitat_u', 'habitat_w', 'season_a', 'season_s', 'season_u', 'season_w', 'stem_width_ring_type_m_min', 'stem_width_ring_type_m_max', 'stem_width_ring_type_m_mean', 'stem_width_gill_attachment_p_min', 'stem_width_gill_attachment_p_max', 'stem_width_gill_attachment_p_mean', 'stem_height_ring_type_f_min', 'stem_height_ring_type_f_max', 'stem_height_ring_type_f_mean', 'stem_width_gill_color_o_min', 'stem_width_gill_color_o_max', 'stem_width_gill_color_o_mean', 'cap_diameter_cap_color_e_min', 'cap_diameter_cap_color_e_max', 'cap_diameter_cap_color_e_mean', 'cap_diameter_p_min', 'cap_diameter_p_max', 'cap_diameter_p_mean']\n",
            "(20076, 110)\n"
          ]
        }
      ],
      "source": [
        "shuffled_data_test = shuffled_data.iloc[:, :-1]\n",
        "label_test = shuffled_data.iloc[:, -1]\n",
        "shuffled_data_test = shuffled_data_test.drop(['label1', 'label2', 'label3', 'label4', 'label5', 'label6'], axis=1)\n",
        "print(shuffled_data_test.columns.tolist())\n",
        "print(shuffled_data_test.shape)"
      ]
    },
    {
      "cell_type": "code",
      "execution_count": 35,
      "id": "f5ccce7d",
      "metadata": {
        "colab": {
          "base_uri": "https://localhost:8080/"
        },
        "id": "f5ccce7d",
        "outputId": "556b1ba6-52cd-461b-ad6b-a1c83a79f94f"
      },
      "outputs": [
        {
          "output_type": "stream",
          "name": "stdout",
          "text": [
            "(20076,)\n"
          ]
        }
      ],
      "source": [
        "print(label_test.shape)"
      ]
    },
    {
      "cell_type": "code",
      "execution_count": 36,
      "id": "02a701d3",
      "metadata": {
        "colab": {
          "base_uri": "https://localhost:8080/"
        },
        "id": "02a701d3",
        "outputId": "f65a779e-461b-48dd-d752-dabd46599a0a"
      },
      "outputs": [
        {
          "output_type": "stream",
          "name": "stdout",
          "text": [
            "['stem-color_e', 'gill-attachment_p', 'gill-color_y', 'cap-surface_g', 'gill-attachment_s', 'gill-color_p', 'gill-color_o', 'cap-shape_b', 'cap-color_w', 'cap-surface_y', 'cap-color_y', 'cap-color_g', 'gill-attachment_e', 'stem-color_n', 'cap-shape_o', 'gill-color_n', 'habitat_m', 'gill-attachment_d', 'stem-color_g', 'cap-color_e', 'habitat_l', 'gill-color_e', 'cap-surface_k', 'stem-color_y', 'cap-shape_f', 'cap-shape_s', 'habitat_g', 'stem_width_gill_color_o_max', 'stem-color_o', 'gill-color_g', 'ring-type_f', 'cap-color_o', 'cap-surface_e', 'gill-color_f', 'gill-spacing_f', 'gill-spacing_d', 'cap-surface_h', 'cap-color_p', 'stem-color_f', 'gill-color_w', 'stem-color_w', 'cap-shape_x', 'cap-shape_c', 'cap-surface_i', 'gill-attachment_f', 'habitat_h', 'cap_diameter_p_max', 'cap-surface_d', 'season_w', 'gill-color_k', 'cap-surface_s', 'cap-color_n', 'gill-attachment_x', 'has-ring_f', 'cap-color_u', 'gill-attachment_a', 'cap_diameter_cap_color_e_max', 'season_s', 'has-ring_t', 'stem-height', 'cap-shape_p', 'cap-surface_w', 'cap-color_b', 'cap-surface_l', 'stem-color_u', 'stem-color_k', 'ring-type_m', 'habitat_d', 'does-bruise-or-bleed_t', 'cap-color_r']\n"
          ]
        }
      ],
      "source": [
        "print(top_features)"
      ]
    },
    {
      "cell_type": "code",
      "execution_count": 37,
      "id": "d9b79cb2",
      "metadata": {
        "id": "d9b79cb2"
      },
      "outputs": [],
      "source": [
        "# Features found through PCA on train dataset\n",
        "shuffled_data_test = shuffled_data_test[top_features]        "
      ]
    },
    {
      "cell_type": "code",
      "execution_count": 38,
      "id": "c3099ddf",
      "metadata": {
        "colab": {
          "base_uri": "https://localhost:8080/"
        },
        "id": "c3099ddf",
        "outputId": "c5646ca3-9938-4599-c97b-2b724d3ca811"
      },
      "outputs": [
        {
          "output_type": "stream",
          "name": "stdout",
          "text": [
            "              precision    recall  f1-score   support\n",
            "\n",
            "           0       0.74      0.76      0.75      9298\n",
            "           1       0.79      0.77      0.78     10778\n",
            "\n",
            "    accuracy                           0.76     20076\n",
            "   macro avg       0.76      0.76      0.76     20076\n",
            "weighted avg       0.76      0.76      0.76     20076\n",
            "\n",
            "The test accuracy:  76.34488942020323 %\n"
          ]
        }
      ],
      "source": [
        "X_train = top_70_features_data\n",
        "y_train = label_train\n",
        "\n",
        "# Create a logistic regression object and fit it to the training data\n",
        "logreg = LogisticRegression(max_iter = 1000)\n",
        "logreg.fit(X_train, y_train)\n",
        "\n",
        "X_test = shuffled_data_test\n",
        "\n",
        "# Predict the class labels of the test data\n",
        "y_pred = logreg.predict(X_test)\n",
        "\n",
        "# Evaluate the performance of the logistic regression model using classification metrics\n",
        "print(classification_report(label_test, y_pred))\n",
        "\n",
        "score = logreg.score(X_test, label_test)\n",
        "print(\"The test accuracy: \", score * 100, '%')"
      ]
    },
    {
      "cell_type": "code",
      "execution_count": 39,
      "id": "21b31820",
      "metadata": {
        "id": "21b31820"
      },
      "outputs": [],
      "source": [
        "losses = []\n",
        "accuracies = []\n",
        "\n",
        "for i in range(100):\n",
        "    logreg.fit(X_train, y_train)\n",
        "    y_pred = logreg.predict(shuffled_data_test)\n",
        "    y_prob = logreg.predict_proba(shuffled_data_test)\n",
        "    loss = log_loss(label_test, y_pred)\n",
        "    accuracy = logreg.score(shuffled_data_test, label_test)\n",
        "    losses.append(loss)\n",
        "    accuracies.append(accuracy)"
      ]
    },
    {
      "cell_type": "code",
      "source": [
        "plt.plot(range(100), losses)\n",
        "plt.title(\"Log loss\")\n",
        "plt.xlabel(\"Iteration\")\n",
        "plt.ylabel(\"Loss\")\n",
        "plt.show()\n",
        "\n",
        "plt.plot(accuracies)\n",
        "plt.title(\"Accuracy\")\n",
        "plt.xlabel(\"Iteration\")\n",
        "plt.ylabel(\"Accuracy\")\n",
        "plt.show()"
      ],
      "metadata": {
        "colab": {
          "base_uri": "https://localhost:8080/",
          "height": 927
        },
        "id": "tqnG20wxaeHv",
        "outputId": "cf5987da-d0e1-4447-d6a7-33a3c8babbf1"
      },
      "id": "tqnG20wxaeHv",
      "execution_count": 40,
      "outputs": [
        {
          "output_type": "display_data",
          "data": {
            "text/plain": [
              "<Figure size 640x480 with 1 Axes>"
            ],
            "image/png": "[encoded data removed]"
          },
          "metadata": {}
        },
        {
          "output_type": "display_data",
          "data": {
            "text/plain": [
              "<Figure size 640x480 with 1 Axes>"
            ],
            "image/png": "[encoded data removed]"
          },
          "metadata": {}
        }
      ]
    },
    {
      "cell_type": "code",
      "execution_count": 41,
      "id": "cd6523cf",
      "metadata": {
        "colab": {
          "base_uri": "https://localhost:8080/"
        },
        "id": "cd6523cf",
        "outputId": "9df89ae3-0900-4d41-b896-6760a1caba8d"
      },
      "outputs": [
        {
          "output_type": "execute_result",
          "data": {
            "text/plain": [
              "array([0, 1])"
            ]
          },
          "metadata": {},
          "execution_count": 41
        }
      ],
      "source": [
        "np.unique(label_test)"
      ]
    },
    {
      "cell_type": "code",
      "execution_count": 42,
      "id": "d6319445",
      "metadata": {
        "colab": {
          "base_uri": "https://localhost:8080/",
          "height": 466
        },
        "id": "d6319445",
        "outputId": "8f6be033-c9db-4940-b02e-d36dcde589da"
      },
      "outputs": [
        {
          "output_type": "execute_result",
          "data": {
            "text/plain": [
              "<sklearn.metrics._plot.confusion_matrix.ConfusionMatrixDisplay at 0x7f44cf8850a0>"
            ]
          },
          "metadata": {},
          "execution_count": 42
        },
        {
          "output_type": "display_data",
          "data": {
            "text/plain": [
              "<Figure size 640x480 with 2 Axes>"
            ],
            "image/png": "[encoded data removed]"
          },
          "metadata": {}
        }
      ],
      "source": [
        "from sklearn.metrics import ConfusionMatrixDisplay, confusion_matrix\n",
        "\n",
        "# Get the confusion matrix\n",
        "cm = confusion_matrix(label_test, y_pred)\n",
        "\n",
        "# Create a confusion matrix display object with labels\n",
        "cm_display = ConfusionMatrixDisplay(cm, display_labels = [0, 1])\n",
        "\n",
        "# Plot the confusion matrix\n",
        "cm_display.plot()"
      ]
    },
    {
      "cell_type": "code",
      "source": [
        "fda = LinearDiscriminantAnalysis(n_components = 1)\n",
        "fda.fit(X_train, label_train)\n",
        "X_fda = fda.transform(X_train)\n",
        "Xtest_fda = fda.transform(X_test)\n",
        "logreg.fit(X_fda, label_train)\n",
        "y_pred = logreg.predict(Xtest_fda)\n",
        "print(classification_report(label_test, y_pred))\n",
        "score = accuracy_score(y_pred, label_test)\n",
        "print(\"The test accuracy: \", score * 100, '%')"
      ],
      "metadata": {
        "colab": {
          "base_uri": "https://localhost:8080/"
        },
        "id": "-jgGk50RfYBd",
        "outputId": "e81e19a8-1719-4f7b-ac45-eeb7809abc42"
      },
      "id": "-jgGk50RfYBd",
      "execution_count": 43,
      "outputs": [
        {
          "output_type": "stream",
          "name": "stdout",
          "text": [
            "              precision    recall  f1-score   support\n",
            "\n",
            "           0       0.73      0.75      0.74      9298\n",
            "           1       0.78      0.76      0.77     10778\n",
            "\n",
            "    accuracy                           0.75     20076\n",
            "   macro avg       0.75      0.75      0.75     20076\n",
            "weighted avg       0.75      0.75      0.75     20076\n",
            "\n",
            "The test accuracy:  75.28890217174737 %\n"
          ]
        }
      ]
    },
    {
      "cell_type": "code",
      "source": [
        "svm = SVC(kernel = 'linear')\n",
        "svm.fit(X_train, label_train)\n",
        "Xtest_fda = fda.transform(X_test)\n",
        "y_pred = logreg.predict(Xtest_fda)\n",
        "print(classification_report(label_test, y_pred))\n",
        "score = accuracy_score(y_pred, label_test)\n",
        "print(\"The test accuracy: \", score * 100, '%')"
      ],
      "metadata": {
        "id": "4mdOOKv6uZzy"
      },
      "id": "4mdOOKv6uZzy",
      "execution_count": null,
      "outputs": []
    },
    {
      "cell_type": "code",
      "source": [],
      "metadata": {
        "id": "EnEQJOjm69tN"
      },
      "id": "EnEQJOjm69tN",
      "execution_count": null,
      "outputs": []
    }
  ],
  "metadata": {
    "kernelspec": {
      "display_name": "Python 3 (ipykernel)",
      "language": "python",
      "name": "python3"
    },
    "language_info": {
      "codemirror_mode": {
        "name": "ipython",
        "version": 3
      },
      "file_extension": ".py",
      "mimetype": "text/x-python",
      "name": "python",
      "nbconvert_exporter": "python",
      "pygments_lexer": "ipython3",
      "version": "3.9.13"
    },
    "colab": {
      "provenance": []
    }
  },
  "nbformat": 4,
  "nbformat_minor": 5
}