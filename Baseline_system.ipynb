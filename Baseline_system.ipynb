{
  "cells": [
    {
      "cell_type": "markdown",
      "id": "9__lC3vaFDlO",
      "metadata": {
        "id": "9__lC3vaFDlO"
      },
      "source": [
        "# **Baseline System- Nearest Means Classifier**"
      ]
    },
    {
      "cell_type": "code",
      "execution_count": 1,
      "id": "0862b153",
      "metadata": {
        "id": "0862b153"
      },
      "outputs": [],
      "source": [
        "import numpy as np\n",
        "import pandas as pd\n",
        "from sklearn.preprocessing import StandardScaler\n",
        "from sklearn.neighbors import NearestCentroid\n",
        "from sklearn.metrics import f1_score, accuracy_score, confusion_matrix\n",
        "import seaborn as sns\n",
        "import matplotlib.pyplot as plt\n",
        "from sklearn.model_selection import cross_val_score, train_test_split, learning_curve"
      ]
    },
    {
      "cell_type": "markdown",
      "id": "NNd5Dj9YIbiH",
      "metadata": {
        "id": "NNd5Dj9YIbiH"
      },
      "source": [
        "# One hot encoding"
      ]
    },
    {
      "cell_type": "code",
      "execution_count": 2,
      "id": "363518b6",
      "metadata": {
        "id": "363518b6"
      },
      "outputs": [],
      "source": [
        "data_train = pd.read_csv('mushroom_train.csv')\n",
        "categorical_col = ['cap-shape', 'cap-surface', 'cap-color', 'does-bruise-or-bleed', 'gill-attachment', 'gill-spacing', 'gill-color', 'stem-color', 'has-ring', 'ring-type', 'habitat', 'season','class']\n",
        "categorical_data_train = data_train[categorical_col]\n",
        "encoded_data_train = pd.get_dummies(categorical_data_train, prefix = categorical_col, prefix_sep = '_')"
      ]
    },
    {
      "cell_type": "markdown",
      "id": "jqMElV2XIhj5",
      "metadata": {
        "id": "jqMElV2XIhj5"
      },
      "source": [
        "**Standardizing the dataset**"
      ]
    },
    {
      "cell_type": "code",
      "execution_count": 3,
      "id": "2e09ffa3",
      "metadata": {
        "id": "2e09ffa3"
      },
      "outputs": [],
      "source": [
        "numerical_col_train = data_train.select_dtypes(include = ['float64', 'int64'])\n",
        "scaler = StandardScaler()\n",
        "numerical_col_scaled_train = scaler.fit_transform(numerical_col_train)\n",
        "numerical_data_train = pd.DataFrame(numerical_col_scaled_train)\n",
        "final_data_train = pd.concat([numerical_data_train, encoded_data_train], axis = 1)"
      ]
    },
    {
      "cell_type": "code",
      "execution_count": 4,
      "id": "42becbc8",
      "metadata": {
        "id": "42becbc8",
        "colab": {
          "base_uri": "https://localhost:8080/"
        },
        "outputId": "be068e8c-b096-404c-ceeb-593a9fc3a632"
      },
      "outputs": [
        {
          "output_type": "stream",
          "name": "stdout",
          "text": [
            "(42748, 92)\n",
            "(42748,)\n"
          ]
        }
      ],
      "source": [
        "df_temp = pd.DataFrame({'zeros': [0] * 42748})\n",
        "df_temp.loc[final_data_train.iloc[:, -2] == 1, 'zeros'] = 0\n",
        "df_temp.loc[final_data_train.iloc[:, -1] == 1, 'zeros'] = 1\n",
        "final_data_train = final_data_train.drop(final_data_train.columns[-2:], axis = 1)\n",
        "final_data_train = pd.concat([final_data_train, df_temp], axis = 1)\n",
        "final_data_train = final_data_train.to_numpy()\n",
        "X_train = final_data_train[:, :-1]\n",
        "Y_train = final_data_train[:, -1]\n",
        "print(X_train.shape)\n",
        "print(Y_train.shape)"
      ]
    },
    {
      "cell_type": "markdown",
      "id": "UsjSE8KPIp0B",
      "metadata": {
        "id": "UsjSE8KPIp0B"
      },
      "source": [
        "# Training phase of the system"
      ]
    },
    {
      "cell_type": "code",
      "execution_count": 5,
      "id": "b6efad79",
      "metadata": {
        "colab": {
          "base_uri": "https://localhost:8080/",
          "height": 109
        },
        "id": "b6efad79",
        "outputId": "adab04aa-8590-46d5-badd-68219307b2bb"
      },
      "outputs": [
        {
          "output_type": "stream",
          "name": "stdout",
          "text": [
            "The training accuracy = 63.0880202748806%\n",
            "The validation accuracy = 62.65787332604135%\n"
          ]
        },
        {
          "output_type": "execute_result",
          "data": {
            "text/plain": [
              "NearestCentroid()"
            ],
            "text/html": [
              "<style>#sk-container-id-1 {color: black;background-color: white;}#sk-container-id-1 pre{padding: 0;}#sk-container-id-1 div.sk-toggleable {background-color: white;}#sk-container-id-1 label.sk-toggleable__label {cursor: pointer;display: block;width: 100%;margin-bottom: 0;padding: 0.3em;box-sizing: border-box;text-align: center;}#sk-container-id-1 label.sk-toggleable__label-arrow:before {content: \"▸\";float: left;margin-right: 0.25em;color: #696969;}#sk-container-id-1 label.sk-toggleable__label-arrow:hover:before {color: black;}#sk-container-id-1 div.sk-estimator:hover label.sk-toggleable__label-arrow:before {color: black;}#sk-container-id-1 div.sk-toggleable__content {max-height: 0;max-width: 0;overflow: hidden;text-align: left;background-color: #f0f8ff;}#sk-container-id-1 div.sk-toggleable__content pre {margin: 0.2em;color: black;border-radius: 0.25em;background-color: #f0f8ff;}#sk-container-id-1 input.sk-toggleable__control:checked~div.sk-toggleable__content {max-height: 200px;max-width: 100%;overflow: auto;}#sk-container-id-1 input.sk-toggleable__control:checked~label.sk-toggleable__label-arrow:before {content: \"▾\";}#sk-container-id-1 div.sk-estimator input.sk-toggleable__control:checked~label.sk-toggleable__label {background-color: #d4ebff;}#sk-container-id-1 div.sk-label input.sk-toggleable__control:checked~label.sk-toggleable__label {background-color: #d4ebff;}#sk-container-id-1 input.sk-hidden--visually {border: 0;clip: rect(1px 1px 1px 1px);clip: rect(1px, 1px, 1px, 1px);height: 1px;margin: -1px;overflow: hidden;padding: 0;position: absolute;width: 1px;}#sk-container-id-1 div.sk-estimator {font-family: monospace;background-color: #f0f8ff;border: 1px dotted black;border-radius: 0.25em;box-sizing: border-box;margin-bottom: 0.5em;}#sk-container-id-1 div.sk-estimator:hover {background-color: #d4ebff;}#sk-container-id-1 div.sk-parallel-item::after {content: \"\";width: 100%;border-bottom: 1px solid gray;flex-grow: 1;}#sk-container-id-1 div.sk-label:hover label.sk-toggleable__label {background-color: #d4ebff;}#sk-container-id-1 div.sk-serial::before {content: \"\";position: absolute;border-left: 1px solid gray;box-sizing: border-box;top: 0;bottom: 0;left: 50%;z-index: 0;}#sk-container-id-1 div.sk-serial {display: flex;flex-direction: column;align-items: center;background-color: white;padding-right: 0.2em;padding-left: 0.2em;position: relative;}#sk-container-id-1 div.sk-item {position: relative;z-index: 1;}#sk-container-id-1 div.sk-parallel {display: flex;align-items: stretch;justify-content: center;background-color: white;position: relative;}#sk-container-id-1 div.sk-item::before, #sk-container-id-1 div.sk-parallel-item::before {content: \"\";position: absolute;border-left: 1px solid gray;box-sizing: border-box;top: 0;bottom: 0;left: 50%;z-index: -1;}#sk-container-id-1 div.sk-parallel-item {display: flex;flex-direction: column;z-index: 1;position: relative;background-color: white;}#sk-container-id-1 div.sk-parallel-item:first-child::after {align-self: flex-end;width: 50%;}#sk-container-id-1 div.sk-parallel-item:last-child::after {align-self: flex-start;width: 50%;}#sk-container-id-1 div.sk-parallel-item:only-child::after {width: 0;}#sk-container-id-1 div.sk-dashed-wrapped {border: 1px dashed gray;margin: 0 0.4em 0.5em 0.4em;box-sizing: border-box;padding-bottom: 0.4em;background-color: white;}#sk-container-id-1 div.sk-label label {font-family: monospace;font-weight: bold;display: inline-block;line-height: 1.2em;}#sk-container-id-1 div.sk-label-container {text-align: center;}#sk-container-id-1 div.sk-container {/* jupyter's `normalize.less` sets `[hidden] { display: none; }` but bootstrap.min.css set `[hidden] { display: none !important; }` so we also need the `!important` here to be able to override the default hidden behavior on the sphinx rendered scikit-learn.org. See: https://github.com/scikit-learn/scikit-learn/issues/21755 */display: inline-block !important;position: relative;}#sk-container-id-1 div.sk-text-repr-fallback {display: none;}</style><div id=\"sk-container-id-1\" class=\"sk-top-container\"><div class=\"sk-text-repr-fallback\"><pre>NearestCentroid()</pre><b>In a Jupyter environment, please rerun this cell to show the HTML representation or trust the notebook. <br />On GitHub, the HTML representation is unable to render, please try loading this page with nbviewer.org.</b></div><div class=\"sk-container\" hidden><div class=\"sk-item\"><div class=\"sk-estimator sk-toggleable\"><input class=\"sk-toggleable__control sk-hidden--visually\" id=\"sk-estimator-id-1\" type=\"checkbox\" checked><label for=\"sk-estimator-id-1\" class=\"sk-toggleable__label sk-toggleable__label-arrow\">NearestCentroid</label><div class=\"sk-toggleable__content\"><pre>NearestCentroid()</pre></div></div></div></div></div>"
            ]
          },
          "metadata": {},
          "execution_count": 5
        }
      ],
      "source": [
        "clf = NearestCentroid()\n",
        "train_sizes = np.linspace(0.1, 1.0, 10)\n",
        "train_sizes, train_scores, val_scores = learning_curve(clf, X_train, Y_train, cv = 5, train_sizes = train_sizes, scoring = 'accuracy') # Cross-validation.\n",
        "print(f\"The training accuracy = {max(train_scores.mean(axis = 1)) * 100}%\")\n",
        "print(f\"The validation accuracy = {max(val_scores.mean(axis = 1)) * 100}%\")\n",
        "clf.fit(X_train, Y_train)"
      ]
    },
    {
      "cell_type": "markdown",
      "source": [
        "# Testing phase of the system"
      ],
      "metadata": {
        "id": "gEaBRsJlY0b-"
      },
      "id": "gEaBRsJlY0b-"
    },
    {
      "cell_type": "code",
      "execution_count": 6,
      "id": "a651602c",
      "metadata": {
        "id": "a651602c"
      },
      "outputs": [],
      "source": [
        "# Testing dataset:\n",
        "data_test = pd.read_csv('mushroom_test.csv')\n",
        "categorical_data_test = data_test[categorical_col]\n",
        "encoded_data_test = pd.get_dummies(categorical_data_test, prefix = categorical_col, prefix_sep = '_')\n",
        "numerical_col_test = data_test.select_dtypes(include = ['float64', 'int64'])\n",
        "scaler = StandardScaler()\n",
        "numerical_col_scaled_test = scaler.fit_transform(numerical_col_test)\n",
        "numerical_data_test = pd.DataFrame(numerical_col_scaled_test)\n",
        "final_data_test = pd.concat([numerical_data_test, encoded_data_test], axis = 1)\n",
        "df_temp_test = pd.DataFrame({'zeros': [0] * len(encoded_data_test)})\n",
        "df_temp_test.loc[encoded_data_test.iloc[:, -2] == 1, 'zeros'] = 0\n",
        "df_temp_test.loc[encoded_data_test.iloc[:, -1] == 1, 'zeros'] = 1\n",
        "final_data_test = final_data_test.drop(final_data_test.columns[-2:], axis = 1)\n",
        "final_data_test = pd.concat([final_data_test, df_temp_test], axis = 1)\n",
        "final_data_test = final_data_test.to_numpy()"
      ]
    },
    {
      "cell_type": "code",
      "execution_count": 7,
      "id": "c2f0539b",
      "metadata": {
        "id": "c2f0539b",
        "colab": {
          "base_uri": "https://localhost:8080/"
        },
        "outputId": "8e2725fb-cd63-4f6e-a0dc-69e1d1c654ee"
      },
      "outputs": [
        {
          "output_type": "stream",
          "name": "stdout",
          "text": [
            "The testing accuracy = 62.85683095900879%\n"
          ]
        }
      ],
      "source": [
        "X_test = final_data_test[:, :-1]\n",
        "Y_test = final_data_test[:, -1]\n",
        "Y_pred = clf.predict(X_test)\n",
        "accuracy = accuracy_score(Y_pred, Y_test)\n",
        "print(f\"The testing accuracy = {accuracy * 100}%\")"
      ]
    },
    {
      "cell_type": "code",
      "source": [
        "f1 = f1_score(Y_test, Y_pred)\n",
        "print(\"The F1 score: \", f1)"
      ],
      "metadata": {
        "colab": {
          "base_uri": "https://localhost:8080/"
        },
        "id": "ESVJuFk8av6H",
        "outputId": "d3dec094-b017-493f-f436-dc9912287dbc"
      },
      "id": "ESVJuFk8av6H",
      "execution_count": 8,
      "outputs": [
        {
          "output_type": "stream",
          "name": "stdout",
          "text": [
            "The F1 score:  0.6737932026269114\n"
          ]
        }
      ]
    },
    {
      "cell_type": "code",
      "execution_count": 9,
      "id": "884dc843",
      "metadata": {
        "colab": {
          "base_uri": "https://localhost:8080/",
          "height": 564
        },
        "id": "884dc843",
        "outputId": "d54d2f96-61a3-404d-9777-2eb272f8ca2b"
      },
      "outputs": [
        {
          "output_type": "display_data",
          "data": {
            "text/plain": [
              "<Figure size 600x600 with 2 Axes>"
            ],
            "image/png": "[encoded data removed]"
          },
          "metadata": {}
        }
      ],
      "source": [
        "cm = confusion_matrix(Y_test, Y_pred)\n",
        "classes = ['Poisonous', 'Edible']\n",
        "plt.figure(figsize = (6, 6))\n",
        "sns.heatmap(cm, annot = True, cmap = 'Blues', xticklabels = classes, yticklabels = classes)\n",
        "plt.xlabel(\"Predicted Labels\")\n",
        "plt.ylabel(\"True labels\")\n",
        "plt.title(\"Confusion Matrix\")\n",
        "plt.show()"
      ]
    }
  ],
  "metadata": {
    "colab": {
      "provenance": []
    },
    "kernelspec": {
      "display_name": "Python 3 (ipykernel)",
      "language": "python",
      "name": "python3"
    },
    "language_info": {
      "codemirror_mode": {
        "name": "ipython",
        "version": 3
      },
      "file_extension": ".py",
      "mimetype": "text/x-python",
      "name": "python",
      "nbconvert_exporter": "python",
      "pygments_lexer": "ipython3",
      "version": "3.9.13"
    }
  },
  "nbformat": 4,
  "nbformat_minor": 5
}