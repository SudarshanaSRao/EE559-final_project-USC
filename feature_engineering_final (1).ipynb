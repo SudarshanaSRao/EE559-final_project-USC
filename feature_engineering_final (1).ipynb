{
 "cells": [
  {
   "cell_type": "markdown",
   "id": "5JnTZ01ituas",
   "metadata": {
    "id": "5JnTZ01ituas"
   },
   "source": [
    "# **Feature Engineering**"
   ]
  },
  {
   "cell_type": "code",
   "execution_count": 1,
   "id": "0862b153",
   "metadata": {
    "id": "0862b153"
   },
   "outputs": [],
   "source": [
    "# Importing necessary libraries:\n",
    "import numpy as np\n",
    "import pandas as pd\n",
    "from sklearn.preprocessing import StandardScaler\n",
    "from sklearn.metrics import f1_score, accuracy_score, confusion_matrix, classification_report\n",
    "import seaborn as sns\n",
    "import matplotlib.pyplot as plt\n",
    "from sklearn.decomposition import PCA\n",
    "from sklearn.linear_model import LogisticRegression\n",
    "from sklearn.tree import DecisionTreeClassifier\n",
    "from sklearn.ensemble import RandomForestClassifier\n",
    "from sklearn.svm import SVC\n",
    "from sklearn.feature_selection import SelectKBest, chi2\n",
    "from sklearn.naive_bayes import GaussianNB\n",
    "from sklearn.model_selection import cross_val_score, train_test_split\n",
    "from sklearn.utils import shuffle"
   ]
  },
  {
   "cell_type": "code",
   "execution_count": 2,
   "id": "d1166990",
   "metadata": {
    "colab": {
     "base_uri": "https://localhost:8080/"
    },
    "id": "d1166990",
    "outputId": "c082f6e2-6c19-4730-964d-701a3eae2636"
   },
   "outputs": [
    {
     "name": "stdout",
     "output_type": "stream",
     "text": [
      "The correlation between the numerical columns of the features-\n",
      "               cap-diameter  stem-height  stem-width\n",
      "cap-diameter      1.000000     0.423171    0.695804\n",
      "stem-height       0.423171     1.000000    0.436069\n",
      "stem-width        0.695804     0.436069    1.000000\n"
     ]
    }
   ],
   "source": [
    "# Reading the training dataset into a pandas dataframe:\n",
    "data_train = pd.read_csv('mushroom_train.csv')\n",
    "# Calculating the correlation of the numerical features:\n",
    "corr_matrix = data_train.corr()\n",
    "print(\"The correlation between the numerical columns of the features-\\n\", corr_matrix)"
   ]
  },
  {
   "cell_type": "code",
   "execution_count": 3,
   "id": "363518b6",
   "metadata": {
    "id": "363518b6"
   },
   "outputs": [],
   "source": [
    "# Separating the categorical data:\n",
    "categorical_col = ['cap-shape', 'cap-surface', 'cap-color', 'does-bruise-or-bleed', 'gill-attachment', 'gill-spacing', 'gill-color', 'stem-color', 'has-ring', 'ring-type', 'habitat', 'season','class']\n",
    "categorical_data_train = data_train[categorical_col]\n",
    "encoded_data_train = pd.get_dummies(categorical_data_train, prefix = categorical_col, prefix_sep = '_') # One-hot encoding."
   ]
  },
  {
   "cell_type": "markdown",
   "id": "DLSEGnNruSGK",
   "metadata": {
    "id": "DLSEGnNruSGK"
   },
   "source": [
    "**Standardizing the numerical features**"
   ]
  },
  {
   "cell_type": "code",
   "execution_count": 4,
   "id": "2e09ffa3",
   "metadata": {
    "id": "2e09ffa3"
   },
   "outputs": [],
   "source": [
    "numerical_col_train = data_train[['cap-diameter', 'stem-height', 'stem-width']] # Separating the numerical columns.\n",
    "scaler = StandardScaler()\n",
    "numerical_col_scaled_train = scaler.fit_transform(numerical_col_train)\n",
    "numerical_data_train = pd.DataFrame(numerical_col_scaled_train, columns = numerical_col_train.columns)"
   ]
  },
  {
   "cell_type": "code",
   "execution_count": 5,
   "id": "02f128db",
   "metadata": {
    "id": "02f128db"
   },
   "outputs": [],
   "source": [
    "# Concatenating the columns (standardized numerical columns and the one-hot encoded categorical data) into one dataframe:\n",
    "final_data_train = pd.concat([numerical_data_train, encoded_data_train], axis = 1)\n",
    "df_temp = pd.DataFrame({'zeros': [0] * 42748})\n",
    "df_temp.loc[final_data_train.iloc[:, -2] == 1, 'zeros'] = 0\n",
    "df_temp.loc[final_data_train.iloc[:, -1] == 1, 'zeros'] = 1\n",
    "final_data_train = final_data_train.drop(final_data_train.columns[-2:], axis = 1)\n",
    "final_data_train_watch = pd.concat([final_data_train, df_temp], axis = 1)\n",
    "final_data_train_watch = final_data_train_watch.rename(columns = {'<old_column_name>': 'label'})\n",
    "new_data_train_watch = final_data_train_watch.reset_index()"
   ]
  },
  {
   "cell_type": "markdown",
   "id": "dNA4fHJLvKQj",
   "metadata": {
    "id": "dNA4fHJLvKQj"
   },
   "source": [
    "# **Pearson's correlation**"
   ]
  },
  {
   "cell_type": "code",
   "execution_count": 6,
   "id": "af357490",
   "metadata": {
    "colab": {
     "base_uri": "https://localhost:8080/"
    },
    "id": "af357490",
    "outputId": "b2d0e57f-0e28-400f-b1b0-be415782bd6d"
   },
   "outputs": [
    {
     "name": "stdout",
     "output_type": "stream",
     "text": [
      "Top 10 positive correlations:\n",
      "             Feature-1     Feature-2  Correlation coefficient\n",
      "3        cap-diameter    stem-width                 0.695804\n",
      "4          stem-width  cap-diameter                 0.695804\n",
      "5         stem-height    stem-width                 0.436069\n",
      "6          stem-width   stem-height                 0.436069\n",
      "7         stem-height  cap-diameter                 0.423171\n",
      "8        cap-diameter   stem-height                 0.423171\n",
      "9         ring-type_m   stem-height                 0.406376\n",
      "10  gill-attachment_p    stem-width                 0.400621\n",
      "11  gill-attachment_p  cap-diameter                 0.353896\n",
      "12        ring-type_f   stem-height                 0.332793\n",
      "\n",
      "Top 10 negative correlations:\n",
      "           Feature-1     Feature-2  Correlation coefficient\n",
      "275    gill-color_o    stem-width                 0.000822\n",
      "274     cap-color_e  cap-diameter                 0.000841\n",
      "273    stem-color_u   stem-height                 0.000941\n",
      "272     ring-type_l    stem-width                 0.001029\n",
      "271       habitat_u    stem-width                 0.001503\n",
      "270   cap-surface_w    stem-width                 0.001601\n",
      "269  gill-spacing_c    stem-width                 0.001994\n",
      "268       habitat_l    stem-width                 0.002066\n",
      "267      has-ring_t    stem-width                 0.002306\n",
      "266      has-ring_f    stem-width                 0.002306\n"
     ]
    }
   ],
   "source": [
    "# Separating the numerical columns:\n",
    "cols_of_interest = ['stem-width', 'stem-height', 'cap-diameter']\n",
    "corr_matrix = final_data_train.corr(method = 'pearson') # Computing the correlation matrix.\n",
    "corr_filtered = corr_matrix[(corr_matrix.index.isin(cols_of_interest)) | (corr_matrix.columns.isin(cols_of_interest))] # Filtering out the correlation matrix to only include with 'stem-width', 'stem-height', or 'cap-diameter' columns.\n",
    "# Creating a copy of the filtered correlation matrix to sort and to remove self-correlations:\n",
    "corr_sorted = corr_filtered.abs().unstack().sort_values(ascending = False).reset_index()\n",
    "corr_sorted = corr_sorted[corr_sorted['level_0'] != corr_sorted['level_1']]\n",
    "corr_sorted.columns = ['Feature-1', 'Feature-2', 'Correlation coefficient']\n",
    "corr_sorted_filtered = corr_sorted[(corr_sorted['Feature-1'].isin(cols_of_interest)) | (corr_sorted['Feature-2'].isin(cols_of_interest))]\n",
    "\n",
    "# Printing the top 10 positively and top 10 negatively correlated features:\n",
    "print(\"Top 10 positive correlations:\\n\", corr_sorted_filtered.head(10))\n",
    "print(\"\\nTop 10 negative correlations:\\n\", corr_sorted_filtered.tail(10)[::-1])"
   ]
  },
  {
   "cell_type": "code",
   "execution_count": 7,
   "id": "82e63a61",
   "metadata": {
    "id": "82e63a61"
   },
   "outputs": [],
   "source": [
    "new_data_train_watch = pd.concat([new_data_train_watch, df_temp], axis = 1)\n",
    "# Reset the index of the DataFrame and creating a new column 'index':\n",
    "new_data_train_watch.reset_index(inplace = True)\n",
    "new_data_train_watch.rename(columns = {'index': 'index_column'}, inplace = True)"
   ]
  },
  {
   "cell_type": "markdown",
   "id": "HiVGClnf4hRX",
   "metadata": {
    "id": "HiVGClnf4hRX"
   },
   "source": [
    "**Adding new features**"
   ]
  },
  {
   "cell_type": "code",
   "execution_count": 8,
   "id": "4e686f66",
   "metadata": {
    "id": "4e686f66"
   },
   "outputs": [],
   "source": [
    "selected_rows_shape_m = new_data_train_watch[new_data_train_watch['ring-type_m'] == 1] # Selecting the rows where 'ring-type_m' is 1.\n",
    "selected_data_m = pd.DataFrame(selected_rows_shape_m, columns = new_data_train_watch.columns) # Create a new dataframe with the selected rows.\n",
    "selected_data_m = new_data_train_watch.loc[new_data_train_watch['ring-type_m'] == 1].copy()\n",
    "# Computing the minimum, maximum and average of the corresponding numerical columns:\n",
    "stem_width_min = selected_data_m['stem-width'].min()\n",
    "stem_width_max = selected_data_m['stem-width'].max()\n",
    "stem_width_mean = selected_data_m['stem-width'].mean()\n",
    "selected_data_m['stem_width_ring_type_m_min'] = stem_width_min\n",
    "selected_data_m['stem_width_ring_type_m_max'] = stem_width_max\n",
    "selected_data_m['stem_width_ring_type_m_mean'] = stem_width_mean\n",
    "\n",
    "selected_data_m = selected_data_m.rename(columns = {'zeros': 'label1'})\n",
    "selected_data_m = selected_data_m.loc[:, ~selected_data_m.columns.duplicated()] # Deleting the duplicate <'label'> column.\n",
    "selected_data_m = selected_data_m[['index_column', 'stem_width_ring_type_m_min', 'stem_width_ring_type_m_max', 'stem_width_ring_type_m_mean', 'label1']]"
   ]
  },
  {
   "cell_type": "code",
   "execution_count": 9,
   "id": "d9419b85",
   "metadata": {
    "id": "d9419b85"
   },
   "outputs": [],
   "source": [
    "selected_rows_shape_p = new_data_train_watch[new_data_train_watch['gill-attachment_p'] == 1] \n",
    "selected_data = pd.DataFrame(selected_rows_shape_p, columns = new_data_train_watch.columns)\n",
    "selected_data_p = new_data_train_watch.loc[new_data_train_watch['gill-attachment_p'] == 1].copy()\n",
    "\n",
    "stem_width_min = selected_data_p['stem-width'].min()\n",
    "stem_width_max = selected_data_p['stem-width'].max()\n",
    "stem_width_mean = selected_data_p['stem-width'].mean()\n",
    "selected_data_p['stem_width_gill_attachment_p_min'] = stem_width_min\n",
    "selected_data_p['stem_width_gill_attachment_p_max'] = stem_width_max\n",
    "selected_data_p['stem_width_gill_attachment_p_mean'] = stem_width_mean\n",
    "\n",
    "selected_data_p = selected_data_p.rename(columns = {'zeros': 'label2'})\n",
    "selected_data_p = selected_data_p.loc[:, ~selected_data_p.columns.duplicated()]\n",
    "selected_data_p = selected_data_p[['index_column', 'stem_width_gill_attachment_p_min', 'stem_width_gill_attachment_p_max', 'stem_width_gill_attachment_p_mean', 'label2']]"
   ]
  },
  {
   "cell_type": "code",
   "execution_count": 10,
   "id": "d3430aa8",
   "metadata": {
    "id": "d3430aa8"
   },
   "outputs": [],
   "source": [
    "selected_rows_shape_f = new_data_train_watch[new_data_train_watch['ring-type_f'] == 1]\n",
    "selected_data = pd.DataFrame(selected_rows_shape_f, columns = new_data_train_watch.columns)\n",
    "selected_data_f = new_data_train_watch.loc[new_data_train_watch['ring-type_f'] == 1].copy()\n",
    "\n",
    "stem_height_min = selected_data_f['stem-height'].min()\n",
    "stem_height_max = selected_data_f['stem-height'].max()\n",
    "stem_height_mean = selected_data_f['stem-height'].mean()\n",
    "selected_data_f['stem_height_ring_type_f_min'] = stem_height_min\n",
    "selected_data_f['stem_height_ring_type_f_max'] = stem_height_max\n",
    "selected_data_f['stem_height_ring_type_f_mean'] = stem_height_mean\n",
    "\n",
    "selected_data_f = selected_data_f.rename(columns = {'zeros': 'label3'})\n",
    "selected_data_f = selected_data_f.loc[:, ~selected_data_f.columns.duplicated()]\n",
    "selected_data_f = selected_data_f[['index_column', 'stem_height_ring_type_f_min', 'stem_height_ring_type_f_max', 'stem_height_ring_type_f_mean', 'label3']]"
   ]
  },
  {
   "cell_type": "code",
   "execution_count": 11,
   "id": "c63a62be",
   "metadata": {
    "id": "c63a62be"
   },
   "outputs": [],
   "source": [
    "selected_rows_shape_o = new_data_train_watch[new_data_train_watch['gill-color_o'] == 1]\n",
    "selected_data = pd.DataFrame(selected_rows_shape_o, columns = new_data_train_watch.columns)\n",
    "selected_data_o = new_data_train_watch.loc[new_data_train_watch['gill-color_o'] == 1].copy()\n",
    "\n",
    "stem_width_min = selected_data_o['stem-width'].min()\n",
    "stem_width_max = selected_data_o['stem-width'].max()\n",
    "stem_width_mean = selected_data_o['stem-width'].mean()\n",
    "selected_data_o['stem_width_gill_color_o_min'] = stem_width_min\n",
    "selected_data_o['stem_width_gill_color_o_max'] = stem_width_max\n",
    "selected_data_o['stem_width_gill_color_o_mean'] = stem_width_mean\n",
    "\n",
    "selected_data_o = selected_data_o.rename(columns = {'zeros': 'label4'})\n",
    "selected_data_o = selected_data_o.loc[:, ~selected_data_o.columns.duplicated()]\n",
    "selected_data_o = selected_data_o[['index_column', 'stem_width_gill_color_o_min', 'stem_width_gill_color_o_max', 'stem_width_gill_color_o_mean', 'label4']]"
   ]
  },
  {
   "cell_type": "code",
   "execution_count": 12,
   "id": "b4647dde",
   "metadata": {
    "id": "b4647dde"
   },
   "outputs": [],
   "source": [
    "selected_rows_shape_e = new_data_train_watch[new_data_train_watch['cap-color_e'] == 1]\n",
    "selected_data = pd.DataFrame(selected_rows_shape_e, columns = new_data_train_watch.columns)\n",
    "selected_data_e = new_data_train_watch.loc[new_data_train_watch['cap-color_e'] == 1].copy()\n",
    "\n",
    "cap_diameter_min = selected_data_e['cap-diameter'].min()\n",
    "cap_diameter_max = selected_data_e['cap-diameter'].max()\n",
    "cap_diameter_mean = selected_data_e['cap-diameter'].mean()\n",
    "selected_data_e['cap_diameter_cap_color_e_min'] = cap_diameter_min\n",
    "selected_data_e['cap_diameter_cap_color_e_max'] = cap_diameter_max\n",
    "selected_data_e['cap_diameter_cap_color_e_mean'] = cap_diameter_mean\n",
    "\n",
    "selected_data_e = selected_data_e.rename(columns = {'zeros': 'label5'})\n",
    "selected_data_e = selected_data_e.loc[:, ~selected_data_e.columns.duplicated()]\n",
    "selected_data_e = selected_data_e[['index_column', 'cap_diameter_cap_color_e_min', 'cap_diameter_cap_color_e_max', 'cap_diameter_cap_color_e_mean', 'label5']]"
   ]
  },
  {
   "cell_type": "code",
   "execution_count": 13,
   "id": "6608a439",
   "metadata": {
    "id": "6608a439"
   },
   "outputs": [],
   "source": [
    "selected_rows_shape_p_only = new_data_train_watch[new_data_train_watch['cap-shape_p'] == 1]\n",
    "selected_data = pd.DataFrame(selected_rows_shape_p_only, columns = new_data_train_watch.columns)\n",
    "selected_data_p_only = new_data_train_watch.loc[new_data_train_watch['cap-shape_p'] == 1].copy()\n",
    "\n",
    "cap_diameter_min = selected_data_p_only['cap-diameter'].min()\n",
    "cap_diameter_max = selected_data_p_only['cap-diameter'].max()\n",
    "cap_diameter_mean = selected_data_p_only['cap-diameter'].mean()\n",
    "selected_data_p_only['cap_diameter_p_min'] = cap_diameter_min\n",
    "selected_data_p_only['cap_diameter_p_max'] = cap_diameter_max\n",
    "selected_data_p_only['cap_diameter_p_mean'] = cap_diameter_mean\n",
    "\n",
    "selected_data_p_only = selected_data_p_only.rename(columns = {'zeros': 'label6'})\n",
    "selected_data_p_only = selected_data_p_only.loc[:, ~selected_data_p_only.columns.duplicated()]\n",
    "selected_data_p_only = selected_data_p_only[['index_column', 'cap_diameter_p_min', 'cap_diameter_p_max', 'cap_diameter_p_mean', 'label6']]"
   ]
  },
  {
   "cell_type": "code",
   "execution_count": 14,
   "id": "83b4f964",
   "metadata": {
    "colab": {
     "base_uri": "https://localhost:8080/"
    },
    "id": "83b4f964",
    "outputId": "963f9d12-b7a4-4252-8762-f30e3dc3d362"
   },
   "outputs": [
    {
     "name": "stdout",
     "output_type": "stream",
     "text": [
      "DataFrame with the all augmented features:\n",
      " Index(['cap-diameter', 'stem-height', 'stem-width', 'cap-shape_b',\n",
      "       'cap-shape_c', 'cap-shape_f', 'cap-shape_o', 'cap-shape_p',\n",
      "       'cap-shape_s', 'cap-shape_x',\n",
      "       ...\n",
      "       'stem_width_gill_color_o_mean', 'label4',\n",
      "       'cap_diameter_cap_color_e_min', 'cap_diameter_cap_color_e_max',\n",
      "       'cap_diameter_cap_color_e_mean', 'label5', 'cap_diameter_p_min',\n",
      "       'cap_diameter_p_max', 'cap_diameter_p_mean', 'label6'],\n",
      "      dtype='object', length=118)\n"
     ]
    }
   ],
   "source": [
    "dataframes = [new_data_train_watch, selected_data_m, selected_data_p, selected_data_f, selected_data_o, selected_data_e, selected_data_p_only]\n",
    "concatenated_df = pd.concat(dataframes, axis = 1, join = 'outer') # Concatenating all the created dataframes based on a common index.\n",
    "concatenated_df['common_index'] = concatenated_df.index\n",
    "concatenated_df.fillna(0, inplace = True) # Replacing any Not-a-Number values with zeroes.\n",
    "concatenated_df.set_index('common_index', inplace = True)\n",
    "concatenated_df = concatenated_df.drop('index_column', axis = 1)\n",
    "concatenated_df = concatenated_df.drop('level_0', axis = 1) # Dropping the common index column.\n",
    "print(\"DataFrame with the all augmented features:\\n\", concatenated_df.columns)"
   ]
  },
  {
   "cell_type": "code",
   "execution_count": 15,
   "id": "kLr5BWno0OIB",
   "metadata": {
    "id": "kLr5BWno0OIB"
   },
   "outputs": [],
   "source": [
    "# Defining a function to check if any of the label columns has '1':\n",
    "def has_label(row):\n",
    "    label_cols = ['label1', 'label2', 'label3', 'label4', 'label5', 'label6']\n",
    "    \n",
    "    for col in label_cols:\n",
    "        \n",
    "        if row[col] == 1:\n",
    "            return 1\n",
    "    \n",
    "    return 0"
   ]
  },
  {
   "cell_type": "code",
   "execution_count": 16,
   "id": "8f6838ba",
   "metadata": {
    "id": "8f6838ba"
   },
   "outputs": [],
   "source": [
    "concatenated_df['label'] = concatenated_df.apply(has_label, axis = 1)\n",
    "concatenated_df = concatenated_df.drop(['label1', 'label2', 'label3', 'label4','label5','label6'], axis = 1)\n",
    "concatenated_df = concatenated_df.drop(['zeros'], axis = 1)\n",
    "concatenated_df_train = concatenated_df # Final training dataframe.\n",
    "label_column_train = concatenated_df_train.iloc[:, -1] # Labels of the final training dataframe. "
   ]
  },
  {
   "cell_type": "markdown",
   "id": "O8jcYd_T1F34",
   "metadata": {
    "id": "O8jcYd_T1F34"
   },
   "source": [
    "# **Principal Component Analysis**"
   ]
  },
  {
   "cell_type": "code",
   "execution_count": 17,
   "id": "779cf99d",
   "metadata": {
    "colab": {
     "base_uri": "https://localhost:8080/"
    },
    "id": "779cf99d",
    "outputId": "0fa744c5-d1bb-473e-b08b-efe96f8086ac"
   },
   "outputs": [
    {
     "name": "stdout",
     "output_type": "stream",
     "text": [
      "The optimal features determined by PCA-\n",
      " ['cap-shape_x', 'stem-width', 'cap-color_n', 'cap-diameter', 'stem-height', 'gill-attachment_a', 'stem-color_w', 'habitat_d', 'stem_width_gill_color_o_max', 'cap_diameter_p_max', 'gill-color_w', 'label', 'season_a']\n"
     ]
    }
   ],
   "source": [
    "pca = PCA(n_components = 13) # Defining the number of features to pass to the PCA function.\n",
    "pcs = pca.fit_transform(concatenated_df_train)\n",
    "top_feature_names = []\n",
    "\n",
    "for comps in range(pca.n_components_):\n",
    "    component_loadings = abs(pca.components_[comps])\n",
    "    sorted_indices = component_loadings.argsort()[::-1]\n",
    "    top_feature_indices = sorted_indices[:pca.n_components]\n",
    "    top_feature_names.append(concatenated_df_train.columns[top_feature_indices].tolist())\n",
    "\n",
    "all_top_feature_names = [name for sublist in top_feature_names for name in sublist] # Concatenating the lists of top feature names into a single list.\n",
    "feature_counts = pd.Series(all_top_feature_names).value_counts().sort_values(ascending = False) # Counting the frequency of each feature and sorting in descending order.\n",
    "top_features = feature_counts.index[:pca.n_components].tolist() # Extracting the most frequent features.\n",
    "print(\"The optimal features determined by PCA-\\n\", top_features)"
   ]
  },
  {
   "cell_type": "code",
   "execution_count": 18,
   "id": "786be7cd",
   "metadata": {
    "colab": {
     "base_uri": "https://localhost:8080/"
    },
    "id": "786be7cd",
    "outputId": "649e8ee1-2290-4972-b4f1-1d9f5c40e9c2"
   },
   "outputs": [
    {
     "name": "stdout",
     "output_type": "stream",
     "text": [
      "              cap-shape_x  stem-width  cap-color_n  cap-diameter  stem-height  \\\n",
      "common_index                                                                    \n",
      "0                       0   -0.590488            0     -0.332216    -0.161276   \n",
      "1                       1   -0.856362            0     -0.742182    -0.274093   \n",
      "2                       1    1.316604            0      0.905345     0.132642   \n",
      "3                       0    0.149160            0      0.393845    -0.636294   \n",
      "4                       1    0.631930            1      0.160126     0.542345   \n",
      "...                   ...         ...          ...           ...          ...   \n",
      "42743                   0   -0.860360            0     -0.657890    -0.481913   \n",
      "42744                   1   -0.099722            0      0.420665    -0.585823   \n",
      "42745                   0    1.423554            0      7.495450    -0.247373   \n",
      "42746                   0    1.225648            1      0.803811     0.287022   \n",
      "42747                   0   -0.840369            0     -0.824558    -0.909429   \n",
      "\n",
      "              gill-attachment_a  stem-color_w  habitat_d  \\\n",
      "common_index                                               \n",
      "0                             1             1          1   \n",
      "1                             1             0          0   \n",
      "2                             1             0          1   \n",
      "3                             0             0          1   \n",
      "4                             0             0          1   \n",
      "...                         ...           ...        ...   \n",
      "42743                         0             1          0   \n",
      "42744                         0             0          1   \n",
      "42745                         0             0          1   \n",
      "42746                         1             0          1   \n",
      "42747                         1             0          1   \n",
      "\n",
      "              stem_width_gill_color_o_max  cap_diameter_p_max  gill-color_w  \\\n",
      "common_index                                                                  \n",
      "0                                     0.0                 0.0             0   \n",
      "1                                     0.0                 0.0             1   \n",
      "2                                     0.0                 0.0             1   \n",
      "3                                     0.0                 0.0             0   \n",
      "4                                     0.0                 0.0             0   \n",
      "...                                   ...                 ...           ...   \n",
      "42743                                 0.0                 0.0             0   \n",
      "42744                                 0.0                 0.0             0   \n",
      "42745                                 0.0                 0.0             0   \n",
      "42746                                 0.0                 0.0             1   \n",
      "42747                                 0.0                 0.0             0   \n",
      "\n",
      "              label  season_a  \n",
      "common_index                   \n",
      "0                 1         1  \n",
      "1                 0         0  \n",
      "2                 0         0  \n",
      "3                 1         1  \n",
      "4                 0         1  \n",
      "...             ...       ...  \n",
      "42743             0         0  \n",
      "42744             1         1  \n",
      "42745             0         0  \n",
      "42746             0         0  \n",
      "42747             1         0  \n",
      "\n",
      "[42748 rows x 13 columns]\n"
     ]
    }
   ],
   "source": [
    "# Accessing the indices of the columns that correspond to the top features and creating a new dataframe of only top features:\n",
    "top_feature_indices = [concatenated_df_train.columns.get_loc(feature) for feature in top_features[:pca.n_components]]\n",
    "top_features_data_train = concatenated_df_train.iloc[:, top_feature_indices]\n",
    "print(top_features_data_train)"
   ]
  },
  {
   "cell_type": "markdown",
   "id": "uOPvgvaG5TH-",
   "metadata": {
    "id": "uOPvgvaG5TH-"
   },
   "source": [
    "**Standardizing the testing dataset**"
   ]
  },
  {
   "cell_type": "code",
   "execution_count": 19,
   "id": "b1e6866e",
   "metadata": {
    "id": "b1e6866e"
   },
   "outputs": [],
   "source": [
    "data_test = pd.read_csv('mushroom_test.csv')\n",
    "categorical_col = ['cap-shape', 'cap-surface', 'cap-color', 'does-bruise-or-bleed', 'gill-attachment', 'gill-spacing', 'gill-color', 'stem-color', 'has-ring', 'ring-type', 'habitat', 'season','class']\n",
    "categorical_data_test = data_test[categorical_col]\n",
    "encoded_data_test = pd.get_dummies(categorical_data_test, prefix = categorical_col, prefix_sep = '_') # One-hot encoding the categorical values.\n",
    "numerical_col_test = data_test[['cap-diameter', 'stem-height', 'stem-width']]\n",
    "scaler = StandardScaler()\n",
    "numerical_col_scaled_test = scaler.fit_transform(numerical_col_test)\n",
    "numerical_data_test = pd.DataFrame(numerical_col_scaled_test, columns = numerical_col_test.columns)\n",
    "final_data_test = pd.concat([numerical_data_test, encoded_data_test], axis = 1)"
   ]
  },
  {
   "cell_type": "code",
   "execution_count": 20,
   "id": "4b4fe8d0",
   "metadata": {
    "id": "4b4fe8d0"
   },
   "outputs": [],
   "source": [
    "df_temp = pd.DataFrame({'zeros': [0] * (final_data_test.shape[0])})\n",
    "df_temp.loc[final_data_test.iloc[:,-2] == 1, 'zeros'] = 0\n",
    "df_temp.loc[final_data_test.iloc[:,-1] == 1, 'zeros'] = 1\n",
    "final_data_test = final_data_test.drop(final_data_test.columns[-2:], axis = 1)\n",
    "final_data_test_watch = pd.concat([final_data_test, df_temp], axis = 1)\n",
    "final_data_test_watch = final_data_test_watch.rename(columns={'<old_column_name>': 'label'})\n",
    "new_data_test_watch= final_data_test.reset_index()\n",
    "new_data_test_watch.rename(columns = {'index': 'index_column'}, inplace = True)\n",
    "new_data_test_watch = pd.concat([new_data_test_watch, df_temp], axis = 1)\n",
    "new_data_test_watch.reset_index(inplace = True)\n",
    "new_data_test_watch.rename(columns = {'index': 'index_column'}, inplace = True)"
   ]
  },
  {
   "cell_type": "markdown",
   "id": "GPnK2U0Z6DDG",
   "metadata": {
    "id": "GPnK2U0Z6DDG"
   },
   "source": [
    "**Adding new features to the testing dataset**"
   ]
  },
  {
   "cell_type": "code",
   "execution_count": 21,
   "id": "778f003b",
   "metadata": {
    "id": "778f003b"
   },
   "outputs": [],
   "source": [
    "selected_rows_shape_m_test = new_data_test_watch[new_data_test_watch['ring-type_m'] == 1]\n",
    "selected_data_m_test = pd.DataFrame(selected_rows_shape_m_test, columns = new_data_test_watch.columns)\n",
    "selected_data_m_test = new_data_test_watch.loc[new_data_test_watch['ring-type_m'] == 1].copy()\n",
    "\n",
    "stem_width_min_test = selected_data_m_test['stem-width'].min()\n",
    "stem_width_max_test = selected_data_m_test['stem-width'].max()\n",
    "stem_width_mean_test = selected_data_m_test['stem-width'].mean()\n",
    "selected_data_m_test['stem_width_ring_type_m_min'] = stem_width_min_test\n",
    "selected_data_m_test['stem_width_ring_type_m_max'] = stem_width_max_test\n",
    "selected_data_m_test['stem_width_ring_type_m_mean'] = stem_width_mean_test\n",
    "\n",
    "selected_data_m_test = selected_data_m_test.rename(columns = {'zeros': 'label1'})\n",
    "selected_data_m_test = selected_data_m_test.loc[:, ~selected_data_m_test.columns.duplicated()]\n",
    "selected_data_m_test = selected_data_m_test[['index_column', 'stem_width_ring_type_m_min', 'stem_width_ring_type_m_max', 'stem_width_ring_type_m_mean', 'label1']]"
   ]
  },
  {
   "cell_type": "code",
   "execution_count": 22,
   "id": "325228ce",
   "metadata": {
    "id": "325228ce"
   },
   "outputs": [],
   "source": [
    "selected_rows_shape_p_test = new_data_test_watch[new_data_test_watch['gill-attachment_p'] == 1]\n",
    "selected_data_test = pd.DataFrame(selected_rows_shape_p_test, columns = new_data_test_watch.columns)\n",
    "selected_data_p_test = new_data_test_watch.loc[new_data_test_watch['gill-attachment_p'] == 1].copy()\n",
    "\n",
    "stem_width_min_test = selected_data_p_test['stem-width'].min()\n",
    "stem_width_max_test = selected_data_p_test['stem-width'].max()\n",
    "stem_width_mean_test = selected_data_p_test['stem-width'].mean()\n",
    "selected_data_p_test['stem_width_gill_attachment_p_min'] = stem_width_min\n",
    "selected_data_p_test['stem_width_gill_attachment_p_max'] = stem_width_max\n",
    "selected_data_p_test['stem_width_gill_attachment_p_mean'] = stem_width_mean\n",
    "\n",
    "selected_data_p_test = selected_data_p_test.rename(columns = {'zeros': 'label2'})\n",
    "selected_data_p_test = selected_data_p_test.loc[:, ~selected_data_p_test.columns.duplicated()]\n",
    "selected_data_p_test = selected_data_p_test[['index_column', 'stem_width_gill_attachment_p_min', 'stem_width_gill_attachment_p_max', 'stem_width_gill_attachment_p_mean', 'label2']]"
   ]
  },
  {
   "cell_type": "code",
   "execution_count": 23,
   "id": "6ba7f616",
   "metadata": {
    "id": "6ba7f616"
   },
   "outputs": [],
   "source": [
    "selected_rows_shape_f_test = new_data_test_watch[new_data_test_watch['ring-type_f'] == 1]\n",
    "selected_data_test = pd.DataFrame(selected_rows_shape_f_test, columns = new_data_test_watch.columns)\n",
    "selected_data_f_test = new_data_test_watch.loc[new_data_test_watch['ring-type_f'] == 1].copy()\n",
    "\n",
    "stem_height_min_test = selected_data_f_test['stem-height'].min()\n",
    "stem_height_max_test = selected_data_f_test['stem-height'].max()\n",
    "stem_height_mean_test = selected_data_f_test['stem-height'].mean()\n",
    "selected_data_f_test['stem_height_ring_type_f_min'] = stem_height_min_test\n",
    "selected_data_f_test['stem_height_ring_type_f_max'] = stem_height_max_test\n",
    "selected_data_f_test['stem_height_ring_type_f_mean'] = stem_height_mean_test\n",
    "\n",
    "selected_data_f_test = selected_data_f_test.rename(columns = {'zeros': 'label3'})\n",
    "selected_data_f_test = selected_data_f_test.loc[:, ~selected_data_f_test.columns.duplicated()]\n",
    "selected_data_f_test = selected_data_f_test[['index_column', 'stem_height_ring_type_f_min', 'stem_height_ring_type_f_max', 'stem_height_ring_type_f_mean', 'label3']]"
   ]
  },
  {
   "cell_type": "code",
   "execution_count": 24,
   "id": "096d2fba",
   "metadata": {
    "id": "096d2fba"
   },
   "outputs": [],
   "source": [
    "selected_rows_shape_o_test = new_data_test_watch[new_data_test_watch['gill-color_o'] == 1]\n",
    "selected_data_test = pd.DataFrame(selected_rows_shape_o_test, columns = new_data_test_watch.columns)\n",
    "selected_data_o_test = new_data_test_watch.loc[new_data_test_watch['gill-color_o'] == 1].copy()\n",
    "\n",
    "stem_width_min_test = selected_data_o_test['stem-width'].min()\n",
    "stem_width_max_test = selected_data_o_test['stem-width'].max()\n",
    "stem_width_mean_test = selected_data_o_test['stem-width'].mean()\n",
    "selected_data_o_test['stem_width_gill_color_o_min'] = stem_width_min_test\n",
    "selected_data_o_test['stem_width_gill_color_o_max'] = stem_width_max_test\n",
    "selected_data_o_test['stem_width_gill_color_o_mean'] = stem_width_mean_test\n",
    "\n",
    "selected_data_o_test = selected_data_o_test.rename(columns = {'zeros': 'label4'})\n",
    "selected_data_o_test = selected_data_o_test.loc[:, ~selected_data_o_test.columns.duplicated()]\n",
    "selected_data_o_test = selected_data_o_test[['index_column', 'stem_width_gill_color_o_min', 'stem_width_gill_color_o_max', 'stem_width_gill_color_o_mean', 'label4']]"
   ]
  },
  {
   "cell_type": "code",
   "execution_count": 25,
   "id": "fa253e28",
   "metadata": {
    "id": "fa253e28"
   },
   "outputs": [],
   "source": [
    "selected_rows_shape_e_test = new_data_test_watch[new_data_test_watch['cap-color_e'] == 1]\n",
    "selected_data_test = pd.DataFrame(selected_rows_shape_e_test, columns = new_data_test_watch.columns)\n",
    "selected_data_e_test = new_data_test_watch.loc[new_data_test_watch['cap-color_e'] == 1].copy()\n",
    "\n",
    "cap_diameter_min_test = selected_data_e_test['cap-diameter'].min()\n",
    "cap_diameter_max_test = selected_data_e_test['cap-diameter'].max()\n",
    "cap_diameter_mean_test = selected_data_e_test['cap-diameter'].mean()\n",
    "selected_data_e_test['cap_diameter_cap_color_e_min'] = cap_diameter_min_test\n",
    "selected_data_e_test['cap_diameter_cap_color_e_max'] = cap_diameter_max_test\n",
    "selected_data_e_test['cap_diameter_cap_color_e_mean'] = cap_diameter_mean_test\n",
    "\n",
    "selected_data_e_test = selected_data_e_test.rename(columns = {'zeros': 'label5'})\n",
    "selected_data_e_test = selected_data_e_test.loc[:, ~selected_data_e_test.columns.duplicated()]\n",
    "selected_data_e_test = selected_data_e_test[['index_column', 'cap_diameter_cap_color_e_min', 'cap_diameter_cap_color_e_max', 'cap_diameter_cap_color_e_mean', 'label5']]"
   ]
  },
  {
   "cell_type": "code",
   "execution_count": 26,
   "id": "5b3c4596",
   "metadata": {
    "id": "5b3c4596"
   },
   "outputs": [],
   "source": [
    "selected_rows_shape_p_only_test = new_data_test_watch[new_data_test_watch['cap-shape_p'] == 1]\n",
    "selected_data_test = pd.DataFrame(selected_rows_shape_p_only_test, columns = new_data_test_watch.columns)\n",
    "selected_data_p_only_test = new_data_test_watch.loc[new_data_test_watch['cap-shape_p'] == 1].copy()\n",
    "\n",
    "cap_diameter_min_test = selected_data_p_only_test['cap-diameter'].min()\n",
    "cap_diameter_max_test = selected_data_p_only_test['cap-diameter'].max()\n",
    "cap_diameter_mean_test = selected_data_p_only_test['cap-diameter'].mean()\n",
    "selected_data_p_only_test['cap_diameter_p_min'] = cap_diameter_min_test\n",
    "selected_data_p_only_test['cap_diameter_p_max'] = cap_diameter_max_test\n",
    "selected_data_p_only_test['cap_diameter_p_mean'] = cap_diameter_mean_test\n",
    "\n",
    "selected_data_p_only_test = selected_data_p_only_test.rename(columns = {'zeros': 'label6'})\n",
    "selected_data_p_only_test = selected_data_p_only_test.loc[:, ~selected_data_p_only_test.columns.duplicated()]\n",
    "selected_data_p_only_test = selected_data_p_only_test[['index_column', 'cap_diameter_p_min', 'cap_diameter_p_max', 'cap_diameter_p_mean', 'label6']]"
   ]
  },
  {
   "cell_type": "code",
   "execution_count": 27,
   "id": "b716910a",
   "metadata": {
    "id": "b716910a"
   },
   "outputs": [],
   "source": [
    "dataframes_test = [new_data_test_watch, selected_data_m_test, selected_data_p_test, selected_data_f_test, selected_data_o_test, selected_data_e_test, selected_data_p_only_test]\n",
    "concatenated_df_test = pd.concat(dataframes_test, axis = 1, join = 'outer')\n",
    "concatenated_df_test = concatenated_df_test.drop('index_column', axis = 1)"
   ]
  },
  {
   "cell_type": "code",
   "execution_count": 28,
   "id": "8faae7d6",
   "metadata": {
    "id": "8faae7d6"
   },
   "outputs": [],
   "source": [
    "concatenated_df_test['common_index'] = concatenated_df_test.index\n",
    "concatenated_df_test.fillna(0, inplace = True)\n",
    "concatenated_df_test.set_index('common_index', inplace = True)\n",
    "\n",
    "def has_label(row):\n",
    "    label_cols = ['label1', 'label2', 'label3', 'label4', 'label5', 'label6']\n",
    "    \n",
    "    for col in label_cols:\n",
    "        \n",
    "        if row[col] == 1:\n",
    "            return 1\n",
    "    return 0\n",
    "\n",
    "concatenated_df_test['label'] = concatenated_df_test.apply(has_label, axis = 1)\n",
    "concatenated_df_test = concatenated_df_test.drop(['label1', 'label2', 'label3', 'label4','label5','label6'], axis = 1)\n",
    "concatenated_df_test = concatenated_df_test.drop(['zeros'], axis = 1)\n",
    "last_column_test = concatenated_df_test.iloc[:, -1]\n",
    "last_column_test = concatenated_df_test.iloc[:, -1].reset_index(drop = True)"
   ]
  },
  {
   "cell_type": "code",
   "execution_count": 29,
   "id": "d9b79cb2",
   "metadata": {
    "colab": {
     "base_uri": "https://localhost:8080/"
    },
    "id": "d9b79cb2",
    "outputId": "1dce8ad8-bd25-4fef-a680-11f8baa6ca7c"
   },
   "outputs": [
    {
     "name": "stdout",
     "output_type": "stream",
     "text": [
      "The final testing dataset-\n",
      "               cap-shape_x  stem-width  cap-color_n  cap-diameter  stem-height  \\\n",
      "common_index                                                                    \n",
      "0                       0    0.989005            0      1.335793     0.323775   \n",
      "1                       0    2.393873            1      2.051180    -0.055604   \n",
      "2                       1   -1.066850            1     -0.983626    -0.378668   \n",
      "3                       1    1.422338            1      1.592885    -0.420163   \n",
      "4                       0    0.720893            0      1.710253     5.036366   \n",
      "...                   ...         ...          ...           ...          ...   \n",
      "18316                   1   -0.422788            1      0.089454     0.409728   \n",
      "18317                   1    2.589763            1      2.710678     3.231355   \n",
      "18318                   0   -0.835344            1     -0.769383     0.566814   \n",
      "18319                   0    0.978122            0      1.484832     0.540139   \n",
      "18320                   0   -0.765100            1     -0.588673    -0.239365   \n",
      "\n",
      "              gill-attachment_a  stem-color_w  habitat_d  \\\n",
      "common_index                                               \n",
      "0                             0             1          1   \n",
      "1                             0             0          1   \n",
      "2                             1             0          1   \n",
      "3                             0             0          0   \n",
      "4                             1             0          0   \n",
      "...                         ...           ...        ...   \n",
      "18316                         1             0          0   \n",
      "18317                         0             1          1   \n",
      "18318                         1             0          0   \n",
      "18319                         0             0          0   \n",
      "18320                         1             1          1   \n",
      "\n",
      "              stem_width_gill_color_o_max  cap_diameter_p_max  gill-color_w  \\\n",
      "common_index                                                                  \n",
      "0                                     0.0            0.000000             1   \n",
      "1                                     0.0            0.000000             0   \n",
      "2                                     0.0            0.000000             0   \n",
      "3                                     0.0            0.000000             0   \n",
      "4                                     0.0            4.501009             1   \n",
      "...                                   ...                 ...           ...   \n",
      "18316                                 0.0            0.000000             0   \n",
      "18317                                 0.0            0.000000             0   \n",
      "18318                                 0.0            0.000000             0   \n",
      "18319                                 0.0            0.000000             0   \n",
      "18320                                 0.0            0.000000             0   \n",
      "\n",
      "              label  season_a  \n",
      "common_index                   \n",
      "0                 0         1  \n",
      "1                 1         0  \n",
      "2                 1         0  \n",
      "3                 1         1  \n",
      "4                 0         1  \n",
      "...             ...       ...  \n",
      "18316             0         1  \n",
      "18317             0         1  \n",
      "18318             0         0  \n",
      "18319             0         1  \n",
      "18320             1         1  \n",
      "\n",
      "[18321 rows x 13 columns]\n"
     ]
    }
   ],
   "source": [
    "# Extracting the indices of the columns in top PCA features training dataset to append to the testing dataset:\n",
    "top_feature_indices_test = [concatenated_df_test.columns.get_loc(feature) for feature in top_features[:pca.n_components]]\n",
    "top_features_data_test = concatenated_df_test.iloc[:, top_feature_indices_test]\n",
    "print(\"The final testing dataset-\\n\", top_features_data_test)"
   ]
  },
  {
   "cell_type": "code",
   "execution_count": 30,
   "id": "CK6bS6xiQjhV",
   "metadata": {
    "id": "CK6bS6xiQjhV"
   },
   "outputs": [],
   "source": [
    "# Defining the X & y training components: \n",
    "X_train = top_features_data_train\n",
    "true_labels = label_column_train\n",
    "# Defining the X & y testing components:\n",
    "X_test = top_features_data_test\n",
    "y_test = pd.DataFrame(last_column_test)\n",
    "y_test = y_test['label'].values\n",
    "X_train_v, X_val, y_train, y_val = train_test_split(X_train, true_labels, test_size = 0.2, random_state = 42) # Splitting the training dataset into validation set (80/20).\n",
    "k = 5"
   ]
  },
  {
   "cell_type": "markdown",
   "id": "-KJIYXTQ8nuf",
   "metadata": {
    "id": "-KJIYXTQ8nuf"
   },
   "source": [
    "**Logistic Regression on PCA reduced dataset**"
   ]
  },
  {
   "cell_type": "code",
   "execution_count": 31,
   "id": "c3099ddf",
   "metadata": {
    "colab": {
     "base_uri": "https://localhost:8080/"
    },
    "id": "c3099ddf",
    "outputId": "5976dafd-045e-48f4-c5bd-912c68ef73b1"
   },
   "outputs": [
    {
     "name": "stdout",
     "output_type": "stream",
     "text": [
      "The validation accuracy of logistic regression = 100.0%\n",
      "The training accuracy of logistic regression = 100.0%\n"
     ]
    }
   ],
   "source": [
    "# Performing Logistic Regression on the final dataframes:\n",
    "logreg = LogisticRegression(max_iter = 1000)\n",
    "scores = cross_val_score(logreg, X_train_v, y_train, cv = k)\n",
    "logreg.fit(X_train_v, y_train)\n",
    "#print(\"Average cross-validation accuracy: {:.2f}%\".format(scores.mean() * 100))\n",
    "# Predicting the class labels of the testing dataset:\n",
    "#predicted_labels = logreg.predict(X_test)\n",
    "val_accuracy = logreg.score(X_val, y_val)\n",
    "train_accuracy = logreg.score(X_train_v, y_train)\n",
    "print(f\"The validation accuracy of logistic regression = {val_accuracy * 100}%\")\n",
    "print(f\"The training accuracy of logistic regression = {train_accuracy * 100}%\")\n",
    "#accuracy = accuracy_score(predicted_labels, y_test) # Calculating the accuracy.\n",
    "#print(f\"The accuracy of logistic regression = {accuracy * 100}%\")\n",
    "#print(classification_report(y_test, predicted_labels))"
   ]
  },
  {
   "cell_type": "markdown",
   "id": "5y7JRXfK9qLn",
   "metadata": {
    "id": "5y7JRXfK9qLn"
   },
   "source": [
    "**Random Forest Classifier on PCA reduced dataset**"
   ]
  },
  {
   "cell_type": "code",
   "execution_count": 32,
   "id": "UREjQaXtXSGq",
   "metadata": {
    "colab": {
     "base_uri": "https://localhost:8080/"
    },
    "id": "UREjQaXtXSGq",
    "outputId": "6c3ae6f0-203a-4de6-8dd9-df61f5b49d27"
   },
   "outputs": [
    {
     "name": "stdout",
     "output_type": "stream",
     "text": [
      "The validation accuracy of random forest classifier = 100.0%\n",
      "The training accuracy of random forest classifier = 100.0%\n"
     ]
    }
   ],
   "source": [
    "rf = RandomForestClassifier()\n",
    "scores_rf = cross_val_score(rf, X_train_v, y_train, cv = k)\n",
    "rf.fit(X_train_v, y_train)\n",
    "val_accuracy_rf = rf.score(X_val, y_val)\n",
    "train_accuracy_rf = rf.score(X_train_v, y_train)\n",
    "#predicted_labels_rf = rf.predict(X_test)\n",
    "print(f\"The validation accuracy of random forest classifier = {val_accuracy_rf * 100}%\")\n",
    "print(f\"The training accuracy of random forest classifier = {train_accuracy_rf * 100}%\")\n",
    "#accuracy_rf = accuracy_score(predicted_labels_rf, y_test)\n",
    "#print(f\"The accuracy of random forest classifier = {accuracy_rf * 100}%\")\n",
    "#print(classification_report(y_test, predicted_labels_rf))"
   ]
  },
  {
   "cell_type": "markdown",
   "id": "B4tI8N_QCtxj",
   "metadata": {
    "id": "B4tI8N_QCtxj"
   },
   "source": [
    "**Support Vector Machine on PCA reduced dataset**"
   ]
  },
  {
   "cell_type": "code",
   "execution_count": 33,
   "id": "dQf2qSWuVBjj",
   "metadata": {
    "colab": {
     "base_uri": "https://localhost:8080/"
    },
    "id": "dQf2qSWuVBjj",
    "outputId": "bf8b0830-3b97-4da8-d2ce-6d14641d0869"
   },
   "outputs": [
    {
     "name": "stdout",
     "output_type": "stream",
     "text": [
      "The validation accuracy of support vector machine =  99.89473684210526%\n",
      "The training accuracy of support vector machine = 100.0%\n"
     ]
    }
   ],
   "source": [
    "svm = SVC(kernel = 'rbf', C = 1, gamma = 3)\n",
    "scores_svm = cross_val_score(svm, X_train_v, y_train, cv = k)\n",
    "svm.fit(X_train_v, y_train)\n",
    "val_accuracy_svm = svm.score(X_val, y_val)\n",
    "train_accuracy_svm = svm.score(X_train_v, y_train)\n",
    "print(f\"The validation accuracy of support vector machine =  {val_accuracy_svm * 100}%\")\n",
    "print(f\"The training accuracy of support vector machine = {train_accuracy_svm * 100}%\")\n",
    "#predicted_labels_svm = svm.predict(X_test)\n",
    "#print(f\"The accuracy of support vector machine = {accuracy_score(predicted_labels_svm, y_test) * 100}%\")\n",
    "#print(classification_report(y_test, predicted_labels_svm))"
   ]
  },
  {
   "cell_type": "code",
   "execution_count": 34,
   "id": "9O1xjeRxM-Pk",
   "metadata": {
    "colab": {
     "base_uri": "https://localhost:8080/"
    },
    "id": "9O1xjeRxM-Pk",
    "outputId": "c5c3673b-8264-40bf-8eaa-374b6d2c59ce"
   },
   "outputs": [
    {
     "name": "stdout",
     "output_type": "stream",
     "text": [
      "0.9990721030511435\n"
     ]
    }
   ],
   "source": [
    "y_pred = svm.predict(X_test)\n",
    "print(accuracy_score(y_pred, y_test))"
   ]
  },
  {
   "cell_type": "markdown",
   "id": "1BhQWxpHJ0HV",
   "metadata": {
    "id": "1BhQWxpHJ0HV"
   },
   "source": [
    "**Naive Bayes on PCA data**"
   ]
  },
  {
   "cell_type": "code",
   "execution_count": 35,
   "id": "gFYyyAR6ISiO",
   "metadata": {
    "colab": {
     "base_uri": "https://localhost:8080/"
    },
    "id": "gFYyyAR6ISiO",
    "outputId": "516f2341-e2af-436a-f4d4-299046fa8aaa"
   },
   "outputs": [
    {
     "name": "stdout",
     "output_type": "stream",
     "text": [
      "The validation accuracy of naive bayes classifier = 100.0%\n",
      "The training accuracy of naive bayes classifier = 100.0%\n"
     ]
    }
   ],
   "source": [
    "bayes = GaussianNB()\n",
    "scores_bayes = cross_val_score(bayes, X_train_v, y_train, cv = k)\n",
    "bayes.fit(X_train_v, y_train)\n",
    "val_accuracy_bayes = bayes.score(X_val, y_val)\n",
    "train_accuracy_bayes = bayes.score(X_train_v, y_train)\n",
    "print(f\"The validation accuracy of naive bayes classifier = {val_accuracy_bayes * 100}%\")\n",
    "print(f\"The training accuracy of naive bayes classifier = {train_accuracy_bayes * 100}%\")\n",
    "#pred_target = bayes.predict(X_test)\n",
    "#accuracy_nb = accuracy_score(pred_target, y_test)\n",
    "#print(f\"The accuracy of naive bayes = {accuracy_nb * 100}%\")\n",
    "#print(classification_report(y_test, pred_target))"
   ]
  },
  {
   "cell_type": "code",
   "execution_count": 36,
   "id": "LbVDsV424Z3n",
   "metadata": {
    "colab": {
     "base_uri": "https://localhost:8080/"
    },
    "id": "LbVDsV424Z3n",
    "outputId": "43bf51ef-fdb9-40dc-f115-c5d5a95b754e"
   },
   "outputs": [
    {
     "name": "stdout",
     "output_type": "stream",
     "text": [
      "Epoch 1/10\n",
      "1069/1069 [==============================] - 2s 987us/step - loss: 0.0480 - accuracy: 0.9888 - val_loss: 2.2115e-04 - val_accuracy: 1.0000\n",
      "Epoch 2/10\n",
      "1069/1069 [==============================] - 1s 888us/step - loss: 9.8923e-05 - accuracy: 1.0000 - val_loss: 4.5921e-05 - val_accuracy: 1.0000\n",
      "Epoch 3/10\n",
      "1069/1069 [==============================] - 1s 873us/step - loss: 2.6717e-05 - accuracy: 1.0000 - val_loss: 1.6437e-05 - val_accuracy: 1.0000\n",
      "Epoch 4/10\n",
      "1069/1069 [==============================] - 1s 870us/step - loss: 1.0475e-05 - accuracy: 1.0000 - val_loss: 7.1340e-06 - val_accuracy: 1.0000\n",
      "Epoch 5/10\n",
      "1069/1069 [==============================] - 1s 869us/step - loss: 4.7966e-06 - accuracy: 1.0000 - val_loss: 3.4539e-06 - val_accuracy: 1.0000\n",
      "Epoch 6/10\n",
      "1069/1069 [==============================] - 1s 917us/step - loss: 2.3695e-06 - accuracy: 1.0000 - val_loss: 1.7575e-06 - val_accuracy: 1.0000\n",
      "Epoch 7/10\n",
      "1069/1069 [==============================] - 1s 925us/step - loss: 1.2180e-06 - accuracy: 1.0000 - val_loss: 9.2029e-07 - val_accuracy: 1.0000\n",
      "Epoch 8/10\n",
      "1069/1069 [==============================] - 1s 957us/step - loss: 6.4253e-07 - accuracy: 1.0000 - val_loss: 4.9112e-07 - val_accuracy: 1.0000\n",
      "Epoch 9/10\n",
      "1069/1069 [==============================] - 1s 991us/step - loss: 3.4472e-07 - accuracy: 1.0000 - val_loss: 2.6592e-07 - val_accuracy: 1.0000\n",
      "Epoch 10/10\n",
      "1069/1069 [==============================] - 1s 874us/step - loss: 1.8702e-07 - accuracy: 1.0000 - val_loss: 1.4541e-07 - val_accuracy: 1.0000\n",
      "268/268 [==============================] - 0s 637us/step - loss: 1.4541e-07 - accuracy: 1.0000\n",
      "Test accuracy: 1.0\n"
     ]
    }
   ],
   "source": [
    "import tensorflow as tf\n",
    "from tensorflow import keras\n",
    "\n",
    "# Define the MLP model architecture\n",
    "model = keras.models.Sequential([\n",
    "    keras.layers.Dense(64, activation='relu', input_shape=(X_train.shape[1],)),\n",
    "    keras.layers.Dense(32, activation='relu'),\n",
    "    keras.layers.Dense(1, activation='sigmoid')\n",
    "])\n",
    "\n",
    "# Compile the model\n",
    "model.compile(loss='binary_crossentropy', optimizer='adam', metrics=['accuracy'])\n",
    "\n",
    "# Train the model\n",
    "batch_size = 32\n",
    "epochs = 10\n",
    "history = model.fit(X_train_v, y_train, batch_size=batch_size, epochs=epochs, validation_data=(X_val, y_val))\n",
    "\n",
    "# Evaluate the model\n",
    "val_loss, val_acc = model.evaluate(X_val, y_val)\n",
    "print('Test accuracy:', val_acc)\n"
   ]
  },
  {
   "cell_type": "markdown",
   "id": "qlZHCpTDPrkX",
   "metadata": {
    "id": "qlZHCpTDPrkX"
   },
   "source": [
    "# **Univariate Feature Selection**"
   ]
  },
  {
   "cell_type": "code",
   "execution_count": 37,
   "id": "GueWPjyKPr6m",
   "metadata": {
    "id": "GueWPjyKPr6m"
   },
   "outputs": [],
   "source": [
    "del concatenated_df_test['label']\n",
    "del concatenated_df_train['label']\n",
    "ufs = SelectKBest(score_func = chi2, k = 10)\n",
    "ufs.fit(abs(concatenated_df_train), label_column_train)\n",
    "X_train_selected = ufs.transform(concatenated_df_train)\n",
    "X_test_selected = ufs.transform(concatenated_df_test)\n",
    "X_train_v, X_val, y_train, y_val = train_test_split(X_train_selected, label_column_train, test_size = 0.2, random_state = 42) # Splitting the training dataset into validation set (80/20).\n",
    "k = 5"
   ]
  },
  {
   "cell_type": "markdown",
   "id": "A8Hh-BKGVJdE",
   "metadata": {
    "id": "A8Hh-BKGVJdE"
   },
   "source": [
    "**Logistic Regression on UFS data**"
   ]
  },
  {
   "cell_type": "code",
   "execution_count": 38,
   "id": "tBGhtua8VI7T",
   "metadata": {
    "colab": {
     "base_uri": "https://localhost:8080/"
    },
    "id": "tBGhtua8VI7T",
    "outputId": "f74b1c39-af24-480e-a151-45c1718ff871"
   },
   "outputs": [
    {
     "name": "stdout",
     "output_type": "stream",
     "text": [
      "The validation accuracy of logistic regression = 72.44444444444444%\n",
      "The training accuracy of logistic regression = 73.53353997309785%\n"
     ]
    }
   ],
   "source": [
    "lr = LogisticRegression()\n",
    "scores = cross_val_score(lr, X_train_v, y_train, cv = k)\n",
    "lr.fit(X_train_v, y_train)\n",
    "val_accuracy = lr.score(X_val, y_val)\n",
    "train_accuracy_lr = lr.score(X_train_v, y_train)\n",
    "print(f\"The validation accuracy of logistic regression = {val_accuracy * 100}%\")\n",
    "print(f\"The training accuracy of logistic regression = {train_accuracy_lr * 100}%\")\n",
    "#predicted_labels_lr_ufs = lr.predict(X_test_selected)\n",
    "#accuracy_lr_ufs = accuracy_score(last_column_test, predicted_labels_lr_ufs)\n",
    "#print(f\"The accuracy of logistic regression = {accuracy_lr_ufs * 100}%\")\n",
    "#print(classification_report(last_column_test, predicted_labels_lr_ufs))"
   ]
  },
  {
   "cell_type": "code",
   "execution_count": 44,
   "id": "1c6f3fff",
   "metadata": {},
   "outputs": [
    {
     "name": "stdout",
     "output_type": "stream",
     "text": [
      "Fold 1/5\n",
      "The validation accuracy of logistic regression in this fold = 72.44444444444444%\n",
      "The training accuracy of logistic regression in this fold = 73.53353997309785%\n",
      "Fold 2/5\n",
      "The validation accuracy of logistic regression in this fold = 73.82456140350877%\n",
      "The training accuracy of logistic regression in this fold = 73.18849055500321%\n",
      "Fold 3/5\n",
      "The validation accuracy of logistic regression in this fold = 73.6140350877193%\n",
      "The training accuracy of logistic regression in this fold = 73.2411252120007%\n",
      "Fold 4/5\n",
      "The validation accuracy of logistic regression in this fold = 73.66943502163996%\n",
      "The training accuracy of logistic regression in this fold = 73.22728734758326%\n",
      "Fold 5/5\n",
      "The validation accuracy of logistic regression in this fold = 73.02608492221312%\n",
      "The training accuracy of logistic regression in this fold = 73.38811076347261%\n"
     ]
    },
    {
     "data": {
      "image/png": "[encoded data removed]",
      "text/plain": [
       "<Figure size 640x480 with 1 Axes>"
      ]
     },
     "metadata": {},
     "output_type": "display_data"
    }
   ],
   "source": [
    "import matplotlib.pyplot as plt\n",
    "import numpy as np\n",
    "from sklearn.model_selection import KFold\n",
    "from sklearn.linear_model import LogisticRegression\n",
    "from sklearn.feature_selection import SelectKBest, chi2\n",
    "\n",
    "# Splitting the data into train and test sets\n",
    "ufs = SelectKBest(score_func=chi2, k=10)\n",
    "ufs.fit(abs(concatenated_df_train), label_column_train)\n",
    "X_train_selected = ufs.transform(concatenated_df_train)\n",
    "X_test_selected = ufs.transform(concatenated_df_test)\n",
    "\n",
    "# Applying k-fold cross-validation\n",
    "k = 5\n",
    "kf = KFold(n_splits=k, shuffle=True, random_state=42)\n",
    "\n",
    "val_acc_list = []\n",
    "train_acc_list = []\n",
    "\n",
    "for fold, (train_index, val_index) in enumerate(kf.split(X_train_selected)):\n",
    "    print(f'Fold {fold+1}/{k}')\n",
    "\n",
    "    # Splitting the data into train and validation sets for this fold\n",
    "    X_train_v, X_val = X_train_selected[train_index], X_train_selected[val_index]\n",
    "    y_train, y_val = label_column_train[train_index], label_column_train[val_index]\n",
    "\n",
    "    # Training the model\n",
    "    lr = LogisticRegression()\n",
    "    lr.fit(X_train_v, y_train)\n",
    "\n",
    "    # Evaluating the model on the validation set\n",
    "    val_accuracy = lr.score(X_val, y_val)\n",
    "    train_accuracy = lr.score(X_train_v, y_train)\n",
    "    val_acc_list.append(val_accuracy)\n",
    "    train_acc_list.append(train_accuracy)\n",
    "    print(f\"The validation accuracy of logistic regression in this fold = {val_accuracy * 100}%\")\n",
    "    print(f\"The training accuracy of logistic regression in this fold = {train_accuracy * 100}%\")\n",
    "\n",
    "# Plotting the training and validation accuracy vs epoch\n",
    "epochs = np.arange(1, k+1)\n",
    "plt.plot(epochs, val_acc_list, label='Validation')\n",
    "plt.plot(epochs, train_acc_list, label='Training')\n",
    "plt.xlabel('Epoch')\n",
    "plt.ylabel('Accuracy')\n",
    "plt.title('Logistic Regression Accuracy vs Epoch')\n",
    "plt.legend()\n",
    "plt.show()\n"
   ]
  },
  {
   "cell_type": "markdown",
   "id": "rqrgu3UTVjXV",
   "metadata": {
    "id": "rqrgu3UTVjXV"
   },
   "source": [
    "**Support Vector Machine on UFS data**"
   ]
  },
  {
   "cell_type": "code",
   "execution_count": 39,
   "id": "CLiZvIMIVjGG",
   "metadata": {
    "colab": {
     "base_uri": "https://localhost:8080/"
    },
    "id": "CLiZvIMIVjGG",
    "outputId": "155326ee-ea8a-4d22-88be-5a93567196b3"
   },
   "outputs": [
    {
     "name": "stdout",
     "output_type": "stream",
     "text": [
      "The validation accuracy of support vector machine = 74.53801169590643%\n",
      "The training accuracy of support vector machine = 75.38744955845371%\n"
     ]
    }
   ],
   "source": [
    "svm_ufs = SVC(kernel = 'rbf', C = 1, gamma = 3)\n",
    "scores_ufs = cross_val_score(svm_ufs, X_train_v, y_train, cv = k)\n",
    "svm_ufs.fit(X_train_v, y_train)\n",
    "val_accuracy_ufs = svm_ufs.score(X_val, y_val)\n",
    "train_accuracy_svm = svm_ufs.score(X_train_v, y_train)\n",
    "print(f\"The validation accuracy of support vector machine = {val_accuracy_ufs * 100}%\")\n",
    "print(f\"The training accuracy of support vector machine = {train_accuracy_svm * 100}%\")\n",
    "#predicted_labels_lr_svm = svm_ufs.predict(X_test_selected)\n",
    "#print(f\"The accuracy of support vector machine = {accuracy_score(predicted_labels_lr_svm, last_column_test) * 100}%\")\n",
    "#print(classification_report(last_column_test, predicted_labels_lr_svm))"
   ]
  },
  {
   "cell_type": "code",
   "execution_count": 45,
   "id": "ab575923",
   "metadata": {},
   "outputs": [
    {
     "name": "stdout",
     "output_type": "stream",
     "text": [
      "The average training accuracy of support vector machine = 75.22106266080748%\n",
      "The average validation accuracy of support vector machine = 75.18012010569959%\n"
     ]
    },
    {
     "data": {
      "image/png": "[encoded data removed]",
      "text/plain": [
       "<Figure size 640x480 with 1 Axes>"
      ]
     },
     "metadata": {},
     "output_type": "display_data"
    }
   ],
   "source": [
    "from sklearn.model_selection import KFold\n",
    "\n",
    "svm_ufs = SVC(kernel='rbf', C=1, gamma=3)\n",
    "k = 5\n",
    "kf = KFold(n_splits=k, shuffle=True, random_state=42)\n",
    "train_accs = []\n",
    "val_accs = []\n",
    "\n",
    "for train_index, val_index in kf.split(X_train_selected):\n",
    "    X_train, X_val = X_train_selected[train_index], X_train_selected[val_index]\n",
    "    y_train, y_val = label_column_train[train_index], label_column_train[val_index]\n",
    "    \n",
    "    svm_ufs.fit(X_train, y_train)\n",
    "    train_accuracy_svm = svm_ufs.score(X_train, y_train)\n",
    "    train_accs.append(train_accuracy_svm)\n",
    "    val_accuracy_ufs = svm_ufs.score(X_val, y_val)\n",
    "    val_accs.append(val_accuracy_ufs)\n",
    "    \n",
    "print(f\"The average training accuracy of support vector machine = {np.mean(train_accs) * 100}%\")\n",
    "print(f\"The average validation accuracy of support vector machine = {np.mean(val_accs) * 100}%\")\n",
    "\n",
    "# plot the training and validation accuracy vs epoch\n",
    "import matplotlib.pyplot as plt\n",
    "\n",
    "fig, ax = plt.subplots()\n",
    "ax.plot(train_accs, label='Training accuracy')\n",
    "ax.plot(val_accs, label='Validation accuracy')\n",
    "ax.set_xlabel('Epoch')\n",
    "ax.set_ylabel('Accuracy')\n",
    "ax.legend()\n",
    "plt.show()"
   ]
  },
  {
   "cell_type": "markdown",
   "id": "SSem4DI3WEF0",
   "metadata": {
    "id": "SSem4DI3WEF0"
   },
   "source": [
    "**Random Forest Classifier on UFS data**"
   ]
  },
  {
   "cell_type": "code",
   "execution_count": 40,
   "id": "Y0tzsekiWEYM",
   "metadata": {
    "colab": {
     "base_uri": "https://localhost:8080/"
    },
    "id": "Y0tzsekiWEYM",
    "outputId": "95e10ea8-e362-48ca-c4d3-b87924c7dfd1"
   },
   "outputs": [
    {
     "name": "stdout",
     "output_type": "stream",
     "text": [
      "The validation accuracy of random forest classifier = 74.53801169590643%\n",
      "The training accuracy of random forest classifier = 75.38744955845371%\n"
     ]
    }
   ],
   "source": [
    "rf_ufs = RandomForestClassifier()\n",
    "scores_rf_ufs = cross_val_score(rf_ufs, X_train_v, y_train, cv = k)\n",
    "rf_ufs.fit(X_train_v, y_train)\n",
    "val_accuracy_ufs_rf = rf_ufs.score(X_val, y_val)\n",
    "train_accuracy_RF = rf_ufs.score(X_train_v, y_train)\n",
    "print(f\"The validation accuracy of random forest classifier = {val_accuracy_ufs_rf * 100}%\")\n",
    "print(f\"The training accuracy of random forest classifier = {train_accuracy_RF * 100}%\")\n",
    "#predicted_labels_rf_ufs = rf_ufs.predict(X_test_selected)\n",
    "#accuracy_rf_ufs = accuracy_score(predicted_labels_rf_ufs, last_column_test)\n",
    "#print(f\"The accuracy of random forest classifier = {accuracy_rf_ufs * 100}%\")\n",
    "#print(classification_report(last_column_test, predicted_labels_rf_ufs))"
   ]
  },
  {
   "cell_type": "code",
   "execution_count": 46,
   "id": "04786a16",
   "metadata": {},
   "outputs": [
    {
     "data": {
      "image/png": "[encoded data removed]",
      "text/plain": [
       "<Figure size 640x480 with 1 Axes>"
      ]
     },
     "metadata": {},
     "output_type": "display_data"
    }
   ],
   "source": [
    "from sklearn.ensemble import RandomForestClassifier\n",
    "from sklearn.model_selection import cross_val_score, train_test_split\n",
    "import matplotlib.pyplot as plt\n",
    "\n",
    "# Initializing the random forest classifier\n",
    "rf_ufs = RandomForestClassifier()\n",
    "\n",
    "# Performing k-fold cross validation and getting the accuracy scores for each fold\n",
    "k = 5\n",
    "scores_rf_ufs = []\n",
    "train_acc_rf_ufs = []\n",
    "val_acc_rf_ufs = []\n",
    "for i in range(k):\n",
    "    # Get the training and validation data for this fold\n",
    "    X_train_fold, X_val_fold, y_train_fold, y_val_fold = train_test_split(X_train_v, y_train, test_size=0.2, random_state=i)\n",
    "    \n",
    "    # Train the model on the training data for this fold\n",
    "    rf_ufs.fit(X_train_fold, y_train_fold)\n",
    "    \n",
    "    # Get the accuracy scores for this fold\n",
    "    train_acc_rf_ufs.append(rf_ufs.score(X_train_fold, y_train_fold))\n",
    "    val_acc_rf_ufs.append(rf_ufs.score(X_val_fold, y_val_fold))\n",
    "    scores_rf_ufs.append(rf_ufs.score(X_val_fold, y_val_fold))\n",
    "\n",
    "# Plotting the training and validation accuracies for each fold\n",
    "plt.plot(range(1, k+1), train_acc_rf_ufs, label='Training Accuracy')\n",
    "plt.plot(range(1, k+1), val_acc_rf_ufs, label='Validation Accuracy')\n",
    "plt.title('Random Forest Classifier - Training and Validation Accuracies')\n",
    "plt.xlabel('Fold')\n",
    "plt.ylabel('Accuracy')\n",
    "plt.xticks(range(1, k+1))\n",
    "plt.legend()\n",
    "plt.show()"
   ]
  },
  {
   "cell_type": "markdown",
   "id": "ZA6XjRDMJ7Kq",
   "metadata": {
    "id": "ZA6XjRDMJ7Kq"
   },
   "source": [
    "**Naive Bayes on UFS data**"
   ]
  },
  {
   "cell_type": "code",
   "execution_count": 41,
   "id": "hs3jPP3nH6zc",
   "metadata": {
    "colab": {
     "base_uri": "https://localhost:8080/"
    },
    "id": "hs3jPP3nH6zc",
    "outputId": "1d79b9e5-ed1a-4e23-9d63-4ca0bdf1a61b"
   },
   "outputs": [
    {
     "name": "stdout",
     "output_type": "stream",
     "text": [
      "The validation accuracy of naive bayes classifier = 64.66666666666666%\n",
      "The training accuracy of naive bayes classifier = 66.04772208901105%\n"
     ]
    }
   ],
   "source": [
    "bayes_ufs = GaussianNB()\n",
    "scores_rf_bayes = cross_val_score(bayes_ufs, X_train_v, y_train, cv = k)\n",
    "bayes_ufs.fit(X_train_v, y_train)\n",
    "val_accuracy_ufs_bayes = bayes_ufs.score(X_val, y_val)\n",
    "train_accuracy_bayes = bayes_ufs.score(X_train_v, y_train)\n",
    "print(f\"The validation accuracy of naive bayes classifier = {val_accuracy_ufs_bayes * 100}%\")\n",
    "print(f\"The training accuracy of naive bayes classifier = {train_accuracy_bayes * 100}%\")\n",
    "#pred_target_ufs = bayes_ufs.predict(X_test_selected)\n",
    "#accuracy_nb_ufs = accuracy_score(pred_target_ufs, last_column_test)\n",
    "#print(f\"The accuracy of naive bayes = {accuracy_nb_ufs * 100}%\")\n",
    "#print(classification_report(last_column_test, pred_target_ufs))"
   ]
  },
  {
   "cell_type": "code",
   "execution_count": 52,
   "id": "8cdb6c57",
   "metadata": {},
   "outputs": [
    {
     "name": "stdout",
     "output_type": "stream",
     "text": [
      "Epoch 1/50 - Training Accuracy: 69.11%, Validation Accuracy: 61.00%\n",
      "Epoch 2/50 - Training Accuracy: 69.11%, Validation Accuracy: 61.00%\n",
      "Epoch 3/50 - Training Accuracy: 69.11%, Validation Accuracy: 61.00%\n",
      "Epoch 4/50 - Training Accuracy: 69.11%, Validation Accuracy: 61.00%\n",
      "Epoch 5/50 - Training Accuracy: 69.11%, Validation Accuracy: 61.00%\n",
      "Epoch 6/50 - Training Accuracy: 69.11%, Validation Accuracy: 61.00%\n",
      "Epoch 7/50 - Training Accuracy: 69.11%, Validation Accuracy: 61.00%\n",
      "Epoch 8/50 - Training Accuracy: 69.11%, Validation Accuracy: 61.00%\n",
      "Epoch 9/50 - Training Accuracy: 69.11%, Validation Accuracy: 61.00%\n",
      "Epoch 10/50 - Training Accuracy: 69.11%, Validation Accuracy: 61.00%\n",
      "Epoch 11/50 - Training Accuracy: 69.11%, Validation Accuracy: 61.00%\n",
      "Epoch 12/50 - Training Accuracy: 69.11%, Validation Accuracy: 61.00%\n",
      "Epoch 13/50 - Training Accuracy: 69.11%, Validation Accuracy: 61.00%\n",
      "Epoch 14/50 - Training Accuracy: 69.11%, Validation Accuracy: 61.00%\n",
      "Epoch 15/50 - Training Accuracy: 69.11%, Validation Accuracy: 61.00%\n",
      "Epoch 16/50 - Training Accuracy: 69.11%, Validation Accuracy: 61.00%\n",
      "Epoch 17/50 - Training Accuracy: 69.11%, Validation Accuracy: 61.00%\n",
      "Epoch 18/50 - Training Accuracy: 69.11%, Validation Accuracy: 61.00%\n",
      "Epoch 19/50 - Training Accuracy: 69.11%, Validation Accuracy: 61.00%\n",
      "Epoch 20/50 - Training Accuracy: 69.11%, Validation Accuracy: 61.00%\n",
      "Epoch 21/50 - Training Accuracy: 69.11%, Validation Accuracy: 61.00%\n",
      "Epoch 22/50 - Training Accuracy: 69.11%, Validation Accuracy: 61.00%\n",
      "Epoch 23/50 - Training Accuracy: 69.11%, Validation Accuracy: 61.00%\n",
      "Epoch 24/50 - Training Accuracy: 69.11%, Validation Accuracy: 61.00%\n",
      "Epoch 25/50 - Training Accuracy: 69.11%, Validation Accuracy: 61.00%\n",
      "Epoch 26/50 - Training Accuracy: 69.11%, Validation Accuracy: 61.00%\n",
      "Epoch 27/50 - Training Accuracy: 69.11%, Validation Accuracy: 61.00%\n",
      "Epoch 28/50 - Training Accuracy: 69.11%, Validation Accuracy: 61.00%\n",
      "Epoch 29/50 - Training Accuracy: 69.11%, Validation Accuracy: 61.00%\n",
      "Epoch 30/50 - Training Accuracy: 69.11%, Validation Accuracy: 61.00%\n",
      "Epoch 31/50 - Training Accuracy: 69.11%, Validation Accuracy: 61.00%\n",
      "Epoch 32/50 - Training Accuracy: 69.11%, Validation Accuracy: 61.00%\n",
      "Epoch 33/50 - Training Accuracy: 69.11%, Validation Accuracy: 61.00%\n",
      "Epoch 34/50 - Training Accuracy: 69.11%, Validation Accuracy: 61.00%\n",
      "Epoch 35/50 - Training Accuracy: 69.11%, Validation Accuracy: 61.00%\n",
      "Epoch 36/50 - Training Accuracy: 69.11%, Validation Accuracy: 61.00%\n",
      "Epoch 37/50 - Training Accuracy: 69.11%, Validation Accuracy: 61.00%\n",
      "Epoch 38/50 - Training Accuracy: 69.11%, Validation Accuracy: 61.00%\n",
      "Epoch 39/50 - Training Accuracy: 69.11%, Validation Accuracy: 61.00%\n",
      "Epoch 40/50 - Training Accuracy: 69.11%, Validation Accuracy: 61.00%\n",
      "Epoch 41/50 - Training Accuracy: 69.11%, Validation Accuracy: 61.00%\n",
      "Epoch 42/50 - Training Accuracy: 69.11%, Validation Accuracy: 61.00%\n",
      "Epoch 43/50 - Training Accuracy: 69.11%, Validation Accuracy: 61.00%\n",
      "Epoch 44/50 - Training Accuracy: 69.11%, Validation Accuracy: 61.00%\n",
      "Epoch 45/50 - Training Accuracy: 69.11%, Validation Accuracy: 61.00%\n",
      "Epoch 46/50 - Training Accuracy: 69.11%, Validation Accuracy: 61.00%\n",
      "Epoch 47/50 - Training Accuracy: 69.11%, Validation Accuracy: 61.00%\n",
      "Epoch 48/50 - Training Accuracy: 69.11%, Validation Accuracy: 61.00%\n",
      "Epoch 49/50 - Training Accuracy: 69.11%, Validation Accuracy: 61.00%\n",
      "Epoch 50/50 - Training Accuracy: 69.11%, Validation Accuracy: 61.00%\n"
     ]
    },
    {
     "data": {
      "image/png": "[encoded data removed]",
      "text/plain": [
       "<Figure size 640x480 with 1 Axes>"
      ]
     },
     "metadata": {},
     "output_type": "display_data"
    }
   ],
   "source": [
    "import numpy as np\n",
    "import matplotlib.pyplot as plt\n",
    "from sklearn.naive_bayes import GaussianNB\n",
    "from sklearn.model_selection import cross_val_score, KFold\n",
    "\n",
    "\n",
    "k = 10\n",
    "n_epochs = 50\n",
    "\n",
    "bayes_ufs = GaussianNB()\n",
    "train_accs = []\n",
    "val_accs = []\n",
    "\n",
    "kf = KFold(n_splits=k)\n",
    "\n",
    "for epoch in range(n_epochs):\n",
    "    train_acc = 0\n",
    "    val_acc = 0\n",
    "    for train_index, val_index in kf.split(X_train_v, y_train):\n",
    "        X_train_fold, X_val_fold = X_train_v[train_index], X_train_v[val_index]\n",
    "        y_train_fold, y_val_fold = y_train[train_index], y_train[val_index]\n",
    "\n",
    "        bayes_ufs.fit(X_train_fold, y_train_fold)\n",
    "        train_acc += bayes_ufs.score(X_train_fold, y_train_fold)\n",
    "        val_acc += bayes_ufs.score(X_val_fold, y_val_fold)\n",
    "\n",
    "    train_acc /= k\n",
    "    val_acc /= k\n",
    "    train_accs.append(train_acc)\n",
    "    val_accs.append(val_acc)\n",
    "    print(f\"Epoch {epoch+1}/{n_epochs} - Training Accuracy: {train_acc*100:.2f}%, Validation Accuracy: {val_acc*100:.2f}%\")\n",
    "\n",
    "plt.plot(train_accs, label='Training Accuracy')\n",
    "plt.plot(val_accs, label='Validation Accuracy')\n",
    "plt.xlabel('Epoch')\n",
    "plt.ylabel('Accuracy')\n",
    "plt.title('Gaussian Naive Bayes Classifier Accuracy vs Epoch')\n",
    "plt.legend()\n",
    "plt.show()\n"
   ]
  },
  {
   "cell_type": "code",
   "execution_count": 42,
   "id": "0Hdt7lB3-glO",
   "metadata": {
    "colab": {
     "base_uri": "https://localhost:8080/",
     "height": 658
    },
    "id": "0Hdt7lB3-glO",
    "outputId": "cedc7929-901a-4b13-8132-6ab8ff655bd0"
   },
   "outputs": [
    {
     "name": "stdout",
     "output_type": "stream",
     "text": [
      "Epoch 1/10\n"
     ]
    },
    {
     "ename": "ValueError",
     "evalue": "in user code:\n\n    File \"C:\\Users\\Kranti\\anaconda3\\lib\\site-packages\\keras\\engine\\training.py\", line 1249, in train_function  *\n        return step_function(self, iterator)\n    File \"C:\\Users\\Kranti\\anaconda3\\lib\\site-packages\\keras\\engine\\training.py\", line 1233, in step_function  **\n        outputs = model.distribute_strategy.run(run_step, args=(data,))\n    File \"C:\\Users\\Kranti\\anaconda3\\lib\\site-packages\\keras\\engine\\training.py\", line 1222, in run_step  **\n        outputs = model.train_step(data)\n    File \"C:\\Users\\Kranti\\anaconda3\\lib\\site-packages\\keras\\engine\\training.py\", line 1023, in train_step\n        y_pred = self(x, training=True)\n    File \"C:\\Users\\Kranti\\anaconda3\\lib\\site-packages\\keras\\utils\\traceback_utils.py\", line 70, in error_handler\n        raise e.with_traceback(filtered_tb) from None\n    File \"C:\\Users\\Kranti\\anaconda3\\lib\\site-packages\\keras\\engine\\input_spec.py\", line 295, in assert_input_compatibility\n        raise ValueError(\n\n    ValueError: Input 0 of layer \"sequential_1\" is incompatible with the layer: expected shape=(None, 13), found shape=(None, 10)\n",
     "output_type": "error",
     "traceback": [
      "\u001b[1;31m---------------------------------------------------------------------------\u001b[0m",
      "\u001b[1;31mValueError\u001b[0m                                Traceback (most recent call last)",
      "\u001b[1;32m~\\AppData\\Local\\Temp\\ipykernel_3900\\2418263450.py\u001b[0m in \u001b[0;36m<module>\u001b[1;34m\u001b[0m\n\u001b[0;32m     15\u001b[0m \u001b[0mbatch_size\u001b[0m \u001b[1;33m=\u001b[0m \u001b[1;36m32\u001b[0m\u001b[1;33m\u001b[0m\u001b[1;33m\u001b[0m\u001b[0m\n\u001b[0;32m     16\u001b[0m \u001b[0mepochs\u001b[0m \u001b[1;33m=\u001b[0m \u001b[1;36m10\u001b[0m\u001b[1;33m\u001b[0m\u001b[1;33m\u001b[0m\u001b[0m\n\u001b[1;32m---> 17\u001b[1;33m \u001b[0mhistory\u001b[0m \u001b[1;33m=\u001b[0m \u001b[0mmodel\u001b[0m\u001b[1;33m.\u001b[0m\u001b[0mfit\u001b[0m\u001b[1;33m(\u001b[0m\u001b[0mX_train_v\u001b[0m\u001b[1;33m,\u001b[0m \u001b[0my_train\u001b[0m\u001b[1;33m,\u001b[0m \u001b[0mbatch_size\u001b[0m\u001b[1;33m=\u001b[0m\u001b[0mbatch_size\u001b[0m\u001b[1;33m,\u001b[0m \u001b[0mepochs\u001b[0m\u001b[1;33m=\u001b[0m\u001b[0mepochs\u001b[0m\u001b[1;33m,\u001b[0m \u001b[0mvalidation_data\u001b[0m\u001b[1;33m=\u001b[0m\u001b[1;33m(\u001b[0m\u001b[0mX_val\u001b[0m\u001b[1;33m,\u001b[0m \u001b[0my_val\u001b[0m\u001b[1;33m)\u001b[0m\u001b[1;33m)\u001b[0m\u001b[1;33m\u001b[0m\u001b[1;33m\u001b[0m\u001b[0m\n\u001b[0m\u001b[0;32m     18\u001b[0m \u001b[1;33m\u001b[0m\u001b[0m\n\u001b[0;32m     19\u001b[0m \u001b[1;31m# Evaluate the model\u001b[0m\u001b[1;33m\u001b[0m\u001b[1;33m\u001b[0m\u001b[0m\n",
      "\u001b[1;32m~\\anaconda3\\lib\\site-packages\\keras\\utils\\traceback_utils.py\u001b[0m in \u001b[0;36merror_handler\u001b[1;34m(*args, **kwargs)\u001b[0m\n\u001b[0;32m     68\u001b[0m             \u001b[1;31m# To get the full stack trace, call:\u001b[0m\u001b[1;33m\u001b[0m\u001b[1;33m\u001b[0m\u001b[0m\n\u001b[0;32m     69\u001b[0m             \u001b[1;31m# `tf.debugging.disable_traceback_filtering()`\u001b[0m\u001b[1;33m\u001b[0m\u001b[1;33m\u001b[0m\u001b[0m\n\u001b[1;32m---> 70\u001b[1;33m             \u001b[1;32mraise\u001b[0m \u001b[0me\u001b[0m\u001b[1;33m.\u001b[0m\u001b[0mwith_traceback\u001b[0m\u001b[1;33m(\u001b[0m\u001b[0mfiltered_tb\u001b[0m\u001b[1;33m)\u001b[0m \u001b[1;32mfrom\u001b[0m \u001b[1;32mNone\u001b[0m\u001b[1;33m\u001b[0m\u001b[1;33m\u001b[0m\u001b[0m\n\u001b[0m\u001b[0;32m     71\u001b[0m         \u001b[1;32mfinally\u001b[0m\u001b[1;33m:\u001b[0m\u001b[1;33m\u001b[0m\u001b[1;33m\u001b[0m\u001b[0m\n\u001b[0;32m     72\u001b[0m             \u001b[1;32mdel\u001b[0m \u001b[0mfiltered_tb\u001b[0m\u001b[1;33m\u001b[0m\u001b[1;33m\u001b[0m\u001b[0m\n",
      "\u001b[1;32m~\\anaconda3\\lib\\site-packages\\keras\\engine\\training.py\u001b[0m in \u001b[0;36mtf__train_function\u001b[1;34m(iterator)\u001b[0m\n\u001b[0;32m     13\u001b[0m                 \u001b[1;32mtry\u001b[0m\u001b[1;33m:\u001b[0m\u001b[1;33m\u001b[0m\u001b[1;33m\u001b[0m\u001b[0m\n\u001b[0;32m     14\u001b[0m                     \u001b[0mdo_return\u001b[0m \u001b[1;33m=\u001b[0m \u001b[1;32mTrue\u001b[0m\u001b[1;33m\u001b[0m\u001b[1;33m\u001b[0m\u001b[0m\n\u001b[1;32m---> 15\u001b[1;33m                     \u001b[0mretval_\u001b[0m \u001b[1;33m=\u001b[0m \u001b[0mag__\u001b[0m\u001b[1;33m.\u001b[0m\u001b[0mconverted_call\u001b[0m\u001b[1;33m(\u001b[0m\u001b[0mag__\u001b[0m\u001b[1;33m.\u001b[0m\u001b[0mld\u001b[0m\u001b[1;33m(\u001b[0m\u001b[0mstep_function\u001b[0m\u001b[1;33m)\u001b[0m\u001b[1;33m,\u001b[0m \u001b[1;33m(\u001b[0m\u001b[0mag__\u001b[0m\u001b[1;33m.\u001b[0m\u001b[0mld\u001b[0m\u001b[1;33m(\u001b[0m\u001b[0mself\u001b[0m\u001b[1;33m)\u001b[0m\u001b[1;33m,\u001b[0m \u001b[0mag__\u001b[0m\u001b[1;33m.\u001b[0m\u001b[0mld\u001b[0m\u001b[1;33m(\u001b[0m\u001b[0miterator\u001b[0m\u001b[1;33m)\u001b[0m\u001b[1;33m)\u001b[0m\u001b[1;33m,\u001b[0m \u001b[1;32mNone\u001b[0m\u001b[1;33m,\u001b[0m \u001b[0mfscope\u001b[0m\u001b[1;33m)\u001b[0m\u001b[1;33m\u001b[0m\u001b[1;33m\u001b[0m\u001b[0m\n\u001b[0m\u001b[0;32m     16\u001b[0m                 \u001b[1;32mexcept\u001b[0m\u001b[1;33m:\u001b[0m\u001b[1;33m\u001b[0m\u001b[1;33m\u001b[0m\u001b[0m\n\u001b[0;32m     17\u001b[0m                     \u001b[0mdo_return\u001b[0m \u001b[1;33m=\u001b[0m \u001b[1;32mFalse\u001b[0m\u001b[1;33m\u001b[0m\u001b[1;33m\u001b[0m\u001b[0m\n",
      "\u001b[1;31mValueError\u001b[0m: in user code:\n\n    File \"C:\\Users\\Kranti\\anaconda3\\lib\\site-packages\\keras\\engine\\training.py\", line 1249, in train_function  *\n        return step_function(self, iterator)\n    File \"C:\\Users\\Kranti\\anaconda3\\lib\\site-packages\\keras\\engine\\training.py\", line 1233, in step_function  **\n        outputs = model.distribute_strategy.run(run_step, args=(data,))\n    File \"C:\\Users\\Kranti\\anaconda3\\lib\\site-packages\\keras\\engine\\training.py\", line 1222, in run_step  **\n        outputs = model.train_step(data)\n    File \"C:\\Users\\Kranti\\anaconda3\\lib\\site-packages\\keras\\engine\\training.py\", line 1023, in train_step\n        y_pred = self(x, training=True)\n    File \"C:\\Users\\Kranti\\anaconda3\\lib\\site-packages\\keras\\utils\\traceback_utils.py\", line 70, in error_handler\n        raise e.with_traceback(filtered_tb) from None\n    File \"C:\\Users\\Kranti\\anaconda3\\lib\\site-packages\\keras\\engine\\input_spec.py\", line 295, in assert_input_compatibility\n        raise ValueError(\n\n    ValueError: Input 0 of layer \"sequential_1\" is incompatible with the layer: expected shape=(None, 13), found shape=(None, 10)\n"
     ]
    }
   ],
   "source": [
    "import tensorflow as tf\n",
    "from tensorflow import keras\n",
    "\n",
    "# Define the MLP model architecture\n",
    "model = keras.models.Sequential([\n",
    "    keras.layers.Dense(64, activation='relu', input_shape=(X_train.shape[1],)),\n",
    "    keras.layers.Dense(32, activation='relu'),\n",
    "    keras.layers.Dense(1, activation='sigmoid')\n",
    "])\n",
    "\n",
    "# Compile the model\n",
    "model.compile(loss='binary_crossentropy', optimizer='adam', metrics=['accuracy'])\n",
    "\n",
    "# Train the model\n",
    "batch_size = 32\n",
    "epochs = 10\n",
    "history = model.fit(X_train_v, y_train, batch_size=batch_size, epochs=epochs, validation_data=(X_val, y_val))\n",
    "\n",
    "# Evaluate the model\n",
    "val_loss, val_acc = model.evaluate(X_val, y_val)\n",
    "print('Test accuracy:', val_acc)"
   ]
  },
  {
   "cell_type": "code",
   "execution_count": null,
   "id": "38232b8c",
   "metadata": {},
   "outputs": [],
   "source": []
  },
  {
   "cell_type": "code",
   "execution_count": null,
   "id": "5a48a6f4",
   "metadata": {},
   "outputs": [],
   "source": []
  },
  {
   "cell_type": "code",
   "execution_count": null,
   "id": "17f307f4",
   "metadata": {},
   "outputs": [],
   "source": []
  },
  {
   "cell_type": "code",
   "execution_count": null,
   "id": "c626d724",
   "metadata": {},
   "outputs": [],
   "source": []
  }
 ],
 "metadata": {
  "colab": {
   "provenance": []
  },
  "kernelspec": {
   "display_name": "Python 3 (ipykernel)",
   "language": "python",
   "name": "python3"
  },
  "language_info": {
   "codemirror_mode": {
    "name": "ipython",
    "version": 3
   },
   "file_extension": ".py",
   "mimetype": "text/x-python",
   "name": "python",
   "nbconvert_exporter": "python",
   "pygments_lexer": "ipython3",
   "version": "3.9.13"
  }
 },
 "nbformat": 4,
 "nbformat_minor": 5
}
